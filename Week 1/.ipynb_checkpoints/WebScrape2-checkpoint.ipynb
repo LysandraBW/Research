{
 "cells": [
  {
   "cell_type": "code",
   "execution_count": 44,
   "id": "b890c625-8a0c-4bdd-9543-3e9c11248a8f",
   "metadata": {},
   "outputs": [],
   "source": [
    "import csv\n",
    "import time\n",
    "import json\n",
    "import random\n",
    "from selenium import webdriver\n",
    "from selenium.webdriver.common.by import By\n",
    "from selenium.webdriver.chrome.options import Options\n",
    "from selenium.webdriver.chrome.service import Service\n",
    "from selenium.webdriver.support.wait import WebDriverWait\n",
    "from selenium.webdriver.support import expected_conditions as EC\n",
    "from selenium.webdriver.common.action_chains import ActionChains\n",
    "from fake_useragent import UserAgent\n",
    "import pickle"
   ]
  },
  {
   "cell_type": "code",
   "execution_count": 2,
   "id": "08ef55e6-00d3-4473-a0d0-05ac0d80c672",
   "metadata": {},
   "outputs": [],
   "source": [
    "options = webdriver.ChromeOptions()\n",
    "options.add_argument('--no-sandbox')\n",
    "options.add_argument('--disable-dev-shm-usage')\n",
    "options.add_argument(\"user-data-dir=C:\\\\Users\\\\lbeln\\\\AppData\\\\Local\\\\Google\\\\Chrome\\\\User Data\")\n",
    "options.add_argument(\"--profile-directory=Profile 1\")\n",
    "options.add_argument(f\"--user-agent={UserAgent().random}\")"
   ]
  },
  {
   "cell_type": "code",
   "execution_count": 3,
   "id": "541bf95f-0052-4d27-9674-7b9b5893b272",
   "metadata": {},
   "outputs": [],
   "source": [
    "driver = webdriver.Chrome(options=options)\n",
    "driver.get(\"https://www.google.com\")"
   ]
  },
  {
   "cell_type": "code",
   "execution_count": 4,
   "id": "5ead0ee0-3a1c-4bfb-bd5f-8b70331a0557",
   "metadata": {},
   "outputs": [],
   "source": [
    "query = \"DOES TRAIT-MEDIATED INTERACTIONS AFFECT PREDATORS?\"\n",
    "\n",
    "def format_search(q):\n",
    "    return \"%20\".join(q.split())"
   ]
  },
  {
   "cell_type": "code",
   "execution_count": 6,
   "id": "99e25528-52d3-4807-8b1e-53b079758086",
   "metadata": {},
   "outputs": [],
   "source": [
    "driver.get(f\"https://consensus.app/results/?q={format_search(query)}\")"
   ]
  },
  {
   "cell_type": "code",
   "execution_count": 33,
   "id": "ab50995b-1e1a-4f3c-ace5-a31a550b3403",
   "metadata": {},
   "outputs": [],
   "source": [
    "def click_button(locator, times=2):\n",
    "    for _ in range(0, times):\n",
    "        time.sleep(20 + random.randrange(1, 5))\n",
    "        try:\n",
    "            button = WebDriverWait(driver, 5).until(\n",
    "                EC.presence_of_element_located(locator)\n",
    "            )\n",
    "            actions = ActionChains(driver)\n",
    "            actions.move_to_element(button)\n",
    "            actions.click(button)\n",
    "            actions.perform()\n",
    "        except:\n",
    "            print(\"Cannot Click Button\")\n",
    "            break"
   ]
  },
  {
   "cell_type": "code",
   "execution_count": 7,
   "id": "a5dd9c3e-81c8-4f82-aa6a-b314f17ff8f7",
   "metadata": {},
   "outputs": [],
   "source": [
    "for _ in range(0, 2):\n",
    "    time.sleep(20 + random.randrange(1, 5))\n",
    "    try:\n",
    "        load_more_button = WebDriverWait(driver, 5).until(\n",
    "            EC.presence_of_element_located((\n",
    "                By.XPATH, \n",
    "                \"//button[@data-testid='loadmore-button']\"\n",
    "            ))\n",
    "        )\n",
    "        actions = ActionChains(driver)\n",
    "        actions.move_to_element(load_more_button)\n",
    "        actions.click(load_more_button)\n",
    "        actions.perform()\n",
    "    except:\n",
    "        print(\"Cannot Load More\")\n",
    "        break"
   ]
  },
  {
   "cell_type": "code",
   "execution_count": 8,
   "id": "fe3cee01-1707-468c-a067-1568f7737cd2",
   "metadata": {},
   "outputs": [
    {
     "name": "stdout",
     "output_type": "stream",
     "text": [
      "['https://consensus.app/papers/the-contribution-of-traitmediated-indirect-effects-to-the-peacor-werner/0bd5bcdaf0c35b06920ba945b77f8241/?extracted-answer=Nonlethal+predator+effects+can+contribute+strongly+to+the+net+indirect+effects+of+predators%2C+with+effects+comparable+to+those+resulting+from+killing+prey.&q=DOES+TRAIT-MEDIATED+INTERACTIONS+AFFECT+PREDATORS%3F', 'https://consensus.app/papers/the-legacy-of-predators-persistence-of-traitmediated-ng-gaylord/cd573b262de557438148512ab16d338d/?extracted-answer=Trait-mediated+indirect+effects%2C+such+as+decreased+prey+foraging%2C+can+persist+beyond+when+predators+are+present%2C+affecting+trophic+levels+below.&q=DOES+TRAIT-MEDIATED+INTERACTIONS+AFFECT+PREDATORS%3F', 'https://consensus.app/papers/traitmediated-indirect-interactions-in-a-marine-alexander-dick/3c44d3dbb8ab521695bb1527adcb3a28/?extracted-answer=TMIIs+can+reduce+consumption+rates+of+intermediate+predators+in+simple+habitats%2C+but+may+strengthen+prey+regulation+in+complex+habitats%2C+potentially+maintaining+prey+population+stability.&q=DOES+TRAIT-MEDIATED+INTERACTIONS+AFFECT+PREDATORS%3F', 'https://consensus.app/papers/relative-strengths-of-traitmediated-and-densitymediated-wojdak-luttbeg/cf73a33848c7521db158610f57cfedd6/?extracted-answer=At+low+initial+resource+levels%2C+trait-mediated+indirect+effects+on+algal+biomass+exceeded+density-mediated+indirect+effects%2C+while+at+high+initial+resources+the+reverse+was+true.&q=DOES+TRAIT-MEDIATED+INTERACTIONS+AFFECT+PREDATORS%3F', 'https://consensus.app/papers/traitmediated-indirect-interactions-in-a-simple-aquatic-peacor-werner/dba45134cfa15388b660bfcf56fd68a1/?extracted-answer=Trait-mediated+indirect+interactions+in+a+simple+aquatic+food+web+can+affect+predators%2C+such+as+increasing+predation+rates+on+small+tadpole+species+or+reducing+predation+rates+on+nonlethal+predators.&q=DOES+TRAIT-MEDIATED+INTERACTIONS+AFFECT+PREDATORS%3F', 'https://consensus.app/papers/resource-competition-modifies-the-strength-of-trait-bolnick-preisser/7da864ed308b559088e8adf397ab8b08/?extracted-answer=High+resource+competition+exacerbates+the+negative+effect+of+predation+on+prey+density+but+moderates+its+impact+on+prey+life+history+and+growth.&q=DOES+TRAIT-MEDIATED+INTERACTIONS+AFFECT+PREDATORS%3F', 'https://consensus.app/papers/diverse-traitmediated-interactions-in-a-multipredator-prasad-snyder/10ec771b7b2c5af7a940c2bf71ca1d9d/?extracted-answer=Trait-mediated+interactions+between+aphids+and+Pterostichus+melanarius+can+weaken+egg+predation+but+can+restore+it+when+both+aphids+and+P.+melanarius+are+present+together.&q=DOES+TRAIT-MEDIATED+INTERACTIONS+AFFECT+PREDATORS%3F', 'https://consensus.app/papers/evolutionary-ecology-of-inducible-morphological-kishida-trussell/6254e0c0b0915d4386a185b43e469a9d/?extracted-answer=Inducible+morphological+plasticity+in+predators+and+prey+can+influence+and+be+influenced+by+species+interaction+strength%2C+with+important+consequences+for+individual+fitness.&q=DOES+TRAIT-MEDIATED+INTERACTIONS+AFFECT+PREDATORS%3F', 'https://consensus.app/papers/defining-and-measuring-the-impact-of-dynamic-traits-on-abrams/6e23dc7f867953018b4adee1f0b1b412/?extracted-answer=Trait-mediated+indirect+effects+describe+the+demographic+costs+to+a+prey+species+of+employing+anti-predator+defenses.&q=DOES+TRAIT-MEDIATED+INTERACTIONS+AFFECT+PREDATORS%3F', 'https://consensus.app/papers/predator-and-prey-functional-traits-understanding-the-schmitz/e2acb4050b4f533dad5abcc3bc142f43/', 'https://consensus.app/papers/nonconsumptive-effects-of-predators-and-trait%E2%80%90mediated-peacor-werner/668b7923606957429b5098ae631f5514/?extracted-answer=Phenotypic+responses+to+predators+can+lead+to+trait-mediated+indirect+effects+%28TMIEs%29+on+prey+resources%2C+prey+competitors%2C+and+other+predators%2C+affecting+prey+population+growth+rates+and+ecosystem+processes.&q=DOES+TRAIT-MEDIATED+INTERACTIONS+AFFECT+PREDATORS%3F', 'https://consensus.app/papers/susceptibility-to-predation-affects-traitmediated-mowles-rundle/488b90f9ab9e55f9975415571c3daabc/?extracted-answer=Susceptibility+to+predation+can+influence+species+interactions+by+reversing+interspecific+competition.&q=DOES+TRAIT-MEDIATED+INTERACTIONS+AFFECT+PREDATORS%3F', 'https://consensus.app/papers/how-do-traitmediated-nonlethal-effects-of-predation-chandrasegaran-juliano/46cecffe7b1a512cb84a3fddad636323/', 'https://consensus.app/papers/trait-and-density-mediated-indirect-interactions-in-k%C5%99ivan-schmitz/e6a9de8965995ac4b0828f81ffad3d3b/', 'https://consensus.app/papers/connecting-theoretical-and-empirical-studies-of-bolker-holyoak/80a8b6b0952e5883852b1236c5f2c6e8/', 'https://consensus.app/papers/insect-predators-affect-plant-resistance-via-density-and-griffin-thaler/2a6a4ec419185fb5832173a02ac0289e/', 'https://consensus.app/papers/predator-cue-studies-reveal-strong-traitmediated-effects-paterson-pritchard/28a69bc0372c53bd8f57f26119410c93/', 'https://consensus.app/papers/trait%E2%80%90mediated-effects-between-predators-ant-chemical-mestre-bucher/4fe4237960da569db70ee129bf4bdcb5/', 'https://consensus.app/papers/predator-trait-evolution-alters-prey-community-holdridge-flores/549ffa3268c25a91beb39a681eafd293/', 'https://consensus.app/papers/prey-density-affects-strengths-of-density-and-wada-iwasaki/1d45245860cb506fb2da496df6e96a17/', 'https://consensus.app/papers/the-demographic-and-life%E2%80%90history-costs-of-fear-ower-juliano/f5a47a198fae5240a7313f26988308eb/', 'https://consensus.app/papers/a-sitandwait-predator-but-not-an-activepursuit-predator-benoit-caruso/0602e8abc559502c82663d95a4041afd/', 'https://consensus.app/papers/scared-to-death-the-effects-of-intimidation-and-preisser-bolnick/86e9954e34335969a819e75c73a1fe66/', 'https://consensus.app/papers/transgenerational-plasticity-in-the-context-of-tariel-pl%C3%A9net/658929616f5e5b178d9262bb7a127cc5/', 'https://consensus.app/papers/cascading-traitmediated-interactions-induced-by-ant-hsieh-liere/557249b4786d59e08ddf0dd8ad14dda0/', 'https://consensus.app/papers/character-shifts-of-prey-species-that-share-predators-abrams/02d4aa134fc555d39329460b74d5ff3d/', 'https://consensus.app/papers/trait-matching-and-phylogeny-as-predictors-of-brousseau-gravel/9c4138969a9c577ca9aee95a38c8cdbf/', 'https://consensus.app/papers/predator-hunting-mode-and-habitat-domain-alter-preisser-orrock/7e9802fc75bd55f3a27c14ff4c45b17d/', 'https://consensus.app/papers/a-review-of-traitmediated-indirect-interactions-in-werner-peacor/1f0e1fcd14d055eb8fe3f2d6a81963ec/', 'https://consensus.app/papers/the-influence-of-sizespecific-indirect-interactions-in-rudolf/ee9f763f52b85d7fb534348fc8d678c4/']\n"
     ]
    }
   ],
   "source": [
    "time.sleep(10)\n",
    "\n",
    "hrefs = []\n",
    "elements = driver.find_elements(By.XPATH, \"//a[@data-testid='search-result']\")\n",
    "\n",
    "for element in elements:\n",
    "    if element.get_attribute(\"href\") is not None:\n",
    "        hrefs.append(element.get_attribute(\"href\"))"
   ]
  },
  {
   "cell_type": "code",
   "execution_count": 9,
   "id": "ecd42097-bc6b-4bb2-ba75-7d55adde61fa",
   "metadata": {},
   "outputs": [],
   "source": [
    "driver.get(hrefs[0])"
   ]
  },
  {
   "cell_type": "code",
   "execution_count": null,
   "id": "702f6474-6fab-4755-980b-0dac4a0eae5f",
   "metadata": {},
   "outputs": [],
   "source": [
    "title = driver.find_element(By.TAG_NAME, \"h1\")\n",
    "if title:\n",
    "    print(title.text)\n",
    "\n",
    "abstract = driver.find_element(By.XPATH, \"//p[@data-testid='abstract']\")\n",
    "if abstract:\n",
    "    print(abstract.text)\n",
    "\n",
    "links_button = driver.find_element(By.XPATH, \"//button[@aria-label='Additional Links']\")\n",
    "if links_button:\n",
    "    actions = ActionChains(driver)\n",
    "    actions.click(links_button)\n",
    "    actions.perform()\n",
    "\n",
    "    links = []\n",
    "    try:\n",
    "        links = WebDriverWait(driver, 20).until(\n",
    "            EC.presence_of_all_elements_located((\n",
    "                By.XPATH, \n",
    "                \"//a[@role='menuitem']\"\n",
    "            ))\n",
    "        )\n",
    "        if links:\n",
    "            links = [link.get_attribute(\"href\") for link in links]\n",
    "    except:\n",
    "        links = []\n",
    "        print(\"Cannot Find Links\")\n",
    "\n",
    "hrefs = {}\n",
    "\n",
    "# data-testid=\"loadmore-button-Citations\"\n",
    "click_button((By.XPATH, \"//button[@data-testid='loadmore-button-Citations']\"))\n",
    "time.sleep(20)\n",
    "citations = []\n",
    "citation_search_results = driver.find_elements(By.XPATH, \"//a[@data-testid='search-result']\")\n",
    "if citation_search_results:\n",
    "    for search_result in citation_search_results:\n",
    "        citation_href = search_result.get_attribute(\"href\")\n",
    "        citation_title = search_result.find_element(By.TAG_NAME, \"h2\")\n",
    "        hrefs[citation_title.text] = citation_href\n",
    "        citations.append(citation_title.text)\n",
    "\n",
    "print(hrefs)\n",
    "click_button((By.XPATH, \"//button[@data-testid='tab-references-not-selected']\"), 1)\n",
    "time.sleep(20)\n",
    "references = []\n",
    "references_search_results = driver.find_elements(By.XPATH, \"//a[@data-testid='search-result']\")\n",
    "if references_search_results:\n",
    "    for search_result in references_search_results:\n",
    "        reference_href = search_result.get_attribute(\"href\")\n",
    "        reference_title = search_result.find_element(By.TAG_NAME, \"h2\")\n",
    "        hrefs[reference_title.text] = reference_href\n",
    "        references.append(reference_title.text)\n",
    "\n",
    "data = {}\n",
    "data[title.text] = {\n",
    "    \"title\": title.text,\n",
    "    \"abstract\": abstract.text,\n",
    "    \"links\": json.dumps(links),\n",
    "    \"citations\": json.dumps(citations),\n",
    "    \"references\": json.dumps(references)\n",
    "}\n",
    "print(data)\n",
    "visited = []\n",
    "visited.append(title.text)"
   ]
  },
  {
   "cell_type": "code",
   "execution_count": 49,
   "id": "c43c7a70-f09b-4e64-9a12-2c4c9ad7b159",
   "metadata": {},
   "outputs": [],
   "source": [
    "json.dumps(data)\n",
    "\n",
    "with open('./WebScrapingData.csv', 'w', newline=\"\") as file:\n",
    "    fieldnames = ['title', 'abstract', 'links', 'citations', 'references']\n",
    "    writer = csv.DictWriter(file, fieldnames=fieldnames)\n",
    "    writer.writeheader()\n",
    "    writer.writerows(list(data.values()))\n",
    "\n",
    "with open('./WebScrapingDump.txt', 'w', newline='') as file:\n",
    "    json.dump(data, file)"
   ]
  },
  {
   "cell_type": "code",
   "execution_count": 50,
   "id": "7f11168d-4554-4f5a-98ec-17a871ab3fb3",
   "metadata": {},
   "outputs": [],
   "source": [
    "driver.quit()"
   ]
  },
  {
   "cell_type": "code",
   "execution_count": null,
   "id": "1e247811-e1bb-48af-9ff8-f0a6541f3ce8",
   "metadata": {},
   "outputs": [],
   "source": []
  },
  {
   "cell_type": "code",
   "execution_count": null,
   "id": "651718a4-c738-4b27-9e60-79ede2bda034",
   "metadata": {},
   "outputs": [],
   "source": []
  }
 ],
 "metadata": {
  "kernelspec": {
   "display_name": "Python 3 (ipykernel)",
   "language": "python",
   "name": "python3"
  },
  "language_info": {
   "codemirror_mode": {
    "name": "ipython",
    "version": 3
   },
   "file_extension": ".py",
   "mimetype": "text/x-python",
   "name": "python",
   "nbconvert_exporter": "python",
   "pygments_lexer": "ipython3",
   "version": "3.12.4"
  }
 },
 "nbformat": 4,
 "nbformat_minor": 5
}
