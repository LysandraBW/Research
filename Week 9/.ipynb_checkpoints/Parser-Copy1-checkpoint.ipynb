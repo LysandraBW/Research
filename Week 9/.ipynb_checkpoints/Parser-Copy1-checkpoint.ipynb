{
 "cells": [
  {
   "cell_type": "code",
   "execution_count": null,
   "id": "c3ea0da2-98f2-487e-ad2a-728764b08bb7",
   "metadata": {},
   "outputs": [],
   "source": [
    "# import spacy\n",
    "# import stanza\n",
    "# import textacy\n",
    "# from fastcoref import FCoref\n",
    "# from taxonerd import TaxoNERD\n",
    "# from spacy.matcher import Matcher\n",
    "# from spacy.matcher import DependencyMatcher\n",
    "!python -m pip install https://github.com/nleguillarme/taxonerd/releases/download/v1.5.4/en_ner_eco_md-1.1.0.tar.gz\n",
    "# !python -m pip install https://github.com/nleguillarme/taxonerd/releases/download/v1.5.4/en_ner_eco_biobert-1.1.0.tar.gz\n",
    "# !pip install https://github.com/nleguillarme/taxonerd/releases/download/v1.5.4/en_ner_eco_md_weak-1.1.0.tar.gz\n",
    "# !pip install https://github.com/nleguillarme/taxonerd/releases/download/v1.5.4/en_ner_eco_biobert_weak-1.1.0.tar.gz"
   ]
  },
  {
   "cell_type": "code",
   "execution_count": 309,
   "id": "e08158a6-a956-4c35-a791-64c7702d01bb",
   "metadata": {},
   "outputs": [
    {
     "name": "stderr",
     "output_type": "stream",
     "text": [
      "2025-04-26 22:25:36 INFO: Checking for updates to resources.json in case models have been updated.  Note: this behavior can be turned off with download_method=None or download_method=DownloadMethod.REUSE_RESOURCES\n",
      "04/26/2025 22:25:36 - INFO - \t Checking for updates to resources.json in case models have been updated.  Note: this behavior can be turned off with download_method=None or download_method=DownloadMethod.REUSE_RESOURCES\n",
      "Downloading https://raw.githubusercontent.com/stanfordnlp/stanza-resources/main/resources_1.10.0.json: 426kB [00:00, 11.2MB/s]\n",
      "2025-04-26 22:25:37 INFO: Downloaded file to C:\\Users\\lbeln\\stanza_resources\\resources.json\n",
      "04/26/2025 22:25:37 - INFO - \t Downloaded file to C:\\Users\\lbeln\\stanza_resources\\resources.json\n",
      "2025-04-26 22:25:37 WARNING: Language en package default expects mwt, which has been added\n",
      "04/26/2025 22:25:37 - WARNING - \t Language en package default expects mwt, which has been added\n",
      "2025-04-26 22:25:37 INFO: Loading these models for language: en (English):\n",
      "========================\n",
      "| Processor | Package  |\n",
      "------------------------\n",
      "| tokenize  | combined |\n",
      "| mwt       | combined |\n",
      "========================\n",
      "\n",
      "04/26/2025 22:25:37 - INFO - \t Loading these models for language: en (English):\n",
      "========================\n",
      "| Processor | Package  |\n",
      "------------------------\n",
      "| tokenize  | combined |\n",
      "| mwt       | combined |\n",
      "========================\n",
      "\n",
      "2025-04-26 22:25:37 INFO: Using device: cpu\n",
      "04/26/2025 22:25:37 - INFO - \t Using device: cpu\n",
      "2025-04-26 22:25:37 INFO: Loading: tokenize\n",
      "04/26/2025 22:25:37 - INFO - \t Loading: tokenize\n",
      "2025-04-26 22:25:37 INFO: Loading: mwt\n",
      "04/26/2025 22:25:37 - INFO - \t Loading: mwt\n",
      "2025-04-26 22:25:37 INFO: Done loading processors!\n",
      "04/26/2025 22:25:37 - INFO - \t Done loading processors!\n",
      "04/26/2025 22:26:02 - INFO - \t missing_keys: []\n",
      "04/26/2025 22:26:02 - INFO - \t unexpected_keys: []\n",
      "04/26/2025 22:26:02 - INFO - \t mismatched_keys: []\n",
      "04/26/2025 22:26:02 - INFO - \t error_msgs: []\n",
      "04/26/2025 22:26:02 - INFO - \t Model Parameters: 90.5M, Transformer: 82.1M, Coref head: 8.4M\n"
     ]
    }
   ],
   "source": [
    "sp_nlp = spacy.load(\"en_core_web_sm\")\n",
    "st_nlp = stanza.Pipeline(lang='en', processors='tokenize')\n",
    "tn_nlp = TaxoNERD().load(model=\"en_ner_eco_biobert\")\n",
    "fcoref = FCoref(enable_progress_bar=False)"
   ]
  },
  {
   "cell_type": "code",
   "execution_count": 260,
   "id": "31b1427f-2ddb-4132-aad8-f0b4421f65a4",
   "metadata": {},
   "outputs": [],
   "source": [
    "# !pip freeze > requirements1.txt\n",
    "# !pip install nltk\n",
    "# import nltk\n",
    "# nltk.download('wordnet')"
   ]
  },
  {
   "cell_type": "code",
   "execution_count": 301,
   "id": "ec57a613-6944-47d8-b840-108707fb4cdd",
   "metadata": {},
   "outputs": [],
   "source": [
    "def surrounding_context(sp_doc, token_index, stop_tokens_indices):\n",
    "    l_index = token_index - 1\n",
    "    r_index = token_index + 1\n",
    "\n",
    "    lem_types = [\",\", \"(\", \")\", \"-\", \".\"]\n",
    "    pos_types = [\"NOUN\", \"ADP\", \"CCONJ\", \"PROPN\", \"ADJ\", \"NUM\", \"SYM\" \"ADV\", \"VERB\", \"DET\", \"PRON\", \"SCONJ\", \"ADP\"]\n",
    "    \n",
    "    # Move L\n",
    "    while l_index not in stop_tokens_indices and l_index > 0 and (sp_doc[l_index].pos_ in pos_types or sp_doc[l_index].text in lem_types) and sp_doc[token_index].sent.start == sp_doc[l_index].sent.start:\n",
    "        l_index -= 1\n",
    "    # Move R\n",
    "    while r_index not in stop_tokens_indices and r_index < len(sp_doc) and (sp_doc[r_index].pos_ in pos_types or sp_doc[r_index].text in lem_types) and sp_doc[token_index].sent.start == sp_doc[r_index].sent.start:\n",
    "        r_index += 1\n",
    "    return (l_index+1, r_index)\n",
    "\n",
    "def token_surrounding_context(sp_doc, tokens, stop_tokens):\n",
    "    stop_tokens_indices = []\n",
    "    for stop_token in stop_tokens:\n",
    "        stop_tokens_indices.append(stop_token.i)\n",
    "    \n",
    "    contexts = []\n",
    "    for token in tokens:\n",
    "        contexts.append(surrounding_context(sp_doc, token.i, stop_tokens_indices))\n",
    "\n",
    "    min_index = +math.inf\n",
    "    max_index = -math.inf\n",
    "    for context in contexts:\n",
    "        if context[0] < min_index:\n",
    "            min_index = context[0]\n",
    "        if context[1] > max_index:\n",
    "            max_index = context[1]\n",
    "\n",
    "    return sp_doc[min_index:max_index]\n",
    "\n",
    "def token_surrounding_context_direction(sp_doc, tokens, direction):\n",
    "    if direction == \"L\":\n",
    "        l_index = 0\n",
    "        r_index = -math.inf\n",
    "        for token in tokens:\n",
    "            if token.i > r_index:\n",
    "                r_index = token.i\n",
    "    if direction == \"R\":\n",
    "        l_index = -math.inf\n",
    "        r_index = len(sp_doc)\n",
    "        for token in tokens:\n",
    "            if token.i > l_index:\n",
    "                l_index = token.i\n",
    "    return sp_doc[l_index:r_index+1]\n",
    "\n",
    "def token_surrounding_context_triple(sp_doc, svo, prev_svo, next_svo):\n",
    "    sub_l_i = 0 if not prev_svo else prev_svo.object[-1].i + 1\n",
    "    sub_r_i = svo.verb[0].i\n",
    "\n",
    "    while sub_l_i < len(sp_doc) and sp_doc[sub_l_i].sent.start != svo.subject[0].sent.start:\n",
    "        sub_l_i += 1\n",
    "        \n",
    "    obj_l_i = svo.verb[-1].i + 1\n",
    "    obj_r_i = len(sp_doc) - 1 if not next_svo else next_svo.subject[0].i\n",
    "\n",
    "    while obj_r_i >= 0 and sp_doc[obj_r_i].sent.start != svo.object[0].sent.start:\n",
    "        obj_r_i -= 1\n",
    "\n",
    "    return sp_doc[sub_l_i:sub_r_i], sp_doc[obj_l_i:obj_r_i+1]\n",
    "    \n",
    "def parse(text, verbose=False):\n",
    "    sp_doc = sp_nlp(text)\n",
    "    # for chunk in sp_doc.noun_chunks:\n",
    "    #     print(chunk)\n",
    "    if verbose:\n",
    "        for token in sp_doc:\n",
    "            print(token, token.pos_)\n",
    "\n",
    "    change_verbs = [\"increased\", \"decreased\"]\n",
    "\n",
    "    # for token in sp_doc:\n",
    "    #     if token.pos_ != \"VERB\":\n",
    "    #         continue\n",
    "    #     sub = None\n",
    "    #     obj = None\n",
    "\n",
    "    #     dep = {}\n",
    "    #     for child in token.children:\n",
    "    #         dep[child.dep_] = child\n",
    "\n",
    "    #     if \"nsubj\" in dep and \"dobj\" in dep:\n",
    "    #         sub = dep[\"nsubj\"]\n",
    "    #         obj = dep[\"dobj\"]\n",
    "    #     elif \"nsubj\" in dep and \"pobj\" in dep:\n",
    "    #         sub = dep[\"nsubj\"]\n",
    "    #         obj = dep[\"pobj\"]\n",
    "    #     elif \"nsubjpass\" in dep:\n",
    "    #         obj = dep[\"nsubjpass\"]\n",
    "    #         if obj.dep_ == \"agent\":\n",
    "    #             for child in obj.children:\n",
    "    #                 if child.dep_ == \"pobj\":\n",
    "    #                     sub = child\n",
    "\n",
    "    #     print(f\"Verb: {token}, Subject: {sub}, Object: {obj}\")\n",
    "    svo_triples = list(textacy.extract.subject_verb_object_triples(sp_doc))\n",
    "    for index, svo_triple in enumerate(svo_triples):\n",
    "        print(svo_triple)\n",
    "\n",
    "        prev_svo = None if index == 0 else svo_triples[index - 1]\n",
    "        next_svo = None if index >= len(svo_triples) - 1 else svo_triples[index + 1]\n",
    "\n",
    "        sub_context, obj_context = token_surrounding_context_triple(sp_doc, svo_triple, prev_svo, next_svo)\n",
    "        print(f\"Sub Context: {sub_context}\")\n",
    "        print(f\"Obj Context: {obj_context}\")\n",
    "        \n",
    "        # subject_stop_tokens = [*svo_triple.verb, *svo_triple.object]\n",
    "        # object_stop_tokens = [*svo_triple.verb, *svo_triple.subject]\n",
    "        # if index < len(svo_triples) - 1:\n",
    "        #     object_stop_tokens += svo_triples[index+1].subject\n",
    "        #     subject_stop_tokens += svo_triples[index+1].subject\n",
    "        # if index > 0:\n",
    "        #     object_stop_tokens += svo_triples[index-1].object\n",
    "        #     subject_stop_tokens += svo_triples[index-1].object\n",
    "            \n",
    "        # print(f\"Subject (Surrounding) Context: {token_surrounding_context(sp_doc, svo_triple.subject, subject_stop_tokens)}\")\n",
    "        # print(f\"Object (Surrounding) Context: {token_surrounding_context(sp_doc, svo_triple.object, object_stop_tokens)}\")\n",
    "        print()"
   ]
  },
  {
   "cell_type": "code",
   "execution_count": 302,
   "id": "da13dc42-2e24-4fe4-9265-7e69238ba24b",
   "metadata": {},
   "outputs": [
    {
     "name": "stdout",
     "output_type": "stream",
     "text": [
      "SVOTriple(subject=[Grasshoppers], verb=[exhibited], object=[diet, shifts])\n",
      "Sub Context: Grasshoppers\n",
      "Obj Context: significant diet shifts from grass to herbs (Kruskal-Wallis test, P 0.01, df 3) when they were in the presence of the comparatively sedentary species (the smaller Pisaurina and the larger Hogna) compared to controls without spiders (Fig. 2).\n",
      "\n"
     ]
    }
   ],
   "source": [
    "# Example 1\n",
    "text = \"Grasshoppers exhibited significant diet shifts from grass to herbs (Kruskal-Wallis test, P 0.01, df 3) when they were in the presence of the comparatively sedentary species (the smaller Pisaurina and the larger Hogna) compared to controls without spiders (Fig. 2).\"\n",
    "parse(text)"
   ]
  },
  {
   "cell_type": "code",
   "execution_count": 303,
   "id": "5b004db1-f2eb-444d-b9c8-53b9447c84a2",
   "metadata": {},
   "outputs": [
    {
     "name": "stdout",
     "output_type": "stream",
     "text": [
      "SVOTriple(subject=[phototrophs], verb=[can, decrease], object=[population, density])\n",
      "Sub Context: Our results show that phototrophs\n",
      "Obj Context: the population density of heterotrophic bacteria by modification of the nature of bacterial interactions with predators.\n",
      "\n"
     ]
    }
   ],
   "source": [
    "# Example 2\n",
    "text = \"Our results show that phototrophs can indirectly decrease the population density of heterotrophic bacteria by modification of the nature of bacterial interactions with predators.\"\n",
    "parse(text)"
   ]
  },
  {
   "cell_type": "code",
   "execution_count": 304,
   "id": "d6cdea8d-4a22-409f-9f0a-e01d1691a67e",
   "metadata": {},
   "outputs": [
    {
     "name": "stdout",
     "output_type": "stream",
     "text": [
      "SVOTriple(subject=[predators], verb=[inflicted], object=[mortality])\n",
      "Sub Context: All predators\n",
      "Obj Context: significant mortality on the prey at each prey density compared to the predator-free control for that density\n",
      "\n"
     ]
    }
   ],
   "source": [
    "# Example 3\n",
    "text = \"All predators inflicted significant mortality on the prey at each prey density compared to the predator-free control for that density\"\n",
    "parse(text)"
   ]
  },
  {
   "cell_type": "code",
   "execution_count": 296,
   "id": "33114ff6-7277-4613-b1a8-c51e7dd2652b",
   "metadata": {},
   "outputs": [
    {
     "name": "stdout",
     "output_type": "stream",
     "text": [
      "Verb: show, Source: None, Target: None\n",
      "\n",
      "Verb: associated, Source: None, Target: increase\n",
      "\n",
      "Verb: studied, Source: None, Target: None\n",
      "\n",
      "Verb: weaken, Source: which, Target: mutualism\n",
      "\n"
     ]
    }
   ],
   "source": [
    "# Example 4\n",
    "text = \"Our results show that an increase in sediment organic matter content is associated to a decline in the abundance of Loripes lucinalis (lucinid bivalve) in the Cymodocea nodosa meadows studied, which potentially may weaken the mutualism between the two species.\"\n",
    "parse(text)"
   ]
  },
  {
   "cell_type": "code",
   "execution_count": 265,
   "id": "c27d6d1e-6766-41db-98ee-e749b287b457",
   "metadata": {},
   "outputs": [
    {
     "name": "stdout",
     "output_type": "stream",
     "text": [
      "SVOTriple(subject=[abundance], verb=[showed], object=[correlation, 3a, 3b])\n",
      "Subject (Surrounding) Context: abundance of lucinids\n",
      "Object (Surrounding) Context: a negative correlation with the organic matter content in vegetated sediments (Fig. 3a), but showed no correlation in bare ones (Fig. 3b).\n",
      "\n",
      "SVOTriple(subject=[abundance], verb=[showed], object=[correlation])\n",
      "Subject (Surrounding) Context: abundance of lucinids showed a negative\n",
      "Object (Surrounding) Context: no correlation in bare ones (Fig.\n",
      "\n"
     ]
    }
   ],
   "source": [
    "# Example 5\n",
    "text = \"The abundance of lucinids showed a negative correlation with the organic matter content in vegetated sediments (Fig. 3a), but showed no correlation in bare ones (Fig. 3b).\"\n",
    "parse(text)"
   ]
  },
  {
   "cell_type": "code",
   "execution_count": 278,
   "id": "49b69b68-f60b-4b93-bff9-249871141e0d",
   "metadata": {},
   "outputs": [
    {
     "name": "stdout",
     "output_type": "stream",
     "text": [
      "SVOTriple(subject=[presence, bullfrog, tadpoles], verb=[had], object=[effects])\n",
      "Sub Context: The MANOVA on the cattle tank experiment showed that the presence of Tramea, nonlethal Anax, and large bullfrog tadpoles all\n",
      "Obj Context: significant effects on both small tadpole species (Table 1).\n",
      "\n"
     ]
    }
   ],
   "source": [
    "# Example 6\n",
    "text = \"The MANOVA on the cattle tank experiment showed that the presence of Tramea, nonlethal Anax, and large bullfrog tadpoles all had significant effects on both small tadpole species (Table 1).\"\n",
    "parse(text)"
   ]
  },
  {
   "cell_type": "code",
   "execution_count": null,
   "id": "000f8dec-49ce-4f9c-8493-924b3fb11b3c",
   "metadata": {},
   "outputs": [],
   "source": [
    "# Example 7\n",
    "text = \"Thus the presence of predators, both nonlethal Anax and lethal Tramea, modified the tank environment in a way that facilitated invasion by midges, but only in the absence of large bullfrogs.\"\n",
    "parse(text)"
   ]
  },
  {
   "cell_type": "code",
   "execution_count": null,
   "id": "4a5a91ee-a37d-4dbb-bf97-d7e417ceac18",
   "metadata": {},
   "outputs": [],
   "source": [
    "# Example 8\n",
    "text = \"We hypothesized that the presence of Anax would decrease foraging activity of small tadpoles, which in turn would decrease predation by Tramea on the small tadpoles\"\n",
    "parse(text)"
   ]
  },
  {
   "cell_type": "code",
   "execution_count": null,
   "id": "a1e34cb4-3056-4011-a4e2-cdd97bc274be",
   "metadata": {},
   "outputs": [],
   "source": [
    "# Example 9\n",
    "text = '''Only a fraction of the individuals in a given prey population are likely to be killed and consumed by predators. In contrast, nearly all individuals experience the chronic effects of predation risk. When threatened by predators, prey adopt defensive tactics whole costs can lead to reduced growth, maturation rates, survivorship, fecundity, or population density. This nonconsumptive impact of predation risk on prey is known as a \"trait-mediated interaction\" (TMI) because it results from changes in prey traits such as behavior or physiology. Ecological theory suggests that the strength of TMI effects will reflect a balance between the conflicting demands of reproduction vs. predator avoidance. Competitor density and resource availability are expected to alter the balance between these conflicting forces. We conducted a meta-analysis of experimental studies that measured TMI effect size while varying competitor and/or resource density. The threat of predation had an overall negative effect on prey performance, but the strength of this effect varied with the level of competition. High competition exacerbated the negative effect of intimidation on prey density but moderated the negative effect of intimidation on prey life history and growth. We discuss these results in light of previously published theoretical expectations. Our results highlight the variable and context-dependent nature of interspecific interactions.'''\n",
    "parse(text)"
   ]
  },
  {
   "cell_type": "code",
   "execution_count": null,
   "id": "44b3f503-2740-447a-a9bf-b6fdc6813d3e",
   "metadata": {},
   "outputs": [],
   "source": [
    "# Example 10\n",
    "text = \"Current theory on trophic interactions in food webs assumes that ecologically similar species can be treated collectively as a single functional unit such as a guild or trophic level. This theory implies that all species within that unit transmit identical direct and indirect effects throughout the community. We evaluated this assumption by conducting experiments to compare the direct and indirect effects of three top-predator species, belonging to the same hunting spider guild, on the same species of grasshopper and on old-field grasses and herbs. Observations under field conditions revealed that each spider species exhibited different hunting behavior (i.e., sit-and-wait, sit-and-pursue, and active hunting) and occupied different locations within the vegetation canopy. These differences resulted in different direct effects on grasshopper prey. Grasshoppers demonstrated significant behavioral (diet) shifts in the presence of sit-and-wait and sit-and-pursue species but not when faced with actively hunting species. Grasshopper density was significantly reduced by spider species that occupied lower parts of the vegetation canopy (sit-and-pursue and actively hunting species), but it was not significantly reduced by the sit-and-wait spider species that occupied the upper parts of the canopy. These direct effects manifested themselves differently in the plant trophic level. The sit-and-wait spider caused indirect effects on plants by changing grasshopper foraging behavior (a trait-mediated effect). The sit-and-pursue spider caused indirect effects by reducing grasshopper density (density-mediated effects); the effects of changes in grasshopper behavior were thus not reflected in the plant trophic level. The actively hunting spiders had strictly density-mediated indirect effects on plants. The study offers mechanistic insight into how predator species within the same guild can have very different trophic effects in food webs. Thus classical modeling approaches that treat all predator species as a single functional unit may not adequately capture biologically relevant details that influence community dynamics.\"\n",
    "parse(text)"
   ]
  },
  {
   "cell_type": "code",
   "execution_count": null,
   "id": "dabe9ad1-d62d-44d0-8702-6403d6a2f6c2",
   "metadata": {},
   "outputs": [],
   "source": [
    "# Example 11\n",
    "text = \"Diversity and plasticity are hallmarks of cells of the monocyte-macrophage lineage. In response to IFNs, Toll-like receptor engagement, or IL-4/IL-13 signaling, macrophages undergo M1 (classical) or M2 (alternative) activation, which represent extremes of a continuum in a universe of activation states. Progress has now been made in defining the signaling pathways, transcriptional networks, and epigenetic mechanisms underlying M1-M2 or M2-like polarized activation. Functional skewing of mononuclear phagocytes occurs in vivo under physiological conditions (e.g., ontogenesis and pregnancy) and in pathology (allergic and chronic inflammation, tissue repair, infection, and cancer). However, in selected preclinical and clinical conditions, coexistence of cells in different activation states and unique or mixed phenotypes have been observed, a reflection of dynamic changes and complex tissue-derived signals. The identification of mechanisms and molecules associated with macrophage plasticity and polarized activation provides a basis for macrophage-centered diagnostic and therapeutic strategies.\"\n",
    "parse(text)"
   ]
  },
  {
   "cell_type": "code",
   "execution_count": null,
   "id": "3daaf223-9f81-4b6b-9f76-f966687536e4",
   "metadata": {},
   "outputs": [],
   "source": [
    "# Example 12\n",
    "text = \"The stranger hit a bystander, the man hit a stranger\"\n",
    "parse(text)"
   ]
  },
  {
   "cell_type": "code",
   "execution_count": null,
   "id": "d42c03e1-9ede-4f8d-964c-e900b6ea833d",
   "metadata": {},
   "outputs": [],
   "source": []
  }
 ],
 "metadata": {
  "kernelspec": {
   "display_name": "Python 3 (ipykernel)",
   "language": "python",
   "name": "python3"
  },
  "language_info": {
   "codemirror_mode": {
    "name": "ipython",
    "version": 3
   },
   "file_extension": ".py",
   "mimetype": "text/x-python",
   "name": "python",
   "nbconvert_exporter": "python",
   "pygments_lexer": "ipython3",
   "version": "3.10.16"
  }
 },
 "nbformat": 4,
 "nbformat_minor": 5
}
