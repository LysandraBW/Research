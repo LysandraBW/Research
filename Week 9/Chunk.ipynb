{
 "cells": [
  {
   "cell_type": "code",
   "execution_count": 1,
   "id": "c031a96c-122f-4a88-8ca2-a4134a66eaf7",
   "metadata": {},
   "outputs": [
    {
     "name": "stderr",
     "output_type": "stream",
     "text": [
      "C:\\Users\\lbeln\\anaconda3\\envs\\3.10\\lib\\site-packages\\tqdm\\auto.py:21: TqdmWarning: IProgress not found. Please update jupyter and ipywidgets. See https://ipywidgets.readthedocs.io/en/stable/user_install.html\n",
      "  from .autonotebook import tqdm as notebook_tqdm\n"
     ]
    }
   ],
   "source": [
    "import spacy\n",
    "import textacy\n",
    "from fastcoref import FCoref\n",
    "from taxonerd import TaxoNERD\n",
    "from spacy.matcher import Matcher\n",
    "from spacy.matcher import DependencyMatcher\n",
    "# !pip install https://github.com/nleguillarme/taxonerd/releases/download/v1.5.4/en_ner_eco_biobert-1.1.0.tar.gz"
   ]
  },
  {
   "cell_type": "code",
   "execution_count": 30,
   "id": "958f7a62-fc83-4479-95a9-979086de3ed4",
   "metadata": {},
   "outputs": [
    {
     "name": "stderr",
     "output_type": "stream",
     "text": [
      "C:\\Users\\lbeln\\anaconda3\\envs\\3.10\\lib\\site-packages\\thinc\\shims\\pytorch.py:253: FutureWarning: You are using `torch.load` with `weights_only=False` (the current default value), which uses the default pickle module implicitly. It is possible to construct malicious pickle data which will execute arbitrary code during unpickling (See https://github.com/pytorch/pytorch/blob/main/SECURITY.md#untrusted-models for more details). In a future release, the default value for `weights_only` will be flipped to `True`. This limits the functions that could be executed during unpickling. Arbitrary objects will no longer be allowed to be loaded via this mode unless they are explicitly allowlisted by the user via `torch.serialization.add_safe_globals`. We recommend you start setting `weights_only=True` for any use case where you don't have full control of the loaded file. Please open an issue on GitHub for any issues related to this experimental feature.\n",
      "  model.load_state_dict(torch.load(filelike, map_location=device))\n"
     ]
    }
   ],
   "source": [
    "sp_nlp = spacy.load(\"en_core_web_trf\")"
   ]
  },
  {
   "cell_type": "code",
   "execution_count": 33,
   "id": "fc509364-107e-40cb-be59-5d40b66a8063",
   "metadata": {},
   "outputs": [],
   "source": [
    "from spacy import displacy\n",
    "\n",
    "def get_list(token, tokens, max_i=None):\n",
    "    max_i = len(tokens) - 1 if not max_i else max_i\n",
    "\n",
    "    if not token or token.i >= max_i:\n",
    "        return None\n",
    "    if token.nbor().text != \",\":\n",
    "        return None\n",
    "\n",
    "    and_or_found = False\n",
    "    conjunction_found = False\n",
    "    offset_at_last_comma = -1\n",
    "    number_commas_found = 0\n",
    "    \n",
    "    offset = 1\n",
    "    while token.i + offset <= max_i:\n",
    "        print(f\"Offset: {offset}\")\n",
    "        print(f\"Offset At Last Comma: {offset_at_last_comma}\")\n",
    "        nbor = token.nbor(offset)\n",
    "        if nbor.text == \",\":\n",
    "            # STOP\n",
    "            if nbor.head.i > nbor.i:\n",
    "                print(f\"Offset: {offset}\")\n",
    "                print(1, nbor, nbor.head)\n",
    "                break\n",
    "            offset_at_last_comma = offset\n",
    "            number_commas_found += 1\n",
    "            offset += 1\n",
    "            continue\n",
    "        if nbor.pos_ in [\"ADJ\", \"NOUN\", \"PROPN\", \"PRON\"] or nbor.lower_ in [\"-\", \"/\"]:\n",
    "            print(2, nbor)\n",
    "            offset += 1\n",
    "            continue\n",
    "        if nbor.pos_ == \"CCONJ\" and nbor.lower_ not in [\"but\"]:\n",
    "            print(3, nbor)\n",
    "            if nbor.lower_ in [\"and\", \"or\"]:\n",
    "                print(4, nbor)\n",
    "                if and_or_found:\n",
    "                    print(5, nbor)\n",
    "                    break\n",
    "                elif number_commas_found == 1 and not conjunction_found and offset_at_last_comma == offset + 1:\n",
    "                    print(6, nbor)\n",
    "                    offset = offset_at_last_comma - 1\n",
    "                    break\n",
    "                and_or_found = True\n",
    "            conjunction_found = True\n",
    "            offset += 1\n",
    "            continue\n",
    "        break\n",
    "    print(f\"Offset: {offset}\")\n",
    "    if offset <= 2:\n",
    "        return None\n",
    "    return tokens[token.i:token.i+offset]\n",
    "    \n",
    "texts = [\n",
    "    # \"In response to IFNs, Toll-like receptor engagement, or IL-4/IL-13 signaling, macrophages undergo M1 (classical) or M2 (alternative) activation, which represent extremes of a continuum in a universe of activation states.\",\n",
    "    # \"The dog, whose tail wagged excitedly, was greeted warmly by his owner.\",\n",
    "    # \"Because the children's toys were scattered everywhere, their mother asked them to tidy up.\",\n",
    "    # \"I wanted oranges, apples, and bananas, and he bought apples.\",\n",
    "    # \"While I was at my friend's house, I saw his collection of vintage cars.\",\n",
    "    # \"The artist, whose paintings were on display, received a standing ovation.\",\n",
    "    # \"If you are looking for the book, please check my sister's desk.\",\n",
    "    # \"The man whose car was stolen called the police immediately.\",\n",
    "    # \"Although the company's profits had declined, its stock price remained stable.\",\n",
    "    # \"Maria's and Jose's new car, a sleek sedan, arrived this morning, much to their delight.\",\n",
    "    # \"The Smiths' house, with its sprawling garden, always seemed like a haven of peace.\",\n",
    "    # \"After a long and arduous journey, the Martinezes' family, including their children and their pets, finally reached their destination, a cozy cabin nestled in the mountains.\",\n",
    "    # \"Predation and parasitism each reduced the abundance of the intermediate consumer (Paramecium), and parasitism indirectly reduced the abundance of the basal resource (Serratia).\",\n",
    "    # \"Grasshoppers exhibited significant diet shifts from grass to herbs (Kruskal-Wallis test, P 0.01, df 3) when they were in the presence of the comparatively sedentary species (the smaller Pisaurina and the larger Hogna) compared to controls without spiders (Fig. 2).\",\n",
    "    # \"Our results show that phototrophs can indirectly decrease the population density of heterotrophic bacteria by modification of the nature of bacterial interactions with predators.\",\n",
    "    # \"All predators inflicted significant mortality on the prey at each prey density compared to the predator-free control for that density\",\n",
    "    # \"Our results show that an increase in sediment organic matter content is associated to a decline in the abundance of Loripes lucinalis (lucinid bivalve) in the Cymodocea nodosa meadows studied, which potentially may weaken the mutualism between the two species.\",\n",
    "    # \"The abundance of lucinids showed a negative correlation with the organic matter content in vegetated sediments (Fig. 3a), but showed no correlation in bare ones (Fig. 3b).\",\n",
    "    # \"The MANOVA on the cattle tank experiment showed that the presence of Tramea, nonlethal Anax, and large bullfrog tadpoles all had significant effects on both small tadpole species (Table 1).\",\n",
    "    # \"Thus the presence of predators, both nonlethal Anax and lethal Tramea, modified the tank environment in a way that facilitated invasion by midges, but only in the absence of large bullfrogs.\",\n",
    "    # \"We hypothesized that the presence of Anax would decrease foraging activity of small tadpoles, which in turn would decrease predation by Tramea on the small tadpoles\",\n",
    "    # \"The stranger hit a bystander, the man hit a stranger\",\n",
    "    # \"Presence of large bullfrog competitors increased the predation rate of Trameaon small green frogs and small bullfrogs.\",\n",
    "    # \"Thus the presence of predators, both nonlethal Anax and lethal Tramea, ate good.\",\n",
    "    # \"Thus the presence of predators, both nonlethal Anax and lethal Tramea, modified the tank environment in a way that facilitated invasion by midges, but only in the absence of large bullfrogs.\",\n",
    "    # \"Pea aphids (Acyrthosiphon pisum, Harris) have been shown to produce winged dispersal morphs in response to the presence of ladybirds or parasitoid natural enemies.\",\n",
    "    \"The results presented here clearly demonstrate that the presence of both lacewing larvae and hoverfly larvae can induce pea aphids to produce a higher proportion of winged offspring.\"\n",
    "]\n",
    "\n",
    "text = texts[-1]\n",
    "sp_doc = sp_nlp(text)\n",
    "# displacy.render(sp_doc, style=\"dep\", jupyter=True, options={\"collapse_punct\": False})\n",
    "\n",
    "for text in texts:\n",
    "    sp_doc = sp_nlp(text)\n",
    "    for token in sp_doc:\n",
    "        # print(token, token.conjuncts)\n",
    "        token_list = get_list(token, sp_doc)\n",
    "        if token_list:\n",
    "            print(token)\n",
    "            print(token_list)\n",
    "            print()\n",
    "        \n",
    "    # parts = split_sentence(sp_doc)\n",
    "    # for part in parts:\n",
    "    #     print(part)"
   ]
  },
  {
   "cell_type": "code",
   "execution_count": 4,
   "id": "1efa8950-96cf-4a48-b428-2d03dd9b92d2",
   "metadata": {},
   "outputs": [],
   "source": [
    "# Bob ate oranges, apples, and pie, and he also ran"
   ]
  }
 ],
 "metadata": {
  "kernelspec": {
   "display_name": "Python 3 (ipykernel)",
   "language": "python",
   "name": "python3"
  },
  "language_info": {
   "codemirror_mode": {
    "name": "ipython",
    "version": 3
   },
   "file_extension": ".py",
   "mimetype": "text/x-python",
   "name": "python",
   "nbconvert_exporter": "python",
   "pygments_lexer": "ipython3",
   "version": "3.10.16"
  }
 },
 "nbformat": 4,
 "nbformat_minor": 5
}
