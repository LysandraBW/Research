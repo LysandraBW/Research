{
 "cells": [
  {
   "cell_type": "code",
   "execution_count": 1,
   "id": "a56af4fd-6e77-4aaf-9cc4-9759ae40677d",
   "metadata": {},
   "outputs": [
    {
     "ename": "SyntaxError",
     "evalue": "unterminated string literal (detected at line 11) (3785002866.py, line 11)",
     "output_type": "error",
     "traceback": [
      "\u001b[1;36m  Cell \u001b[1;32mIn[1], line 11\u001b[1;36m\u001b[0m\n\u001b[1;33m    if token_a.pos_ not in [\"NOUN\", \"PROPN\", \"ADJ]\u001b[0m\n\u001b[1;37m                                             ^\u001b[0m\n\u001b[1;31mSyntaxError\u001b[0m\u001b[1;31m:\u001b[0m unterminated string literal (detected at line 11)\n"
     ]
    }
   ],
   "source": [
    "def is_species(tokens, species):\n",
    "    return True\n",
    "\n",
    "def get_holder(tokens, cluster_map, holder_map):\n",
    "    return []\n",
    "\n",
    "def same_reference(a, b):\n",
    "    a_is_species = is_species(a)\n",
    "    if not a_is_species:\n",
    "        a = get_holder(a)\n",
    "        if len(a) == 0:\n",
    "            return True\n",
    "    \n",
    "    b_is_species = is_species(b)\n",
    "    if not b_is_species:\n",
    "        b = get_holder(b)\n",
    "        if len(b) == 0:\n",
    "            return True\n",
    "\n",
    "    for token_a in a:\n",
    "        for token_b in b:\n",
    "            if token_a.pos_ not in [\"NOUN\", \"PROPN\", \"ADJ\"]:\n",
    "                continue\n",
    "            if token_b.pos_ not in [\"NOUN\", \"PROPN\", \"ADJ\"]:\n",
    "                continue\n",
    "            if token_a.pos_ != token_b.pos_:\n",
    "                continue\n",
    "            if token_a.lower_ != token_b.lower:\n",
    "                return False\n",
    "    return True"
   ]
  },
  {
   "cell_type": "code",
   "execution_count": null,
   "id": "32c3f269-a735-41e7-ad83-5e1a48dcfcb4",
   "metadata": {},
   "outputs": [],
   "source": []
  }
 ],
 "metadata": {
  "kernelspec": {
   "display_name": "Python 3 (ipykernel)",
   "language": "python",
   "name": "python3"
  },
  "language_info": {
   "codemirror_mode": {
    "name": "ipython",
    "version": 3
   },
   "file_extension": ".py",
   "mimetype": "text/x-python",
   "name": "python",
   "nbconvert_exporter": "python",
   "pygments_lexer": "ipython3",
   "version": "3.10.16"
  }
 },
 "nbformat": 4,
 "nbformat_minor": 5
}
