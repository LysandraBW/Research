{
 "cells": [
  {
   "cell_type": "code",
   "execution_count": 1,
   "id": "cac53119-fdd0-48f8-ac22-2e67bdafa1ce",
   "metadata": {},
   "outputs": [],
   "source": [
    "import numpy as np\n",
    "import pandas as pd\n",
    "import pickle\n",
    "from IPython.display import clear_output\n",
    "import matplotlib.pyplot as plt\n",
    "from sklearn.metrics import confusion_matrix, ConfusionMatrixDisplay\n",
    "%run -i \"../utils.py\""
   ]
  },
  {
   "cell_type": "code",
   "execution_count": 2,
   "id": "3829d1ee-7550-467a-9cf6-4b0a7f8c540f",
   "metadata": {},
   "outputs": [
    {
     "name": "stderr",
     "output_type": "stream",
     "text": [
      "C:\\Users\\lbeln\\anaconda3\\envs\\3.10\\lib\\site-packages\\tqdm\\auto.py:21: TqdmWarning: IProgress not found. Please update jupyter and ipywidgets. See https://ipywidgets.readthedocs.io/en/stable/user_install.html\n",
      "  from .autonotebook import tqdm as notebook_tqdm\n"
     ]
    },
    {
     "name": "stdout",
     "output_type": "stream",
     "text": [
      "WARNING:tensorflow:From C:\\Users\\lbeln\\anaconda3\\envs\\3.10\\lib\\site-packages\\tf_keras\\src\\losses.py:2976: The name tf.losses.sparse_softmax_cross_entropy is deprecated. Please use tf.compat.v1.losses.sparse_softmax_cross_entropy instead.\n",
      "\n"
     ]
    },
    {
     "name": "stderr",
     "output_type": "stream",
     "text": [
      "Device set to use cuda:0\n"
     ]
    }
   ],
   "source": [
    "# !python -m pip install tf-keras\n",
    "from transformers import pipeline\n",
    "\n",
    "classifier = pipeline(\"zero-shot-classification\", model=\"MoritzLaurer/DeBERTa-v3-base-mnli-fever-anli\")\n",
    "# classifier = pipeline(\"zero-shot-classification\", model=\"MoritzLaurer/deberta-v3-large-zeroshot-v2.0\")\n",
    "\n",
    "def on_topic(text, verbose=False):\n",
    "    # The text needs to exceed or equal at least one of these thresholds to pass.\n",
    "    # There's only one right now, so it could technically be \"required\", but it might change\n",
    "    # later on.\n",
    "    at_least_topics = [(\"trait mediated\", 0.8)]\n",
    "\n",
    "    # The text needs to exceed all thresholds to pass.\n",
    "    required_topics = [(\"trait variation\", 0.94), (\"ecology\", 0.90), (\"interaction\", 0.90)]\n",
    "            \n",
    "    for topic, threshold in required_topics:\n",
    "        result = classifier(text, [topic])\n",
    "        if verbose:\n",
    "            print(f\"Topic: {topic}, Score: {result['scores'][0]}\")\n",
    "        if result[\"scores\"][0] < threshold:\n",
    "            return False\n",
    "\n",
    "    for topic, threshold in at_least_topics:\n",
    "        result = classifier(text, [topic])\n",
    "        if verbose:\n",
    "            print(f\"Topic: {topic}, Score: {result['scores'][0]}\")\n",
    "        if result[\"scores\"][0] >= threshold:\n",
    "            return True\n",
    "    \n",
    "    return False\n",
    "\n",
    "# print(on_topic(examples[0][\"Abstract\"], verbose=True))\n",
    "# print(on_topic(examples[1][\"Abstract\"]))\n",
    "# print(on_topic(examples[2][\"Abstract\"]))\n",
    "# print(on_topic(examples[3][\"Abstract\"]))\n",
    "# print(on_topic(\"Fatal familial insomnia (FFI) and a subtype of familial Creutzfeldt-Jakob disease (CJD), two clinically and pathologically distinct diseases, are linked to the same mutation at codon 178 (Asn 178 ) of the prion protein gene. The possibility that a second genetic component modified the phenotypic expression of the Asn 178 mutation was investigated. FFI and the familial CJD subtype segregated with different genotypes determined by the Asn 178 mutation and the methionine-valine polymorphism at codon 129. The Met 129 , Asn 178 allele segregated with FFI in all 15 affected members of five kindreds whereas the Val 129 , Asn 178 allele segregated with the familial CJD subtype in all 15 affected members of six kindreds. Thus, two distinct disease phenotypes linked to a single pathogenic mutation can be determined by a common polymorphism.\", verbose=True))\n",
    "# print(on_topic(\"Metacognition, the ability to reflect upon, and evaluate our own beliefs, can help us avoid making decisions based on unreliable evidence. Here, we provide empirical tests of the importance of human metacognition during the COVID-19 pandemic. ...Metacognition, our ability to reflect on our own beliefs, manifests itself in the confidence we have in these beliefs, and helps us guide our behavior in complex and uncertain environments. Here, we provide empirical tests of the importance of...\", verbose=True))\n",
    "# print(on_topic(\"The serotonin transporter (5-HTT) regulates serotonergic neurotransmission and is thought to influence emotion. A 5-HTT-linked polymorphic region (5-HTTLPR) has two common variants, short (s) and long (l). We previously found population and within-family associations between the lower-expressing s allele and neuroticism, a trait related to anxiety, hostility, and depression, on a standard measure (the NEO Personality Inventory, Revised [NEO-PI-R]) in a primarily male population (n=505), and that the s allele was dominant. We investigated this association in a new sample (n=397, 84% female, primarily sib-pairs). The results robustly replicated the 5-HTTLPR neuroticism association, and the dominance of the s allele. Combined data from the two studies (n=902) showed a highly significant association between the s allele and higher NEO Neuroticism both across individuals and within families. Association between genotype and a related measure, Anxiety on the 16PF inventory, was replicated in the new population and within families in the combined sample. Association to another trait, estimated TPQ Harm Avoidance, was not replicated in the new sample but found only within the combined sibship group. Another association found in our original study, between the s allele and lower scores on NEO-PI-R Agreeableness, was also replicated and was more robust in the current and the combined samples. Associations between the functional 5-HTTLPR polymorphism were similar in women and men. These results help to define specific personality features reproducibly associated with 5-HTTLPR genotype. Such associations were strongest for traits defined by the NEO, enhancing the attractiveness of the five-factor personality model in genetic research on complex behavioral dimensions. Am. J. Med. Genet. (Neuropsychiatr. Genet.) 96:202â€“216, 2000. Published 2000 Wiley-Liss, Inc.\", verbose=True))\n",
    "# print(on_topic(\"This investigation examines the role of trait-mediated indirect interactions in a simple aquatic food web. We conducted the experiments in cattle watering tanks in order to establish whether competitive and predatorâ€“prey interactions between two species are affected by other species in the system; i.e., are pairwise interaction strengths affected by the background species assemblage? We examined the survival and growth response of small bullfrog (Rana catesbeiana) and small green frog (Rana clamitans) tadpoles in the presence and absence of a competitor (large bullfrogs), the lethal presence of the larval odonate predator Tramea lacerata, and the nonlethal (caged) presence of the larval odonate predators Anax junius and Anax longipes. We demonstrate that large bullfrog competitors and caged Anax affect traits (foraging activity level) of small bullfrog and small green frog tadpoles and that these changes in traits, in turn, affect interactions of the small tadpole species with each other and with the other species. In particular, the following four trait-mediated indirect interactions were evident: (1) Presence of large bullfrog competitors increased the predation rate of Tramea on small green frogs and small bullfrogs. (2) Presence of nonlethal Anax reduced the predation rate of Tramea on small green frogs. (3) Presence of nonlethal Anax increased the competitive advantage of bullfrogs over green frogs. (4) Presence of nonlethal Anax facilitated midge invasion of the experimental units. The proposed mechanisms (changes in small tadpole activity) involved in these trait-mediated indirect interactions were supported by observational data on tadpole activity and resource levels in the experimental units, and in laboratory experiments examining tadpole activity responses to predators. The occurrence of strong trait-mediated indirect interactions in this simple food web underscores the potential importance of such interactions in animal communities.\", verbose=True))"
   ]
  },
  {
   "cell_type": "code",
   "execution_count": 3,
   "id": "7d344782-79a2-4296-8445-e066d4827fa4",
   "metadata": {},
   "outputs": [],
   "source": [
    "def score_dataset(name, save_output=False, version=\"\"):\n",
    "    # Redirect Print Statements\n",
    "    if save_output:\n",
    "        initial_stdout = sys.stdout\n",
    "        f = open(f'Print{name}{\"\" if not version else f\"-{version}\"}.txt', 'w')\n",
    "        sys.stdout = f\n",
    "        sys.stdout.reconfigure(encoding='utf-8')\n",
    "\n",
    "    # Load Dataset\n",
    "    data = load_preprocessed_dataset(name)\n",
    "    \n",
    "    number_texts = len(data.Abstract)\n",
    "    print(f\"Number of Texts: {number_texts}\")\n",
    "    \n",
    "    # The scores for each paper will be stored here,\n",
    "    # we'll set this as a column of the dataframe.\n",
    "    scores = []\n",
    "    \n",
    "    # Scan and Evaluate Documents\n",
    "    for i, abstract in enumerate(data.Abstract):\n",
    "        print(f\"{i+1}/{number_texts}\")\n",
    "        if not abstract or not on_topic(abstract, verbose=save_output):\n",
    "            scores.append(0)\n",
    "        else:\n",
    "            scores.append(1)\n",
    "\n",
    "        if not save_output:\n",
    "            clear_output(wait=True)\n",
    "\n",
    "    # Reset Standard Output\n",
    "    if save_output:\n",
    "        sys.stdout = initial_stdout\n",
    "        f.close()\n",
    "\n",
    "    data[\"Score\"] = scores\n",
    "    data.sort_values(by='Score', ascending=False, inplace=True)\n",
    "    return data"
   ]
  },
  {
   "cell_type": "code",
   "execution_count": 4,
   "id": "99bb93e0-bfa6-452b-aa21-969222ad1b2c",
   "metadata": {},
   "outputs": [
    {
     "name": "stdout",
     "output_type": "stream",
     "text": [
      "50/50\n"
     ]
    }
   ],
   "source": [
    "# Score Datasets\n",
    "version = ''\n",
    "\n",
    "dataset_names = [\"Examples\", \"Baseline-1\", \"SubA\", \"SubAFiltered\", \"SubB\", \"SubBFiltered\", \"C\", \"CFiltered\", \"D\", \"DFiltered\"]\n",
    "for name in dataset_names:\n",
    "    scored_data = score_dataset(name, save_output=False, version=version)\n",
    "    store_scored_dataset(scored_data, name, version=version)"
   ]
  },
  {
   "cell_type": "code",
   "execution_count": 6,
   "id": "4181ba38-2d33-4317-be5d-6aaaca41ab4d",
   "metadata": {},
   "outputs": [
    {
     "name": "stdout",
     "output_type": "stream",
     "text": [
      "0 Dynamic population stage structure due to juvenile–adult asymmetry stabilizes complex ecological communities\n",
      "Topic: trait variation, Score: 0.9723981022834778\n",
      "Topic: ecology, Score: 0.9821176528930664\n",
      "Topic: interaction, Score: 0.9552941918373108\n",
      "Topic: trait mediated, Score: 0.9864035248756409\n",
      "\n",
      "1 EFFECTS OF TOP PREDATOR SPECIES ON DIRECT AND INDIRECT INTERACTIONS IN A FOOD WEB\n",
      "Topic: trait variation, Score: 0.9915218353271484\n",
      "Topic: ecology, Score: 0.973333477973938\n",
      "Topic: interaction, Score: 0.9949163794517517\n",
      "Topic: trait mediated, Score: 0.9957714676856995\n",
      "\n",
      "2 Higher-Order Interaction between Species Inhibits Bacterial Invasion of a Phototroph-Predator Microbial Community\n",
      "Topic: trait variation, Score: 0.9568004012107849\n",
      "Topic: ecology, Score: 0.9605135321617126\n",
      "Topic: interaction, Score: 0.9748744964599609\n",
      "Topic: trait mediated, Score: 0.9410195350646973\n",
      "\n",
      "3 Multiple predator effects result in risk reduction for prey across multiple prey densities\n",
      "Topic: trait variation, Score: 0.9471703767776489\n",
      "Topic: ecology, Score: 0.9246492981910706\n",
      "Topic: interaction, Score: 0.9530328512191772\n",
      "Topic: trait mediated, Score: 0.9834449291229248\n",
      "\n"
     ]
    }
   ],
   "source": [
    "# Examining the Examples\n",
    "# I've no way to create the thresholds,\n",
    "# just kind of seeing what works.\n",
    "with open(\"../../Datasets/Examples.pkl\", \"rb\") as f:\n",
    "    df = pickle.load(f)\n",
    "\n",
    "for i, row in df.iterrows():\n",
    "    print(i, row['Title'])\n",
    "    on_topic(row['Abstract'], verbose=True)\n",
    "    print()"
   ]
  },
  {
   "cell_type": "code",
   "execution_count": 7,
   "id": "afac452f-a4c8-42b1-b4bd-9e6fabe61420",
   "metadata": {},
   "outputs": [
    {
     "name": "stdout",
     "output_type": "stream",
     "text": [
      "Accuracy: 74.07%\n"
     ]
    },
    {
     "data": {
      "image/png": "[encoded data removed]",
      "text/plain": [
       "<Figure size 640x480 with 2 Axes>"
      ]
     },
     "metadata": {},
     "output_type": "display_data"
    }
   ],
   "source": [
    "measurements = measure_method_by_class(\n",
    "    output_fp=\"./ScoredBaseline-1.csv\",\n",
    "    target_threshold=3,\n",
    "    verbose=False\n",
    ")\n",
    "\n",
    "print(f\"Accuracy: {measurements['accuracy'] * 100:.2f}%\")\n",
    "cm = ConfusionMatrixDisplay(confusion_matrix=measurements['confusion_matrix'])\n",
    "cm.plot()\n",
    "plt.show()"
   ]
  },
  {
   "cell_type": "code",
   "execution_count": null,
   "id": "9b2595b7-0052-4e40-a12f-ccdf1ae2f0f9",
   "metadata": {},
   "outputs": [],
   "source": []
  }
 ],
 "metadata": {
  "kernelspec": {
   "display_name": "Python 3 (ipykernel)",
   "language": "python",
   "name": "python3"
  },
  "language_info": {
   "codemirror_mode": {
    "name": "ipython",
    "version": 3
   },
   "file_extension": ".py",
   "mimetype": "text/x-python",
   "name": "python",
   "nbconvert_exporter": "python",
   "pygments_lexer": "ipython3",
   "version": "3.10.16"
  }
 },
 "nbformat": 4,
 "nbformat_minor": 5
}
