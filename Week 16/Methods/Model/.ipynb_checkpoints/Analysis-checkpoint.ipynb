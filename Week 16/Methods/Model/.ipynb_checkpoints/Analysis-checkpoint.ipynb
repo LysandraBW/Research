{
 "cells": [
  {
   "cell_type": "code",
   "execution_count": 2,
   "id": "28db79f3-36ff-45d1-811f-c9e5853f6a88",
   "metadata": {},
   "outputs": [],
   "source": [
    "import pandas as pd\n",
    "import matplotlib.pyplot as plt\n",
    "from sklearn.metrics import confusion_matrix, ConfusionMatrixDisplay\n",
    "%run -i \"../utils.py\""
   ]
  },
  {
   "cell_type": "code",
   "execution_count": 6,
   "id": "a79dea08-5e2e-4170-907c-386f9b9d2744",
   "metadata": {},
   "outputs": [
    {
     "data": {
      "text/plain": [
       "{'accuracy': 0.7037037037037037,\n",
       " 'confusion_matrix': array([[13,  8],\n",
       "        [ 0,  6]], dtype=int64)}"
      ]
     },
     "execution_count": 6,
     "metadata": {},
     "output_type": "execute_result"
    }
   ],
   "source": [
    "measure_method_by_class(\n",
    "    output_fp=f\"./ScoredBaseline-1.csv\",\n",
    "    target_threshold=3,\n",
    "    verbose=False\n",
    ")"
   ]
  },
  {
   "cell_type": "code",
   "execution_count": null,
   "id": "4a9f952e-c6f8-4e3b-aa64-f9e96b4d52fc",
   "metadata": {},
   "outputs": [],
   "source": []
  }
 ],
 "metadata": {
  "kernelspec": {
   "display_name": "Python 3 (ipykernel)",
   "language": "python",
   "name": "python3"
  },
  "language_info": {
   "codemirror_mode": {
    "name": "ipython",
    "version": 3
   },
   "file_extension": ".py",
   "mimetype": "text/x-python",
   "name": "python",
   "nbconvert_exporter": "python",
   "pygments_lexer": "ipython3",
   "version": "3.10.16"
  }
 },
 "nbformat": 4,
 "nbformat_minor": 5
}
