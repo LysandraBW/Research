{
 "cells": [
  {
   "cell_type": "code",
   "execution_count": 1,
   "id": "60c92cf9-7819-4342-af6c-3b817f63a725",
   "metadata": {},
   "outputs": [],
   "source": [
    "import pandas as pd"
   ]
  },
  {
   "cell_type": "code",
   "execution_count": 12,
   "id": "f261a2a4-0f0e-4eac-8aa4-3ab89801df29",
   "metadata": {},
   "outputs": [
    {
     "name": "stdout",
     "output_type": "stream",
     "text": [
      "Initial Dataset Shape: (27, 4)\n",
      "\n",
      "Initial Dataset vs. 'A' Dataset\n",
      "Dataset Shape: (9999, 4)\n",
      "Number of Overlapping Papers: 0\n",
      "\n",
      "Initial Dataset vs. 'SubA' Dataset\n",
      "Dataset Shape: (150, 4)\n",
      "Number of Overlapping Papers: 0\n",
      "\n",
      "Initial Dataset vs. 'SubAFiltered' Dataset\n",
      "Dataset Shape: (4, 4)\n",
      "Number of Overlapping Papers: 0\n",
      "\n",
      "Initial Dataset vs. 'B' Dataset\n",
      "Dataset Shape: (8824, 4)\n",
      "Number of Overlapping Papers: 2\n",
      "\n",
      "Initial Dataset vs. 'SubB' Dataset\n",
      "Dataset Shape: (150, 4)\n",
      "Number of Overlapping Papers: 0\n",
      "\n",
      "Initial Dataset vs. 'SubBFiltered' Dataset\n",
      "Dataset Shape: (3, 4)\n",
      "Number of Overlapping Papers: 0\n",
      "\n",
      "Initial Dataset vs. 'First' Dataset\n",
      "Dataset Shape: (893, 4)\n",
      "Number of Overlapping Papers: 27\n",
      "\n",
      "Initial Dataset vs. 'Baseline-1' Dataset\n",
      "Dataset Shape: (27, 4)\n",
      "Number of Overlapping Papers: 27\n",
      "\n",
      "Initial Dataset vs. 'C' Dataset\n",
      "Dataset Shape: (6, 4)\n",
      "Number of Overlapping Papers: 0\n",
      "\n",
      "Initial Dataset vs. 'CFiltered' Dataset\n",
      "Dataset Shape: (4, 4)\n",
      "Number of Overlapping Papers: 0\n",
      "\n",
      "Initial Dataset vs. 'D' Dataset\n",
      "Dataset Shape: (153, 4)\n",
      "Number of Overlapping Papers: 1\n",
      "\n",
      "Initial Dataset vs. 'DFiltered' Dataset\n",
      "Dataset Shape: (52, 4)\n",
      "Number of Overlapping Papers: 1\n",
      "\n"
     ]
    }
   ],
   "source": [
    "scored_df = pd.read_csv(\"Baseline-1-BingKan.csv\")\n",
    "scored_df.drop_duplicates(subset=['Title', 'DOI'], inplace=True)\n",
    "print(f\"Initial Dataset Shape: {scored_df.shape}\\n\")\n",
    "\n",
    "for name in [\"A\", \"SubA\", \"SubAFiltered\", \"B\", \"SubB\", \"SubBFiltered\", \"First\", \"Baseline-1\", \"C\", \"CFiltered\", \"D\", \"DFiltered\"]:\n",
    "    print(f\"Initial Dataset vs. '{name}' Dataset\")\n",
    "    \n",
    "    unscored_df = pd.read_csv(f\"../Datasets/{name}.csv\")\n",
    "    unscored_df.drop_duplicates(subset=['Title', 'DOI'], inplace=True)\n",
    "    print(f\"Dataset Shape: {unscored_df.shape}\")\n",
    "    \n",
    "    df = pd.concat([scored_df.copy(), unscored_df])\n",
    "    overlapping = df[df.duplicated(subset=['Title', 'DOI'], keep=False)]\n",
    "\n",
    "    print(f\"Number of Overlapping Papers: {overlapping.shape[0]//2}\")\n",
    "    print()"
   ]
  },
  {
   "cell_type": "code",
   "execution_count": null,
   "id": "4ef2bfbb-6ab1-4da5-8a4e-88760a2892d5",
   "metadata": {},
   "outputs": [],
   "source": []
  }
 ],
 "metadata": {
  "kernelspec": {
   "display_name": "Python 3 (ipykernel)",
   "language": "python",
   "name": "python3"
  },
  "language_info": {
   "codemirror_mode": {
    "name": "ipython",
    "version": 3
   },
   "file_extension": ".py",
   "mimetype": "text/x-python",
   "name": "python",
   "nbconvert_exporter": "python",
   "pygments_lexer": "ipython3",
   "version": "3.10.16"
  }
 },
 "nbformat": 4,
 "nbformat_minor": 5
}
