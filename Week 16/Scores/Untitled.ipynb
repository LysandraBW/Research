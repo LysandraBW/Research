{
 "cells": [
  {
   "cell_type": "code",
   "execution_count": 1,
   "id": "7d287d81-c784-44d7-b88b-ff5e8db8c6ab",
   "metadata": {},
   "outputs": [],
   "source": [
    "import pandas as pd"
   ]
  },
  {
   "cell_type": "code",
   "execution_count": 2,
   "id": "a55580f4-e68f-432a-917a-ee7228e9fa39",
   "metadata": {},
   "outputs": [],
   "source": [
    "df_1 = pd.read_csv(\"Baseline-1-BingKan.csv\")\n",
    "df_2 = pd.read_csv(\"Baseline-1-Mathew.csv\")\n",
    "df_3 = pd.read_csv(\"Baseline-1-Zack.csv\")"
   ]
  },
  {
   "cell_type": "code",
   "execution_count": 6,
   "id": "764967bb-fbea-44b7-bc23-63fda8118df9",
   "metadata": {},
   "outputs": [
    {
     "data": {
      "text/html": [
       "<div>\n",
       "<style scoped>\n",
       "    .dataframe tbody tr th:only-of-type {\n",
       "        vertical-align: middle;\n",
       "    }\n",
       "\n",
       "    .dataframe tbody tr th {\n",
       "        vertical-align: top;\n",
       "    }\n",
       "\n",
       "    .dataframe thead th {\n",
       "        text-align: right;\n",
       "    }\n",
       "</style>\n",
       "<table border=\"1\" class=\"dataframe\">\n",
       "  <thead>\n",
       "    <tr style=\"text-align: right;\">\n",
       "      <th></th>\n",
       "      <th>Title</th>\n",
       "      <th>Abstract</th>\n",
       "      <th>DOI</th>\n",
       "      <th>BK_Score</th>\n",
       "      <th>M_Score</th>\n",
       "      <th>Z_Score</th>\n",
       "    </tr>\n",
       "  </thead>\n",
       "  <tbody>\n",
       "    <tr>\n",
       "      <th>0</th>\n",
       "      <td>Moving beyond linear food chains: trait-mediat...</td>\n",
       "      <td>In simple, linear food chains, top predators c...</td>\n",
       "      <td>https://doi.org/10.1098/rspb.2016.2590</td>\n",
       "      <td>3</td>\n",
       "      <td>1.0</td>\n",
       "      <td>3</td>\n",
       "    </tr>\n",
       "    <tr>\n",
       "      <th>1</th>\n",
       "      <td>Keep Your Eggs Away: Ant Presence Reduces Cera...</td>\n",
       "      <td>Alternative methods to achieve sustainable agr...</td>\n",
       "      <td>https://doi.org/10.3390/insects14060532</td>\n",
       "      <td>3</td>\n",
       "      <td>0.0</td>\n",
       "      <td>3</td>\n",
       "    </tr>\n",
       "    <tr>\n",
       "      <th>2</th>\n",
       "      <td>Higher Order Interactions in Ecological Commun...</td>\n",
       "      <td>The detection and significance of higher order...</td>\n",
       "      <td>https://doi.org/10.2307/1939614</td>\n",
       "      <td>0</td>\n",
       "      <td>0.0</td>\n",
       "      <td>0</td>\n",
       "    </tr>\n",
       "  </tbody>\n",
       "</table>\n",
       "</div>"
      ],
      "text/plain": [
       "                                               Title  \\\n",
       "0  Moving beyond linear food chains: trait-mediat...   \n",
       "1  Keep Your Eggs Away: Ant Presence Reduces Cera...   \n",
       "2  Higher Order Interactions in Ecological Commun...   \n",
       "\n",
       "                                            Abstract  \\\n",
       "0  In simple, linear food chains, top predators c...   \n",
       "1  Alternative methods to achieve sustainable agr...   \n",
       "2  The detection and significance of higher order...   \n",
       "\n",
       "                                       DOI  BK_Score  M_Score  Z_Score  \n",
       "0   https://doi.org/10.1098/rspb.2016.2590         3      1.0        3  \n",
       "1  https://doi.org/10.3390/insects14060532         3      0.0        3  \n",
       "2          https://doi.org/10.2307/1939614         0      0.0        0  "
      ]
     },
     "execution_count": 6,
     "metadata": {},
     "output_type": "execute_result"
    }
   ],
   "source": [
    "df = df_1.copy()\n",
    "df['BK_Score'] = df_1['Score']\n",
    "df['M_Score'] = df_2['Score']\n",
    "df['Z_Score'] = df_3['Score']\n",
    "df.drop([\"Score\"], axis=1, inplace=True)\n",
    "df.head(3)"
   ]
  },
  {
   "cell_type": "code",
   "execution_count": 7,
   "id": "25f194e4-24fc-4192-9c24-295eaf5467ac",
   "metadata": {},
   "outputs": [],
   "source": [
    "df.to_csv(\"Baseline-1.csv\")"
   ]
  },
  {
   "cell_type": "code",
   "execution_count": 8,
   "id": "b2bd5ebd-c41b-4d70-aeb0-b6e30fe28df8",
   "metadata": {},
   "outputs": [],
   "source": [
    "df.to_excel(\"Baseline-1.xlsx\")"
   ]
  },
  {
   "cell_type": "code",
   "execution_count": null,
   "id": "415b3d7a-7198-41f0-9807-17721d780fe2",
   "metadata": {},
   "outputs": [],
   "source": []
  }
 ],
 "metadata": {
  "kernelspec": {
   "display_name": "Python 3 (ipykernel)",
   "language": "python",
   "name": "python3"
  },
  "language_info": {
   "codemirror_mode": {
    "name": "ipython",
    "version": 3
   },
   "file_extension": ".py",
   "mimetype": "text/x-python",
   "name": "python",
   "nbconvert_exporter": "python",
   "pygments_lexer": "ipython3",
   "version": "3.10.16"
  }
 },
 "nbformat": 4,
 "nbformat_minor": 5
}
