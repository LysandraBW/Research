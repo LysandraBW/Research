{
 "cells": [
  {
   "cell_type": "code",
   "execution_count": 3,
   "id": "5fc0047c-8045-4784-a3d2-1f8f0a7adefa",
   "metadata": {},
   "outputs": [],
   "source": [
    "import nltk"
   ]
  },
  {
   "cell_type": "code",
   "execution_count": 4,
   "id": "f0b331f0-e6c5-4ec7-964b-8b57318d3e6e",
   "metadata": {},
   "outputs": [],
   "source": [
    "from nltk.corpus import wordnet as wn"
   ]
  },
  {
   "cell_type": "code",
   "execution_count": 5,
   "id": "cddbcaa4-7156-4221-8fcd-e95ab59ef5e6",
   "metadata": {},
   "outputs": [
    {
     "data": {
      "text/plain": [
       "[['hence', 'so', 'thence', 'thus'], ['consequently']]"
      ]
     },
     "execution_count": 5,
     "metadata": {},
     "output_type": "execute_result"
    }
   ],
   "source": [
    "wn.synonyms('therefore')\n",
    "# wn.synonyms('coche', lang='spa')"
   ]
  },
  {
   "cell_type": "code",
   "execution_count": 5,
   "id": "c0f8e0f7-c4bd-448a-bfa6-cc89f2366570",
   "metadata": {},
   "outputs": [
    {
     "name": "stdout",
     "output_type": "stream",
     "text": [
      "0.0ms\n"
     ]
    }
   ],
   "source": [
    "import time\n",
    "a = time.time()\n",
    "b = time.time()\n",
    "print(f\"{b-a}ms\")"
   ]
  },
  {
   "cell_type": "code",
   "execution_count": 40,
   "id": "4ba8db9a-851e-49b2-a901-948a8c88bd9c",
   "metadata": {},
   "outputs": [
    {
     "name": "stdout",
     "output_type": "stream",
     "text": [
      "(0.6, 'trait', 'temperature')\n"
     ]
    }
   ],
   "source": [
    "from nltk.corpus import wordnet\n",
    "\n",
    "list1 = ['trait']\n",
    "list2 = ['temperature']\n",
    "list = []\n",
    "\n",
    "for word1 in list1:\n",
    "    for word2 in list2:\n",
    "        wordFromList1 = wordnet.synsets(word1)\n",
    "        wordFromList2 = wordnet.synsets(word2)\n",
    "        if wordFromList1 and wordFromList2: #Thanks to @alexis' note\n",
    "            s = wordFromList1[0].wup_similarity(wordFromList2[0])\n",
    "            list.append((s, word1, word2))\n",
    "\n",
    "list = sorted(list, key=lambda t: t[0], reverse=True)\n",
    "print(list[0])"
   ]
  },
  {
   "cell_type": "code",
   "execution_count": 9,
   "id": "e4e2b3e8-dc3a-4c7e-8914-fec057ded4ab",
   "metadata": {},
   "outputs": [
    {
     "data": {
      "text/plain": [
       "['D', 'E']"
      ]
     },
     "execution_count": 9,
     "metadata": {},
     "output_type": "execute_result"
    }
   ],
   "source": [
    "s = \"A B C D E\"\n",
    "s.split(\" \")[-2:]"
   ]
  },
  {
   "cell_type": "code",
   "execution_count": 16,
   "id": "ac694dcd-f9dd-4549-a855-2474f8d86f11",
   "metadata": {},
   "outputs": [],
   "source": [
    "def is_same_scientific_name(sp_a, sp_b):\n",
    "    sp_a_text = sp_a.lower().split()[-2:]\n",
    "    sp_b_text = sp_b.lower().split()[-2:]\n",
    "\n",
    "    if len(sp_a_text) != 2 or len(sp_b_text) != 2:\n",
    "        return False\n",
    "\n",
    "    return sp_a_text[0][0] == sp_b_text[0][0] and sp_a_text[1] == sp_b_text[1]"
   ]
  },
  {
   "cell_type": "code",
   "execution_count": 19,
   "id": "e42be94f-6800-4ede-a6de-091bddc2199c",
   "metadata": {},
   "outputs": [
    {
     "data": {
      "text/plain": [
       "True"
      ]
     },
     "execution_count": 19,
     "metadata": {},
     "output_type": "execute_result"
    }
   ],
   "source": [
    "is_same_scientific_name(\"m Bob\", \"M Bob\")"
   ]
  },
  {
   "cell_type": "code",
   "execution_count": 2,
   "id": "497e557d-37a6-4529-88b4-769b5cb7a7e5",
   "metadata": {},
   "outputs": [
    {
     "data": {
      "text/plain": [
       "[[],\n",
       " {1},\n",
       " {1, 2},\n",
       " {1, 2, 3},\n",
       " {1, 2, 3, 4},\n",
       " {1, 2, 3, 4, 5},\n",
       " {1, 2, 3, 5},\n",
       " {1, 2, 4},\n",
       " {1, 2, 4, 5},\n",
       " {1, 2, 5},\n",
       " {1, 3},\n",
       " {1, 3, 4},\n",
       " {1, 3, 4, 5},\n",
       " {1, 3, 5},\n",
       " {1, 4},\n",
       " {1, 4, 5},\n",
       " {1, 5},\n",
       " {2},\n",
       " {2, 3},\n",
       " {2, 3, 4},\n",
       " {2, 3, 4, 5},\n",
       " {2, 3, 5},\n",
       " {2, 4},\n",
       " {2, 4, 5},\n",
       " {2, 5},\n",
       " {3},\n",
       " {3, 4},\n",
       " {3, 4, 5},\n",
       " {3, 5},\n",
       " {4},\n",
       " {4, 5},\n",
       " {5}]"
      ]
     },
     "execution_count": 2,
     "metadata": {},
     "output_type": "execute_result"
    }
   ],
   "source": [
    "def power_set(pool, current=None, result=None):\n",
    "    if current not in result:\n",
    "        result.append(current)\n",
    "\n",
    "    for item in pool:\n",
    "        if item not in current:\n",
    "            power_set(pool, current={*current, item}, result=result)\n",
    "\n",
    "    return result\n",
    "\n",
    "power_set([1, 2, 3, 4, 5], current=[], result=[])"
   ]
  },
  {
   "cell_type": "code",
   "execution_count": null,
   "id": "93852aa1-b5ec-451f-99ba-ddae5d2af82a",
   "metadata": {},
   "outputs": [],
   "source": []
  }
 ],
 "metadata": {
  "kernelspec": {
   "display_name": "Python 3 (ipykernel)",
   "language": "python",
   "name": "python3"
  },
  "language_info": {
   "codemirror_mode": {
    "name": "ipython",
    "version": 3
   },
   "file_extension": ".py",
   "mimetype": "text/x-python",
   "name": "python",
   "nbconvert_exporter": "python",
   "pygments_lexer": "ipython3",
   "version": "3.10.16"
  }
 },
 "nbformat": 4,
 "nbformat_minor": 5
}
