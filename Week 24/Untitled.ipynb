{
 "cells": [
  {
   "cell_type": "code",
   "execution_count": 1,
   "id": "b1b3fa9b-9215-4312-bd47-64d94095bc56",
   "metadata": {},
   "outputs": [
    {
     "name": "stderr",
     "output_type": "stream",
     "text": [
      "C:\\Users\\lbeln\\anaconda3\\envs\\3.10\\lib\\site-packages\\tqdm\\auto.py:21: TqdmWarning: IProgress not found. Please update jupyter and ipywidgets. See https://ipywidgets.readthedocs.io/en/stable/user_install.html\n",
      "  from .autonotebook import tqdm as notebook_tqdm\n"
     ]
    }
   ],
   "source": [
    "import re\n",
    "import csv\n",
    "import sys\n",
    "import json\n",
    "import math\n",
    "import spacy\n",
    "import textacy\n",
    "import numpy as np\n",
    "import pandas as pd\n",
    "import matplotlib.pylab as plt\n",
    "from taxonerd import TaxoNERD\n",
    "from fastcoref import spacy_component\n",
    "from spacy.matcher import Matcher, DependencyMatcher, PhraseMatcher\n",
    "%run \"./Main.ipynb\""
   ]
  },
  {
   "cell_type": "code",
   "execution_count": 5,
   "id": "a30004ad-1abe-4c37-8ddc-a8ec27e5fe06",
   "metadata": {},
   "outputs": [
    {
     "name": "stderr",
     "output_type": "stream",
     "text": [
      "09/06/2025 10:45:32 - INFO - \t Tokenize 1 inputs...\n",
      "Map: 100%|██████████| 1/1 [00:00<00:00, 71.59 examples/s]\n",
      "09/06/2025 10:45:38 - INFO - \t ***** Running Inference on 1 texts *****\n",
      "Inference: 100%|██████████| 1/1 [00:06<00:00,  6.77s/it]\n"
     ]
    }
   ],
   "source": [
    "text = \"Due to the presence of fish, the cat grew weary. This ended up increasing the population of fish to grow.\"\n",
    "main = Main()\n",
    "main.update_text(text)"
   ]
  },
  {
   "cell_type": "code",
   "execution_count": 6,
   "id": "efa08f92-f561-4f09-baf9-df0cd8c7a558",
   "metadata": {},
   "outputs": [
    {
     "name": "stdout",
     "output_type": "stream",
     "text": [
      "This\n"
     ]
    }
   ],
   "source": [
    "for token in main.causal.tokens:\n",
    "    print(token)"
   ]
  },
  {
   "cell_type": "code",
   "execution_count": 7,
   "id": "ee45ba8f-7e63-49ae-888d-1dac25d9b68f",
   "metadata": {},
   "outputs": [
    {
     "name": "stdout",
     "output_type": "stream",
     "text": [
      "grow\n"
     ]
    }
   ],
   "source": [
    "for token in [*main.cause.tokens, *main.change.tokens]:\n",
    "    print(token)"
   ]
  },
  {
   "cell_type": "code",
   "execution_count": 8,
   "id": "c1987146-ddc6-4b07-bc39-804de320e7b8",
   "metadata": {},
   "outputs": [
    {
     "name": "stdout",
     "output_type": "stream",
     "text": [
      "Due ADP\n",
      "to ADP\n",
      "the DET\n",
      "presence NOUN\n",
      "of ADP\n",
      "fish NOUN\n",
      ", PUNCT\n",
      "the DET\n",
      "cat NOUN\n",
      "grew VERB\n",
      "weary ADJ\n",
      ". PUNCT\n",
      "This PRON\n",
      "ended VERB\n",
      "up ADP\n",
      "increasing VERB\n",
      "the DET\n",
      "population NOUN\n",
      "of ADP\n",
      "fish NOUN\n",
      "to PART\n",
      "grow VERB\n",
      ". PUNCT\n"
     ]
    }
   ],
   "source": [
    "for token in main.sp_doc:\n",
    "    print(token, token.pos_)"
   ]
  },
  {
   "cell_type": "code",
   "execution_count": null,
   "id": "fb0d46a0-b5ab-480b-8a5a-41b274ce4953",
   "metadata": {},
   "outputs": [],
   "source": []
  }
 ],
 "metadata": {
  "kernelspec": {
   "display_name": "Python 3 (ipykernel)",
   "language": "python",
   "name": "python3"
  },
  "language_info": {
   "codemirror_mode": {
    "name": "ipython",
    "version": 3
   },
   "file_extension": ".py",
   "mimetype": "text/x-python",
   "name": "python",
   "nbconvert_exporter": "python",
   "pygments_lexer": "ipython3",
   "version": "3.10.16"
  }
 },
 "nbformat": 4,
 "nbformat_minor": 5
}
