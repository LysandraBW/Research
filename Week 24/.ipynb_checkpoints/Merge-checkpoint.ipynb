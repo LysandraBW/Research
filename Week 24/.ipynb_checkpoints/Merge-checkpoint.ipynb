{
 "cells": [
  {
   "cell_type": "code",
   "execution_count": 2,
   "id": "146b5e47-2d4e-43ed-91d3-e42fe7f684b6",
   "metadata": {},
   "outputs": [],
   "source": [
    "import copy\n",
    "from itertools import permutations, combinations"
   ]
  },
  {
   "cell_type": "code",
   "execution_count": 65,
   "id": "70e3a960-6b84-42e6-b4c0-304a7f43e0fe",
   "metadata": {},
   "outputs": [],
   "source": [
    "a = [[0, 1, 3], [1, 2], [7]]"
   ]
  },
  {
   "cell_type": "code",
   "execution_count": 76,
   "id": "b94512f7-4039-429a-b80c-b41ce4c53647",
   "metadata": {},
   "outputs": [],
   "source": [
    "def flatten(arr):\n",
    "    if not isinstance(arr, list):\n",
    "        return [arr]\n",
    "\n",
    "    flat = []\n",
    "    for val in arr:\n",
    "        flat.extend(flatten(val))\n",
    "\n",
    "    return flat\n",
    "\n",
    "def merge_numbers(X, Y, method=None):\n",
    "    return str(X) + str(Y)\n",
    "\n",
    "def mergeable(X, Y):\n",
    "    # print(f\"Mergeable ({X} v. {Y})\")\n",
    "    X = X if isinstance(X, str) else str(X)\n",
    "    Y = Y if isinstance(Y, str) else str(Y)\n",
    "\n",
    "    total = 0\n",
    "    for digit in [*X, *Y]:\n",
    "        total += int(digit)\n",
    "    # print(f\"Can Merge {X} and {Y}: {total <= 5}\")\n",
    "    return total <= 5\n",
    "    \n",
    "def merge_list_of_numbers(nums):\n",
    "    num = str(nums[0])\n",
    "    \n",
    "    i = 1\n",
    "    while i < len(nums):\n",
    "        if mergeable(num, nums[i]):\n",
    "            num = merge_numbers(num, nums[i])\n",
    "        i += 1\n",
    "\n",
    "    return num\n",
    "\n",
    "def valid_merge(merge):\n",
    "    return len(merge) >= 2\n",
    "    \n",
    "def merge_1D(lst):\n",
    "    lst = copy.deepcopy(lst)\n",
    "    \n",
    "    # These are all the possible merged\n",
    "    # lists, including those that cannot\n",
    "    # be merged and those that can.\n",
    "    lists = list(permutations([*lst]))\n",
    "    \n",
    "    merged_lists = []\n",
    "    for unmerged_list in lists:\n",
    "        for i in range(1, len(unmerged_list) + 1):\n",
    "            merged_list = merge_list_of_numbers(unmerged_list[:i])\n",
    "            if merged_list and valid_merge(merged_list):\n",
    "                merged_lists.append(merged_list)\n",
    "    \n",
    "    return merged_lists\n",
    "\n",
    "def merge_2D(list_2D):\n",
    "    list_2D = copy.deepcopy(list_2D)\n",
    "\n",
    "    merged_1D_lists = []\n",
    "    for list_1D in list_2D:\n",
    "        print(f\"1D List: {list_1D}\")\n",
    "        merged_list_1D = merge_1D(list_1D)\n",
    "        if merged_list_1D:\n",
    "            print(f\"\\t1D List Possible Merges: {merged_list_1D}\")\n",
    "            merged_1D_lists.append(merged_list_1D)\n",
    "\n",
    "    # Merging\n",
    "    print(f\"Merged 1D Lists: {merged_1D_lists}\")\n",
    "\n",
    "    # Using Indices for Simplicity\n",
    "    indices = list(range(0, len(merged_1D_lists)))\n",
    "    print(f\"Indices: {indices}\")\n",
    "    \n",
    "    lists = list(permutations(indices))\n",
    "    print(f\"Merged 1D Lists (Indices) Permutations: {lists}\")\n",
    "    \n",
    "    merged_lists = []\n",
    "    for unmerged_list in lists:\n",
    "        for i in range(1, len(unmerged_list)+1):\n",
    "            flattened_unmerged_list = flatten([merged_1D_lists[i] for i in unmerged_list[:i]])\n",
    "            print(f\"Flattened Unmerged List: {flattened_unmerged_list}\")\n",
    "            \n",
    "            merged_list = merge_list_of_numbers(flattened_unmerged_list)\n",
    "            if merged_list and valid_merge(merged_list):\n",
    "                merged_lists.append(merged_list)\n",
    "\n",
    "    return None"
   ]
  },
  {
   "cell_type": "code",
   "execution_count": 77,
   "id": "2eea6c04-7a29-4545-9cbf-2f92b34e43dd",
   "metadata": {},
   "outputs": [
    {
     "name": "stdout",
     "output_type": "stream",
     "text": [
      "1D List: [0, 1, 3]\n",
      "\t1D List Possible Merges: ['01', '013', '03', '031', '10', '103', '13', '130', '30', '301', '31', '310']\n",
      "1D List: [1, 2]\n",
      "\t1D List Possible Merges: ['12', '21']\n",
      "1D List: [7]\n",
      "Merged 1D Lists: [['01', '013', '03', '031', '10', '103', '13', '130', '30', '301', '31', '310'], ['12', '21']]\n",
      "Indices: [0, 1]\n",
      "Merged 1D Lists (Indices) Permutations: [(0, 1), (1, 0)]\n",
      "Flattened Unmerged List: ['01', '013', '03', '031', '10', '103', '13', '130', '30', '301', '31', '310']\n",
      "Flattened Unmerged List: ['01', '013', '03', '031', '10', '103', '13', '130', '30', '301', '31', '310', '12', '21']\n",
      "Flattened Unmerged List: ['12', '21']\n",
      "Flattened Unmerged List: ['12', '21', '01', '013', '03', '031', '10', '103', '13', '130', '30', '301', '31', '310']\n"
     ]
    },
    {
     "ename": "TypeError",
     "evalue": "'NoneType' object is not iterable",
     "output_type": "error",
     "traceback": [
      "\u001b[1;31m---------------------------------------------------------------------------\u001b[0m",
      "\u001b[1;31mTypeError\u001b[0m                                 Traceback (most recent call last)",
      "Cell \u001b[1;32mIn[77], line 2\u001b[0m\n\u001b[0;32m      1\u001b[0m result \u001b[38;5;241m=\u001b[39m merge_2D(a)\n\u001b[1;32m----> 2\u001b[0m result \u001b[38;5;241m=\u001b[39m \u001b[38;5;28;43msorted\u001b[39;49m\u001b[43m(\u001b[49m\u001b[43mresult\u001b[49m\u001b[43m,\u001b[49m\u001b[43m \u001b[49m\u001b[43mkey\u001b[49m\u001b[38;5;241;43m=\u001b[39;49m\u001b[38;5;28;43;01mlambda\u001b[39;49;00m\u001b[43m \u001b[49m\u001b[43ms\u001b[49m\u001b[43m:\u001b[49m\u001b[43m \u001b[49m\u001b[38;5;28;43mlen\u001b[39;49m\u001b[43m(\u001b[49m\u001b[43ms\u001b[49m\u001b[43m)\u001b[49m\u001b[43m)\u001b[49m\n\u001b[0;32m      3\u001b[0m \u001b[38;5;28mprint\u001b[39m(result)\n",
      "\u001b[1;31mTypeError\u001b[0m: 'NoneType' object is not iterable"
     ]
    }
   ],
   "source": [
    "result = merge_2D(a)\n",
    "result = sorted(result, key=lambda s: len(s))\n",
    "print(result)"
   ]
  },
  {
   "cell_type": "code",
   "execution_count": 83,
   "id": "94180866-5402-4a44-8167-4c81d5db626e",
   "metadata": {},
   "outputs": [],
   "source": [
    "def interleave(lists, curr=[], used=[], skip=None, ret=[]):\n",
    "    if curr and curr not in ret:\n",
    "        ret.append(curr)\n",
    "    \n",
    "    for i in range(len(lists)):\n",
    "        if i == skip:\n",
    "            continue\n",
    "        for j in range(len(lists[i])):\n",
    "            if (i, j) in used:\n",
    "                continue\n",
    "            interleave(lists, curr=[*curr, lists[i][j]], used=[*used, (i, j)], skip=i, ret=ret)\n",
    "    "
   ]
  },
  {
   "cell_type": "code",
   "execution_count": 87,
   "id": "64d544f5-3883-4f56-ac57-4e5f02cd6a1f",
   "metadata": {},
   "outputs": [
    {
     "name": "stdout",
     "output_type": "stream",
     "text": [
      "['A']\n",
      "['A', 1]\n",
      "['A', 1, 'B']\n",
      "['A', 1, 'B', 2]\n",
      "['A', 2]\n",
      "['A', 2, 'B']\n",
      "['A', 2, 'B', 1]\n",
      "['B']\n",
      "['B', 1]\n",
      "['B', 1, 'A']\n",
      "['B', 1, 'A', 2]\n",
      "['B', 2]\n",
      "['B', 2, 'A']\n",
      "['B', 2, 'A', 1]\n",
      "[1]\n",
      "[1, 'A']\n",
      "[1, 'A', 2]\n",
      "[1, 'A', 2, 'B']\n",
      "[1, 'B']\n",
      "[1, 'B', 2]\n",
      "[1, 'B', 2, 'A']\n",
      "[2]\n",
      "[2, 'A']\n",
      "[2, 'A', 1]\n",
      "[2, 'A', 1, 'B']\n",
      "[2, 'B']\n",
      "[2, 'B', 1]\n",
      "[2, 'B', 1, 'A']\n"
     ]
    }
   ],
   "source": [
    "lists = [[\"A\",\"B\"], [1,2]]\n",
    "\n",
    "ret = []\n",
    "interleave(lists, curr=[], used=[], skip=None, ret=ret)\n",
    "\n",
    "for lst in ret:\n",
    "    print(lst)"
   ]
  },
  {
   "cell_type": "code",
   "execution_count": 4,
   "id": "ad836f63-6268-4083-9cee-c8dc855e9da8",
   "metadata": {},
   "outputs": [
    {
     "name": "stdout",
     "output_type": "stream",
     "text": [
      "[(1, 2, 3, 4), (1, 2, 4, 3), (1, 3, 2, 4), (1, 3, 4, 2), (1, 4, 2, 3), (1, 4, 3, 2), (2, 1, 3, 4), (2, 1, 4, 3), (2, 3, 1, 4), (2, 3, 4, 1), (2, 4, 1, 3), (2, 4, 3, 1), (3, 1, 2, 4), (3, 1, 4, 2), (3, 2, 1, 4), (3, 2, 4, 1), (3, 4, 1, 2), (3, 4, 2, 1), (4, 1, 2, 3), (4, 1, 3, 2), (4, 2, 1, 3), (4, 2, 3, 1), (4, 3, 1, 2), (4, 3, 2, 1)]\n"
     ]
    }
   ],
   "source": [
    "l = [1, 2, 3, 4]\n",
    "print(list(permutations(l)))"
   ]
  },
  {
   "cell_type": "code",
   "execution_count": 33,
   "id": "76dee10b-7ae7-46a7-903e-de8a19235b92",
   "metadata": {},
   "outputs": [],
   "source": [
    "def powerset(pool, current_set=None, result_set=None):\n",
    "    result_set = result_set or []\n",
    "    current_set = current_set or {}\n",
    "    \n",
    "    if current_set not in result_set:\n",
    "        result_set.append(current_set)\n",
    "\n",
    "    for item in pool:\n",
    "        if item not in current_set:\n",
    "            powerset(pool, {*current_set, item}, result_set)\n",
    "\n",
    "    return result_set"
   ]
  },
  {
   "cell_type": "code",
   "execution_count": 34,
   "id": "cf720b72-9e7a-446e-a89b-ded2dacecf40",
   "metadata": {},
   "outputs": [
    {
     "name": "stdout",
     "output_type": "stream",
     "text": [
      "True\n"
     ]
    }
   ],
   "source": [
    "s1 = {1, 2, 3}\n",
    "s2 = {3, 2, 1}\n",
    "print(s2 == s1)"
   ]
  },
  {
   "cell_type": "code",
   "execution_count": 35,
   "id": "c8163776-8356-4cad-9e58-1a80c1ff30e2",
   "metadata": {},
   "outputs": [
    {
     "name": "stdout",
     "output_type": "stream",
     "text": [
      "{1, 2, 3, 4}\n"
     ]
    }
   ],
   "source": [
    "s3 = {*s1, 4}\n",
    "print(s3)"
   ]
  },
  {
   "cell_type": "code",
   "execution_count": 37,
   "id": "b89ff11e-831f-4b76-bdcb-09cec2cb848b",
   "metadata": {},
   "outputs": [
    {
     "name": "stdout",
     "output_type": "stream",
     "text": [
      "[{}, {1}, {1, 2}, {1, 2, 3}, {1, 3}, {2}, {2, 3}, {3}]\n"
     ]
    }
   ],
   "source": [
    "s1 = set([1, 2, 3])\n",
    "pset = powerset([1,2,3])\n",
    "\n",
    "print(pset)"
   ]
  },
  {
   "cell_type": "code",
   "execution_count": 31,
   "id": "33393076-acf3-4eaa-a35e-751ab5749f67",
   "metadata": {},
   "outputs": [],
   "source": [
    "list_of_sets = [{1, 2, 3}, {4, 3, 2}]"
   ]
  },
  {
   "cell_type": "code",
   "execution_count": 32,
   "id": "f0f3cb9a-704c-4d82-a2a4-fd6f719ff065",
   "metadata": {},
   "outputs": [
    {
     "name": "stdout",
     "output_type": "stream",
     "text": [
      "True\n"
     ]
    }
   ],
   "source": [
    "print({1, 2, 3} in list_of_sets)"
   ]
  },
  {
   "cell_type": "code",
   "execution_count": null,
   "id": "00693832-c858-4c8a-a149-00e0a2904830",
   "metadata": {},
   "outputs": [],
   "source": []
  }
 ],
 "metadata": {
  "kernelspec": {
   "display_name": "Python 3 (ipykernel)",
   "language": "python",
   "name": "python3"
  },
  "language_info": {
   "codemirror_mode": {
    "name": "ipython",
    "version": 3
   },
   "file_extension": ".py",
   "mimetype": "text/x-python",
   "name": "python",
   "nbconvert_exporter": "python",
   "pygments_lexer": "ipython3",
   "version": "3.10.16"
  }
 },
 "nbformat": 4,
 "nbformat_minor": 5
}
