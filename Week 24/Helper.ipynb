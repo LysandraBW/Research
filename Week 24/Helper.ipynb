{
 "cells": [
  {
   "cell_type": "code",
   "execution_count": null,
   "id": "1c143063-d2bd-4f72-a953-d1915014aa4d",
   "metadata": {},
   "outputs": [],
   "source": [
    "# Helper Functions\n",
    "def flatten(arr):\n",
    "    if not isinstance(arr, list):\n",
    "        return [arr]\n",
    "\n",
    "    flat = []\n",
    "    for val in arr:\n",
    "        flat.extend(flatten(val))\n",
    "\n",
    "    return flat\n",
    "\n",
    "def find(arr, foo):\n",
    "    for val in arr:\n",
    "        if foo(val):\n",
    "            return val\n",
    "    return None\n",
    "\n",
    "def find_all(arr, foo):\n",
    "    bar = []\n",
    "    for val in arr:\n",
    "        if foo(val):\n",
    "            bar.append(val)\n",
    "    return bar\n",
    "\n",
    "def find_index(arr, foo):\n",
    "    for i in range(len(arr)):\n",
    "        if foo(arr[i]):\n",
    "            return i\n",
    "    return -1"
   ]
  }
 ],
 "metadata": {
  "kernelspec": {
   "display_name": "Python 3 (ipykernel)",
   "language": "python",
   "name": "python3"
  },
  "language_info": {
   "codemirror_mode": {
    "name": "ipython",
    "version": 3
   },
   "file_extension": ".py",
   "mimetype": "text/x-python",
   "name": "python",
   "nbconvert_exporter": "python",
   "pygments_lexer": "ipython3",
   "version": "3.10.16"
  }
 },
 "nbformat": 4,
 "nbformat_minor": 5
}
