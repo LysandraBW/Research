{
 "cells": [
  {
   "cell_type": "code",
   "execution_count": null,
   "id": "146b5e47-2d4e-43ed-91d3-e42fe7f684b6",
   "metadata": {},
   "outputs": [],
   "source": [
    "import copy\n",
    "from itertools import permutations, combinations"
   ]
  },
  {
   "cell_type": "code",
   "execution_count": null,
   "id": "70e3a960-6b84-42e6-b4c0-304a7f43e0fe",
   "metadata": {},
   "outputs": [],
   "source": [
    "a = [[0, 1, 3], [1, 2], [7]]"
   ]
  },
  {
   "cell_type": "code",
   "execution_count": null,
   "id": "b94512f7-4039-429a-b80c-b41ce4c53647",
   "metadata": {},
   "outputs": [],
   "source": [
    "def flatten(arr):\n",
    "    if not isinstance(arr, list):\n",
    "        return [arr]\n",
    "\n",
    "    flat = []\n",
    "    for val in arr:\n",
    "        flat.extend(flatten(val))\n",
    "\n",
    "    return flat\n",
    "\n",
    "def merge_numbers(X, Y, method=None):\n",
    "    return str(X) + str(Y)\n",
    "\n",
    "def mergeable(X, Y):\n",
    "    # print(f\"Mergeable ({X} v. {Y})\")\n",
    "    X = X if isinstance(X, str) else str(X)\n",
    "    Y = Y if isinstance(Y, str) else str(Y)\n",
    "\n",
    "    total = 0\n",
    "    for digit in [*X, *Y]:\n",
    "        total += int(digit)\n",
    "    # print(f\"Can Merge {X} and {Y}: {total <= 5}\")\n",
    "    return total <= 5\n",
    "    \n",
    "def merge_list_of_numbers(nums):\n",
    "    num = str(nums[0])\n",
    "    \n",
    "    i = 1\n",
    "    while i < len(nums):\n",
    "        if mergeable(num, nums[i]):\n",
    "            num = merge_numbers(num, nums[i])\n",
    "        i += 1\n",
    "\n",
    "    return num\n",
    "\n",
    "def valid_merge(merge):\n",
    "    return len(merge) >= 2\n",
    "    \n",
    "def merge_1D(lst):\n",
    "    lst = copy.deepcopy(lst)\n",
    "    \n",
    "    # These are all the possible merged\n",
    "    # lists, including those that cannot\n",
    "    # be merged and those that can.\n",
    "    lists = list(permutations([*lst]))\n",
    "    \n",
    "    merged_lists = []\n",
    "    for unmerged_list in lists:\n",
    "        for i in range(1, len(unmerged_list) + 1):\n",
    "            merged_list = merge_list_of_numbers(unmerged_list[:i])\n",
    "            if merged_list and valid_merge(merged_list):\n",
    "                merged_lists.append(merged_list)\n",
    "    \n",
    "    return merged_lists\n",
    "\n",
    "def merge_2D(list_2D):\n",
    "    list_2D = copy.deepcopy(list_2D)\n",
    "\n",
    "    merged_1D_lists = []\n",
    "    for list_1D in list_2D:\n",
    "        print(f\"1D List: {list_1D}\")\n",
    "        merged_list_1D = merge_1D(list_1D)\n",
    "        if merged_list_1D:\n",
    "            print(f\"\\t1D List Possible Merges: {merged_list_1D}\")\n",
    "            merged_1D_lists.append(merged_list_1D)\n",
    "\n",
    "    # Merging\n",
    "    print(f\"Merged 1D Lists: {merged_1D_lists}\")\n",
    "\n",
    "    # Using Indices for Simplicity\n",
    "    indices = list(range(0, len(merged_1D_lists)))\n",
    "    print(f\"Indices: {indices}\")\n",
    "    \n",
    "    lists = list(permutations(indices))\n",
    "    print(f\"Merged 1D Lists (Indices) Permutations: {lists}\")\n",
    "    \n",
    "    merged_lists = []\n",
    "    for unmerged_list in lists:\n",
    "        for i in range(1, len(unmerged_list)+1):\n",
    "            flattened_unmerged_list = flatten([merged_1D_lists[i] for i in unmerged_list[:i]])\n",
    "            print(f\"Flattened Unmerged List: {flattened_unmerged_list}\")\n",
    "            \n",
    "            merged_list = merge_list_of_numbers(flattened_unmerged_list)\n",
    "            if merged_list and valid_merge(merged_list):\n",
    "                merged_lists.append(merged_list)\n",
    "\n",
    "    return None"
   ]
  },
  {
   "cell_type": "code",
   "execution_count": null,
   "id": "2eea6c04-7a29-4545-9cbf-2f92b34e43dd",
   "metadata": {},
   "outputs": [],
   "source": [
    "result = merge_2D(a)\n",
    "result = sorted(result, key=lambda s: len(s))\n",
    "print(result)"
   ]
  },
  {
   "cell_type": "code",
   "execution_count": 91,
   "id": "94180866-5402-4a44-8167-4c81d5db626e",
   "metadata": {},
   "outputs": [],
   "source": [
    "def interleave(lists, curr=None, used=None, skip=None, ret=None):\n",
    "    if curr and curr not in ret:\n",
    "        ret.append(curr)\n",
    "    \n",
    "    for i in range(len(lists)):\n",
    "        if i == skip:\n",
    "            continue\n",
    "        for j in range(len(lists[i])):\n",
    "            if (i, j) in used:\n",
    "                continue\n",
    "            interleave(lists, curr=[*curr, lists[i][j]], used=[*used, (i, j)], skip=i, ret=ret)\n",
    "\n",
    "    return ret"
   ]
  },
  {
   "cell_type": "code",
   "execution_count": 92,
   "id": "64d544f5-3883-4f56-ac57-4e5f02cd6a1f",
   "metadata": {},
   "outputs": [],
   "source": [
    "lists = [[\"A\",\"B\"], [1,2]]\n",
    "\n",
    "ret = []\n",
    "interleave(lists, curr=[], used=[], skip=None, ret=ret)\n",
    "\n",
    "for lst in ret:\n",
    "    print(lst)"
   ]
  },
  {
   "cell_type": "code",
   "execution_count": null,
   "id": "ad836f63-6268-4083-9cee-c8dc855e9da8",
   "metadata": {},
   "outputs": [],
   "source": [
    "l = [1, 2, 3, 4]\n",
    "print(list(permutations(l)))"
   ]
  },
  {
   "cell_type": "code",
   "execution_count": null,
   "id": "76dee10b-7ae7-46a7-903e-de8a19235b92",
   "metadata": {},
   "outputs": [],
   "source": [
    "def powerset(pool, current_set=None, result_set=None):\n",
    "    result_set = result_set or []\n",
    "    current_set = current_set or {}\n",
    "    \n",
    "    if current_set not in result_set:\n",
    "        result_set.append(current_set)\n",
    "\n",
    "    for item in pool:\n",
    "        if item not in current_set:\n",
    "            powerset(pool, {*current_set, item}, result_set)\n",
    "\n",
    "    return result_set"
   ]
  },
  {
   "cell_type": "code",
   "execution_count": null,
   "id": "cf720b72-9e7a-446e-a89b-ded2dacecf40",
   "metadata": {},
   "outputs": [],
   "source": [
    "s1 = {1, 2, 3}\n",
    "s2 = {3, 2, 1}\n",
    "print(s2 == s1)"
   ]
  },
  {
   "cell_type": "code",
   "execution_count": null,
   "id": "c8163776-8356-4cad-9e58-1a80c1ff30e2",
   "metadata": {},
   "outputs": [],
   "source": [
    "s3 = {*s1, 4}\n",
    "print(s3)"
   ]
  },
  {
   "cell_type": "code",
   "execution_count": 39,
   "id": "b89ff11e-831f-4b76-bdcb-09cec2cb848b",
   "metadata": {},
   "outputs": [
    {
     "name": "stdout",
     "output_type": "stream",
     "text": [
      "[{}, {1}, {1, 2}, {1, 2, 3}, {1, 3}, {2}, {2, 3}, {3}]\n"
     ]
    }
   ],
   "source": [
    "s1 = set([1, 2, 3])\n",
    "pset = powerset([1,2,3])\n",
    "\n",
    "print(pset)"
   ]
  },
  {
   "cell_type": "code",
   "execution_count": null,
   "id": "33393076-acf3-4eaa-a35e-751ab5749f67",
   "metadata": {},
   "outputs": [],
   "source": [
    "list_of_sets = [{1, 2, 3}, {4, 3, 2}]"
   ]
  },
  {
   "cell_type": "code",
   "execution_count": null,
   "id": "f0f3cb9a-704c-4d82-a2a4-fd6f719ff065",
   "metadata": {},
   "outputs": [],
   "source": [
    "print({1, 2, 3} in list_of_sets)"
   ]
  },
  {
   "cell_type": "code",
   "execution_count": null,
   "id": "00693832-c858-4c8a-a149-00e0a2904830",
   "metadata": {},
   "outputs": [],
   "source": [
    "print(list(permutations(pset)))"
   ]
  },
  {
   "cell_type": "code",
   "execution_count": 45,
   "id": "f6b546e6-209d-4006-9e97-fdb2e06c2a11",
   "metadata": {},
   "outputs": [],
   "source": [
    "bar = []\n",
    "for thing in pset:\n",
    "    if thing:\n",
    "        bar.extend(list(permutations(thing)))"
   ]
  },
  {
   "cell_type": "code",
   "execution_count": null,
   "id": "cc505851-60d9-4a5f-9407-626078ec5871",
   "metadata": {},
   "outputs": [],
   "source": []
  },
  {
   "cell_type": "code",
   "execution_count": 47,
   "id": "e7fb911f-aa16-4a1e-be10-a2e9810d7102",
   "metadata": {},
   "outputs": [
    {
     "name": "stdout",
     "output_type": "stream",
     "text": [
      "[(1,), (1, 2), (2, 1), (1, 2, 3), (1, 3, 2), (2, 1, 3), (2, 3, 1), (3, 1, 2), (3, 2, 1), (1, 3), (3, 1), (2,), (2, 3), (3, 2), (3,)]\n",
      "15\n"
     ]
    }
   ],
   "source": [
    "print(bar)\n",
    "print(len(bar))"
   ]
  },
  {
   "cell_type": "code",
   "execution_count": 98,
   "id": "f8a744d8-f657-4c1b-8317-426d7d490278",
   "metadata": {},
   "outputs": [],
   "source": [
    "\n",
    "def interleave_2(pool, current=None, used=None, skip=None, result=None):\n",
    "    if current and current not in result:\n",
    "        result.append(current)\n",
    "    \n",
    "    for i in range(len(pool)):\n",
    "        if i == skip:\n",
    "            continue\n",
    "        \n",
    "        for j in range(len(pool[i])):\n",
    "            if (i, j) in used:\n",
    "                continue\n",
    "            \n",
    "            interleave_2(\n",
    "                pool, \n",
    "                used=[*used, (i, j)],\n",
    "                current=[*current, pool[i][j]],\n",
    "                skip=i, \n",
    "                result=result\n",
    "            )\n",
    "\n",
    "    return result"
   ]
  },
  {
   "cell_type": "code",
   "execution_count": 100,
   "id": "bb280777-8f32-493f-88d6-3e415968eb1b",
   "metadata": {},
   "outputs": [
    {
     "name": "stdout",
     "output_type": "stream",
     "text": [
      "['A']\n",
      "['A', 1]\n",
      "['A', 1, 'B']\n",
      "['A', 1, 'B', 2]\n",
      "['A', 2]\n",
      "['A', 2, 'B']\n",
      "['A', 2, 'B', 1]\n",
      "['B']\n",
      "['B', 1]\n",
      "['B', 1, 'A']\n",
      "['B', 1, 'A', 2]\n",
      "['B', 2]\n",
      "['B', 2, 'A']\n",
      "['B', 2, 'A', 1]\n",
      "[1]\n",
      "[1, 'A']\n",
      "[1, 'A', 2]\n",
      "[1, 'A', 2, 'B']\n",
      "[1, 'B']\n",
      "[1, 'B', 2]\n",
      "[1, 'B', 2, 'A']\n",
      "[2]\n",
      "[2, 'A']\n",
      "[2, 'A', 1]\n",
      "[2, 'A', 1, 'B']\n",
      "[2, 'B']\n",
      "[2, 'B', 1]\n",
      "[2, 'B', 1, 'A']\n"
     ]
    }
   ],
   "source": [
    "pool = [['A', 'B'], [1, 2]]\n",
    "\n",
    "# result_1 = interleave(pool)\n",
    "result_2 = interleave_2(pool, current=[], used=[], result=[])\n",
    "\n",
    "for thing in result_2:\n",
    "    print(thing)\n"
   ]
  },
  {
   "cell_type": "code",
   "execution_count": 60,
   "id": "03130c38-62fa-4d8c-afbe-8ea43a49a7a4",
   "metadata": {},
   "outputs": [
    {
     "name": "stdout",
     "output_type": "stream",
     "text": [
      "True\n"
     ]
    }
   ],
   "source": [
    "print(result_1 == result_2)"
   ]
  },
  {
   "cell_type": "code",
   "execution_count": 61,
   "id": "1cab0531-885b-444a-81cc-0ec328b924d2",
   "metadata": {},
   "outputs": [
    {
     "name": "stdout",
     "output_type": "stream",
     "text": [
      "[]\n"
     ]
    }
   ],
   "source": [
    "print(result_1)"
   ]
  },
  {
   "cell_type": "code",
   "execution_count": null,
   "id": "d78ba024-26f2-4f13-b3df-c7cea2a1fc10",
   "metadata": {},
   "outputs": [],
   "source": []
  }
 ],
 "metadata": {
  "kernelspec": {
   "display_name": "Python 3 (ipykernel)",
   "language": "python",
   "name": "python3"
  },
  "language_info": {
   "codemirror_mode": {
    "name": "ipython",
    "version": 3
   },
   "file_extension": ".py",
   "mimetype": "text/x-python",
   "name": "python",
   "nbconvert_exporter": "python",
   "pygments_lexer": "ipython3",
   "version": "3.10.16"
  }
 },
 "nbformat": 4,
 "nbformat_minor": 5
}
