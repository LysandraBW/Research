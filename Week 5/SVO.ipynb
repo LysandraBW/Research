{
 "cells": [
  {
   "cell_type": "code",
   "execution_count": 4,
   "id": "3e11ad5e-45e2-4e85-bcb4-792b9a735e7c",
   "metadata": {},
   "outputs": [],
   "source": [
    "from subject_verb_object_extract import findSVOs, nlp"
   ]
  },
  {
   "cell_type": "code",
   "execution_count": 9,
   "id": "8df9a673-26e6-4097-8142-0bb8885ce863",
   "metadata": {},
   "outputs": [
    {
     "name": "stdout",
     "output_type": "stream",
     "text": [
      "[('( 2 Presence of SPECIES_ANAX', 'reduced', 'the TRAIT of')]\n"
     ]
    }
   ],
   "source": [
    "tokens = nlp(\"(2) Presence of nonlethal SPECIES_ANAX reduced the TRAIT of SPECIES_TRAMEA on SPECIES_SMALL_GREEN_FROGS.\")\n",
    "svos = findSVOs(tokens)\n",
    "print(svos)"
   ]
  },
  {
   "cell_type": "code",
   "execution_count": 8,
   "id": "5a6fb781-6fd2-4e71-b68b-3c1244948365",
   "metadata": {},
   "outputs": [
    {
     "data": {
      "text/plain": [
       "'density reduction of the small tadpoles ( effect'"
      ]
     },
     "execution_count": 8,
     "metadata": {},
     "output_type": "execute_result"
    }
   ],
   "source": [
    "svos[1][0]"
   ]
  },
  {
   "cell_type": "code",
   "execution_count": null,
   "id": "685b4d78-e78e-4e88-9e48-9ea5b2b7a38a",
   "metadata": {},
   "outputs": [],
   "source": []
  }
 ],
 "metadata": {
  "kernelspec": {
   "display_name": "Python 3 (ipykernel)",
   "language": "python",
   "name": "python3"
  },
  "language_info": {
   "codemirror_mode": {
    "name": "ipython",
    "version": 3
   },
   "file_extension": ".py",
   "mimetype": "text/x-python",
   "name": "python",
   "nbconvert_exporter": "python",
   "pygments_lexer": "ipython3",
   "version": "3.12.7"
  }
 },
 "nbformat": 4,
 "nbformat_minor": 5
}
