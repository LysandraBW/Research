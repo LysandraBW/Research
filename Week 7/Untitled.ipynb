{
 "cells": [
  {
   "cell_type": "code",
   "execution_count": 12,
   "id": "cb91e0e4-6e5d-422a-a4a9-85aaedfde5fd",
   "metadata": {},
   "outputs": [],
   "source": [
    "import textacy\n",
    "text = '''Number of eggs per female was 15% higher when larvae had been reared on clipped trees compared to controls.\n",
    "'''\n"
   ]
  },
  {
   "cell_type": "code",
   "execution_count": 2,
   "id": "3be4627c-eca1-43ae-a94a-e11afed8d235",
   "metadata": {},
   "outputs": [],
   "source": [
    "import spacy"
   ]
  },
  {
   "cell_type": "code",
   "execution_count": 13,
   "id": "70bcbf26-87a2-489d-be30-54cc2f48bab4",
   "metadata": {},
   "outputs": [],
   "source": [
    "nlp = spacy.load(\"en_core_web_sm\")\n",
    "doc = nlp(text)\n",
    "# svo_triples = textacy.extract.subject_verb_object_triples(doc)"
   ]
  },
  {
   "cell_type": "code",
   "execution_count": 4,
   "id": "e3e16a44-b9ff-4257-831c-b3301dc4fdad",
   "metadata": {},
   "outputs": [
    {
     "name": "stdout",
     "output_type": "stream",
     "text": [
      "<generator object subject_verb_object_triples at 0x000001DE0CC56650>\n"
     ]
    }
   ],
   "source": [
    "print(svo_triples)"
   ]
  },
  {
   "cell_type": "code",
   "execution_count": 15,
   "id": "db432e27-267b-481e-a445-bb2f3005bf75",
   "metadata": {},
   "outputs": [
    {
     "name": "stdout",
     "output_type": "stream",
     "text": [
      "[]\n",
      "Number of eggs per female was 15% higher when larvae had been reared on clipped trees compared to controls.\n",
      "\n"
     ]
    }
   ],
   "source": [
    "svo_triples = list(textacy.extract.subject_verb_object_triples(doc))\n",
    "print(svo_triples)\n",
    "for triple in svo_triples:\n",
    "    print(triple)\n",
    "print(text)"
   ]
  },
  {
   "cell_type": "code",
   "execution_count": null,
   "id": "3e460aea-9c2c-4f5b-bca3-3317924c28a4",
   "metadata": {},
   "outputs": [],
   "source": []
  }
 ],
 "metadata": {
  "kernelspec": {
   "display_name": "Python 3 (ipykernel)",
   "language": "python",
   "name": "python3"
  },
  "language_info": {
   "codemirror_mode": {
    "name": "ipython",
    "version": 3
   },
   "file_extension": ".py",
   "mimetype": "text/x-python",
   "name": "python",
   "nbconvert_exporter": "python",
   "pygments_lexer": "ipython3",
   "version": "3.12.7"
  }
 },
 "nbformat": 4,
 "nbformat_minor": 5
}
