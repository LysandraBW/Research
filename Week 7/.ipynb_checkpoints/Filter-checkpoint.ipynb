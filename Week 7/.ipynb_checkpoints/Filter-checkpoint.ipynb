{
 "cells": [
  {
   "cell_type": "code",
   "execution_count": null,
   "id": "e0831023-8fac-499b-99c4-0cac5ac3e30f",
   "metadata": {
    "scrolled": true
   },
   "outputs": [],
   "source": [
    "import spacy\n",
    "import stanza\n",
    "import textacy"
   ]
  },
  {
   "cell_type": "code",
   "execution_count": null,
   "id": "cbf1eac9-55ea-4741-9cf2-c30650f51bdd",
   "metadata": {},
   "outputs": [],
   "source": [
    "from fastcoref import FCoref\n",
    "from spacy.matcher import Matcher"
   ]
  },
  {
   "cell_type": "code",
   "execution_count": null,
   "id": "d30280e0-7c00-4bac-a6b2-cd974c3357c9",
   "metadata": {},
   "outputs": [],
   "source": [
    "from taxonerd import TaxoNERD"
   ]
  },
  {
   "cell_type": "code",
   "execution_count": null,
   "id": "379019ad-9ca7-409c-a9f5-52e08cbc36a1",
   "metadata": {
    "scrolled": true
   },
   "outputs": [],
   "source": [
    "!pip install https://github.com/nleguillarme/taxonerd/releases/download/v1.5.4/en_ner_eco_md-1.1.0.tar.gz\n",
    "!pip install https://github.com/nleguillarme/taxonerd/releases/download/v1.5.4/en_ner_eco_biobert-1.1.0.tar.gz\n",
    "# !pip install https://github.com/nleguillarme/taxonerd/releases/download/v1.5.4/en_ner_eco_md_weak-1.1.0.tar.gz\n",
    "# !pip install https://github.com/nleguillarme/taxonerd/releases/download/v1.5.4/en_ner_eco_biobert_weak-1.1.0.tar.gz"
   ]
  },
  {
   "cell_type": "code",
   "execution_count": 16,
   "id": "b260c213-d246-4fbe-b826-c37c25ba8dec",
   "metadata": {},
   "outputs": [
    {
     "name": "stdout",
     "output_type": "stream",
     "text": [
      "<spacy.matcher.dependencymatcher.DependencyMatcher object at 0x000002404A54FA00>\n",
      "Sentence: The dog, whose tail wagged excitedly, was greeted warmly by his owner.\n",
      "\tMatch 14499690083660312615 - Pattern 1\n",
      "\t\towned: tail\n",
      "\t\towner: whose\n",
      "\n",
      "\tMatch 14499690083660312615 - Pattern 1\n",
      "\t\towned: owner\n",
      "\t\towner: his\n",
      "\n",
      "\n",
      "Sentence: Because the children's toys were scattered everywhere, their mother asked them to tidy up.\n",
      "\tMatch 14499690083660312615 - Pattern 1\n",
      "\t\towned: toys\n",
      "\t\towner: children\n",
      "\n",
      "\tMatch 14499690083660312615 - Pattern 1\n",
      "\t\towned: mother\n",
      "\t\towner: their\n",
      "\n",
      "\n",
      "Sentence: While I was at my friend's house, I saw his collection of vintage cars.\n",
      "\tMatch 14499690083660312615 - Pattern 1\n",
      "\t\towned: friend\n",
      "\t\towner: my\n",
      "\n",
      "\tMatch 14499690083660312615 - Pattern 1\n",
      "\t\towned: house\n",
      "\t\towner: friend\n",
      "\n",
      "\tMatch 14499690083660312615 - Pattern 1\n",
      "\t\towned: collection\n",
      "\t\towner: his\n",
      "\n",
      "\tMatch 14621589392117008497 - Pattern 2\n",
      "\t\towned: collection\n",
      "\t\tadp: of\n",
      "\t\towner: cars\n",
      "\n",
      "\tMatch 12054268835912785357 - Pattern 3\n",
      "\t\tverb: saw\n",
      "\t\towner: I\n",
      "\t\towned: collection\n",
      "\n",
      "\n",
      "Sentence: The artist, whose paintings were on display, received a standing ovation.\n",
      "\tMatch 14499690083660312615 - Pattern 1\n",
      "\t\towned: paintings\n",
      "\t\towner: whose\n",
      "\n",
      "\n",
      "Sentence: If you are looking for the book, please check my sister's desk.\n",
      "\tMatch 14499690083660312615 - Pattern 1\n",
      "\t\towned: sister\n",
      "\t\towner: my\n",
      "\n",
      "\tMatch 14499690083660312615 - Pattern 1\n",
      "\t\towned: desk\n",
      "\t\towner: sister\n",
      "\n",
      "\n",
      "Sentence: The man whose car was stolen called the police immediately.\n",
      "\tMatch 14499690083660312615 - Pattern 1\n",
      "\t\towned: car\n",
      "\t\towner: whose\n",
      "\n",
      "\n",
      "Sentence: Although the company's profits had declined, its stock price remained stable.\n",
      "\tMatch 14499690083660312615 - Pattern 1\n",
      "\t\towned: profits\n",
      "\t\towner: company\n",
      "\n",
      "\tMatch 14499690083660312615 - Pattern 1\n",
      "\t\towned: price\n",
      "\t\towner: its\n",
      "\n",
      "\n",
      "Sentence: Maria's and Jose's new car, a sleek sedan, arrived this morning, much to their delight.\n",
      "\tMatch 14499690083660312615 - Pattern 1\n",
      "\t\towned: car\n",
      "\t\towner: Jose\n",
      "\n",
      "\tMatch 14499690083660312615 - Pattern 1\n",
      "\t\towned: delight\n",
      "\t\towner: their\n",
      "\n",
      "\n",
      "Sentence: The Smiths' house, with its sprawling garden, always seemed like a haven of peace.\n",
      "\tMatch 14499690083660312615 - Pattern 1\n",
      "\t\towned: house\n",
      "\t\towner: Smiths\n",
      "\n",
      "\tMatch 14499690083660312615 - Pattern 1\n",
      "\t\towned: garden\n",
      "\t\towner: its\n",
      "\n",
      "\tMatch 14621589392117008497 - Pattern 2\n",
      "\t\towned: haven\n",
      "\t\tadp: of\n",
      "\t\towner: peace\n",
      "\n",
      "\tMatch 17237321022846380202 - Pattern 4\n",
      "\t\tverb: seemed\n",
      "\t\towned: house\n",
      "\t\tadp: with\n",
      "\t\towner: garden\n",
      "\n",
      "\tMatch 17237321022846380202 - Pattern 4\n",
      "\t\tverb: seemed\n",
      "\t\towned: house\n",
      "\t\tadp: like\n",
      "\t\towner: haven\n",
      "\n",
      "\n",
      "Sentence: After a long and arduous journey, the Martinezes' family, including their children and their pets, finally reached their destination, a cozy cabin nestled in the mountains.\n",
      "\tMatch 14499690083660312615 - Pattern 1\n",
      "\t\towned: family\n",
      "\t\towner: Martinezes\n",
      "\n",
      "\tMatch 14499690083660312615 - Pattern 1\n",
      "\t\towned: children\n",
      "\t\towner: their\n",
      "\n",
      "\tMatch 14499690083660312615 - Pattern 1\n",
      "\t\towned: pets\n",
      "\t\towner: their\n",
      "\n",
      "\tMatch 14499690083660312615 - Pattern 1\n",
      "\t\towned: destination\n",
      "\t\towner: their\n",
      "\n",
      "\tMatch 17237321022846380202 - Pattern 4\n",
      "\t\tverb: reached\n",
      "\t\towned: family\n",
      "\t\tadp: After\n",
      "\t\towner: journey\n",
      "\n",
      "\n"
     ]
    }
   ],
   "source": [
    "%run Possession2.ipynb"
   ]
  },
  {
   "cell_type": "code",
   "execution_count": null,
   "id": "c9a61528-e53a-4119-835a-163798b240dc",
   "metadata": {},
   "outputs": [],
   "source": [
    "abstract = \"This investigation examines the role of trait-mediated indirect interactions in a simple aquatic food web. We conducted the experiments in cattle watering tanks in order to establish whether competitive and predator-prey interactions between two species are affected by other species in the system; i.e., are pairwise interaction strengths affected by the background species assemblage? We examined the survival and growth response of small bullfrog (Rana catesbeiana) and small green frog (Rana clamitans) tadpoles in the presence and absence of a competitor (large bullfrogs), the lethal presence of the larval odonate predator Tramea lacerata,and the nonlethal (caged) presence of the larval odonate predators Anax junius and Anax longipes. We demonstrate that large bullfrog competitors and caged Anax affect traits (foraging activity level) of small bullfrog and small green frog tadpoles and that these changes in traits, in turn, affect interactions of the small tadpole species with each other and with the other species. In particular, the following four trait- mediated indirect interactions were evident: (1) Presence of large bullfrog competitors increased the predation rate of Trameaon small green frogs and small bullfrogs. (2) Presence of nonlethal Anax reduced the predation rate of Tramea on small green frogs. (3) Presence of nonlethal Anax increased the competitive advantage of bullfrogs over green frogs. (4) Presence of nonlethal Anax facilitated midge invasion of the experimental units. The pro- posed mechanisms (changes in small tadpole activity) involved in these trait-mediated indirect interactions were supported by observational data on tadpole activity and resource levels in the experimental units, and in laboratory experiments examining tadpole activity responses to predators. The occurrence of strong trait-mediated indirect interactions in this simple food web underscores the potential importance of such interactions in animal communities.\""
   ]
  },
  {
   "cell_type": "code",
   "execution_count": null,
   "id": "5ae88ecf-8747-4da8-8a44-82f1f5bd5d0e",
   "metadata": {},
   "outputs": [],
   "source": [
    "def clean(abstract):\n",
    "    return abstract"
   ]
  },
  {
   "cell_type": "code",
   "execution_count": null,
   "id": "3a2c9dde-f93a-4566-8994-7ecf06fa32ec",
   "metadata": {},
   "outputs": [],
   "source": [
    "sp_nlp = spacy.load(\"en_core_web_sm\")\n",
    "st_nlp = stanza.Pipeline(lang='en', processors='tokenize')"
   ]
  },
  {
   "cell_type": "code",
   "execution_count": null,
   "id": "10d5165e-1872-4def-aeb8-ba05406e0f87",
   "metadata": {},
   "outputs": [],
   "source": [
    "fcoref = FCoref(enable_progress_bar=False)"
   ]
  },
  {
   "cell_type": "code",
   "execution_count": null,
   "id": "f97cd3b7-46ec-450b-8ce2-34de2f5a366f",
   "metadata": {},
   "outputs": [],
   "source": [
    "taxonerd = TaxoNERD()\n",
    "tn_nlp = taxonerd.load(model=\"en_ner_eco_biobert\")"
   ]
  },
  {
   "cell_type": "code",
   "execution_count": null,
   "id": "f9d138cf-c24b-4c63-af12-2acb807e91e1",
   "metadata": {},
   "outputs": [],
   "source": [
    "# Retrieves the token at the given index.\n",
    "# should be mapped to avoid having to do this for loop multiple times rather than a simple lookup\n",
    "def token_at_char_index(sp_doc, index):\n",
    "    for token in sp_doc:\n",
    "        if token.idx == index:\n",
    "            return token\n",
    "    return None"
   ]
  },
  {
   "cell_type": "code",
   "execution_count": 43,
   "id": "20d73cde-d516-4150-912a-80e468f6374b",
   "metadata": {},
   "outputs": [],
   "source": [
    "# Retrieves the clusters for a list of words.\n",
    "def get_clusters_and_noun_chunks(sp_doc, tokens, clusters_mapped, noun_chunks_mapped, possessions_mapped):\n",
    "    token_indices = [token.idx for token in tokens]\n",
    "    all_clusters = []\n",
    "    all_noun_chunks = []\n",
    "    all_possessions = []\n",
    "    for token_index in token_indices:\n",
    "        # Clusters\n",
    "        if token_index in clusters_mapped:\n",
    "            for cluster_token_index in clusters_mapped[token_index]:\n",
    "                all_clusters.append(token_at_char_index(sp_doc, cluster_token_index[0]))\n",
    "        # Noun Chunks\n",
    "        if token_index in noun_chunks_mapped:\n",
    "            for token in noun_chunks_mapped[token_index]:\n",
    "                all_noun_chunks.append(token)\n",
    "        # Possessions\n",
    "        if token_index in possessions_mapped:\n",
    "            for token in possessions_mapped[token_index]:\n",
    "                all_possessions.append(token)\n",
    "    return all_clusters, all_noun_chunks, all_possessions"
   ]
  },
  {
   "cell_type": "code",
   "execution_count": 55,
   "id": "e8a2ba0f-b8a3-4643-af81-e4c81854d3a3",
   "metadata": {},
   "outputs": [],
   "source": [
    "def species_or_trait(sp_doc, tn_doc, words, clusters, noun_chunks, possessions):\n",
    "    # print(f\"Words: {words}\\nClusters: {clusters}\\nNouns: {noun_chunks}\")\n",
    "    species_indices = []\n",
    "    for species_span in tn_doc.ents:\n",
    "        for species in species_span:\n",
    "            species_indices.append(species.idx)\n",
    "    for token in [*words, *clusters, *noun_chunks, *possessions]:\n",
    "        if token.idx in species_indices:\n",
    "            return True\n",
    "    return False"
   ]
  },
  {
   "cell_type": "code",
   "execution_count": 56,
   "id": "32778b98-cb93-4a97-b97f-a0f9b8af2c33",
   "metadata": {},
   "outputs": [],
   "source": [
    "def has_tmim_example(abstract):\n",
    "    abstract = clean(abstract)\n",
    "    \n",
    "    tn_doc = tn_nlp(abstract)\n",
    "    # print(tn_doc.ents)\n",
    "    \n",
    "    sp_doc = sp_nlp(abstract)\n",
    "    coreferences = fcoref.predict(texts=[abstract])\n",
    "    \n",
    "    # print(f\"Clusters: {[sentence.get_clusters(as_strings=True) for sentence in fcoref.predict(texts=[abstract])]}\\n\")\n",
    "    clusters_mapped = {}\n",
    "    for sentence in coreferences:\n",
    "        clusters = sentence.get_clusters(as_strings=False)\n",
    "        for cluster in clusters:\n",
    "            for text in cluster:\n",
    "                clusters_mapped[text[0]] = cluster\n",
    "    # print(f\"Clusters Mapped: {clusters_mapped}\\n\")\n",
    "    \n",
    "    noun_chunks = sp_doc.noun_chunks\n",
    "    # print(f\"Noun Chunks: {noun_chunks}\")\n",
    "    noun_chunks_mapped = {}\n",
    "    for noun_chunk in noun_chunks:\n",
    "        # print(noun_chunk)\n",
    "        for word in noun_chunk:\n",
    "            noun_chunks_mapped[word.idx] = noun_chunk\n",
    "    # print(f\"Noun Chunks Mapped: {noun_chunks_mapped}\")\n",
    "\n",
    "    matcher = DependencyMatcher(sp_nlp.vocab)\n",
    "    for pattern_id, pattern in patterns.items():\n",
    "        matcher.add(pattern_id, [pattern])\n",
    "    possessions = matcher(sp_doc)\n",
    "    possessions_mapped = {}\n",
    "    for match_id, token_ids in possessions:\n",
    "        pattern_id = sp_nlp.vocab.strings[match_id]\n",
    "        # print(f\"\\tMatch {match_id} - Pattern {pattern_id[-1]}\")\n",
    "\n",
    "        owner = None\n",
    "        owned = None\n",
    "        for i in range(len(token_ids)):\n",
    "            right_id = patterns[pattern_id][i]['RIGHT_ID']\n",
    "            if right_id == OWNER:\n",
    "                owner = sp_doc[token_ids[i]]\n",
    "            if right_id == OWNED:\n",
    "                owned = sp_doc[token_ids[i]]\n",
    "            # print(f\"\\t\\t{patterns[pattern_id][i]['RIGHT_ID']}: {sp_doc[token_ids[i]].text}\")\n",
    "        if owner.idx not in possessions_mapped:\n",
    "            possessions_mapped[owner.idx] = []\n",
    "        possessions_mapped[owner.idx].append(owned)\n",
    "\n",
    "        if owned.idx not in possessions_mapped:\n",
    "            possessions_mapped[owned.idx] = []\n",
    "        possessions_mapped[owned.idx].append(owner)\n",
    "        # print()\n",
    "    # print()\n",
    "    # print(possessions_mapped)\n",
    "\n",
    "    found_tmim_example = False\n",
    "    for sentence in sp_doc.sents:\n",
    "        print(f\"Sentence: {sentence.text}\")\n",
    "        svo_triples = textacy.extract.subject_verb_object_triples(sp_doc)\n",
    "        for svo_triple in svo_triples:\n",
    "            # print(svo_triple)\n",
    "            subject_clusters, subject_noun_chunks, subject_possessions = get_clusters_and_noun_chunks(sp_doc, svo_triple.subject, clusters_mapped, noun_chunks_mapped, possessions_mapped)\n",
    "            valid_sub = species_or_trait(sp_doc, tn_doc, svo_triple.subject, subject_clusters, subject_noun_chunks, subject_possessions)\n",
    "    \n",
    "            object_clusters, object_noun_chunks, object_possessions = get_clusters_and_noun_chunks(sp_doc, svo_triple.object, clusters_mapped, noun_chunks_mapped, possessions_mapped)\n",
    "            valid_obj = species_or_trait(sp_doc, tn_doc, svo_triple.object, object_clusters, object_noun_chunks, object_possessions)\n",
    "\n",
    "            if valid_sub and valid_obj:\n",
    "                print(f\"\\tFOUND: {sentence.text}\")\n",
    "                found_tmim_example = True\n",
    "    return found_tmim_example"
   ]
  },
  {
   "cell_type": "code",
   "execution_count": 57,
   "id": "473a4613-0ad8-4d4f-8504-c6b60352170c",
   "metadata": {},
   "outputs": [
    {
     "name": "stderr",
     "output_type": "stream",
     "text": [
      "04/06/2025 18:30:48 - INFO - \t Tokenize 1 inputs...\n",
      "Map: 100%|██████████| 1/1 [00:00<00:00, 18.33 examples/s]\n",
      "04/06/2025 18:30:48 - INFO - \t ***** Running Inference on 1 texts *****\n"
     ]
    },
    {
     "name": "stdout",
     "output_type": "stream",
     "text": [
      "Sentence: This investigation examines the role of trait-mediated indirect interactions in a simple aquatic food web.\n",
      "\tFOUND: This investigation examines the role of trait-mediated indirect interactions in a simple aquatic food web.\n",
      "\tFOUND: This investigation examines the role of trait-mediated indirect interactions in a simple aquatic food web.\n",
      "Sentence: We conducted the experiments in cattle watering tanks in order to establish whether competitive and predator-prey interactions between two species are affected by other species in the system; i.e., are pairwise interaction strengths affected by the background species assemblage?\n",
      "\tFOUND: We conducted the experiments in cattle watering tanks in order to establish whether competitive and predator-prey interactions between two species are affected by other species in the system; i.e., are pairwise interaction strengths affected by the background species assemblage?\n",
      "\tFOUND: We conducted the experiments in cattle watering tanks in order to establish whether competitive and predator-prey interactions between two species are affected by other species in the system; i.e., are pairwise interaction strengths affected by the background species assemblage?\n",
      "Sentence: We examined the survival and growth response of small bullfrog (Rana catesbeiana) and small green frog (Rana clamitans) tadpoles in the presence and absence of a competitor (large bullfrogs), the lethal presence of the larval odonate predator Tramea lacerata,and the nonlethal (caged) presence of the larval odonate predators Anax junius and Anax longipes.\n",
      "\tFOUND: We examined the survival and growth response of small bullfrog (Rana catesbeiana) and small green frog (Rana clamitans) tadpoles in the presence and absence of a competitor (large bullfrogs), the lethal presence of the larval odonate predator Tramea lacerata,and the nonlethal (caged) presence of the larval odonate predators Anax junius and Anax longipes.\n",
      "\tFOUND: We examined the survival and growth response of small bullfrog (Rana catesbeiana) and small green frog (Rana clamitans) tadpoles in the presence and absence of a competitor (large bullfrogs), the lethal presence of the larval odonate predator Tramea lacerata,and the nonlethal (caged) presence of the larval odonate predators Anax junius and Anax longipes.\n",
      "Sentence: We demonstrate that large bullfrog competitors and caged Anax affect traits (foraging activity level) of small bullfrog and small green frog tadpoles and that these changes in traits, in turn, affect interactions of the small tadpole species with each other and with the other species.\n",
      "\tFOUND: We demonstrate that large bullfrog competitors and caged Anax affect traits (foraging activity level) of small bullfrog and small green frog tadpoles and that these changes in traits, in turn, affect interactions of the small tadpole species with each other and with the other species.\n",
      "\tFOUND: We demonstrate that large bullfrog competitors and caged Anax affect traits (foraging activity level) of small bullfrog and small green frog tadpoles and that these changes in traits, in turn, affect interactions of the small tadpole species with each other and with the other species.\n",
      "Sentence: In particular, the following four trait- mediated indirect interactions were evident: (1) Presence of large bullfrog competitors increased the predation rate of Trameaon small green frogs and small bullfrogs.\n",
      "\tFOUND: In particular, the following four trait- mediated indirect interactions were evident: (1) Presence of large bullfrog competitors increased the predation rate of Trameaon small green frogs and small bullfrogs.\n",
      "\tFOUND: In particular, the following four trait- mediated indirect interactions were evident: (1) Presence of large bullfrog competitors increased the predation rate of Trameaon small green frogs and small bullfrogs.\n",
      "Sentence: (2) Presence of nonlethal Anax reduced the predation rate of Tramea on small green frogs.\n",
      "\tFOUND: (2) Presence of nonlethal Anax reduced the predation rate of Tramea on small green frogs.\n",
      "\tFOUND: (2) Presence of nonlethal Anax reduced the predation rate of Tramea on small green frogs.\n",
      "Sentence: (3) Presence of nonlethal Anax increased the competitive advantage of bullfrogs over green frogs.\n",
      "\tFOUND: (3) Presence of nonlethal Anax increased the competitive advantage of bullfrogs over green frogs.\n",
      "\tFOUND: (3) Presence of nonlethal Anax increased the competitive advantage of bullfrogs over green frogs.\n",
      "Sentence: (4) Presence of nonlethal Anax facilitated midge invasion of the experimental units.\n",
      "\tFOUND: (4) Presence of nonlethal Anax facilitated midge invasion of the experimental units.\n",
      "\tFOUND: (4) Presence of nonlethal Anax facilitated midge invasion of the experimental units.\n",
      "Sentence: The pro- posed mechanisms (changes in small tadpole activity) involved in these trait-mediated indirect interactions were supported by observational data on tadpole activity and resource levels in the experimental units, and in laboratory experiments examining tadpole activity responses to predators.\n",
      "\tFOUND: The pro- posed mechanisms (changes in small tadpole activity) involved in these trait-mediated indirect interactions were supported by observational data on tadpole activity and resource levels in the experimental units, and in laboratory experiments examining tadpole activity responses to predators.\n",
      "\tFOUND: The pro- posed mechanisms (changes in small tadpole activity) involved in these trait-mediated indirect interactions were supported by observational data on tadpole activity and resource levels in the experimental units, and in laboratory experiments examining tadpole activity responses to predators.\n",
      "Sentence: The occurrence of strong trait-mediated indirect interactions in this simple food web underscores the potential importance of such interactions in animal communities.\n",
      "\tFOUND: The occurrence of strong trait-mediated indirect interactions in this simple food web underscores the potential importance of such interactions in animal communities.\n",
      "\tFOUND: The occurrence of strong trait-mediated indirect interactions in this simple food web underscores the potential importance of such interactions in animal communities.\n"
     ]
    },
    {
     "data": {
      "text/plain": [
       "True"
      ]
     },
     "execution_count": 57,
     "metadata": {},
     "output_type": "execute_result"
    }
   ],
   "source": [
    "has_tmim_example(abstract)"
   ]
  },
  {
   "cell_type": "code",
   "execution_count": null,
   "id": "1e4e1557-7473-4aae-8d89-69d74b6ba1da",
   "metadata": {},
   "outputs": [],
   "source": []
  }
 ],
 "metadata": {
  "kernelspec": {
   "display_name": "Python 3 (ipykernel)",
   "language": "python",
   "name": "python3"
  },
  "language_info": {
   "codemirror_mode": {
    "name": "ipython",
    "version": 3
   },
   "file_extension": ".py",
   "mimetype": "text/x-python",
   "name": "python",
   "nbconvert_exporter": "python",
   "pygments_lexer": "ipython3",
   "version": "3.10.16"
  }
 },
 "nbformat": 4,
 "nbformat_minor": 5
}
