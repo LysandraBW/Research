{
 "cells": [
  {
   "cell_type": "code",
   "execution_count": null,
   "id": "7aeb7574-d3cd-4298-bb15-bd3dbbf05168",
   "metadata": {},
   "outputs": [],
   "source": [
    "import numpy as np\n",
    "import pandas as pd\n",
    "import spacy\n",
    "from sklearn.model_selection import train_test_split, GridSearchCV\n",
    "from sklearn.feature_extraction.text import TfidfVectorizer\n",
    "from sklearn.naive_bayes import MultinomialNB\n",
    "from sklearn.metrics import f1_score\n",
    "from sklearn.pipeline import Pipeline\n",
    "import matplotlib.pyplot as plt\n",
    "from sklearn.metrics import confusion_matrix, ConfusionMatrixDisplay"
   ]
  },
  {
   "cell_type": "code",
   "execution_count": null,
   "id": "698b7118-c603-4288-85be-087ca6fb7ad3",
   "metadata": {},
   "outputs": [],
   "source": [
    "df = pd.read_excel(\"Data.xlsx\")"
   ]
  },
  {
   "cell_type": "code",
   "execution_count": null,
   "id": "5bf09e00-962f-4ca8-b131-41bdf0393ccd",
   "metadata": {},
   "outputs": [],
   "source": [
    "train_x, val_x, train_y, val_y = train_test_split(df[\"Text\"], df[\"Class\"], train_size=0.8, random_state=1)\n",
    "print(f\"Training Data Size: {train_x.shape[0]}\")\n",
    "print(f\"Validation Data Size: {val_x.shape[0]}\")"
   ]
  },
  {
   "cell_type": "code",
   "execution_count": null,
   "id": "9c74b220-ec6d-43c2-adb9-5cf3e22da8cb",
   "metadata": {},
   "outputs": [],
   "source": [
    "nlp = spacy.load(\"en_core_web_sm\")"
   ]
  },
  {
   "cell_type": "code",
   "execution_count": null,
   "id": "cb36832b-13e7-4a01-b65b-61d842dd2ed4",
   "metadata": {},
   "outputs": [],
   "source": [
    "exclude = [\"ner\", \"parser\"]\n",
    "\n",
    "def tokenizer(doc):\n",
    "   with nlp.disable_pipes(*exclude):\n",
    "       return [t.lemma_ for t in nlp(doc) if not t.is_punct and not t.is_space and not t.is_stop and t.is_alpha]"
   ]
  },
  {
   "cell_type": "code",
   "execution_count": null,
   "id": "aec1aede-545a-445d-826b-ddcdb8b0ee5d",
   "metadata": {},
   "outputs": [],
   "source": [
    "vectorizer = TfidfVectorizer(tokenizer=tokenizer, token_pattern=None)\n",
    "train_vectors = vectorizer.fit_transform(train_x)"
   ]
  },
  {
   "cell_type": "code",
   "execution_count": null,
   "id": "cb2134c5-7e14-4b5c-b4fd-9fb7d5bd073c",
   "metadata": {},
   "outputs": [],
   "source": [
    "naive_bayes = MultinomialNB()\n",
    "naive_bayes.fit(train_vectors, train_y)\n",
    "naive_bayes.get_params()"
   ]
  },
  {
   "cell_type": "code",
   "execution_count": null,
   "id": "83ea45d8-3ca7-4378-90fb-028e69cebe63",
   "metadata": {},
   "outputs": [],
   "source": [
    "train_preds = naive_bayes.predict(train_vectors)\n",
    "print(\"F1 Score on Initial Training Set: {}\".format(f1_score(train_y, train_preds, average=\"macro\")))"
   ]
  },
  {
   "cell_type": "code",
   "execution_count": null,
   "id": "743eacd7-0fd0-4448-9cfc-846569873089",
   "metadata": {},
   "outputs": [],
   "source": [
    "val_vectors = vectorizer.transform(val_x)\n",
    "val_preds = naive_bayes.predict(val_vectors)\n",
    "print(\"F1 Score on Initial Validation Set: {}\".format(f1_score(val_y, val_preds, average=\"macro\")))"
   ]
  },
  {
   "cell_type": "code",
   "execution_count": null,
   "id": "dc8684ee-9e70-4a07-bb16-8435c63fb4d4",
   "metadata": {},
   "outputs": [],
   "source": [
    "fig, ax = plt.subplots(figsize=(15,15))\n",
    "disp = ConfusionMatrixDisplay.from_estimator(naive_bayes, val_vectors, val_y, normalize=\"true\", xticks_rotation='vertical', ax=ax)"
   ]
  },
  {
   "cell_type": "code",
   "execution_count": null,
   "id": "685d8b6b-d342-48ed-afb5-d48c4d64e503",
   "metadata": {},
   "outputs": [],
   "source": [
    "params = {'alpha': [0.01, 0.1, 0.5, 1.0, 10.0,]}\n",
    "\n",
    "grid_search = GridSearchCV(MultinomialNB(), param_grid=params, scoring='f1_macro', n_jobs=-1, cv=2, verbose=5)\n",
    "grid_search.fit(train_vectors, train_y)"
   ]
  },
  {
   "cell_type": "code",
   "execution_count": null,
   "id": "3e7ba9bd-4239-4431-b4ac-cb953260a9ec",
   "metadata": {},
   "outputs": [],
   "source": [
    "grid_search.best_params_\n",
    "best_naive_bayes = grid_search.best_estimator_\n",
    "val_preds = best_naive_bayes.predict(val_vectors)\n",
    "print('Validation F1 Score: {}'.format(f1_score(val_y, val_preds, average='macro')))"
   ]
  },
  {
   "cell_type": "code",
   "execution_count": null,
   "id": "b85162a0-8fe3-40f6-9d80-84e8553a8071",
   "metadata": {},
   "outputs": [],
   "source": [
    "text_classifier = Pipeline([\n",
    "  ('vectorizer', TfidfVectorizer(tokenizer=tokenizer, token_pattern=None)),\n",
    "  ('classifier', MultinomialNB(alpha=0.01))\n",
    "]).fit(train_x, train_y)\n",
    "\n",
    "def classify_text(doc):\n",
    "    probabilities = text_classifier.predict_proba([doc]).flatten()\n",
    "    label = np.argmax(probabilities)\n",
    "    return (label, probabilities[label])"
   ]
  },
  {
   "cell_type": "code",
   "execution_count": null,
   "id": "4b15a3d7-35a1-4d6a-b59a-5326fdb767c5",
   "metadata": {},
   "outputs": [],
   "source": [
    "classify_text('Predators be eating')"
   ]
  },
  {
   "cell_type": "code",
   "execution_count": null,
   "id": "6816193e-41ca-49a4-88f7-9084cf5c6cef",
   "metadata": {},
   "outputs": [],
   "source": []
  }
 ],
 "metadata": {
  "kernelspec": {
   "display_name": "Python 3 (ipykernel)",
   "language": "python",
   "name": "python3"
  },
  "language_info": {
   "codemirror_mode": {
    "name": "ipython",
    "version": 3
   },
   "file_extension": ".py",
   "mimetype": "text/x-python",
   "name": "python",
   "nbconvert_exporter": "python",
   "pygments_lexer": "ipython3",
   "version": "3.12.4"
  }
 },
 "nbformat": 4,
 "nbformat_minor": 5
}
