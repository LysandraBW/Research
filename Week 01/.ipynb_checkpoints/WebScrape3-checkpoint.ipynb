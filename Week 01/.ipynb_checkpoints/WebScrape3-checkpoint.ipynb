{
 "cells": [
  {
   "cell_type": "code",
   "execution_count": null,
   "id": "9bbda2d2-eb9b-4a0f-a2a0-0d5f6c47daba",
   "metadata": {},
   "outputs": [],
   "source": [
    "import os\n",
    "import csv\n",
    "import time\n",
    "import json\n",
    "import math\n",
    "import glob\n",
    "import random\n",
    "from selenium import webdriver\n",
    "from selenium.webdriver.common.by import By\n",
    "from selenium.webdriver.chrome.options import Options\n",
    "from selenium.webdriver.chrome.service import Service\n",
    "from selenium.webdriver.support.wait import WebDriverWait\n",
    "from selenium.webdriver.support import expected_conditions as EC\n",
    "from selenium.webdriver.common.action_chains import ActionChains\n",
    "from fake_useragent import UserAgent"
   ]
  },
  {
   "cell_type": "code",
   "execution_count": null,
   "id": "de604b5c-bac7-4b82-a948-45cebc5e45e1",
   "metadata": {},
   "outputs": [],
   "source": [
    "options = webdriver.ChromeOptions()\n",
    "options.add_argument(\"--no-sandbox\")\n",
    "options.add_argument(\"--disable-dev-shm-usage\")\n",
    "options.add_argument(\"user-data-dir=C:\\\\Users\\\\lbeln\\\\AppData\\\\Local\\\\Google\\\\Chrome\\\\User Data\")\n",
    "options.add_argument(\"--profile-directory=Profile 1\")\n",
    "options.add_argument(f\"--user-agent={UserAgent().random}\")\n",
    "\n",
    "driver = webdriver.Chrome(options=options)\n",
    "driver.get(\"https://www.google.com\")"
   ]
  },
  {
   "cell_type": "code",
   "execution_count": null,
   "id": "ea0ab328-f593-4004-95c5-2cf437cdcef0",
   "metadata": {},
   "outputs": [],
   "source": [
    "def format_search(q):\n",
    "    return '%20'.join(q.split())"
   ]
  },
  {
   "cell_type": "code",
   "execution_count": null,
   "id": "ba0d4a3f-6a86-4e9b-9c1a-91303ec6d965",
   "metadata": {},
   "outputs": [],
   "source": [
    "def click_element(locator, number_clicks=1, base_wait_time=5, random_wait_time=5):\n",
    "    for click in range(0, number_clicks):\n",
    "        time.sleep(base_wait_time + random.randrange(0, random_wait_time))\n",
    "        try:\n",
    "            element = WebDriverWait(driver, 5).until(\n",
    "                EC.presence_of_element_located(locator)\n",
    "            )\n",
    "            actions = ActionChains(driver)\n",
    "            actions.move_to_element(element)\n",
    "            actions.click(element)\n",
    "            actions.perform()\n",
    "        except:\n",
    "            break\n",
    "    time.sleep(base_wait_time + random.randrange(0, random_wait_time))"
   ]
  },
  {
   "cell_type": "code",
   "execution_count": null,
   "id": "09224c22-ac99-4b87-8606-9098fc5e766f",
   "metadata": {},
   "outputs": [],
   "source": [
    "def click_element_while(locator):\n",
    "    while True:\n",
    "        time.sleep(random.randrange(0, 20))\n",
    "        try:\n",
    "            element = WebDriverWait(driver, 5).until(\n",
    "                EC.presence_of_element_located(locator)\n",
    "            )\n",
    "            actions = ActionChains(driver)\n",
    "            actions.move_to_element(element)\n",
    "            actions.click(element)\n",
    "            actions.perform()\n",
    "        except:\n",
    "            break\n",
    "        time.sleep(random.randrange(0, 20))"
   ]
  },
  {
   "cell_type": "code",
   "execution_count": null,
   "id": "c91ba52d-0d00-43ca-9930-987cf2901769",
   "metadata": {},
   "outputs": [],
   "source": [
    "def element_exists(locator1, locator2):\n",
    "    try:\n",
    "        element = driver.find_element(locator1, locator2)\n",
    "        return element is not None\n",
    "    except:\n",
    "        return False"
   ]
  },
  {
   "cell_type": "code",
   "execution_count": null,
   "id": "febd4a69-e166-4caa-9aaa-3b30c1929f71",
   "metadata": {},
   "outputs": [],
   "source": [
    "class Colors:\n",
    "    HEADER = '\\033[95m'\n",
    "    OKBLUE = '\\033[94m'\n",
    "    OKCYAN = '\\033[96m'\n",
    "    OKGREEN = '\\033[92m'\n",
    "    WARNING = '\\033[93m'\n",
    "    FAIL = '\\033[91m'\n",
    "    ENDC = '\\033[0m'\n",
    "    BOLD = '\\033[1m'\n",
    "    UNDERLINE = '\\033[4m'"
   ]
  },
  {
   "cell_type": "code",
   "execution_count": null,
   "id": "dd6e4508-085b-4531-996b-7c7c4b153f7e",
   "metadata": {},
   "outputs": [],
   "source": [
    "data = {}\n",
    "hrefs = {}\n",
    "visited = []"
   ]
  },
  {
   "cell_type": "code",
   "execution_count": null,
   "id": "f213e521-09bd-48b9-8eab-fda62fee3741",
   "metadata": {},
   "outputs": [],
   "source": [
    "def store_search_results():\n",
    "    titles = []\n",
    "    search_results = driver.find_elements(By.XPATH, \"//a[@data-testid='search-result']\")\n",
    "    if search_results is None:\n",
    "        return titles\n",
    "    for search_result in search_results:\n",
    "        href = search_result.get_attribute(\"href\")\n",
    "        title = search_result.find_element(By.TAG_NAME, \"h2\").text\n",
    "        hrefs[title] = href\n",
    "        titles.append(title)\n",
    "    return titles"
   ]
  },
  {
   "cell_type": "code",
   "execution_count": null,
   "id": "c74e6ad9-0d5f-486c-ba05-d6a88e89e406",
   "metadata": {},
   "outputs": [],
   "source": [
    "def next_file_number():\n",
    "    os.chdir(\"./\")\n",
    "    max_number = -1\n",
    "    prefix_length = len(\"WebScrapingData\")\n",
    "    for file in glob.glob(\"WebScrapingData*.csv\"):\n",
    "        file_number = int(file[prefix_length:-4])\n",
    "        if file_number > max_number:\n",
    "            max_number = file_number\n",
    "    return max_number + 1\n",
    "file_number = next_file_number()\n",
    "data_file_name = f\"./WebScrapingData{file_number}.csv\"\n",
    "dump_file_name = f\"./WebScrapingDump{file_number}.txt\""
   ]
  },
  {
   "cell_type": "code",
   "execution_count": null,
   "id": "9fe0dc63-1418-4b7a-8cba-6ee5776394d7",
   "metadata": {},
   "outputs": [],
   "source": [
    "def save_data():\n",
    "    with open(data_file_name, 'w', newline='', encoding='utf-8') as file:\n",
    "        fieldnames = ['Title', 'Abstract', 'Links', 'Citations', 'References']\n",
    "        writer = csv.DictWriter(file, fieldnames=fieldnames)\n",
    "        writer.writeheader()\n",
    "        writer.writerows(list(data.values()))\n",
    "    \n",
    "    with open(dump_file_name, 'w', newline='', encoding='utf-8') as file:\n",
    "        json.dump(data, file)"
   ]
  },
  {
   "cell_type": "code",
   "execution_count": null,
   "id": "43195c47-cf87-4331-a654-a02c80f57413",
   "metadata": {},
   "outputs": [],
   "source": [
    "queries = [\n",
    "    \"Do trait-mediated interactions affect predators?\"\n",
    "]\n",
    "\n",
    "for query in queries:\n",
    "    driver.get(f\"https://consensus.app/results/?q={format_search(query)}\")\n",
    "    click_element((By.XPATH, \"//button[@data-testid='loadmore-button']\"), 2)\n",
    "    store_search_results()"
   ]
  },
  {
   "cell_type": "code",
   "execution_count": null,
   "id": "e8dbf08c-35e8-4048-bac9-5a0e66095a06",
   "metadata": {},
   "outputs": [],
   "source": [
    "print(\"Root Pages (URLs):\")\n",
    "for title, href in hrefs.items():\n",
    "    print(f\"Title: {title}\\nHREF: {href}\\n\\n\")"
   ]
  },
  {
   "cell_type": "code",
   "execution_count": null,
   "id": "93cc257a-cb37-469a-be41-86fe65484224",
   "metadata": {},
   "outputs": [],
   "source": [
    "stop_size = 10\n",
    "auto_save_size = 1\n",
    "\n",
    "while len(data) <= stop_size:\n",
    "    changed = False\n",
    "    hrefs_items = hrefs.copy().items()\n",
    "    for href_title, href in hrefs_items:\n",
    "        if href_title in visited:\n",
    "            continue\n",
    "        driver.get(href)\n",
    "\n",
    "        title = driver.find_element(By.TAG_NAME, \"h1\")\n",
    "        if title is None:\n",
    "            raise ValueError(\"Title is None\")\n",
    "        if href_title != title.text:\n",
    "            raise ValueError(f\"Inconsistent Titles: '{href_title}' and '{title.text}'\")\n",
    "        \n",
    "        print(f\"\\tSearching Paper:\\n\\t\\tTitle: '{title.text}'\")\n",
    "\n",
    "        abstract = driver.find_element(By.XPATH, \"//p[@data-testid='abstract']\")\n",
    "        if abstract is None:\n",
    "            raise ValueError(\"Abstract is None\")\n",
    "\n",
    "        click_element((By.XPATH, \"//button[@aria-label='Additional Links']\"))\n",
    "        links = WebDriverWait(driver, 20).until(\n",
    "            EC.presence_of_all_elements_located((\n",
    "                By.XPATH, \"//a[@role='menuitem']\"\n",
    "            ))\n",
    "        )\n",
    "        if links:\n",
    "            links = [link.get_attribute(\"href\") for link in links if link is not None]\n",
    "        else:\n",
    "            links = []\n",
    "\n",
    "        citations_open = element_exists(By.XPATH, \"//button[@data-testid='tab-citations-selected']\")\n",
    "        citations_close = element_exists(By.XPATH, \"//button[@data-testid='tab-citations-not-selected']\")\n",
    "\n",
    "        citations = []\n",
    "        if citations_open or citations_close:\n",
    "            if citations_close:\n",
    "                click_element((By.XPATH, \"//button[@data-testid='tab-citations-not-selected']\"))\n",
    "            click_element((By.XPATH, \"//button[@data-testid='loadmore-button-Citations']\"))\n",
    "            citations = store_search_results()\n",
    "        \n",
    "        print(\"\\t\\tCitations:\")\n",
    "        for i, citation in enumerate(citations):\n",
    "            print(f\"\\t\\t\\t{i+1}. '{citation}'\")\n",
    "\n",
    "        references_open = element_exists(By.XPATH, \"//button[@data-testid='tab-references-selected']\")\n",
    "        references_close = element_exists(By.XPATH, \"//button[@data-testid='tab-references-not-selected']\")\n",
    "        \n",
    "        references = []\n",
    "        if references_open or references_close:\n",
    "            if references_close:\n",
    "                click_element((By.XPATH, \"//button[@data-testid='tab-references-not-selected']\"))\n",
    "            click_element((By.XPATH, \"//button[@data-testid='loadmore-button-References']\"))\n",
    "            references = store_search_results()\n",
    "        \n",
    "        print(\"\\t\\tReferences:\")\n",
    "        for i, reference in enumerate(references):\n",
    "            print(f\"\\t\\t\\t{i+1}. '{reference}'\")\n",
    "\n",
    "        data[title.text] = {\n",
    "            \"Title\": title.text,\n",
    "            \"Abstract\": abstract.text,\n",
    "            \"Links\": json.dumps(links),\n",
    "            \"Citations\": json.dumps(citations),\n",
    "            \"References\": json.dumps(references)\n",
    "        }\n",
    "\n",
    "        changed = True\n",
    "        visited.append(title.text)\n",
    "        print(f\"\\t{Colors.OKBLUE}Done Searching Paper: '{title.text}'\\n\\t\\tNumber Papers: {len(data)}{Colors.ENDC}\")\n",
    "                \n",
    "        if len(data) >= auto_save_size:\n",
    "            save_data()\n",
    "            print(f\"{Colors.OKGREEN}{len(data)} Papers Saved{Colors.ENDC}\")\n",
    "            auto_save_size = math.ceil(auto_save_size * 1.5)\n",
    "            \n",
    "    if not changed:\n",
    "        print(\"Search Complete\")\n",
    "        break"
   ]
  },
  {
   "cell_type": "code",
   "execution_count": null,
   "id": "153d2e26-e6d6-40e7-ac9b-571ecea22401",
   "metadata": {},
   "outputs": [],
   "source": [
    "driver.quit()"
   ]
  },
  {
   "cell_type": "code",
   "execution_count": null,
   "id": "850f614c-266c-4454-b23d-5883018cc705",
   "metadata": {},
   "outputs": [],
   "source": []
  }
 ],
 "metadata": {
  "kernelspec": {
   "display_name": "Python 3 (ipykernel)",
   "language": "python",
   "name": "python3"
  },
  "language_info": {
   "codemirror_mode": {
    "name": "ipython",
    "version": 3
   },
   "file_extension": ".py",
   "mimetype": "text/x-python",
   "name": "python",
   "nbconvert_exporter": "python",
   "pygments_lexer": "ipython3",
   "version": "3.12.4"
  }
 },
 "nbformat": 4,
 "nbformat_minor": 5
}
