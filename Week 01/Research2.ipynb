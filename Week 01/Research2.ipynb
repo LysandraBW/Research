{
 "cells": [
  {
   "cell_type": "code",
   "execution_count": 2,
   "id": "1a9df6a8-f58d-4059-9166-8e6e71c7ef8d",
   "metadata": {},
   "outputs": [],
   "source": [
    "import time\n",
    "import requests\n",
    "import numpy as np"
   ]
  },
  {
   "cell_type": "code",
   "execution_count": 3,
   "id": "f047249b-9cbc-4d0e-bcff-a1dab016a03a",
   "metadata": {},
   "outputs": [],
   "source": [
    "def create_query(title_words=[], abstract_words=[]):\n",
    "    format_word = lambda word: word if \" \" not in word else f\"%22{word}%22\"\n",
    "    formatted_title_words = f\"title:{\" OR \".join([format_word(word) for word in title_words])}\"\n",
    "    formatted_abstract_words = f\"abstract:{\" OR \".join([format_word(word) for word in abstract_words])}\"\n",
    "\n",
    "    if len(title_words) != 0 and len(abstract_words) != 0:\n",
    "        return f\"{formatted_title_words} OR {formatted_abstract_words}\".replace(\" \", \"%20\")\n",
    "    elif len(title_words) != 0:\n",
    "        return f\"{formatted_title_words}\".replace(\" \", \"%20\")\n",
    "    elif len(abstract_words) != 0:\n",
    "        return f\"{formatted_abstract_words}\".replace(\" \", \"%20\")\n",
    "    else:\n",
    "        return \"\""
   ]
  },
  {
   "cell_type": "code",
   "execution_count": 4,
   "id": "be9f4875-a6d9-4e36-aa57-3870b9745ca2",
   "metadata": {},
   "outputs": [],
   "source": [
    "def print_keys(d):\n",
    "    print(\"Keys:\")\n",
    "    for key in d.keys():\n",
    "        print(f\"\\t{key}\")"
   ]
  },
  {
   "cell_type": "code",
   "execution_count": 11,
   "id": "8c96a835-12e5-4e42-94f5-038f00bac6e0",
   "metadata": {},
   "outputs": [],
   "source": [
    "KEY = \"RqvYPz6UI8nsX5S21Kfpuke4xQ0lAwaD\"\n",
    "\n",
    "def get_response(title_words=[], abstract_words=[], limit=1000):\n",
    "    max_size = 10000\n",
    "    \n",
    "    base_url = \"https://api.core.ac.uk/v3/search/works\"\n",
    "    results = []\n",
    "    headers = {\"Authorization\": f\"Bearer {KEY}\"}\n",
    "    scroll_id = None\n",
    "\n",
    "    while len(results) < max_size:\n",
    "        try:\n",
    "            q = create_query(title_words, abstract_words)\n",
    "            url = f\"{base_url}?q={q}&limit={limit}{\"\" if scroll_id is not None else \"&scroll=true\"}{f\"&scrollId={scroll_id}\" if scroll_id else \"\"}\"\n",
    "            print(url)\n",
    "            response = requests.get(url, headers=headers)\n",
    "\n",
    "            response_headers = response.headers\n",
    "            print(f\"Remaining Tokens: {response_headers[\"x-ratelimit-remaining\"]}\")\n",
    "            if response_headers[\"x-ratelimit-remaining\"] == \"0\":\n",
    "                print(\"\\tPausing for a Minute...\")\n",
    "                time.sleep(65)\n",
    "                continue\n",
    "            \n",
    "            if response.status_code != 200:\n",
    "                print(\"Status Code of 200\", response.text)\n",
    "                break\n",
    "\n",
    "            result = response.json()\n",
    "            if len(result[\"results\"]) == 0:\n",
    "                print(\"No More Results\")\n",
    "                break\n",
    "    \n",
    "            results += result[\"results\"]\n",
    "            scroll_id = result[\"scrollId\"]\n",
    "\n",
    "            print(f\"Added {len(result[\"results\"])} Papers\\t\\t|\\t\\tTotal: {len(results)} Papers\")\n",
    "        except Exception as e:\n",
    "            print(e)\n",
    "            break\n",
    "\n",
    "    return results"
   ]
  },
  {
   "cell_type": "code",
   "execution_count": 14,
   "id": "c239b5d6-2efe-4326-a83e-b9b268a41b75",
   "metadata": {},
   "outputs": [
    {
     "name": "stdout",
     "output_type": "stream",
     "text": [
      "https://api.core.ac.uk/v3/search/works?q=abstract:trait&limit=1000&scroll=true\n",
      "Remaining Tokens: 4\n",
      "Status Code of 200 {\"message\":\"Error: Allowed memory size of 134217728 bytes exhausted (tried to allocate 67732752 bytes)\"}\n"
     ]
    }
   ],
   "source": [
    "r = get_response([], [\"trait\"])"
   ]
  },
  {
   "cell_type": "code",
   "execution_count": null,
   "id": "dc37f334-51c6-479e-916d-35c5f819450d",
   "metadata": {},
   "outputs": [],
   "source": [
    "%%capture\n",
    "%run DocumentSimilarity1.ipynb"
   ]
  },
  {
   "cell_type": "code",
   "execution_count": null,
   "id": "e218e1fd-f582-4f9d-a12e-f645df580870",
   "metadata": {},
   "outputs": [],
   "source": [
    "%%time\n",
    "similarities = []\n",
    "for result in r:\n",
    "    if \"language\" in result and result[\"language\"][\"name\"] != \"English\":\n",
    "        similarities.append(0)\n",
    "        continue\n",
    "    if \"abstract\" not in result or not result[\"abstract\"]:\n",
    "        similarities.append(0)\n",
    "        continue\n",
    "    label, similarity = classify_text(result[\"abstract\"])\n",
    "    if label == 0:\n",
    "        similarity = 1 - similarity\n",
    "    similarities.append(similarity)"
   ]
  },
  {
   "cell_type": "code",
   "execution_count": null,
   "id": "7961f332-7391-4716-a963-37d6d85c02cb",
   "metadata": {},
   "outputs": [],
   "source": [
    "sortedIndices = np.argsort(similarities)\n",
    "for index in sortedIndices:\n",
    "    text = \"\"\n",
    "    if r[index][\"abstract\"]:\n",
    "        text = r[index][\"abstract\"][0:25]\n",
    "    print(f\"Index: {index}\\t|\\tSimilarity: {similarities[index]}\\t:\\tText: {text}\")"
   ]
  }
 ],
 "metadata": {
  "kernelspec": {
   "display_name": "Python 3 (ipykernel)",
   "language": "python",
   "name": "python3"
  },
  "language_info": {
   "codemirror_mode": {
    "name": "ipython",
    "version": 3
   },
   "file_extension": ".py",
   "mimetype": "text/x-python",
   "name": "python",
   "nbconvert_exporter": "python",
   "pygments_lexer": "ipython3",
   "version": "3.10.16"
  }
 },
 "nbformat": 4,
 "nbformat_minor": 5
}
