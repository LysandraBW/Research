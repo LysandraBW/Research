{
 "cells": [
  {
   "cell_type": "code",
   "execution_count": null,
   "id": "ab087596-55ac-42fa-a4d1-de9dea33bd90",
   "metadata": {},
   "outputs": [],
   "source": [
    "%%capture\n",
    "import requests\n",
    "import numpy as np\n",
    "%run DocumentSimilarity.ipynb"
   ]
  },
  {
   "cell_type": "code",
   "execution_count": null,
   "id": "2e200965-eb61-41d4-a124-a3694bf91084",
   "metadata": {},
   "outputs": [],
   "source": [
    "KEY = \"RqvYPz6UI8nsX5S21Kfpuke4xQ0lAwaD\""
   ]
  },
  {
   "cell_type": "code",
   "execution_count": 104,
   "id": "a307a2f2-197f-4f06-8e21-4663d9bf6393",
   "metadata": {},
   "outputs": [],
   "source": [
    "def GetResponse(params):\n",
    "    headers = {\"Authorization\": f\"Bearer {KEY}\"}\n",
    "    try:\n",
    "        response = requests.get(f\"https://api.core.ac.uk/v3/search/works{params}\", headers=headers)\n",
    "        if response.status_code != 200:\n",
    "            return None    \n",
    "        return response.json()\n",
    "    except requests.exceptions.RequestException as e:\n",
    "        print(e)\n",
    "        return None"
   ]
  },
  {
   "cell_type": "code",
   "execution_count": null,
   "id": "59cad0b5-4dac-4e1d-8415-bb402bd9eedb",
   "metadata": {},
   "outputs": [],
   "source": [
    "def PrintKeys(d):\n",
    "    print(\"Keys:\")\n",
    "    for key in d.keys():\n",
    "        print(f\"\\t{key}\")"
   ]
  },
  {
   "cell_type": "code",
   "execution_count": null,
   "id": "264e51bb-6012-4da0-9142-3076bcf67e4d",
   "metadata": {},
   "outputs": [],
   "source": [
    "response = GetResponse(\"?limit=100&offset=0\")"
   ]
  },
  {
   "cell_type": "code",
   "execution_count": null,
   "id": "ef1f9018-b3ff-4ad2-a32f-82131ad111d7",
   "metadata": {},
   "outputs": [],
   "source": [
    "if response != None:\n",
    "    print(f\"Number of Results: {len(response[\"results\"])}\")\n",
    "    PrintKeys(response)\n",
    "    print(response[\"totalHits\"])\n",
    "\n",
    "    print(\"Works:\")\n",
    "    for result in response[\"results\"]:\n",
    "        print(f\"\\\"{result[\"title\"][:50]}\\\"\")\n",
    "else:\n",
    "    print(\"No Response\")"
   ]
  },
  {
   "cell_type": "code",
   "execution_count": null,
   "id": "99b7c32a-70da-4703-ae7f-3320c16f23a4",
   "metadata": {},
   "outputs": [],
   "source": [
    "%%time\n",
    "similarities = []\n",
    "for result in response[\"results\"]:\n",
    "    if \"language\" in result and result[\"language\"][\"name\"] != \"English\":\n",
    "        similarities.append(0)\n",
    "        continue\n",
    "    if \"abstract\" not in result or not result[\"abstract\"]:\n",
    "        similarities.append(0)\n",
    "        continue\n",
    "    label, similarity = classifyText(result[\"abstract\"])\n",
    "    if label == 0:\n",
    "        similarity = 1 - similarity\n",
    "    similarities.append(similarity)"
   ]
  },
  {
   "cell_type": "code",
   "execution_count": null,
   "id": "e15be757-24f3-409e-a911-3bd633e73f96",
   "metadata": {},
   "outputs": [],
   "source": [
    "sortedIndices = np.argsort(similarities)\n",
    "for index in sortedIndices:\n",
    "    print(index, similarities[index])"
   ]
  },
  {
   "cell_type": "code",
   "execution_count": null,
   "id": "6960da41-f692-4b96-97f4-71a3ea9ee536",
   "metadata": {},
   "outputs": [],
   "source": [
    "print(response[\"results\"][560])"
   ]
  },
  {
   "cell_type": "code",
   "execution_count": 112,
   "id": "dabda310-f5e5-4acd-bff1-823d229e71b9",
   "metadata": {},
   "outputs": [],
   "source": [
    "def GetAllWorks():\n",
    "    works = []\n",
    "    offset = 0\n",
    "    while True:\n",
    "        response = GetResponse(f\"?limit=10000&offset={offset}&q=title:*\")\n",
    "        if response is None or len(response[\"results\"]) == 0:\n",
    "            break\n",
    "        offset += len(response[\"results\"])\n",
    "        works = [*response[\"results\"], *works]\n",
    "    return works\n",
    "works = GetAllWorks()"
   ]
  },
  {
   "cell_type": "code",
   "execution_count": 113,
   "id": "fdae81b1-86f7-4415-9e8c-b17d15831930",
   "metadata": {},
   "outputs": [
    {
     "data": {
      "text/plain": [
       "0"
      ]
     },
     "execution_count": 113,
     "metadata": {},
     "output_type": "execute_result"
    }
   ],
   "source": [
    "len(works)"
   ]
  },
  {
   "cell_type": "code",
   "execution_count": 103,
   "id": "d53b15a9-607f-460e-9c73-f9678f4ea97d",
   "metadata": {},
   "outputs": [
    {
     "name": "stdout",
     "output_type": "stream",
     "text": [
      "94/1008 1.416769s\n",
      "192/1008 0.863104s\n",
      "Error code 429, b''\n"
     ]
    },
    {
     "ename": "TypeError",
     "evalue": "cannot unpack non-iterable NoneType object",
     "output_type": "error",
     "traceback": [
      "\u001b[1;31m---------------------------------------------------------------------------\u001b[0m",
      "\u001b[1;31mTypeError\u001b[0m                                 Traceback (most recent call last)",
      "Cell \u001b[1;32mIn[103], line 41\u001b[0m\n\u001b[0;32m     38\u001b[0m         \u001b[38;5;28mprint\u001b[39m(\u001b[38;5;124mf\u001b[39m\u001b[38;5;124m\"\u001b[39m\u001b[38;5;132;01m{\u001b[39;00mcount\u001b[38;5;132;01m}\u001b[39;00m\u001b[38;5;124m/\u001b[39m\u001b[38;5;132;01m{\u001b[39;00mtotalhits\u001b[38;5;132;01m}\u001b[39;00m\u001b[38;5;124m \u001b[39m\u001b[38;5;132;01m{\u001b[39;00melapsed\u001b[38;5;132;01m}\u001b[39;00m\u001b[38;5;124ms\u001b[39m\u001b[38;5;124m\"\u001b[39m)\n\u001b[0;32m     39\u001b[0m     \u001b[38;5;28;01mreturn\u001b[39;00m allresults\n\u001b[1;32m---> 41\u001b[0m uk_data_providers_raw \u001b[38;5;241m=\u001b[39m \u001b[43mscroll\u001b[49m\u001b[43m(\u001b[49m\u001b[38;5;124;43m\"\u001b[39;49m\u001b[38;5;124;43msearch/works\u001b[39;49m\u001b[38;5;124;43m\"\u001b[39;49m\u001b[43m,\u001b[49m\u001b[43m \u001b[49m\u001b[38;5;124;43m\"\u001b[39;49m\u001b[38;5;124;43m*\u001b[39;49m\u001b[38;5;124;43m\"\u001b[39;49m\u001b[43m)\u001b[49m\n\u001b[0;32m     42\u001b[0m uk_data_providers \u001b[38;5;241m=\u001b[39m pandas\u001b[38;5;241m.\u001b[39mDataFrame(uk_data_providers_raw)\n\u001b[0;32m     43\u001b[0m uk_data_providers\n",
      "Cell \u001b[1;32mIn[103], line 26\u001b[0m, in \u001b[0;36mscroll\u001b[1;34m(search_url, query, extract_info_callback)\u001b[0m\n\u001b[0;32m     24\u001b[0m scrollId\u001b[38;5;241m=\u001b[39m\u001b[38;5;28;01mNone\u001b[39;00m\n\u001b[0;32m     25\u001b[0m \u001b[38;5;28;01mwhile\u001b[39;00m \u001b[38;5;28;01mTrue\u001b[39;00m:\n\u001b[1;32m---> 26\u001b[0m     result, elapsed \u001b[38;5;241m=\u001b[39mquery_api(search_url, query, is_scroll\u001b[38;5;241m=\u001b[39m\u001b[38;5;28;01mTrue\u001b[39;00m, scrollId\u001b[38;5;241m=\u001b[39mscrollId)\n\u001b[0;32m     27\u001b[0m     scrollId\u001b[38;5;241m=\u001b[39mresult[\u001b[38;5;124m\"\u001b[39m\u001b[38;5;124mscrollId\u001b[39m\u001b[38;5;124m\"\u001b[39m]\n\u001b[0;32m     28\u001b[0m     totalhits \u001b[38;5;241m=\u001b[39m result[\u001b[38;5;124m\"\u001b[39m\u001b[38;5;124mtotalHits\u001b[39m\u001b[38;5;124m\"\u001b[39m]\n",
      "\u001b[1;31mTypeError\u001b[0m: cannot unpack non-iterable NoneType object"
     ]
    }
   ],
   "source": [
    "import json\n",
    "import pandas\n",
    "\n",
    "def query_api(url_fragment, query,is_scroll=False, limit=100, scrollId=None):\n",
    "    api_endpoint = \"https://api.core.ac.uk/v3/\"\n",
    "    headers={\"Authorization\":\"Bearer \"+KEY}\n",
    "    query = {\"q\":query, \"limit\":limit}\n",
    "    if not is_scroll:\n",
    "        response = requests.post(f\"{api_endpoint}{url_fragment}\",data = json.dumps(query), headers=headers)\n",
    "    elif not scrollId:\n",
    "        query[\"scroll\"]=\"true\"\n",
    "        response = requests.post(f\"{api_endpoint}{url_fragment}\",data = json.dumps(query),headers=headers)\n",
    "    else:\n",
    "        query[\"scrollId\"]=scrollId\n",
    "        response = requests.post(f\"{api_endpoint}{url_fragment}\",data = json.dumps(query),headers=headers)\n",
    "    if response.status_code ==200:\n",
    "        return response.json(), response.elapsed.total_seconds()\n",
    "    else:\n",
    "        print(f\"Error code {response.status_code}, {response.content}\")\n",
    "\n",
    "def scroll(search_url, query, extract_info_callback=None):\n",
    "    allresults = []\n",
    "    count = 0\n",
    "    scrollId=None\n",
    "    while True:\n",
    "        result, elapsed =query_api(search_url, query, is_scroll=True, scrollId=scrollId)\n",
    "        scrollId=result[\"scrollId\"]\n",
    "        totalhits = result[\"totalHits\"]\n",
    "        result_size = len(result[\"results\"])\n",
    "        if result_size==0:\n",
    "            break\n",
    "        for hit in result[\"results\"]:\n",
    "            if extract_info_callback:\n",
    "              allresults.append(extract_info_callback(hit))\n",
    "            else:\n",
    "              allresults.append(hit)\n",
    "        count+=result_size\n",
    "        print(f\"{count}/{totalhits} {elapsed}s\")\n",
    "    return allresults\n",
    "\n",
    "uk_data_providers_raw = scroll(\"search/data-providers\", \"location.countryCode:gb\")\n",
    "uk_data_providers = pandas.DataFrame(uk_data_providers_raw)\n",
    "uk_data_providers"
   ]
  },
  {
   "cell_type": "code",
   "execution_count": null,
   "id": "6de95ddf-8204-4cd7-987a-d6dc62a27d18",
   "metadata": {},
   "outputs": [],
   "source": []
  }
 ],
 "metadata": {
  "kernelspec": {
   "display_name": "Python 3 (ipykernel)",
   "language": "python",
   "name": "python3"
  },
  "language_info": {
   "codemirror_mode": {
    "name": "ipython",
    "version": 3
   },
   "file_extension": ".py",
   "mimetype": "text/x-python",
   "name": "python",
   "nbconvert_exporter": "python",
   "pygments_lexer": "ipython3",
   "version": "3.10.16"
  }
 },
 "nbformat": 4,
 "nbformat_minor": 5
}
