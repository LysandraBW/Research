{
 "cells": [
  {
   "cell_type": "code",
   "execution_count": 12,
   "id": "1bfed41c-e5b7-4d56-88bb-6e33a7c1ec8a",
   "metadata": {},
   "outputs": [],
   "source": [
    "from selenium import webdriver\n",
    "from selenium.webdriver.common.by import By\n",
    "from selenium.webdriver.chrome.options import Options\n",
    "from fake_useragent import UserAgent"
   ]
  },
  {
   "cell_type": "code",
   "execution_count": 13,
   "id": "cf8e8cfd-a520-40b7-8a7b-ec427e19088c",
   "metadata": {},
   "outputs": [],
   "source": [
    "options = webdriver.ChromeOptions()\n",
    "\n",
    "ua = UserAgent()\n",
    "user_agent = ua.random\n",
    "\n",
    "options.add_argument(f\"--user-agent={user_agent}\")\n",
    "# options.add_argument(r\"--user-data-dir=C:\\path\\to\\chrome\\user\\data\") #e.g. C:\\Users\\You\\AppData\\Local\\Google\\Chrome\\User Data\n",
    "# options.add_argument(r'--profile-directory=YourProfileDir') #e.g. Profile 3\n",
    "# driver = webdriver.Chrome(executable_path=r'C:\\path\\to\\chromedriver.exe', chrome_options=options)\n",
    "\n",
    "driver = webdriver.Chrome(options=options)"
   ]
  },
  {
   "cell_type": "code",
   "execution_count": 16,
   "id": "5916b437-5a9d-4b42-b473-ceefd51c313b",
   "metadata": {},
   "outputs": [
    {
     "name": "stdout",
     "output_type": "stream",
     "text": [
      "Does%20trait-mediated%20interactions%20affect%20predators?\n"
     ]
    }
   ],
   "source": [
    "searchQuery = \"%20\".join(\"Does trait-mediated interactions affect predators?\".split())\n",
    "print(searchQuery)\n",
    "driver.get(f\"https://consensus.app/results/?q={searchQuery}&pro=on\")"
   ]
  },
  {
   "cell_type": "code",
   "execution_count": 4,
   "id": "cc729eff-2168-45c7-b5df-54f542b2f5b5",
   "metadata": {},
   "outputs": [
    {
     "name": "stdout",
     "output_type": "stream",
     "text": [
      "[]\n"
     ]
    }
   ],
   "source": [
    "elements = driver.find_elements(By.TAG_NAME, \"h2\")\n",
    "print(elements)"
   ]
  },
  {
   "cell_type": "code",
   "execution_count": 5,
   "id": "48b61827-c4b8-4056-b689-c5ac71284283",
   "metadata": {},
   "outputs": [],
   "source": [
    "elements = driver.find_elements(By.XPATH, \"//a[@data-testid='search-result']\")"
   ]
  },
  {
   "cell_type": "code",
   "execution_count": 6,
   "id": "02b4766e-0567-41c8-b217-9f271b43b0cc",
   "metadata": {},
   "outputs": [
    {
     "name": "stdout",
     "output_type": "stream",
     "text": [
      "Text: 1\n",
      "The contribution of trait-mediated indirect effects to the net effects of a predator\n",
      "Nonlethal predator effects can contribute strongly to the net indirect effects of predators, with effects comparable to those resulting from killing prey.\n",
      "HREF: https://consensus.app/papers/the-contribution-of-traitmediated-indirect-effects-to-the-peacor-werner/0bd5bcdaf0c35b06920ba945b77f8241/?extracted-answer=Nonlethal+predator+effects+can+contribute+strongly+to+the+net+indirect+effects+of+predators%2C+with+effects+comparable+to+those+resulting+from+killing+prey.&q=Does+trait-mediated+interactions+affect+predators%3F&pro=on\n",
      "\n",
      "Text: 2\n",
      "Susceptibility to Predation Affects Trait-Mediated Indirect Interactions by Reversing Interspecific Competition\n",
      "Susceptibility to predation can influence species interactions by reversing interspecific competition.\n",
      "HREF: https://consensus.app/papers/susceptibility-to-predation-affects-traitmediated-mowles-rundle/488b90f9ab9e55f9975415571c3daabc/?extracted-answer=Susceptibility+to+predation+can+influence+species+interactions+by+reversing+interspecific+competition.&q=Does+trait-mediated+interactions+affect+predators%3F&pro=on\n",
      "\n",
      "Text: 3\n",
      "Predator and prey functional traits: understanding the adaptive machinery driving predator–prey interactions\n",
      "Predator and prey adapt to each other through reciprocal interactions involving context-dependent expression of functional traits, which influence their biomechanics.\n",
      "HREF: https://consensus.app/papers/predator-and-prey-functional-traits-understanding-the-schmitz/e2acb4050b4f533dad5abcc3bc142f43/?extracted-answer=Predator+and+prey+adapt+to+each+other+through+reciprocal+interactions+involving+context-dependent+expression+of+functional+traits%2C+which+influence+their+biomechanics.&q=Does+trait-mediated+interactions+affect+predators%3F&pro=on\n",
      "\n",
      "Text: 4\n",
      "The legacy of predators: persistence of trait-mediated indirect effects in an intertidal food chain\n",
      "Trait-mediated indirect effects, such as decreased prey foraging, can persist beyond when predators are present, affecting trophic levels below.\n",
      "HREF: https://consensus.app/papers/the-legacy-of-predators-persistence-of-traitmediated-ng-gaylord/cd573b262de557438148512ab16d338d/?extracted-answer=Trait-mediated+indirect+effects%2C+such+as+decreased+prey+foraging%2C+can+persist+beyond+when+predators+are+present%2C+affecting+trophic+levels+below.&q=Does+trait-mediated+interactions+affect+predators%3F&pro=on\n",
      "\n",
      "Text: 5\n",
      "RESOURCE COMPETITION MODIFIES THE STRENGTH OF TRAIT- MEDIATED PREDATOR-PREY INTERACTIONS: A META-ANALYSIS\n",
      "High resource competition exacerbates the negative effect of predation on prey density but moderates its impact on prey life history and growth.\n",
      "HREF: https://consensus.app/papers/resource-competition-modifies-the-strength-of-trait-bolnick-preisser/7da864ed308b559088e8adf397ab8b08/?extracted-answer=High+resource+competition+exacerbates+the+negative+effect+of+predation+on+prey+density+but+moderates+its+impact+on+prey+life+history+and+growth.&q=Does+trait-mediated+interactions+affect+predators%3F&pro=on\n",
      "\n",
      "Text: 6\n",
      "Diverse trait-mediated interactions in a multi-predator, multi-prey community.\n",
      "Trait-mediated interactions between aphids and Pterostichus melanarius can weaken egg predation but can restore it when both aphids and P. melanarius are present together.\n",
      "HREF: https://consensus.app/papers/diverse-traitmediated-interactions-in-a-multipredator-prasad-snyder/10ec771b7b2c5af7a940c2bf71ca1d9d/?extracted-answer=Trait-mediated+interactions+between+aphids+and+Pterostichus+melanarius+can+weaken+egg+predation+but+can+restore+it+when+both+aphids+and+P.+melanarius+are+present+together.&q=Does+trait-mediated+interactions+affect+predators%3F&pro=on\n",
      "\n",
      "Text: 7\n",
      "CONNECTING THEORETICAL AND EMPIRICAL STUDIES OF TRAIT‐MEDIATED INTERACTIONS\n",
      "TMIs stabilize simple communities and affect community dynamics at practical management scales.\n",
      "HREF: https://consensus.app/papers/connecting-theoretical-and-empirical-studies-of-bolker-holyoak/80a8b6b0952e5883852b1236c5f2c6e8/?extracted-answer=TMIs+stabilize+simple+communities+and+affect+community+dynamics+at+practical+management+scales.&q=Does+trait-mediated+interactions+affect+predators%3F&pro=on\n",
      "\n",
      "Text: 8\n",
      "How Do Trait-Mediated Non-lethal Effects of Predation Affect Population-Level Performance of Mosquitoes?\n",
      "Trait-mediated interactions between predation and competition affect mosquito population traits, such as development time, adult body size, and fecundity.\n",
      "HREF: https://consensus.app/papers/how-do-traitmediated-nonlethal-effects-of-predation-chandrasegaran-juliano/46cecffe7b1a512cb84a3fddad636323/?extracted-answer=Trait-mediated+interactions+between+predation+and+competition+affect+mosquito+population+traits%2C+such+as+development+time%2C+adult+body+size%2C+and+fecundity.&q=Does+trait-mediated+interactions+affect+predators%3F&pro=on\n",
      "\n",
      "Text: 9\n",
      "Evolutionary ecology of inducible morphological plasticity in predator–prey interaction: toward the practical links with population ecology\n",
      "Inducible morphological plasticity in predators and prey can influence and be influenced by species interaction strength, with important consequences for individual fitness.\n",
      "HREF: https://consensus.app/papers/evolutionary-ecology-of-inducible-morphological-kishida-trussell/6254e0c0b0915d4386a185b43e469a9d/?extracted-answer=Inducible+morphological+plasticity+in+predators+and+prey+can+influence+and+be+influenced+by+species+interaction+strength%2C+with+important+consequences+for+individual+fitness.&q=Does+trait-mediated+interactions+affect+predators%3F&pro=on\n",
      "\n",
      "Text: 10\n",
      "TRAIT-MEDIATED INDIRECT INTERACTIONS IN A SIMPLE AQUATIC FOOD WEB\n",
      "Trait-mediated indirect interactions in a simple aquatic food web can increase predation rates of predators and reduce the competitive advantage of predators.\n",
      "HREF: https://consensus.app/papers/traitmediated-indirect-interactions-in-a-simple-aquatic-peacor-werner/dba45134cfa15388b660bfcf56fd68a1/?extracted-answer=Trait-mediated+indirect+interactions+in+a+simple+aquatic+food+web+can+increase+predation+rates+of+predators+and+reduce+the+competitive+advantage+of+predators.&q=Does+trait-mediated+interactions+affect+predators%3F&pro=on\n",
      "\n"
     ]
    }
   ],
   "source": [
    "hrefs = []\n",
    "for element in elements:\n",
    "    if element.get_attribute(\"href\") is not None:\n",
    "        hrefs.append(element.get_attribute(\"href\"))\n",
    "    print(f\"Text: {element.text}\\nHREF: {element.get_attribute(\"href\")}\\n\")"
   ]
  },
  {
   "cell_type": "code",
   "execution_count": 17,
   "id": "a13cd817-b750-49a4-ad24-dfcc139702cc",
   "metadata": {},
   "outputs": [
    {
     "name": "stdout",
     "output_type": "stream",
     "text": [
      "Not Found\n"
     ]
    }
   ],
   "source": [
    "from selenium.webdriver.support.wait import WebDriverWait\n",
    "from selenium.webdriver.support import expected_conditions as EC\n",
    "from selenium.webdriver.common.action_chains import ActionChains\n",
    "import time\n",
    "\n",
    "clicks = 0\n",
    "\n",
    "while True:\n",
    "    time.sleep(20)\n",
    "    try:\n",
    "        loadMoreButton = WebDriverWait(driver, 10).until(\n",
    "            EC.presence_of_element_located((By.XPATH, \"//button[@data-testid='loadmore-button']\"))\n",
    "        )\n",
    "        actions = ActionChains(driver)\n",
    "        actions.click(loadMoreButton)\n",
    "        actions.perform()\n",
    "        clicks++\n",
    "        print(clicks)\n",
    "    except:\n",
    "        print(\"Not Found\")\n",
    "        break"
   ]
  },
  {
   "cell_type": "code",
   "execution_count": 8,
   "id": "9d88d2de-cea0-40de-874c-7be5a2f57a2c",
   "metadata": {},
   "outputs": [],
   "source": [
    "# driver.close()"
   ]
  }
 ],
 "metadata": {
  "kernelspec": {
   "display_name": "Python 3 (ipykernel)",
   "language": "python",
   "name": "python3"
  },
  "language_info": {
   "codemirror_mode": {
    "name": "ipython",
    "version": 3
   },
   "file_extension": ".py",
   "mimetype": "text/x-python",
   "name": "python",
   "nbconvert_exporter": "python",
   "pygments_lexer": "ipython3",
   "version": "3.10.16"
  }
 },
 "nbformat": 4,
 "nbformat_minor": 5
}
