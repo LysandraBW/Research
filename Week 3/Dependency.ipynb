{
 "cells": [
  {
   "cell_type": "code",
   "execution_count": 6,
   "id": "56ee5074-bc96-4fc0-b5be-04a5dd07ba81",
   "metadata": {},
   "outputs": [],
   "source": [
    "import stanza\n",
    "import spacy\n",
    "import fastcoref\n",
    "from fastcoref import FCoref\n",
    "import spacy\n",
    "from spacy.matcher import Matcher"
   ]
  },
  {
   "cell_type": "code",
   "execution_count": 7,
   "id": "fe84c00b-659f-471b-a36c-0e20bf8c4682",
   "metadata": {},
   "outputs": [
    {
     "data": {
      "application/vnd.jupyter.widget-view+json": {
       "model_id": "4fb93c9f13bb4c19b45821cc8fdb90fb",
       "version_major": 2,
       "version_minor": 0
      },
      "text/plain": [
       "Downloading https://raw.githubusercontent.com/stanfordnlp/stanza-resources/main/resources_1.10.0.json:   0%|  …"
      ]
     },
     "metadata": {},
     "output_type": "display_data"
    },
    {
     "name": "stderr",
     "output_type": "stream",
     "text": [
      "2025-03-22 10:16:34 INFO: Downloaded file to C:\\Users\\lbeln\\stanza_resources\\resources.json\n",
      "03/22/2025 10:16:34 - INFO - \t Downloaded file to C:\\Users\\lbeln\\stanza_resources\\resources.json\n",
      "2025-03-22 10:16:34 INFO: Downloading default packages for language: en (English) ...\n",
      "03/22/2025 10:16:34 - INFO - \t Downloading default packages for language: en (English) ...\n",
      "2025-03-22 10:16:37 INFO: File exists: C:\\Users\\lbeln\\stanza_resources\\en\\default.zip\n",
      "03/22/2025 10:16:37 - INFO - \t File exists: C:\\Users\\lbeln\\stanza_resources\\en\\default.zip\n",
      "2025-03-22 10:16:46 INFO: Finished downloading models and saved to C:\\Users\\lbeln\\stanza_resources\n",
      "03/22/2025 10:16:46 - INFO - \t Finished downloading models and saved to C:\\Users\\lbeln\\stanza_resources\n"
     ]
    }
   ],
   "source": [
    "stanza.download(\"en\")"
   ]
  },
  {
   "cell_type": "code",
   "execution_count": 8,
   "id": "bcb0d9cd-c0d9-4236-b49c-63a73b24dd2f",
   "metadata": {},
   "outputs": [
    {
     "name": "stderr",
     "output_type": "stream",
     "text": [
      "2025-03-22 10:16:49 INFO: Checking for updates to resources.json in case models have been updated.  Note: this behavior can be turned off with download_method=None or download_method=DownloadMethod.REUSE_RESOURCES\n",
      "03/22/2025 10:16:49 - INFO - \t Checking for updates to resources.json in case models have been updated.  Note: this behavior can be turned off with download_method=None or download_method=DownloadMethod.REUSE_RESOURCES\n"
     ]
    },
    {
     "data": {
      "application/vnd.jupyter.widget-view+json": {
       "model_id": "a25413e0e5f44326ac82a58987f4cb84",
       "version_major": 2,
       "version_minor": 0
      },
      "text/plain": [
       "Downloading https://raw.githubusercontent.com/stanfordnlp/stanza-resources/main/resources_1.10.0.json:   0%|  …"
      ]
     },
     "metadata": {},
     "output_type": "display_data"
    },
    {
     "name": "stderr",
     "output_type": "stream",
     "text": [
      "2025-03-22 10:16:49 INFO: Downloaded file to C:\\Users\\lbeln\\stanza_resources\\resources.json\n",
      "03/22/2025 10:16:49 - INFO - \t Downloaded file to C:\\Users\\lbeln\\stanza_resources\\resources.json\n",
      "2025-03-22 10:16:52 INFO: Loading these models for language: en (English):\n",
      "============================================\n",
      "| Processor    | Package                   |\n",
      "--------------------------------------------\n",
      "| tokenize     | combined                  |\n",
      "| mwt          | combined                  |\n",
      "| pos          | combined_charlm           |\n",
      "| lemma        | combined_nocharlm         |\n",
      "| constituency | ptb3-revised_charlm       |\n",
      "| depparse     | combined_charlm           |\n",
      "| sentiment    | sstplus_charlm            |\n",
      "| ner          | ontonotes-ww-multi_charlm |\n",
      "============================================\n",
      "\n",
      "03/22/2025 10:16:52 - INFO - \t Loading these models for language: en (English):\n",
      "============================================\n",
      "| Processor    | Package                   |\n",
      "--------------------------------------------\n",
      "| tokenize     | combined                  |\n",
      "| mwt          | combined                  |\n",
      "| pos          | combined_charlm           |\n",
      "| lemma        | combined_nocharlm         |\n",
      "| constituency | ptb3-revised_charlm       |\n",
      "| depparse     | combined_charlm           |\n",
      "| sentiment    | sstplus_charlm            |\n",
      "| ner          | ontonotes-ww-multi_charlm |\n",
      "============================================\n",
      "\n",
      "2025-03-22 10:16:52 INFO: Using device: cpu\n",
      "03/22/2025 10:16:52 - INFO - \t Using device: cpu\n",
      "2025-03-22 10:16:52 INFO: Loading: tokenize\n",
      "03/22/2025 10:16:52 - INFO - \t Loading: tokenize\n",
      "2025-03-22 10:16:54 INFO: Loading: mwt\n",
      "03/22/2025 10:16:54 - INFO - \t Loading: mwt\n",
      "2025-03-22 10:16:54 INFO: Loading: pos\n",
      "03/22/2025 10:16:54 - INFO - \t Loading: pos\n",
      "2025-03-22 10:16:59 INFO: Loading: lemma\n",
      "03/22/2025 10:16:59 - INFO - \t Loading: lemma\n",
      "2025-03-22 10:17:01 INFO: Loading: constituency\n",
      "03/22/2025 10:17:01 - INFO - \t Loading: constituency\n",
      "2025-03-22 10:17:02 INFO: Loading: depparse\n",
      "03/22/2025 10:17:02 - INFO - \t Loading: depparse\n",
      "2025-03-22 10:17:03 INFO: Loading: sentiment\n",
      "03/22/2025 10:17:03 - INFO - \t Loading: sentiment\n",
      "2025-03-22 10:17:04 INFO: Loading: ner\n",
      "03/22/2025 10:17:04 - INFO - \t Loading: ner\n",
      "2025-03-22 10:17:11 INFO: Done loading processors!\n",
      "03/22/2025 10:17:11 - INFO - \t Done loading processors!\n"
     ]
    }
   ],
   "source": [
    "nlp = stanza.Pipeline('en')"
   ]
  },
  {
   "cell_type": "code",
   "execution_count": 9,
   "id": "b386c50c-4412-47c0-8a6a-ebc5e7f20c7f",
   "metadata": {},
   "outputs": [],
   "source": [
    "def find_dependents(id, doc):\n",
    "    dependents = []\n",
    "    for sentence in doc.sentences:\n",
    "        for word in sentence.words:\n",
    "            if word.head == id:\n",
    "                dependents.append(word)\n",
    "    return dependents\n",
    "\n",
    "def find_start_verb(doc):\n",
    "    for sentence in doc.sentences:\n",
    "        for word in sentence.words:\n",
    "            if word.upos == \"VERB\":\n",
    "                return word\n",
    "    return None\n",
    "\n",
    "def find_object(doc, verb):\n",
    "    dependents = find_dependents(verb.id, doc)\n",
    "    for word in dependents:\n",
    "        if word.deprel == \"obj\" or word.deprel == \"nsubj:pass\":\n",
    "            return word\n",
    "    return None\n",
    "\n",
    "def find_subject(doc, verb):\n",
    "    dependents = find_dependents(verb.id, doc)\n",
    "    for word in dependents:\n",
    "        if word.deprel == \"nsubj\" or word.deprel == \"obl:agent\":\n",
    "            return word\n",
    "    \n",
    "    for word in dependents:\n",
    "        if word.deprel == \"advcl\":\n",
    "            subject = find_subject(doc, word)\n",
    "            if subject:\n",
    "                return subject\n",
    "\n",
    "    return None"
   ]
  },
  {
   "cell_type": "code",
   "execution_count": 10,
   "id": "f8e1a5af-8f9a-4ee0-9097-e01f83892dc3",
   "metadata": {},
   "outputs": [],
   "source": [
    "def find_noun(doc, word):\n",
    "    dependents = find_dependents(word.id, doc)\n",
    "    for dependent in dependents:\n",
    "        if dependent.deprel == \"nmod:poss\":\n",
    "            return find_noun(doc, dependent)\n",
    "    if word.upos == \"NOUN\" or word.upos == \"PRON\":\n",
    "        return word\n",
    "    return None"
   ]
  },
  {
   "cell_type": "code",
   "execution_count": 11,
   "id": "a1845811-dd25-40de-ac86-656afae5df8c",
   "metadata": {},
   "outputs": [],
   "source": [
    "def same_reference(sentence, a, b, doc=None):\n",
    "    if not doc:\n",
    "        doc = nlp(sentence)\n",
    "\n",
    "    model = FCoref(enable_progress_bar=False)\n",
    "    \n",
    "    noun_a = find_noun(doc, a)\n",
    "    noun_b = find_noun(doc, b)\n",
    "\n",
    "    if not noun_a or not noun_b:\n",
    "        return False\n",
    "\n",
    "    a_pos = (noun_a.start_char, noun_a.end_char)\n",
    "    b_pos = (noun_b.start_char, noun_b.end_char)\n",
    "\n",
    "    a_found = False\n",
    "    b_found = False\n",
    "    \n",
    "    clusters = model.predict(texts=[sentence])[0].get_clusters(as_strings=False)\n",
    "    for cluster in clusters:\n",
    "        for c in cluster:\n",
    "            if a_pos[0] >= c[0] and a_pos[0] <= c[1] and a_pos[1] >= c[0] and a_pos[1] <= c[1]:\n",
    "                a_found = True\n",
    "            if b_pos[0] >= c[0] and b_pos[0] <= c[1] and b_pos[1] >= c[0] and b_pos[1] <= c[1]:\n",
    "                b_found = True\n",
    "            if a_found and b_found:\n",
    "                return True\n",
    "\n",
    "    return False"
   ]
  },
  {
   "cell_type": "code",
   "execution_count": 12,
   "id": "43f5626e-a108-496a-8aee-3a3652bbb46c",
   "metadata": {},
   "outputs": [],
   "source": [
    "def find_relations(sentence):\n",
    "    relations = []\n",
    "    doc = nlp(sentence)\n",
    "    for sent in doc.sentences:\n",
    "        for word in sent.words:\n",
    "            if word.upos != \"VERB\":\n",
    "                continue\n",
    "            verb = word\n",
    "            object = find_object(doc, verb)\n",
    "            subject = find_subject(doc, verb)\n",
    "            if verb and object and subject and not same_reference(sentence, object, subject, doc=doc) and is_species_or_trait(sentence, object) and is_species_or_trait(sentence, subject):\n",
    "                relations.append({\"verb\": verb, \"object\": object, \"subject\": subject})\n",
    "    return relations"
   ]
  },
  {
   "cell_type": "code",
   "execution_count": 13,
   "id": "1e0ae5b8-b93c-44cb-a248-1d8b7280699a",
   "metadata": {},
   "outputs": [],
   "source": [
    "def find_context(sentence, stanza_word):\n",
    "    snlp = spacy.load(\"en_core_web_sm\")\n",
    "    matcher = Matcher(snlp.vocab)\n",
    "    \n",
    "    pattern = [\n",
    "        {\"POS\": {\"IN\": [\"DET\", \"ADJ\", \"NOUN\", \"PROPN\"]}, \"OP\": \"+\"},\n",
    "        {\"POS\": \"ADP\", \"OP\": \"?\"},\n",
    "        {\"POS\": {\"IN\": [\"DET\", \"ADJ\", \"NOUN\", \"PROPN\"]}, \"OP\": \"+\"}\n",
    "    ]\n",
    "    matcher.add(\"NOUN_PHRASE\", [pattern])\n",
    "\n",
    "    doc = snlp(sentence)\n",
    "    spans = [doc[start:end] for _, start, end in matcher(doc)]\n",
    "    for span in spacy.util.filter_spans(spans):\n",
    "        for word in span:\n",
    "            if stanza_word.start_char == word.idx and stanza_word.end_char == (word.idx + len(word)):\n",
    "                return span\n",
    "\n",
    "    return None"
   ]
  },
  {
   "cell_type": "code",
   "execution_count": 14,
   "id": "c17505e9-e46f-46fb-8c39-3a3167607fcf",
   "metadata": {},
   "outputs": [],
   "source": [
    "def find_species_or_trait(context_span):\n",
    "    contains_traits = \"\"\n",
    "    contains_species = \"\"\n",
    "\n",
    "    # There is no current way to determine whether\n",
    "    # a species is included or not, I'd have to fine-tune\n",
    "    # a model for that. So, for now, I'm hard-coding it.\n",
    "    for word in context_span:\n",
    "        if word.text[0:2] == \"TR\":\n",
    "            contains_traits = \"TR\"\n",
    "        if word.text[0:2] == \"SP\":\n",
    "            contains_species = \"SP\"\n",
    "\n",
    "    return [contains_traits, contains_species]"
   ]
  },
  {
   "cell_type": "code",
   "execution_count": 15,
   "id": "83dd22b4-3f22-4969-bbbb-bb495b4aeb8e",
   "metadata": {},
   "outputs": [],
   "source": [
    "def is_species_or_trait(sentence, stanza_word):\n",
    "    context = find_context(sentence, stanza_word)\n",
    "    if not context:\n",
    "        return False\n",
    "    \n",
    "    st_context = find_species_or_trait(context)\n",
    "    return st_context[0] != \"\" or st_context[1] != \"\""
   ]
  },
  {
   "cell_type": "code",
   "execution_count": 46,
   "id": "a77d961b-b6a9-41db-a30d-b58a29b6bf4e",
   "metadata": {},
   "outputs": [
    {
     "name": "stdout",
     "output_type": "stream",
     "text": [
      "Sentence: \"Presence of SPECIES1 reduced the TRAIT of SPECIES2 on SPECIES3\"\n"
     ]
    },
    {
     "name": "stderr",
     "output_type": "stream",
     "text": [
      "03/14/2025 18:25:17 - INFO - \t missing_keys: []\n",
      "03/14/2025 18:25:17 - INFO - \t unexpected_keys: []\n",
      "03/14/2025 18:25:17 - INFO - \t mismatched_keys: []\n",
      "03/14/2025 18:25:17 - INFO - \t error_msgs: []\n",
      "03/14/2025 18:25:17 - INFO - \t Model Parameters: 90.5M, Transformer: 82.1M, Coref head: 8.4M\n",
      "03/14/2025 18:25:17 - INFO - \t Tokenize 1 inputs...\n"
     ]
    },
    {
     "data": {
      "application/vnd.jupyter.widget-view+json": {
       "model_id": "e384c69d5c28433fab3ec0860cecc221",
       "version_major": 2,
       "version_minor": 0
      },
      "text/plain": [
       "Map:   0%|          | 0/1 [00:00<?, ? examples/s]"
      ]
     },
     "metadata": {},
     "output_type": "display_data"
    },
    {
     "name": "stderr",
     "output_type": "stream",
     "text": [
      "03/14/2025 18:25:17 - INFO - \t ***** Running Inference on 1 texts *****\n"
     ]
    },
    {
     "name": "stdout",
     "output_type": "stream",
     "text": [
      "Subject: \"Presence\"\n",
      "Subject Context: \"Presence of SPECIES1\"\n",
      "\n",
      "Verb: \"reduced\"\n",
      "\n",
      "Object: \"TRAIT\"\n",
      "Object Context: \"the TRAIT of SPECIES2\"\n"
     ]
    }
   ],
   "source": [
    "sentence_basic = \"Presence of SPECIES1 reduced the TRAIT of SPECIES2 on SPECIES3\"\n",
    "print(f\"Sentence: \\\"{sentence_basic}\\\"\")\n",
    "relations = find_relations(sentence_basic)\n",
    "\n",
    "if not relations:\n",
    "    print(\"No Relations\")\n",
    "for r in relations:\n",
    "    print(f\"Subject: \\\"{r['subject'].text}\\\"\")\n",
    "    print(f\"Subject Context: \\\"{find_context(sentence_basic, r['subject'])}\\\"\\n\")\n",
    "    print(f\"Verb: \\\"{r['verb'].text}\\\"\\n\")\n",
    "    print(f\"Object: \\\"{r['object'].text}\\\"\")\n",
    "    print(f\"Object Context: \\\"{find_context(sentence_basic, r['object'])}\\\"\")"
   ]
  },
  {
   "cell_type": "code",
   "execution_count": 48,
   "id": "e7e7bc3c-609b-4ddb-a1c9-f93ba2211462",
   "metadata": {},
   "outputs": [
    {
     "name": "stdout",
     "output_type": "stream",
     "text": [
      "Sentence: \"Bob reduced Joe's level of stress.\"\n"
     ]
    },
    {
     "name": "stderr",
     "output_type": "stream",
     "text": [
      "03/14/2025 19:04:35 - INFO - \t missing_keys: []\n",
      "03/14/2025 19:04:35 - INFO - \t unexpected_keys: []\n",
      "03/14/2025 19:04:35 - INFO - \t mismatched_keys: []\n",
      "03/14/2025 19:04:35 - INFO - \t error_msgs: []\n",
      "03/14/2025 19:04:35 - INFO - \t Model Parameters: 90.5M, Transformer: 82.1M, Coref head: 8.4M\n"
     ]
    },
    {
     "name": "stdout",
     "output_type": "stream",
     "text": [
      "No Relations\n"
     ]
    }
   ],
   "source": [
    "sentence_basic = \"Bob reduced Joe's level of stress.\"\n",
    "print(f\"Sentence: \\\"{sentence_basic}\\\"\")\n",
    "relations = find_relations(sentence_basic)\n",
    "\n",
    "if not relations:\n",
    "    print(\"No Relations\")\n",
    "for r in relations:\n",
    "    print(f\"Subject: \\\"{r['subject'].text}\\\"\")\n",
    "    print(f\"Subject Context: \\\"{find_context(sentence_basic, r['subject'])}\\\"\\n\")\n",
    "    print(f\"Verb: \\\"{r['verb'].text}\\\"\\n\")\n",
    "    print(f\"Object: \\\"{r['object'].text}\\\"\")\n",
    "    print(f\"Object Context: \\\"{find_context(sentence_basic, r['object'])}\\\"\")"
   ]
  },
  {
   "cell_type": "code",
   "execution_count": 2,
   "id": "fcbcbc37-0f0a-4ae3-b36e-beae5c69f69f",
   "metadata": {},
   "outputs": [],
   "source": [
    "abstracts = [\n",
    "    \"Many prey modify traits in response to predation risk and this modification of traits can influence the prey's resource acquisition rate. A predator thus can have a â€œnonlethalâ€ impact on prey that can lead to indirect effects on other community members. Such indirect interactions are termed trait-mediated indirect interactions because they arise from a predator's influence on prey traits, rather than prey density. Because such nonlethal predator effects are immediate, can influence the entire prey population, and can occur over the entire prey lifetime, we argue that nonlethal predator effects are likely to contribute strongly to the net indirect effects of predators (i.e., nonlethal effects may be comparable in magnitude to those resulting from killing prey). This prediction was supported by an experiment in which the indirect effects of a larval dragonfly (Anax sp.) predator on large bullfrog tadpoles (Rana catesbeiana), through nonlethal effects on competing small bullfrog tadpoles, were large relative to indirect effects caused by density reduction of the small tadpoles (the lethal effect). Treatments in which lethal and nonlethal effects of Anax were manipulated independently indicated that this result was robust for a large range of different combinations of lethal and nonlethal effects. Because many, if not most, prey modify traits in response to predators, our results suggest that the magnitude of interaction coefficients between two species may often be dynamically related to changes in other community members, and that many indirect effects previously attributed to the lethal effects of predators may instead be due to shifts in traits of surviving prey.\",\n",
    "    \"With global change modifying species assemblages, our success in predicting ecosystem level consequences of these new communities will depend, in part, on our ability to understand biotic interactions. Current food web theory considers interactions between numerous species simultaneously, but descriptive models are unable to predict interactions between newly co-occurring species. Incorporating proxies such as functional traits and phylogeny into models could help infer predator/ prey interactions. Here we used trait-matching between predator feeding traits and prey vulnerability traits, along with phylogeny (used as a proxy for chemical defence and other traits difficult to document), to infer predatory interactions using ground beetles as model organisms. A feeding experiment was conducted involving 20 ground beetle and 115 prey species to determine which pair of species did or did not interact. Eight predator and four prey functional traits were measured directly on specimens. Then, using a modeling approach based on the matching-centrality formalism, we evaluated 511 predictive ecological models that tested different combinations of all predator and prey functional traits, and phylogenetic information. The most parsimonious model accurately predicted 81 % of the observed realized and unrealized interactions, using phylogenetic information and the trait-matches predator biting force/ prey cuticular toughness and predator/ prey body size ratio. The best trait-based models predicted correctly >80 % which species interact (realized interactions), but predict 75 %. The matching of predator biting force and prey cuticular toughness demonstrated a better predictive power than the commonly used predator/ prey body size ratio. Our novel model combining both functional traits and phylogeny extends beyond existing descriptive approaches and could represent a valuable tool to predict consumer/ resource interactions of newly introduced species and to resolve cryptic food webs. This article is protected by copyright. All rights reserved.\",\n",
    "    \"Only a fraction of the individuals in a given prey population are likely to be killed and consumed by predators. In contrast, nearly all individuals experience the chronic effects of predation risk. When threatened by predators, prey adopt defensive tactics whose costs can lead to reduced growth, maturation rates, survivorship, fecundity, or pop- ulation density. This nonconsumptive impact of predation risk on prey is known as a ''trait- mediated interaction'' (TMI) because it results from changes in prey traits such as behavior or physiology. Ecological theory suggests that the strength of TMI effects will reflect a balance between the conflicting demands of reproduction vs. predator avoidance. Competitor density and resource availability are expected to alter the balance between these conflicting forces. We conducted a meta-analysis of experimental studies that measured TMI effect size while varying competitor and/or resource density. The threat of predation had an overall negative effect on prey performance, but the strength of this effect varied with the level of competition. High competition exacerbated the negative effect of intimidation on prey density but moderated the negative effect of intimidation on prey life history and growth. We discuss these results in light of previously published theoretical expectations. Our results highlight the variable and context-dependent nature of interspecific interactions.\",\n",
    "    \"Trait-mediated interactions (TMII) can alter the outcome or magnitude of species interactions. We examined how the interaction between a guild of ground and rove beetles and their fly egg prey was altered by a larger predator, the ground beetle Pterostichus melanarius, and an additional prey, aphids. In field and laboratory experiments, we manipulated the presence or absence of P. melanarius and aphids and recorded the impact of these manipulations on beetle activity and fly egg predation. Individually, aphids, by serving as preferred prey, and P. melanarius, by reducing focal beetle activity, weakened egg predation. However, egg predation was restored when both aphids and P. melanarius were present together, because aphids triggered greater foraging activity, and thus increased incidental predation of fly eggs, by P. melanarius. Thus, TMII among subsets of the community that were disruptive to predation on fly eggs could not be summed to predict the dominant, positive TMII within a more diverse community. Future TMII studies should include more realistic representations of species diversity, and should not ignore the influence of prey on predator behavior.\",\n",
    "    \"This investigation examines the role of trait-mediated indirect interactions in a simple aquatic food web. We conducted the experiments in cattle watering tanks in order to establish whether competitive and predator-prey interactions between two species are affected by other species in the system; i.e., are pairwise interaction strengths affected by the background species assemblage? We examined the survival and growth response of small bullfrog (Rana catesbeiana) and small green frog (Rana clamitans) tadpoles in the presence and absence of a competitor (large bullfrogs), the lethal presence of the larval odonate predator Tramea lacerata,and the nonlethal (caged) presence of the larval odonate predators Anax junius and Anax longipes. We demonstrate that large bullfrog competitors and caged Anax affect traits (foraging activity level) of small bullfrog and small green frog tadpoles and that these changes in traits, in turn, affect interactions of the small tadpole species with each other and with the other species. In particular, the following four trait- mediated indirect interactions were evident: (1) Presence of large bullfrog competitors increased the predation rate of Trameaon small green frogs and small bullfrogs. (2) Presence of nonlethal Anax reduced the predation rate of Tramea on small green frogs. (3) Presence of nonlethal Anax increased the competitive advantage of bullfrogs over green frogs. (4) Presence of nonlethal Anax facilitated midge invasion of the experimental units. The pro- posed mechanisms (changes in small tadpole activity) involved in these trait-mediated indirect interactions were supported by observational data on tadpole activity and resource levels in the experimental units, and in laboratory experiments examining tadpole activity responses to predators. The occurrence of strong trait-mediated indirect interactions in this simple food web underscores the potential importance of such interactions in animal communities.\",\n",
    "    \"Trait-mediated interactions (TMIs), in which trophic and competitive inter- actions depend on individual traits as well as on overall population densities, have inspired large amounts of research, but theoretical and empirical studies have not been well con- nected. To help mitigate this problem, we review and synthesize the theoretical literature on TMIs and, in particular, on trait-mediated indirect interactions, TMIIs, in which the presence of one species mediates the interaction between a second and third species. (1) In models, TMIs tend to stabilize simple communities; adding further biological detail often reduces stability in models, but populations may persist even if their dynamics become mathematically unstable. (2) Short- and long-term changes in population density caused by TMIs depend even more on details, such as the curvature of functional responses and trade-offs, which have rarely been measured. (3) The effects of TMIs in multipredator communities depend in a straightforward way on the specificity of prey defenses. (4) Tritrophic and more complex communities are theoretically difficult; few general conclu- sions have emerged. Theory needs new kinds of experiments as a guide. The most critical needs are experiments that measure curvatures of trade-offs and responses, and experiments that (combined with theory) allow us to scale from short- to long-term responses of com- munities. Anecdotal evidence from long-term and large-scale studies suggests that TMIs may affect community dynamics at practical management scales; community models in- corporating TMIs are necessary and require closer collaborations between theory and ex-\",\n",
    "    \"Non-lethal, trait-mediated effects of predation impact prey behavior and life-history traits. Studying how these effects in turn influence prey demography is crucial to understand prey life-history evolution. Mosquitoes are important vectors that claim several million lives every year worldwide by transmitting a range of pathogens. Several ecological factors affect life-history traits of both larval and adult mosquitoes, creating effects that cascade to population-level consequences. Few studies have comprehensively explored the non-lethal effects of predation and its interactions with resources and competition on larval, adult, and population traits of mosquitoes. Understanding these interactions is important because the effects of predation are hypothesized to rescue prey populations from the effects of density-dependence resulting from larval competition. Aedes aegypti larvae reared at two different larval densities and subjected to three non-lethal predator treatments were monitored for survival, development time, and adult size through the larval stages to adult eclosion, and adult females were monitored for survival and reproduction through their first gonotrophic cycle. Intraspecific competition increased larval development time, yielded small-bodied adults, and reduced fecundity in individuals exposed to predatory chemical cues as larvae. Exposure to cues from a living predator affected both body size and latency to blood feed in females. Analysis of life-table traits revealed significant effects of competition on net reproductive rate (R 0) of mosquitoes. The interaction between competition and predator treatments significantly affected the cohort rate of increase (r) and the index of performance (r'). The index of performance, which estimates rate of population change based on the size-fecundity relationship, was significantly and positively correlated with r, but overestimated r slightly. Lack of significant effect of predator treatments and larval density on cohort generation time (T c) further suggests that the observed effects of treatments on r and r' were largely a consequence of the effects on R 0. Also, the significant effects of treatment combinations on larval development time, adult body size and fecundity were ultimately manifested as effects on life-table traits estimated from adult survival and reproduction.\",\n",
    "    \"The outcome of species interactions is often strongly influenced by variation in the functional traits of the individuals participating. A rather large body of work demonstrates that inducible morphological plasticity in predators and prey can both influence and be influenced by species interaction strength, with important consequences for individual fitness. Much of the past research in this area has focused on the ecological and evolutionary significance of trait plasticity by studying single predatorâ€“prey pairs and testing the performance of individuals having induced and noninduced phenotypes. This research has thus been critical in improving our understanding of the adaptive value of trait plasticity and its widespread occurrence across species and community types. More recently, researchers have expanded this foundation by examining how the complexity of organismal design and community-level properties can shape plasticity in functional traits. In addition, researchers have begun to merge evolutionary and ecological perspectives by linking trait plasticity to community dynamics, with particular attention on trait-mediated indirect interactions. Here, we review recent studies on inducible morphological plasticity in predators and their prey with an emphasis on internal and external constraints and how the nature of predatorâ€“prey interactions influences the expression of inducible phenotypes. In particular, we focus on multiple-trait plasticity, flexibility and modification of inducible plasticity, and reciprocal plasticity between predator and prey. Based on our arguments on these issues, we propose future research directions that should better integrate evolutionary and population studies and thus improve our understanding of the role of phenotypic plasticity in predatorâ€“prey population and community dynamics.\",\n",
    "    \"This article compares indirect trait-mediated interactions in simple resource-consumer-predator food webs with those that are density-mediated. It focuses on two well documented responses of consumers to predation risk: decrease in consumer activity and habitat switch. These behavioral effects are transmitted to resources and they cause similar indirect effects as those which are mediated by density changes in consumers. Two indirect interactions are studied in this article: trophic cascades, and apparent competition. Results for density only, trait only and combined density and trait mediated interactions are compared and discussed with respect to manipulation with predator density (top-down manipulation) and resource environmental capacity (bottom-up manipulation). The article shows that trait-mediated, effects on species equilibrial densities are similar to those of density-mediated, but they are often highly non-linear. Thus, they may have potential for even stronger impact on food webs than those which are density mediated.\",\n",
    "    \"In this paper we review the empirical studies documenting trait-mediated indirect interactions (TMIIs) in food webs. Basic models and empirical approaches that form the foundation of our conceptualization of species interactions generally assume that interactions are an intrinsic property of the two interacting species and therefore are governed by their respective densities. However, if a species reacts to the presence of a second species by altering its phenotype, then the trait changes in the reacting species can alter the per capita effect of the reacting species on other species and, consequently, population density or fitness of the other species. Such trait-mediated indirect interactions can reinforce or oppose density-mediated effects and have been largely overlooked by community ecologists. We first briefly develop the case for the broad mechanistic basis for TMIIs and then review the direct evidence for TMIIs in various permutations of simple three- to four species food webs. We find strong evidence for quantitatively significant effects of TMIIs in a variety of aquatic and terrestrial systems. We further highlight those few studies that address the question of the relative magnitudes of density- and trait-mediated effects and the role of species densities in their transmission. These studies indicate that trait effects are often as strong or stronger than density effects. We conclude that ecologicalcommunities are replete with TMIIs arising from trait plasticity and that these effects are quantitatively important to community dynamics. Finally, we synthesize our results and indicate profitable directions for future research.\"\n",
    "    '''Trait-mediated interactions (TMII) can alter the outcome or magnitude of\n",
    "     species interactions. We examined how the interaction between a guild of ground and rove\n",
    "     beetles and their fly egg prey was altered by a larger predator, the ground beetle Pterostichus\n",
    "     melanarius, and an additional prey, aphids. In field and laboratory experiments, we\n",
    "     manipulated the presence or absence of P. melanarius and aphids and recorded the impact\n",
    "     of these manipulations on beetle activity and fly egg predation. Individually, aphids, by\n",
    "     serving as preferred prey, and P. melanarius, by reducing focal beetle activity, weakened egg\n",
    "     predation. However, egg predation was restored when both aphids and P. melanarius were\n",
    "     present together, because aphids triggered greater foraging activity, and thus increased\n",
    "     incidental predation of fly eggs, by P. melanarius. Thus, TMII among subsets of the\n",
    "     community that were disruptive to predation on fly eggs could not be summed to predict the\n",
    "     dominant, positive TMII within a more diverse community. Future TMII studies should\n",
    "     include more realistic representations of species diversity, and should not ignore the influence\n",
    "     of prey on predator behavior.\n",
    "    ''',\n",
    "    ''' Natural enemies not only influence prey density but they can also cause the modification of traits\n",
    "         in their victims. While such non-lethal effects can be very\n",
    "         important for the dynamic and structure of prey popula\n",
    "         tions, little is known about their interaction with the\n",
    "         density-mediated effects of natural enemies. We investi\n",
    "         gated the relationship between predation rate, prey\n",
    "         density and trait modification in two aphid-aphid predator\n",
    "         interactions. Pea aphids (Acyrthosiphon pisum, Harris)\n",
    "         have been shown to produce winged dispersal morphs in\n",
    "         response to the presence of ladybirds or parasitoid natural\n",
    "         enemies. This trait modification influences the ability of\n",
    "         aphids to disperse and to colonise new habitats, and hence\n",
    "         has a bearing on the population dynamics of the prey. In\n",
    "         two experiments we examined wing induction in pea\n",
    "         aphids as a function of the rate of predation when\n",
    "         hoverfly larvae (Episyrphus balteatus) and lacewing\n",
    "         larvae (Chrysoperla carnea) were allowed to forage in\n",
    "         pea aphid colonies. Both hoverfly and lacewing larvae\n",
    "         caused a significant increase in the percentage of winged\n",
    "         morphs among offspring compared to control treatments,\n",
    "         emphasising that wing induction in the presence of natural\n",
    "         enemies is a general response in pea aphids. The\n",
    "         percentage of winged offspring was, however, dependent\n",
    "         on the rate of predation, with a small effect of predation\n",
    "         on aphid wing induction at very high and very low\n",
    "         predation rates, and a strong response of aphids at\n",
    "         medium predation rates. Aphid wing induction was\n",
    "         influenced by the interplay between predation rate and\n",
    "         the resultant prey density. Our results suggests that\n",
    "         density-mediated and trait-mediated effects of natural\n",
    "         enemies are closely connected to each other and jointly\n",
    "         determine the effect of natural enemies on prey popula\n",
    "        tion dynamics.\n",
    "    '''\n",
    "]"
   ]
  },
  {
   "cell_type": "code",
   "execution_count": 17,
   "id": "9a0ab188-ff96-4452-a29d-d89a1ce25403",
   "metadata": {},
   "outputs": [],
   "source": [
    "abstracts_basic = [\n",
    "    \"Many prey modify traits in response to predation risk and this modification of traits can influence the prey's resource acquisition rate. A predator thus can have a â€œnonlethalâ€ impact on prey that can lead to indirect effects on other community members. Such indirect interactions are termed trait-mediated indirect interactions because they arise from a predator's influence on prey traits, rather than prey density. Because such nonlethal predator effects are immediate, can influence the entire prey population, and can occur over the entire prey lifetime, we argue that nonlethal predator effects are likely to contribute strongly to the net indirect effects of predators (i.e., nonlethal effects may be comparable in magnitude to those resulting from killing prey). This prediction was supported by an experiment in which the indirect effects of a SPECIES1 predator on SPECIES2, through nonlethal effects on competing SPECIES3, were large relative to indirect effects caused by density reduction of the small tadpoles (the lethal effect). Treatments in which lethal and nonlethal effects of Anax were manipulated independently indicated that this result was robust for a large range of different combinations of lethal and nonlethal effects. Because many, if not most, prey modify traits in response to predators, our results suggest that the magnitude of interaction coefficients between two species may often be dynamically related to changes in other community members, and that many indirect effects previously attributed to the lethal effects of predators may instead be due to shifts in traits of surviving prey.\",\n",
    "    \"With global change modifying species assemblages, our success in predicting ecosystem level consequences of these new communities will depend, in part, on our ability to understand biotic interactions. Current food web theory considers interactions between numerous species simultaneously, but descriptive models are unable to predict interactions between newly co-occurring species. Incorporating proxies such as functional traits and phylogeny into models could help infer predator/ prey interactions. Here we used trait-matching between predator feeding traits and prey vulnerability traits, along with phylogeny (used as a proxy for chemical defence and other traits difficult to document), to infer predatory interactions using ground beetles as model organisms. A feeding experiment was conducted involving 20 ground beetle and 115 prey species to determine which pair of species did or did not interact. Eight predator and four prey functional traits were measured directly on specimens. Then, using a modeling approach based on the matching-centrality formalism, we evaluated 511 predictive ecological models that tested different combinations of all predator and prey functional traits, and phylogenetic information. The most parsimonious model accurately predicted 81 % of the observed realized and unrealized interactions, using phylogenetic information and the trait-matches predator biting force/ prey cuticular toughness and predator/ prey body size ratio. The best trait-based models predicted correctly >80 % which species interact (realized interactions), but predict 75 %. The matching of predator biting force and prey cuticular toughness demonstrated a better predictive power than the commonly used predator/ prey body size ratio. Our novel model combining both functional traits and phylogeny extends beyond existing descriptive approaches and could represent a valuable tool to predict consumer/ resource interactions of newly introduced species and to resolve cryptic food webs. This article is protected by copyright. All rights reserved.\",\n",
    "    \"Only a fraction of the individuals in a given prey population are likely to be killed and consumed by predators. In contrast, nearly all individuals experience the chronic effects of predation risk. When threatened by predators, prey adopt defensive tactics whose costs can lead to reduced growth, maturation rates, survivorship, fecundity, or pop- ulation density. This nonconsumptive impact of predation risk on prey is known as a ''trait- mediated interaction'' (TMI) because it results from changes in prey traits such as behavior or physiology. Ecological theory suggests that the strength of TMI effects will reflect a balance between the conflicting demands of reproduction vs. predator avoidance. Competitor density and resource availability are expected to alter the balance between these conflicting forces. We conducted a meta-analysis of experimental studies that measured TMI effect size while varying competitor and/or resource density. The threat of predation had an overall negative effect on prey performance, but the strength of this effect varied with the level of competition. High competition exacerbated the negative effect of intimidation on prey density but moderated the negative effect of intimidation on prey life history and growth. We discuss these results in light of previously published theoretical expectations. Our results highlight the variable and context-dependent nature of interspecific interactions.\",\n",
    "    \"Trait-mediated interactions (TMII) can alter the outcome or magnitude of species interactions. We examined how the interaction between a guild of ground and rove beetles and their fly egg prey was altered by a larger predator, the ground beetle Pterostichus melanarius, and an additional prey, aphids. In field and laboratory experiments, we manipulated the presence or absence of P. melanarius and aphids and recorded the impact of these manipulations on beetle activity and fly egg predation. Individually, aphids, by serving as preferred prey, and P. melanarius, by reducing focal beetle activity, weakened egg predation. However, egg predation was restored when both aphids and P. melanarius were present together, because aphids triggered greater foraging activity, and thus increased incidental predation of fly eggs, by P. melanarius. Thus, TMII among subsets of the community that were disruptive to predation on fly eggs could not be summed to predict the dominant, positive TMII within a more diverse community. Future TMII studies should include more realistic representations of species diversity, and should not ignore the influence of prey on predator behavior.\",\n",
    "    \"This investigation examines the role of trait-mediated indirect interactions in a simple aquatic food web. We conducted the experiments in cattle watering tanks in order to establish whether competitive and predator-prey interactions between two species are affected by other species in the system; i.e., are pairwise interaction strengths affected by the background species assemblage? We examined the survival and growth response of SPECIES_SMALL_BULLFROG and SPECIES_SMALL_GREEN_FROG in the presence and absence of a competitor SPECIES_LARGE_BULLFROG, the lethal presence of the SPECIES_LARVAL_TRAMEA_LACERATA,and the nonlethal (caged) presence of the larval odonate predators SPECIES_LARVAL_ANAX_JUNIUS and SPECIES_LARVAL_ANAX_LONGPIPES. We demonstrate that SPECIES_LARGE_BULLFROG competitors and caged SPECIES_ANAX affect traits (TRAIT) of SPECIES_SMALL_BULLFROG and SPECIES_SMALL_GREEN_FROG and that these changes in traits, in turn, affect interactions of the small tadpole species with each other and with the other species. In particular, the following four trait- mediated indirect interactions were evident: (1) Presence of SPECIES_BULLFROG competitors increased the predation rate of SPECIES_SMALL_GREEN_FROGS and SPECIES_SMALL_BULLFROGS. (2) Presence of nonlethal SPECIES_ANAX reduced the TRAIT of SPECIES_TRAMEA on SPECIES_SMALL_GREEN_FROGS. (3) Presence of nonlethal SPECIES_ANAX increased the TRAIT of SPECIES_BULLFROG over SPECIES_GREEN_FROGS. (4) Presence of nonlethal SPECIES_ANAX facilitated midge invasion of the experimental units. The pro- posed mechanisms (changes in small tadpole activity) involved in these trait-mediated indirect interactions were supported by observational data on tadpole activity and resource levels in the experimental units, and in laboratory experiments examining tadpole activity responses to predators. The occurrence of strong trait-mediated indirect interactions in this simple food web underscores the potential importance of such interactions in animal communities.\",\n",
    "    \"Trait-mediated interactions (TMIs), in which trophic and competitive inter- actions depend on individual traits as well as on overall population densities, have inspired large amounts of research, but theoretical and empirical studies have not been well con- nected. To help mitigate this problem, we review and synthesize the theoretical literature on TMIs and, in particular, on trait-mediated indirect interactions, TMIIs, in which the presence of one species mediates the interaction between a second and third species. (1) In models, TMIs tend to stabilize simple communities; adding further biological detail often reduces stability in models, but populations may persist even if their dynamics become mathematically unstable. (2) Short- and long-term changes in population density caused by TMIs depend even more on details, such as the curvature of functional responses and trade-offs, which have rarely been measured. (3) The effects of TMIs in multipredator communities depend in a straightforward way on the specificity of prey defenses. (4) Tritrophic and more complex communities are theoretically difficult; few general conclu- sions have emerged. Theory needs new kinds of experiments as a guide. The most critical needs are experiments that measure curvatures of trade-offs and responses, and experiments that (combined with theory) allow us to scale from short- to long-term responses of com- munities. Anecdotal evidence from long-term and large-scale studies suggests that TMIs may affect community dynamics at practical management scales; community models in- corporating TMIs are necessary and require closer collaborations between theory and ex-\",\n",
    "    # Not incredibly sure, from this abstract, whether this would be related to the TAH or not.\n",
    "    \"Non-lethal, trait-mediated effects of predation impact prey behavior and life-history traits. Studying how these effects in turn influence prey demography is crucial to understand prey life-history evolution. SPECIES_MOSQUITOES are important vectors that claim several million lives every year worldwide by transmitting a range of pathogens. Several ecological factors affect life-history traits of both larval and adult SPECIES_MOSQUITOES, creating effects that cascade to population-level consequences. Few studies have comprehensively explored the non-lethal effects of predation and its interactions with resources and competition on larval, adult, and population traits of SPECIES_MOSQUITOES. Understanding these interactions is important because the effects of predation are hypothesized to rescue prey populations from the effects of density-dependence resulting from larval competition. SPECIES_LARVAE reared at two different TRAIT_LEVELS and subjected to three non-lethal predator treatments were monitored for survival, development time, and adult size through the larval stages to adult eclosion, and adult females were monitored for survival and reproduction through their first gonotrophic cycle. Intraspecific competition increased TRAIT1, yielded TRAIT2, and reduced TRAIT3 in individuals exposed to predatory chemical cues as SPECIES_LARVAE. Exposure to cues from a living predator affected both TRAIT4 and TRAIT5 in females. Analysis of life-table traits revealed significant effects of competition on TRAIT7 (R 0) of SPECIES_MOSQUITOES. The interaction between competition and predator treatments significantly affected the cohort rate of increase (r) and the index of performance (r'). The index of performance, which estimates rate of population change based on the size-fecundity relationship, was significantly and positively correlated with r, but overestimated r slightly. Lack of significant effect of predator treatments and larval density on cohort generation time (T c) further suggests that the observed effects of treatments on r and r' were largely a consequence of the effects on R 0. Also, the significant effects of treatment combinations on larval development time, adult body size and fecundity were ultimately manifested as effects on life-table traits estimated from adult survival and reproduction.\",\n",
    "    \"The outcome of species interactions is often strongly influenced by variation in the functional traits of the individuals participating. A rather large body of work demonstrates that inducible morphological plasticity in predators and prey can both influence and be influenced by species interaction strength, with important consequences for individual fitness. Much of the past research in this area has focused on the ecological and evolutionary significance of trait plasticity by studying single predatorâ€“prey pairs and testing the performance of individuals having induced and noninduced phenotypes. This research has thus been critical in improving our understanding of the adaptive value of trait plasticity and its widespread occurrence across species and community types. More recently, researchers have expanded this foundation by examining how the complexity of organismal design and community-level properties can shape plasticity in functional traits. In addition, researchers have begun to merge evolutionary and ecological perspectives by linking trait plasticity to community dynamics, with particular attention on trait-mediated indirect interactions. Here, we review recent studies on inducible morphological plasticity in predators and their prey with an emphasis on internal and external constraints and how the nature of predatorâ€“prey interactions influences the expression of inducible phenotypes. In particular, we focus on multiple-trait plasticity, flexibility and modification of inducible plasticity, and reciprocal plasticity between predator and prey. Based on our arguments on these issues, we propose future research directions that should better integrate evolutionary and population studies and thus improve our understanding of the role of phenotypic plasticity in predatorâ€“prey population and community dynamics.\",\n",
    "    \"This article compares indirect trait-mediated interactions in simple resource-consumer-predator food webs with those that are density-mediated. It focuses on two well documented responses of consumers to predation risk: decrease in consumer activity and habitat switch. These behavioral effects are transmitted to resources and they cause similar indirect effects as those which are mediated by density changes in consumers. Two indirect interactions are studied in this article: trophic cascades, and apparent competition. Results for density only, trait only and combined density and trait mediated interactions are compared and discussed with respect to manipulation with predator density (top-down manipulation) and resource environmental capacity (bottom-up manipulation). The article shows that trait-mediated, effects on species equilibrial densities are similar to those of density-mediated, but they are often highly non-linear. Thus, they may have potential for even stronger impact on food webs than those which are density mediated.\",\n",
    "    \"In this paper we review the empirical studies documenting trait-mediated indirect interactions (TMIIs) in food webs. Basic models and empirical approaches that form the foundation of our conceptualization of species interactions generally assume that interactions are an intrinsic property of the two interacting species and therefore are governed by their respective densities. However, if a species reacts to the presence of a second species by altering its phenotype, then the trait changes in the reacting species can alter the per capita effect of the reacting species on other species and, consequently, population density or fitness of the other species. Such trait-mediated indirect interactions can reinforce or oppose density-mediated effects and have been largely overlooked by community ecologists. We first briefly develop the case for the broad mechanistic basis for TMIIs and then review the direct evidence for TMIIs in various permutations of simple three- to four species food webs. We find strong evidence for quantitatively significant effects of TMIIs in a variety of aquatic and terrestrial systems. We further highlight those few studies that address the question of the relative magnitudes of density- and trait-mediated effects and the role of species densities in their transmission. These studies indicate that trait effects are often as strong or stronger than density effects. We conclude that ecologicalcommunities are replete with TMIIs arising from trait plasticity and that these effects are quantitatively important to community dynamics. Finally, we synthesize our results and indicate profitable directions for future research.\"\n",
    "    '''Trait-mediated interactions (TMII) can alter the outcome or magnitude of\n",
    "     species interactions. We examined how the interaction between a guild of ground and SPECIES1 and their fly SPECIES2 was altered by a larger predator, the ground beetle SPECIESPMEL, and an additional prey, aphids. In field and laboratory experiments, we\n",
    "     manipulated the presence or absence of SPECIESPMEL and SPECIESAPHIDS and recorded the impact\n",
    "     of these manipulations on TRAIT and TRAIT2. Individually, SPECIESAPHIDS, by\n",
    "     serving as preferred prey, and SPECIESPMEL, by reducing focal TRAIT1, weakened TRAIT2. However, TRAIT1 was restored when both SPECIESAPHIDS and SPECIESPMEL were\n",
    "     present together, because SPECIESAPHIDS triggered greater TRAIT, and thus increased\n",
    "     incidental TRAIT of SPECIESFLYEGGS, by SPECIESPMEL. Thus, TMII among subsets of the\n",
    "     community that were disruptive to TRAIT on SPECIESFLYEGGS could not be summed to predict the\n",
    "     dominant, positive TMII within a more diverse community. Future TMII studies should\n",
    "     include more realistic representations of species diversity, and should not ignore the influence\n",
    "     of prey on predator behavior.\n",
    "    ''',\n",
    "    ''' Natural enemies not only influence prey density but they can also cause the modification of traits\n",
    "         in their victims. While such non-lethal effects can be very\n",
    "         important for the dynamic and structure of prey popula\n",
    "         tions, little is known about their interaction with the\n",
    "         density-mediated effects of natural enemies. We investi\n",
    "         gated the relationship between predation rate, prey\n",
    "         density and trait modification in two aphid-aphid predator\n",
    "         interactions. SPECIESAPHIDS\n",
    "         have been shown to produce TRAITS in\n",
    "         response to the presence of SPECIESLADYBIRDS or SPECIESENIMIES. This trait modification influences the ability of\n",
    "         aphids to disperse and to colonise new habitats, and hence\n",
    "         has a bearing on the population dynamics of the prey. In\n",
    "         two experiments we examined TRAIT in SPECIESAPHIDS as a function of the TRAIT when\n",
    "         SPECIESHOVERFLY and SPECIESLACEWING were allowed to forage in\n",
    "         SPECIESAPHIDS colonies. Both SPECIESHOVERFLY and SPECIESLACEWING\n",
    "         caused a significant increase in the percentage of TRAIT among offspring compared to control treatments,\n",
    "         emphasising that wing induction in the presence of natural\n",
    "         enemies is a general response in SPECIESAPHIDS. The\n",
    "         percentage of winged offspring was, however, dependent\n",
    "         on the TRAIT, with a small effect of predation\n",
    "         on SPECIESAPHID TRAIT at very high and very low\n",
    "         predation rates, and a strong response of SPECIESAPHIDS at\n",
    "         medium predation rates. Aphid wing induction was\n",
    "         influenced by the interplay between predation rate and\n",
    "         the resultant prey density. Our results suggests that\n",
    "         density-mediated and trait-mediated effects of natural\n",
    "         enemies are closely connected to each other and jointly\n",
    "         determine the effect of natural enemies on prey popula\n",
    "        tion dynamics.\n",
    "    '''\n",
    "]"
   ]
  },
  {
   "cell_type": "code",
   "execution_count": 19,
   "id": "b82e7690-715a-4472-9a98-3d1a7637c8e5",
   "metadata": {
    "scrolled": true
   },
   "outputs": [
    {
     "name": "stderr",
     "output_type": "stream",
     "text": [
      "03/22/2025 14:37:37 - INFO - \t missing_keys: []\n",
      "03/22/2025 14:37:37 - INFO - \t unexpected_keys: []\n",
      "03/22/2025 14:37:37 - INFO - \t mismatched_keys: []\n",
      "03/22/2025 14:37:37 - INFO - \t error_msgs: []\n",
      "03/22/2025 14:37:37 - INFO - \t Model Parameters: 90.5M, Transformer: 82.1M, Coref head: 8.4M\n",
      "03/22/2025 14:37:37 - INFO - \t Tokenize 1 inputs...\n"
     ]
    },
    {
     "data": {
      "application/vnd.jupyter.widget-view+json": {
       "model_id": "fc132dfa68f34650b61678a65987df4a",
       "version_major": 2,
       "version_minor": 0
      },
      "text/plain": [
       "Map:   0%|          | 0/1 [00:00<?, ? examples/s]"
      ]
     },
     "metadata": {},
     "output_type": "display_data"
    },
    {
     "name": "stderr",
     "output_type": "stream",
     "text": [
      "03/22/2025 14:37:37 - INFO - \t ***** Running Inference on 1 texts *****\n",
      "03/22/2025 14:37:41 - INFO - \t missing_keys: []\n",
      "03/22/2025 14:37:41 - INFO - \t unexpected_keys: []\n",
      "03/22/2025 14:37:41 - INFO - \t mismatched_keys: []\n",
      "03/22/2025 14:37:41 - INFO - \t error_msgs: []\n",
      "03/22/2025 14:37:41 - INFO - \t Model Parameters: 90.5M, Transformer: 82.1M, Coref head: 8.4M\n",
      "03/22/2025 14:37:41 - INFO - \t Tokenize 1 inputs...\n"
     ]
    },
    {
     "data": {
      "application/vnd.jupyter.widget-view+json": {
       "model_id": "ad2db198e99f44f69e6b107e93a89d58",
       "version_major": 2,
       "version_minor": 0
      },
      "text/plain": [
       "Map:   0%|          | 0/1 [00:00<?, ? examples/s]"
      ]
     },
     "metadata": {},
     "output_type": "display_data"
    },
    {
     "name": "stderr",
     "output_type": "stream",
     "text": [
      "03/22/2025 14:37:42 - INFO - \t ***** Running Inference on 1 texts *****\n"
     ]
    },
    {
     "name": "stdout",
     "output_type": "stream",
     "text": [
      "Sentence: \"Many prey modify traits in response to predation risk and this modification of traits can influence the prey's resource acquisition rate\"\n",
      "No Relations\n",
      "\n"
     ]
    },
    {
     "name": "stderr",
     "output_type": "stream",
     "text": [
      "03/22/2025 14:37:47 - INFO - \t missing_keys: []\n",
      "03/22/2025 14:37:47 - INFO - \t unexpected_keys: []\n",
      "03/22/2025 14:37:47 - INFO - \t mismatched_keys: []\n",
      "03/22/2025 14:37:47 - INFO - \t error_msgs: []\n",
      "03/22/2025 14:37:47 - INFO - \t Model Parameters: 90.5M, Transformer: 82.1M, Coref head: 8.4M\n",
      "03/22/2025 14:37:47 - INFO - \t Tokenize 1 inputs...\n"
     ]
    },
    {
     "data": {
      "application/vnd.jupyter.widget-view+json": {
       "model_id": "9e7e0f336b7c4a8e90f616b982c0cccc",
       "version_major": 2,
       "version_minor": 0
      },
      "text/plain": [
       "Map:   0%|          | 0/1 [00:00<?, ? examples/s]"
      ]
     },
     "metadata": {},
     "output_type": "display_data"
    },
    {
     "name": "stderr",
     "output_type": "stream",
     "text": [
      "03/22/2025 14:37:48 - INFO - \t ***** Running Inference on 1 texts *****\n"
     ]
    },
    {
     "name": "stdout",
     "output_type": "stream",
     "text": [
      "Sentence: \"A predator thus can have a â€œnonlethalâ€ impact on prey that can lead to indirect effects on other community members\"\n",
      "No Relations\n",
      "\n",
      "Sentence: \"Such indirect interactions are termed trait-mediated indirect interactions because they arise from a predator's influence on prey traits, rather than prey density\"\n",
      "No Relations\n",
      "\n"
     ]
    },
    {
     "name": "stderr",
     "output_type": "stream",
     "text": [
      "03/22/2025 14:38:00 - INFO - \t missing_keys: []\n",
      "03/22/2025 14:38:00 - INFO - \t unexpected_keys: []\n",
      "03/22/2025 14:38:00 - INFO - \t mismatched_keys: []\n",
      "03/22/2025 14:38:00 - INFO - \t error_msgs: []\n",
      "03/22/2025 14:38:00 - INFO - \t Model Parameters: 90.5M, Transformer: 82.1M, Coref head: 8.4M\n",
      "03/22/2025 14:38:00 - INFO - \t Tokenize 1 inputs...\n"
     ]
    },
    {
     "data": {
      "application/vnd.jupyter.widget-view+json": {
       "model_id": "87fb70f5533d40d1830e02508aecbc83",
       "version_major": 2,
       "version_minor": 0
      },
      "text/plain": [
       "Map:   0%|          | 0/1 [00:00<?, ? examples/s]"
      ]
     },
     "metadata": {},
     "output_type": "display_data"
    },
    {
     "name": "stderr",
     "output_type": "stream",
     "text": [
      "03/22/2025 14:38:01 - INFO - \t ***** Running Inference on 1 texts *****\n"
     ]
    },
    {
     "name": "stdout",
     "output_type": "stream",
     "text": [
      "Sentence: \"Because such nonlethal predator effects are immediate, can influence the entire prey population, and can occur over the entire prey lifetime, we argue that nonlethal predator effects are likely to contribute strongly to the net indirect effects of predators (i\"\n",
      "No Relations\n",
      "\n",
      "Sentence: \"e\"\n",
      "No Relations\n",
      "\n",
      "Sentence: \", nonlethal effects may be comparable in magnitude to those resulting from killing prey)\"\n",
      "No Relations\n",
      "\n"
     ]
    },
    {
     "name": "stderr",
     "output_type": "stream",
     "text": [
      "03/22/2025 14:38:12 - INFO - \t missing_keys: []\n",
      "03/22/2025 14:38:12 - INFO - \t unexpected_keys: []\n",
      "03/22/2025 14:38:12 - INFO - \t mismatched_keys: []\n",
      "03/22/2025 14:38:12 - INFO - \t error_msgs: []\n",
      "03/22/2025 14:38:12 - INFO - \t Model Parameters: 90.5M, Transformer: 82.1M, Coref head: 8.4M\n",
      "03/22/2025 14:38:12 - INFO - \t Tokenize 1 inputs...\n"
     ]
    },
    {
     "data": {
      "application/vnd.jupyter.widget-view+json": {
       "model_id": "dec16c672d0a4b51a8006b72a72b3577",
       "version_major": 2,
       "version_minor": 0
      },
      "text/plain": [
       "Map:   0%|          | 0/1 [00:00<?, ? examples/s]"
      ]
     },
     "metadata": {},
     "output_type": "display_data"
    },
    {
     "name": "stderr",
     "output_type": "stream",
     "text": [
      "03/22/2025 14:38:12 - INFO - \t ***** Running Inference on 1 texts *****\n"
     ]
    },
    {
     "name": "stdout",
     "output_type": "stream",
     "text": [
      "Sentence: \"This prediction was supported by an experiment in which the indirect effects of a SPECIES1 predator on SPECIES2, through nonlethal effects on competing SPECIES3, were large relative to indirect effects caused by density reduction of the small tadpoles (the lethal effect)\"\n",
      "No Relations\n",
      "\n",
      "Sentence: \"Treatments in which lethal and nonlethal effects of Anax were manipulated independently indicated that this result was robust for a large range of different combinations of lethal and nonlethal effects\"\n",
      "No Relations\n",
      "\n"
     ]
    },
    {
     "name": "stderr",
     "output_type": "stream",
     "text": [
      "03/22/2025 14:38:28 - INFO - \t missing_keys: []\n",
      "03/22/2025 14:38:28 - INFO - \t unexpected_keys: []\n",
      "03/22/2025 14:38:28 - INFO - \t mismatched_keys: []\n",
      "03/22/2025 14:38:28 - INFO - \t error_msgs: []\n",
      "03/22/2025 14:38:28 - INFO - \t Model Parameters: 90.5M, Transformer: 82.1M, Coref head: 8.4M\n",
      "03/22/2025 14:38:28 - INFO - \t Tokenize 1 inputs...\n"
     ]
    },
    {
     "data": {
      "application/vnd.jupyter.widget-view+json": {
       "model_id": "e422ba892b87428cbb5b288a98bd9740",
       "version_major": 2,
       "version_minor": 0
      },
      "text/plain": [
       "Map:   0%|          | 0/1 [00:00<?, ? examples/s]"
      ]
     },
     "metadata": {},
     "output_type": "display_data"
    },
    {
     "name": "stderr",
     "output_type": "stream",
     "text": [
      "03/22/2025 14:38:28 - INFO - \t ***** Running Inference on 1 texts *****\n"
     ]
    },
    {
     "name": "stdout",
     "output_type": "stream",
     "text": [
      "Sentence: \"Because many, if not most, prey modify traits in response to predators, our results suggest that the magnitude of interaction coefficients between two species may often be dynamically related to changes in other community members, and that many indirect effects previously attributed to the lethal effects of predators may instead be due to shifts in traits of surviving prey\"\n",
      "No Relations\n",
      "\n",
      "Sentence: \"\"\n",
      "No Relations\n",
      "\n",
      "Sentence: \"With global change modifying species assemblages, our success in predicting ecosystem level consequences of these new communities will depend, in part, on our ability to understand biotic interactions\"\n",
      "No Relations\n",
      "\n"
     ]
    },
    {
     "name": "stderr",
     "output_type": "stream",
     "text": [
      "03/22/2025 14:38:40 - INFO - \t missing_keys: []\n",
      "03/22/2025 14:38:40 - INFO - \t unexpected_keys: []\n",
      "03/22/2025 14:38:40 - INFO - \t mismatched_keys: []\n",
      "03/22/2025 14:38:40 - INFO - \t error_msgs: []\n",
      "03/22/2025 14:38:40 - INFO - \t Model Parameters: 90.5M, Transformer: 82.1M, Coref head: 8.4M\n",
      "03/22/2025 14:38:40 - INFO - \t Tokenize 1 inputs...\n"
     ]
    },
    {
     "data": {
      "application/vnd.jupyter.widget-view+json": {
       "model_id": "3d707e850ec64e2d9705500d56391bed",
       "version_major": 2,
       "version_minor": 0
      },
      "text/plain": [
       "Map:   0%|          | 0/1 [00:00<?, ? examples/s]"
      ]
     },
     "metadata": {},
     "output_type": "display_data"
    },
    {
     "name": "stderr",
     "output_type": "stream",
     "text": [
      "03/22/2025 14:38:40 - INFO - \t ***** Running Inference on 1 texts *****\n"
     ]
    },
    {
     "name": "stdout",
     "output_type": "stream",
     "text": [
      "Sentence: \"Current food web theory considers interactions between numerous species simultaneously, but descriptive models are unable to predict interactions between newly co-occurring species\"\n",
      "No Relations\n",
      "\n",
      "Sentence: \"Incorporating proxies such as functional traits and phylogeny into models could help infer predator/ prey interactions\"\n",
      "No Relations\n",
      "\n"
     ]
    },
    {
     "name": "stderr",
     "output_type": "stream",
     "text": [
      "03/22/2025 14:38:53 - INFO - \t missing_keys: []\n",
      "03/22/2025 14:38:53 - INFO - \t unexpected_keys: []\n",
      "03/22/2025 14:38:53 - INFO - \t mismatched_keys: []\n",
      "03/22/2025 14:38:53 - INFO - \t error_msgs: []\n",
      "03/22/2025 14:38:53 - INFO - \t Model Parameters: 90.5M, Transformer: 82.1M, Coref head: 8.4M\n",
      "03/22/2025 14:38:53 - INFO - \t Tokenize 1 inputs...\n"
     ]
    },
    {
     "data": {
      "application/vnd.jupyter.widget-view+json": {
       "model_id": "12f1e90761494461b86a61a0cf7bd610",
       "version_major": 2,
       "version_minor": 0
      },
      "text/plain": [
       "Map:   0%|          | 0/1 [00:00<?, ? examples/s]"
      ]
     },
     "metadata": {},
     "output_type": "display_data"
    },
    {
     "name": "stderr",
     "output_type": "stream",
     "text": [
      "03/22/2025 14:38:54 - INFO - \t ***** Running Inference on 1 texts *****\n"
     ]
    },
    {
     "name": "stdout",
     "output_type": "stream",
     "text": [
      "Sentence: \"Here we used trait-matching between predator feeding traits and prey vulnerability traits, along with phylogeny (used as a proxy for chemical defence and other traits difficult to document), to infer predatory interactions using ground beetles as model organisms\"\n",
      "No Relations\n",
      "\n",
      "Sentence: \"A feeding experiment was conducted involving 20 ground beetle and 115 prey species to determine which pair of species did or did not interact\"\n",
      "No Relations\n",
      "\n",
      "Sentence: \"Eight predator and four prey functional traits were measured directly on specimens\"\n",
      "No Relations\n",
      "\n"
     ]
    },
    {
     "name": "stderr",
     "output_type": "stream",
     "text": [
      "03/22/2025 14:39:08 - INFO - \t missing_keys: []\n",
      "03/22/2025 14:39:08 - INFO - \t unexpected_keys: []\n",
      "03/22/2025 14:39:08 - INFO - \t mismatched_keys: []\n",
      "03/22/2025 14:39:08 - INFO - \t error_msgs: []\n",
      "03/22/2025 14:39:08 - INFO - \t Model Parameters: 90.5M, Transformer: 82.1M, Coref head: 8.4M\n",
      "03/22/2025 14:39:08 - INFO - \t Tokenize 1 inputs...\n"
     ]
    },
    {
     "data": {
      "application/vnd.jupyter.widget-view+json": {
       "model_id": "3d52bd1e8c1d4cff8c2207ccd7f1aa73",
       "version_major": 2,
       "version_minor": 0
      },
      "text/plain": [
       "Map:   0%|          | 0/1 [00:00<?, ? examples/s]"
      ]
     },
     "metadata": {},
     "output_type": "display_data"
    },
    {
     "name": "stderr",
     "output_type": "stream",
     "text": [
      "03/22/2025 14:39:08 - INFO - \t ***** Running Inference on 1 texts *****\n",
      "03/22/2025 14:39:12 - INFO - \t missing_keys: []\n",
      "03/22/2025 14:39:12 - INFO - \t unexpected_keys: []\n",
      "03/22/2025 14:39:12 - INFO - \t mismatched_keys: []\n",
      "03/22/2025 14:39:12 - INFO - \t error_msgs: []\n",
      "03/22/2025 14:39:12 - INFO - \t Model Parameters: 90.5M, Transformer: 82.1M, Coref head: 8.4M\n",
      "03/22/2025 14:39:12 - INFO - \t Tokenize 1 inputs...\n"
     ]
    },
    {
     "data": {
      "application/vnd.jupyter.widget-view+json": {
       "model_id": "b43b64c5e47841b28abc5cc6eb0adfa7",
       "version_major": 2,
       "version_minor": 0
      },
      "text/plain": [
       "Map:   0%|          | 0/1 [00:00<?, ? examples/s]"
      ]
     },
     "metadata": {},
     "output_type": "display_data"
    },
    {
     "name": "stderr",
     "output_type": "stream",
     "text": [
      "03/22/2025 14:39:12 - INFO - \t ***** Running Inference on 1 texts *****\n"
     ]
    },
    {
     "name": "stdout",
     "output_type": "stream",
     "text": [
      "Sentence: \"Then, using a modeling approach based on the matching-centrality formalism, we evaluated 511 predictive ecological models that tested different combinations of all predator and prey functional traits, and phylogenetic information\"\n",
      "No Relations\n",
      "\n"
     ]
    },
    {
     "name": "stderr",
     "output_type": "stream",
     "text": [
      "03/22/2025 14:39:21 - INFO - \t missing_keys: []\n",
      "03/22/2025 14:39:21 - INFO - \t unexpected_keys: []\n",
      "03/22/2025 14:39:21 - INFO - \t mismatched_keys: []\n",
      "03/22/2025 14:39:21 - INFO - \t error_msgs: []\n",
      "03/22/2025 14:39:21 - INFO - \t Model Parameters: 90.5M, Transformer: 82.1M, Coref head: 8.4M\n"
     ]
    },
    {
     "name": "stdout",
     "output_type": "stream",
     "text": [
      "Sentence: \"The most parsimonious model accurately predicted 81 % of the observed realized and unrealized interactions, using phylogenetic information and the trait-matches predator biting force/ prey cuticular toughness and predator/ prey body size ratio\"\n",
      "No Relations\n",
      "\n"
     ]
    },
    {
     "name": "stderr",
     "output_type": "stream",
     "text": [
      "03/22/2025 14:39:27 - INFO - \t missing_keys: []\n",
      "03/22/2025 14:39:27 - INFO - \t unexpected_keys: []\n",
      "03/22/2025 14:39:27 - INFO - \t mismatched_keys: []\n",
      "03/22/2025 14:39:27 - INFO - \t error_msgs: []\n",
      "03/22/2025 14:39:27 - INFO - \t Model Parameters: 90.5M, Transformer: 82.1M, Coref head: 8.4M\n",
      "03/22/2025 14:39:27 - INFO - \t Tokenize 1 inputs...\n"
     ]
    },
    {
     "data": {
      "application/vnd.jupyter.widget-view+json": {
       "model_id": "7abf912191f8460e8fef76dda2321c63",
       "version_major": 2,
       "version_minor": 0
      },
      "text/plain": [
       "Map:   0%|          | 0/1 [00:00<?, ? examples/s]"
      ]
     },
     "metadata": {},
     "output_type": "display_data"
    },
    {
     "name": "stderr",
     "output_type": "stream",
     "text": [
      "03/22/2025 14:39:28 - INFO - \t ***** Running Inference on 1 texts *****\n"
     ]
    },
    {
     "name": "stdout",
     "output_type": "stream",
     "text": [
      "Sentence: \"The best trait-based models predicted correctly >80 % which species interact (realized interactions), but predict 75 %\"\n",
      "No Relations\n",
      "\n"
     ]
    },
    {
     "name": "stderr",
     "output_type": "stream",
     "text": [
      "03/22/2025 14:39:36 - INFO - \t missing_keys: []\n",
      "03/22/2025 14:39:36 - INFO - \t unexpected_keys: []\n",
      "03/22/2025 14:39:36 - INFO - \t mismatched_keys: []\n",
      "03/22/2025 14:39:36 - INFO - \t error_msgs: []\n",
      "03/22/2025 14:39:36 - INFO - \t Model Parameters: 90.5M, Transformer: 82.1M, Coref head: 8.4M\n",
      "03/22/2025 14:39:36 - INFO - \t Tokenize 1 inputs...\n"
     ]
    },
    {
     "data": {
      "application/vnd.jupyter.widget-view+json": {
       "model_id": "275709f97b6541f79dc43a34832b71f1",
       "version_major": 2,
       "version_minor": 0
      },
      "text/plain": [
       "Map:   0%|          | 0/1 [00:00<?, ? examples/s]"
      ]
     },
     "metadata": {},
     "output_type": "display_data"
    },
    {
     "name": "stderr",
     "output_type": "stream",
     "text": [
      "03/22/2025 14:39:36 - INFO - \t ***** Running Inference on 1 texts *****\n"
     ]
    },
    {
     "name": "stdout",
     "output_type": "stream",
     "text": [
      "Sentence: \"The matching of predator biting force and prey cuticular toughness demonstrated a better predictive power than the commonly used predator/ prey body size ratio\"\n",
      "No Relations\n",
      "\n",
      "Sentence: \"Our novel model combining both functional traits and phylogeny extends beyond existing descriptive approaches and could represent a valuable tool to predict consumer/ resource interactions of newly introduced species and to resolve cryptic food webs\"\n",
      "No Relations\n",
      "\n"
     ]
    },
    {
     "name": "stderr",
     "output_type": "stream",
     "text": [
      "03/22/2025 14:39:46 - INFO - \t missing_keys: []\n",
      "03/22/2025 14:39:46 - INFO - \t unexpected_keys: []\n",
      "03/22/2025 14:39:46 - INFO - \t mismatched_keys: []\n",
      "03/22/2025 14:39:46 - INFO - \t error_msgs: []\n",
      "03/22/2025 14:39:46 - INFO - \t Model Parameters: 90.5M, Transformer: 82.1M, Coref head: 8.4M\n",
      "03/22/2025 14:39:46 - INFO - \t Tokenize 1 inputs...\n"
     ]
    },
    {
     "data": {
      "application/vnd.jupyter.widget-view+json": {
       "model_id": "8d0335e137e24e638d4a9832930e4c8f",
       "version_major": 2,
       "version_minor": 0
      },
      "text/plain": [
       "Map:   0%|          | 0/1 [00:00<?, ? examples/s]"
      ]
     },
     "metadata": {},
     "output_type": "display_data"
    },
    {
     "name": "stderr",
     "output_type": "stream",
     "text": [
      "03/22/2025 14:39:46 - INFO - \t ***** Running Inference on 1 texts *****\n"
     ]
    },
    {
     "name": "stdout",
     "output_type": "stream",
     "text": [
      "Sentence: \"This article is protected by copyright\"\n",
      "No Relations\n",
      "\n",
      "Sentence: \"All rights reserved\"\n",
      "No Relations\n",
      "\n",
      "Sentence: \"\"\n",
      "No Relations\n",
      "\n",
      "Sentence: \"Only a fraction of the individuals in a given prey population are likely to be killed and consumed by predators\"\n",
      "No Relations\n",
      "\n"
     ]
    },
    {
     "name": "stderr",
     "output_type": "stream",
     "text": [
      "03/22/2025 14:39:54 - INFO - \t missing_keys: []\n",
      "03/22/2025 14:39:54 - INFO - \t unexpected_keys: []\n",
      "03/22/2025 14:39:54 - INFO - \t mismatched_keys: []\n",
      "03/22/2025 14:39:54 - INFO - \t error_msgs: []\n",
      "03/22/2025 14:39:54 - INFO - \t Model Parameters: 90.5M, Transformer: 82.1M, Coref head: 8.4M\n",
      "03/22/2025 14:39:54 - INFO - \t Tokenize 1 inputs...\n"
     ]
    },
    {
     "data": {
      "application/vnd.jupyter.widget-view+json": {
       "model_id": "5c8fd6c566724c35babfb7e8168466d0",
       "version_major": 2,
       "version_minor": 0
      },
      "text/plain": [
       "Map:   0%|          | 0/1 [00:00<?, ? examples/s]"
      ]
     },
     "metadata": {},
     "output_type": "display_data"
    },
    {
     "name": "stderr",
     "output_type": "stream",
     "text": [
      "03/22/2025 14:39:55 - INFO - \t ***** Running Inference on 1 texts *****\n"
     ]
    },
    {
     "name": "stdout",
     "output_type": "stream",
     "text": [
      "Sentence: \"In contrast, nearly all individuals experience the chronic effects of predation risk\"\n",
      "No Relations\n",
      "\n"
     ]
    },
    {
     "name": "stderr",
     "output_type": "stream",
     "text": [
      "03/22/2025 14:40:01 - INFO - \t missing_keys: []\n",
      "03/22/2025 14:40:01 - INFO - \t unexpected_keys: []\n",
      "03/22/2025 14:40:01 - INFO - \t mismatched_keys: []\n",
      "03/22/2025 14:40:01 - INFO - \t error_msgs: []\n",
      "03/22/2025 14:40:01 - INFO - \t Model Parameters: 90.5M, Transformer: 82.1M, Coref head: 8.4M\n",
      "03/22/2025 14:40:01 - INFO - \t Tokenize 1 inputs...\n"
     ]
    },
    {
     "data": {
      "application/vnd.jupyter.widget-view+json": {
       "model_id": "d5107c402c814e808ad124e306902e01",
       "version_major": 2,
       "version_minor": 0
      },
      "text/plain": [
       "Map:   0%|          | 0/1 [00:00<?, ? examples/s]"
      ]
     },
     "metadata": {},
     "output_type": "display_data"
    },
    {
     "name": "stderr",
     "output_type": "stream",
     "text": [
      "03/22/2025 14:40:02 - INFO - \t ***** Running Inference on 1 texts *****\n"
     ]
    },
    {
     "name": "stdout",
     "output_type": "stream",
     "text": [
      "Sentence: \"When threatened by predators, prey adopt defensive tactics whose costs can lead to reduced growth, maturation rates, survivorship, fecundity, or pop- ulation density\"\n",
      "No Relations\n",
      "\n"
     ]
    },
    {
     "name": "stderr",
     "output_type": "stream",
     "text": [
      "03/22/2025 14:40:10 - INFO - \t missing_keys: []\n",
      "03/22/2025 14:40:10 - INFO - \t unexpected_keys: []\n",
      "03/22/2025 14:40:10 - INFO - \t mismatched_keys: []\n",
      "03/22/2025 14:40:10 - INFO - \t error_msgs: []\n",
      "03/22/2025 14:40:10 - INFO - \t Model Parameters: 90.5M, Transformer: 82.1M, Coref head: 8.4M\n",
      "03/22/2025 14:40:10 - INFO - \t Tokenize 1 inputs...\n"
     ]
    },
    {
     "data": {
      "application/vnd.jupyter.widget-view+json": {
       "model_id": "1b001c32916a4741a493d44eef7e70b4",
       "version_major": 2,
       "version_minor": 0
      },
      "text/plain": [
       "Map:   0%|          | 0/1 [00:00<?, ? examples/s]"
      ]
     },
     "metadata": {},
     "output_type": "display_data"
    },
    {
     "name": "stderr",
     "output_type": "stream",
     "text": [
      "03/22/2025 14:40:10 - INFO - \t ***** Running Inference on 1 texts *****\n"
     ]
    },
    {
     "name": "stdout",
     "output_type": "stream",
     "text": [
      "Sentence: \"This nonconsumptive impact of predation risk on prey is known as a ''trait- mediated interaction'' (TMI) because it results from changes in prey traits such as behavior or physiology\"\n",
      "No Relations\n",
      "\n"
     ]
    },
    {
     "name": "stderr",
     "output_type": "stream",
     "text": [
      "03/22/2025 14:40:15 - INFO - \t missing_keys: []\n",
      "03/22/2025 14:40:15 - INFO - \t unexpected_keys: []\n",
      "03/22/2025 14:40:15 - INFO - \t mismatched_keys: []\n",
      "03/22/2025 14:40:15 - INFO - \t error_msgs: []\n",
      "03/22/2025 14:40:15 - INFO - \t Model Parameters: 90.5M, Transformer: 82.1M, Coref head: 8.4M\n",
      "03/22/2025 14:40:15 - INFO - \t Tokenize 1 inputs...\n"
     ]
    },
    {
     "data": {
      "application/vnd.jupyter.widget-view+json": {
       "model_id": "5f04f477e2224b6ca1d8ad63db0f9ccf",
       "version_major": 2,
       "version_minor": 0
      },
      "text/plain": [
       "Map:   0%|          | 0/1 [00:00<?, ? examples/s]"
      ]
     },
     "metadata": {},
     "output_type": "display_data"
    },
    {
     "name": "stderr",
     "output_type": "stream",
     "text": [
      "03/22/2025 14:40:15 - INFO - \t ***** Running Inference on 1 texts *****\n"
     ]
    },
    {
     "name": "stdout",
     "output_type": "stream",
     "text": [
      "Sentence: \"Ecological theory suggests that the strength of TMI effects will reflect a balance between the conflicting demands of reproduction vs\"\n",
      "No Relations\n",
      "\n",
      "Sentence: \"predator avoidance\"\n",
      "No Relations\n",
      "\n",
      "Sentence: \"Competitor density and resource availability are expected to alter the balance between these conflicting forces\"\n",
      "No Relations\n",
      "\n"
     ]
    },
    {
     "name": "stderr",
     "output_type": "stream",
     "text": [
      "03/22/2025 14:40:24 - INFO - \t missing_keys: []\n",
      "03/22/2025 14:40:24 - INFO - \t unexpected_keys: []\n",
      "03/22/2025 14:40:24 - INFO - \t mismatched_keys: []\n",
      "03/22/2025 14:40:24 - INFO - \t error_msgs: []\n",
      "03/22/2025 14:40:24 - INFO - \t Model Parameters: 90.5M, Transformer: 82.1M, Coref head: 8.4M\n",
      "03/22/2025 14:40:24 - INFO - \t Tokenize 1 inputs...\n"
     ]
    },
    {
     "data": {
      "application/vnd.jupyter.widget-view+json": {
       "model_id": "5c62a75032434ef3838b71a4972acb50",
       "version_major": 2,
       "version_minor": 0
      },
      "text/plain": [
       "Map:   0%|          | 0/1 [00:00<?, ? examples/s]"
      ]
     },
     "metadata": {},
     "output_type": "display_data"
    },
    {
     "name": "stderr",
     "output_type": "stream",
     "text": [
      "03/22/2025 14:40:24 - INFO - \t ***** Running Inference on 1 texts *****\n",
      "03/22/2025 14:40:28 - INFO - \t missing_keys: []\n",
      "03/22/2025 14:40:28 - INFO - \t unexpected_keys: []\n",
      "03/22/2025 14:40:28 - INFO - \t mismatched_keys: []\n",
      "03/22/2025 14:40:28 - INFO - \t error_msgs: []\n",
      "03/22/2025 14:40:28 - INFO - \t Model Parameters: 90.5M, Transformer: 82.1M, Coref head: 8.4M\n",
      "03/22/2025 14:40:28 - INFO - \t Tokenize 1 inputs...\n"
     ]
    },
    {
     "data": {
      "application/vnd.jupyter.widget-view+json": {
       "model_id": "bdfbfb0639c246f4b378c352e5b44756",
       "version_major": 2,
       "version_minor": 0
      },
      "text/plain": [
       "Map:   0%|          | 0/1 [00:00<?, ? examples/s]"
      ]
     },
     "metadata": {},
     "output_type": "display_data"
    },
    {
     "name": "stderr",
     "output_type": "stream",
     "text": [
      "03/22/2025 14:40:28 - INFO - \t ***** Running Inference on 1 texts *****\n"
     ]
    },
    {
     "name": "stdout",
     "output_type": "stream",
     "text": [
      "Sentence: \"We conducted a meta-analysis of experimental studies that measured TMI effect size while varying competitor and/or resource density\"\n",
      "No Relations\n",
      "\n"
     ]
    },
    {
     "name": "stderr",
     "output_type": "stream",
     "text": [
      "03/22/2025 14:40:35 - INFO - \t missing_keys: []\n",
      "03/22/2025 14:40:35 - INFO - \t unexpected_keys: []\n",
      "03/22/2025 14:40:35 - INFO - \t mismatched_keys: []\n",
      "03/22/2025 14:40:35 - INFO - \t error_msgs: []\n",
      "03/22/2025 14:40:35 - INFO - \t Model Parameters: 90.5M, Transformer: 82.1M, Coref head: 8.4M\n",
      "03/22/2025 14:40:35 - INFO - \t Tokenize 1 inputs...\n"
     ]
    },
    {
     "data": {
      "application/vnd.jupyter.widget-view+json": {
       "model_id": "40489be2e63b4ae7929bee3704c0249d",
       "version_major": 2,
       "version_minor": 0
      },
      "text/plain": [
       "Map:   0%|          | 0/1 [00:00<?, ? examples/s]"
      ]
     },
     "metadata": {},
     "output_type": "display_data"
    },
    {
     "name": "stderr",
     "output_type": "stream",
     "text": [
      "03/22/2025 14:40:36 - INFO - \t ***** Running Inference on 1 texts *****\n"
     ]
    },
    {
     "name": "stdout",
     "output_type": "stream",
     "text": [
      "Sentence: \"The threat of predation had an overall negative effect on prey performance, but the strength of this effect varied with the level of competition\"\n",
      "No Relations\n",
      "\n"
     ]
    },
    {
     "name": "stderr",
     "output_type": "stream",
     "text": [
      "03/22/2025 14:40:42 - INFO - \t missing_keys: []\n",
      "03/22/2025 14:40:42 - INFO - \t unexpected_keys: []\n",
      "03/22/2025 14:40:42 - INFO - \t mismatched_keys: []\n",
      "03/22/2025 14:40:42 - INFO - \t error_msgs: []\n",
      "03/22/2025 14:40:42 - INFO - \t Model Parameters: 90.5M, Transformer: 82.1M, Coref head: 8.4M\n",
      "03/22/2025 14:40:42 - INFO - \t Tokenize 1 inputs...\n"
     ]
    },
    {
     "data": {
      "application/vnd.jupyter.widget-view+json": {
       "model_id": "75b0d8cf97d84f7dadd1c04f75d89692",
       "version_major": 2,
       "version_minor": 0
      },
      "text/plain": [
       "Map:   0%|          | 0/1 [00:00<?, ? examples/s]"
      ]
     },
     "metadata": {},
     "output_type": "display_data"
    },
    {
     "name": "stderr",
     "output_type": "stream",
     "text": [
      "03/22/2025 14:40:42 - INFO - \t ***** Running Inference on 1 texts *****\n"
     ]
    },
    {
     "name": "stdout",
     "output_type": "stream",
     "text": [
      "Sentence: \"High competition exacerbated the negative effect of intimidation on prey density but moderated the negative effect of intimidation on prey life history and growth\"\n",
      "No Relations\n",
      "\n"
     ]
    },
    {
     "name": "stderr",
     "output_type": "stream",
     "text": [
      "03/22/2025 14:40:47 - INFO - \t missing_keys: []\n",
      "03/22/2025 14:40:47 - INFO - \t unexpected_keys: []\n",
      "03/22/2025 14:40:47 - INFO - \t mismatched_keys: []\n",
      "03/22/2025 14:40:47 - INFO - \t error_msgs: []\n",
      "03/22/2025 14:40:47 - INFO - \t Model Parameters: 90.5M, Transformer: 82.1M, Coref head: 8.4M\n",
      "03/22/2025 14:40:47 - INFO - \t Tokenize 1 inputs...\n"
     ]
    },
    {
     "data": {
      "application/vnd.jupyter.widget-view+json": {
       "model_id": "0476464f23ea4fd1b8a1d7c04b01af28",
       "version_major": 2,
       "version_minor": 0
      },
      "text/plain": [
       "Map:   0%|          | 0/1 [00:00<?, ? examples/s]"
      ]
     },
     "metadata": {},
     "output_type": "display_data"
    },
    {
     "name": "stderr",
     "output_type": "stream",
     "text": [
      "03/22/2025 14:40:48 - INFO - \t ***** Running Inference on 1 texts *****\n"
     ]
    },
    {
     "name": "stdout",
     "output_type": "stream",
     "text": [
      "Sentence: \"We discuss these results in light of previously published theoretical expectations\"\n",
      "No Relations\n",
      "\n"
     ]
    },
    {
     "name": "stderr",
     "output_type": "stream",
     "text": [
      "03/22/2025 14:40:53 - INFO - \t missing_keys: []\n",
      "03/22/2025 14:40:53 - INFO - \t unexpected_keys: []\n",
      "03/22/2025 14:40:53 - INFO - \t mismatched_keys: []\n",
      "03/22/2025 14:40:53 - INFO - \t error_msgs: []\n",
      "03/22/2025 14:40:53 - INFO - \t Model Parameters: 90.5M, Transformer: 82.1M, Coref head: 8.4M\n",
      "03/22/2025 14:40:53 - INFO - \t Tokenize 1 inputs...\n"
     ]
    },
    {
     "data": {
      "application/vnd.jupyter.widget-view+json": {
       "model_id": "89eaa42442a947d8886dcccf111f0beb",
       "version_major": 2,
       "version_minor": 0
      },
      "text/plain": [
       "Map:   0%|          | 0/1 [00:00<?, ? examples/s]"
      ]
     },
     "metadata": {},
     "output_type": "display_data"
    },
    {
     "name": "stderr",
     "output_type": "stream",
     "text": [
      "03/22/2025 14:40:54 - INFO - \t ***** Running Inference on 1 texts *****\n"
     ]
    },
    {
     "name": "stdout",
     "output_type": "stream",
     "text": [
      "Sentence: \"Our results highlight the variable and context-dependent nature of interspecific interactions\"\n",
      "No Relations\n",
      "\n",
      "Sentence: \"\"\n",
      "No Relations\n",
      "\n"
     ]
    },
    {
     "name": "stderr",
     "output_type": "stream",
     "text": [
      "03/22/2025 14:40:59 - INFO - \t missing_keys: []\n",
      "03/22/2025 14:40:59 - INFO - \t unexpected_keys: []\n",
      "03/22/2025 14:40:59 - INFO - \t mismatched_keys: []\n",
      "03/22/2025 14:40:59 - INFO - \t error_msgs: []\n",
      "03/22/2025 14:40:59 - INFO - \t Model Parameters: 90.5M, Transformer: 82.1M, Coref head: 8.4M\n",
      "03/22/2025 14:40:59 - INFO - \t Tokenize 1 inputs...\n"
     ]
    },
    {
     "data": {
      "application/vnd.jupyter.widget-view+json": {
       "model_id": "637db8da52204f2abe450f75a710ad25",
       "version_major": 2,
       "version_minor": 0
      },
      "text/plain": [
       "Map:   0%|          | 0/1 [00:00<?, ? examples/s]"
      ]
     },
     "metadata": {},
     "output_type": "display_data"
    },
    {
     "name": "stderr",
     "output_type": "stream",
     "text": [
      "03/22/2025 14:41:00 - INFO - \t ***** Running Inference on 1 texts *****\n"
     ]
    },
    {
     "name": "stdout",
     "output_type": "stream",
     "text": [
      "Sentence: \"Trait-mediated interactions (TMII) can alter the outcome or magnitude of species interactions\"\n",
      "No Relations\n",
      "\n"
     ]
    },
    {
     "name": "stderr",
     "output_type": "stream",
     "text": [
      "03/22/2025 14:41:06 - INFO - \t missing_keys: []\n",
      "03/22/2025 14:41:06 - INFO - \t unexpected_keys: []\n",
      "03/22/2025 14:41:06 - INFO - \t mismatched_keys: []\n",
      "03/22/2025 14:41:06 - INFO - \t error_msgs: []\n",
      "03/22/2025 14:41:06 - INFO - \t Model Parameters: 90.5M, Transformer: 82.1M, Coref head: 8.4M\n",
      "03/22/2025 14:41:09 - INFO - \t missing_keys: []\n",
      "03/22/2025 14:41:09 - INFO - \t unexpected_keys: []\n",
      "03/22/2025 14:41:09 - INFO - \t mismatched_keys: []\n",
      "03/22/2025 14:41:09 - INFO - \t error_msgs: []\n",
      "03/22/2025 14:41:09 - INFO - \t Model Parameters: 90.5M, Transformer: 82.1M, Coref head: 8.4M\n",
      "03/22/2025 14:41:09 - INFO - \t Tokenize 1 inputs...\n"
     ]
    },
    {
     "data": {
      "application/vnd.jupyter.widget-view+json": {
       "model_id": "08dcfa88c5c040ee9dc7ac2c5c2ac43a",
       "version_major": 2,
       "version_minor": 0
      },
      "text/plain": [
       "Map:   0%|          | 0/1 [00:00<?, ? examples/s]"
      ]
     },
     "metadata": {},
     "output_type": "display_data"
    },
    {
     "name": "stderr",
     "output_type": "stream",
     "text": [
      "03/22/2025 14:41:10 - INFO - \t ***** Running Inference on 1 texts *****\n"
     ]
    },
    {
     "name": "stdout",
     "output_type": "stream",
     "text": [
      "Sentence: \"We examined how the interaction between a guild of ground and rove beetles and their fly egg prey was altered by a larger predator, the ground beetle Pterostichus melanarius, and an additional prey, aphids\"\n",
      "No Relations\n",
      "\n"
     ]
    },
    {
     "name": "stderr",
     "output_type": "stream",
     "text": [
      "03/22/2025 14:41:15 - INFO - \t missing_keys: []\n",
      "03/22/2025 14:41:15 - INFO - \t unexpected_keys: []\n",
      "03/22/2025 14:41:15 - INFO - \t mismatched_keys: []\n",
      "03/22/2025 14:41:15 - INFO - \t error_msgs: []\n",
      "03/22/2025 14:41:15 - INFO - \t Model Parameters: 90.5M, Transformer: 82.1M, Coref head: 8.4M\n",
      "03/22/2025 14:41:15 - INFO - \t Tokenize 1 inputs...\n"
     ]
    },
    {
     "data": {
      "application/vnd.jupyter.widget-view+json": {
       "model_id": "a9a3afe470df45b2a5b4a0016baf18ca",
       "version_major": 2,
       "version_minor": 0
      },
      "text/plain": [
       "Map:   0%|          | 0/1 [00:00<?, ? examples/s]"
      ]
     },
     "metadata": {},
     "output_type": "display_data"
    },
    {
     "name": "stderr",
     "output_type": "stream",
     "text": [
      "03/22/2025 14:41:15 - INFO - \t ***** Running Inference on 1 texts *****\n"
     ]
    },
    {
     "name": "stdout",
     "output_type": "stream",
     "text": [
      "Sentence: \"In field and laboratory experiments, we manipulated the presence or absence of P\"\n",
      "No Relations\n",
      "\n",
      "Sentence: \"melanarius and aphids and recorded the impact of these manipulations on beetle activity and fly egg predation\"\n",
      "No Relations\n",
      "\n",
      "Sentence: \"Individually, aphids, by serving as preferred prey, and P\"\n",
      "No Relations\n",
      "\n",
      "Sentence: \"melanarius, by reducing focal beetle activity, weakened egg predation\"\n",
      "No Relations\n",
      "\n",
      "Sentence: \"However, egg predation was restored when both aphids and P\"\n",
      "No Relations\n",
      "\n"
     ]
    },
    {
     "name": "stderr",
     "output_type": "stream",
     "text": [
      "03/22/2025 14:41:26 - INFO - \t missing_keys: []\n",
      "03/22/2025 14:41:26 - INFO - \t unexpected_keys: []\n",
      "03/22/2025 14:41:26 - INFO - \t mismatched_keys: []\n",
      "03/22/2025 14:41:26 - INFO - \t error_msgs: []\n",
      "03/22/2025 14:41:26 - INFO - \t Model Parameters: 90.5M, Transformer: 82.1M, Coref head: 8.4M\n",
      "03/22/2025 14:41:26 - INFO - \t Tokenize 1 inputs...\n"
     ]
    },
    {
     "data": {
      "application/vnd.jupyter.widget-view+json": {
       "model_id": "19b29f54ee06452883e3c22ef8a965f8",
       "version_major": 2,
       "version_minor": 0
      },
      "text/plain": [
       "Map:   0%|          | 0/1 [00:00<?, ? examples/s]"
      ]
     },
     "metadata": {},
     "output_type": "display_data"
    },
    {
     "name": "stderr",
     "output_type": "stream",
     "text": [
      "03/22/2025 14:41:27 - INFO - \t ***** Running Inference on 1 texts *****\n"
     ]
    },
    {
     "name": "stdout",
     "output_type": "stream",
     "text": [
      "Sentence: \"melanarius were present together, because aphids triggered greater foraging activity, and thus increased incidental predation of fly eggs, by P\"\n",
      "No Relations\n",
      "\n",
      "Sentence: \"melanarius\"\n",
      "No Relations\n",
      "\n",
      "Sentence: \"Thus, TMII among subsets of the community that were disruptive to predation on fly eggs could not be summed to predict the dominant, positive TMII within a more diverse community\"\n",
      "No Relations\n",
      "\n"
     ]
    },
    {
     "name": "stderr",
     "output_type": "stream",
     "text": [
      "03/22/2025 14:41:36 - INFO - \t missing_keys: []\n",
      "03/22/2025 14:41:36 - INFO - \t unexpected_keys: []\n",
      "03/22/2025 14:41:36 - INFO - \t mismatched_keys: []\n",
      "03/22/2025 14:41:36 - INFO - \t error_msgs: []\n",
      "03/22/2025 14:41:36 - INFO - \t Model Parameters: 90.5M, Transformer: 82.1M, Coref head: 8.4M\n",
      "03/22/2025 14:41:36 - INFO - \t Tokenize 1 inputs...\n"
     ]
    },
    {
     "data": {
      "application/vnd.jupyter.widget-view+json": {
       "model_id": "b6deb7846c9142b49e4e69d3f0615b43",
       "version_major": 2,
       "version_minor": 0
      },
      "text/plain": [
       "Map:   0%|          | 0/1 [00:00<?, ? examples/s]"
      ]
     },
     "metadata": {},
     "output_type": "display_data"
    },
    {
     "name": "stderr",
     "output_type": "stream",
     "text": [
      "03/22/2025 14:41:36 - INFO - \t ***** Running Inference on 1 texts *****\n"
     ]
    },
    {
     "name": "stdout",
     "output_type": "stream",
     "text": [
      "Sentence: \"Future TMII studies should include more realistic representations of species diversity, and should not ignore the influence of prey on predator behavior\"\n",
      "No Relations\n",
      "\n",
      "Sentence: \"\"\n",
      "No Relations\n",
      "\n"
     ]
    },
    {
     "name": "stderr",
     "output_type": "stream",
     "text": [
      "03/22/2025 14:41:43 - INFO - \t missing_keys: []\n",
      "03/22/2025 14:41:43 - INFO - \t unexpected_keys: []\n",
      "03/22/2025 14:41:43 - INFO - \t mismatched_keys: []\n",
      "03/22/2025 14:41:43 - INFO - \t error_msgs: []\n",
      "03/22/2025 14:41:43 - INFO - \t Model Parameters: 90.5M, Transformer: 82.1M, Coref head: 8.4M\n",
      "03/22/2025 14:41:43 - INFO - \t Tokenize 1 inputs...\n"
     ]
    },
    {
     "data": {
      "application/vnd.jupyter.widget-view+json": {
       "model_id": "85bca6764f484014b958e1a056880d04",
       "version_major": 2,
       "version_minor": 0
      },
      "text/plain": [
       "Map:   0%|          | 0/1 [00:00<?, ? examples/s]"
      ]
     },
     "metadata": {},
     "output_type": "display_data"
    },
    {
     "name": "stderr",
     "output_type": "stream",
     "text": [
      "03/22/2025 14:41:43 - INFO - \t ***** Running Inference on 1 texts *****\n"
     ]
    },
    {
     "name": "stdout",
     "output_type": "stream",
     "text": [
      "Sentence: \"This investigation examines the role of trait-mediated indirect interactions in a simple aquatic food web\"\n",
      "No Relations\n",
      "\n"
     ]
    },
    {
     "name": "stderr",
     "output_type": "stream",
     "text": [
      "03/22/2025 14:41:52 - INFO - \t missing_keys: []\n",
      "03/22/2025 14:41:52 - INFO - \t unexpected_keys: []\n",
      "03/22/2025 14:41:52 - INFO - \t mismatched_keys: []\n",
      "03/22/2025 14:41:52 - INFO - \t error_msgs: []\n",
      "03/22/2025 14:41:52 - INFO - \t Model Parameters: 90.5M, Transformer: 82.1M, Coref head: 8.4M\n",
      "03/22/2025 14:41:52 - INFO - \t Tokenize 1 inputs...\n"
     ]
    },
    {
     "data": {
      "application/vnd.jupyter.widget-view+json": {
       "model_id": "558a329892874e668440af094e267b09",
       "version_major": 2,
       "version_minor": 0
      },
      "text/plain": [
       "Map:   0%|          | 0/1 [00:00<?, ? examples/s]"
      ]
     },
     "metadata": {},
     "output_type": "display_data"
    },
    {
     "name": "stderr",
     "output_type": "stream",
     "text": [
      "03/22/2025 14:41:52 - INFO - \t ***** Running Inference on 1 texts *****\n",
      "03/22/2025 14:41:56 - INFO - \t missing_keys: []\n",
      "03/22/2025 14:41:56 - INFO - \t unexpected_keys: []\n",
      "03/22/2025 14:41:56 - INFO - \t mismatched_keys: []\n",
      "03/22/2025 14:41:56 - INFO - \t error_msgs: []\n",
      "03/22/2025 14:41:56 - INFO - \t Model Parameters: 90.5M, Transformer: 82.1M, Coref head: 8.4M\n",
      "03/22/2025 14:41:56 - INFO - \t Tokenize 1 inputs...\n"
     ]
    },
    {
     "data": {
      "application/vnd.jupyter.widget-view+json": {
       "model_id": "1db32bc03acb4939940b7bd84a460770",
       "version_major": 2,
       "version_minor": 0
      },
      "text/plain": [
       "Map:   0%|          | 0/1 [00:00<?, ? examples/s]"
      ]
     },
     "metadata": {},
     "output_type": "display_data"
    },
    {
     "name": "stderr",
     "output_type": "stream",
     "text": [
      "03/22/2025 14:41:56 - INFO - \t ***** Running Inference on 1 texts *****\n"
     ]
    },
    {
     "name": "stdout",
     "output_type": "stream",
     "text": [
      "Sentence: \"We conducted the experiments in cattle watering tanks in order to establish whether competitive and predator-prey interactions between two species are affected by other species in the system; i\"\n",
      "No Relations\n",
      "\n",
      "Sentence: \"e\"\n",
      "No Relations\n",
      "\n"
     ]
    },
    {
     "name": "stderr",
     "output_type": "stream",
     "text": [
      "03/22/2025 14:42:09 - INFO - \t missing_keys: []\n",
      "03/22/2025 14:42:09 - INFO - \t unexpected_keys: []\n",
      "03/22/2025 14:42:09 - INFO - \t mismatched_keys: []\n",
      "03/22/2025 14:42:09 - INFO - \t error_msgs: []\n",
      "03/22/2025 14:42:09 - INFO - \t Model Parameters: 90.5M, Transformer: 82.1M, Coref head: 8.4M\n",
      "03/22/2025 14:42:09 - INFO - \t Tokenize 1 inputs...\n"
     ]
    },
    {
     "data": {
      "application/vnd.jupyter.widget-view+json": {
       "model_id": "0849f57d9e274efca3f60c28c2fec921",
       "version_major": 2,
       "version_minor": 0
      },
      "text/plain": [
       "Map:   0%|          | 0/1 [00:00<?, ? examples/s]"
      ]
     },
     "metadata": {},
     "output_type": "display_data"
    },
    {
     "name": "stderr",
     "output_type": "stream",
     "text": [
      "03/22/2025 14:42:10 - INFO - \t ***** Running Inference on 1 texts *****\n"
     ]
    },
    {
     "name": "stdout",
     "output_type": "stream",
     "text": [
      "Sentence: \", are pairwise interaction strengths affected by the background species assemblage? We examined the survival and growth response of SPECIES_SMALL_BULLFROG and SPECIES_SMALL_GREEN_FROG in the presence and absence of a competitor SPECIES_LARGE_BULLFROG, the lethal presence of the SPECIES_LARVAL_TRAMEA_LACERATA,and the nonlethal (caged) presence of the larval odonate predators SPECIES_LARVAL_ANAX_JUNIUS and SPECIES_LARVAL_ANAX_LONGPIPES\"\n",
      "No Relations\n",
      "\n"
     ]
    },
    {
     "name": "stderr",
     "output_type": "stream",
     "text": [
      "03/22/2025 14:42:20 - INFO - \t missing_keys: []\n",
      "03/22/2025 14:42:20 - INFO - \t unexpected_keys: []\n",
      "03/22/2025 14:42:20 - INFO - \t mismatched_keys: []\n",
      "03/22/2025 14:42:20 - INFO - \t error_msgs: []\n",
      "03/22/2025 14:42:20 - INFO - \t Model Parameters: 90.5M, Transformer: 82.1M, Coref head: 8.4M\n",
      "03/22/2025 14:42:20 - INFO - \t Tokenize 1 inputs...\n"
     ]
    },
    {
     "data": {
      "application/vnd.jupyter.widget-view+json": {
       "model_id": "e0abaf5df3d64a9a977eaa0f95de9108",
       "version_major": 2,
       "version_minor": 0
      },
      "text/plain": [
       "Map:   0%|          | 0/1 [00:00<?, ? examples/s]"
      ]
     },
     "metadata": {},
     "output_type": "display_data"
    },
    {
     "name": "stderr",
     "output_type": "stream",
     "text": [
      "03/22/2025 14:42:21 - INFO - \t ***** Running Inference on 1 texts *****\n",
      "03/22/2025 14:42:24 - INFO - \t missing_keys: []\n",
      "03/22/2025 14:42:24 - INFO - \t unexpected_keys: []\n",
      "03/22/2025 14:42:24 - INFO - \t mismatched_keys: []\n",
      "03/22/2025 14:42:24 - INFO - \t error_msgs: []\n",
      "03/22/2025 14:42:24 - INFO - \t Model Parameters: 90.5M, Transformer: 82.1M, Coref head: 8.4M\n",
      "03/22/2025 14:42:24 - INFO - \t Tokenize 1 inputs...\n"
     ]
    },
    {
     "data": {
      "application/vnd.jupyter.widget-view+json": {
       "model_id": "f72734dbb3da4a9b8337e071e2e8ad0f",
       "version_major": 2,
       "version_minor": 0
      },
      "text/plain": [
       "Map:   0%|          | 0/1 [00:00<?, ? examples/s]"
      ]
     },
     "metadata": {},
     "output_type": "display_data"
    },
    {
     "name": "stderr",
     "output_type": "stream",
     "text": [
      "03/22/2025 14:42:24 - INFO - \t ***** Running Inference on 1 texts *****\n"
     ]
    },
    {
     "name": "stdout",
     "output_type": "stream",
     "text": [
      "Sentence: \"We demonstrate that SPECIES_LARGE_BULLFROG competitors and caged SPECIES_ANAX affect traits (TRAIT) of SPECIES_SMALL_BULLFROG and SPECIES_SMALL_GREEN_FROG and that these changes in traits, in turn, affect interactions of the small tadpole species with each other and with the other species\"\n",
      "No Relations\n",
      "\n"
     ]
    },
    {
     "name": "stderr",
     "output_type": "stream",
     "text": [
      "03/22/2025 14:42:33 - INFO - \t missing_keys: []\n",
      "03/22/2025 14:42:33 - INFO - \t unexpected_keys: []\n",
      "03/22/2025 14:42:33 - INFO - \t mismatched_keys: []\n",
      "03/22/2025 14:42:33 - INFO - \t error_msgs: []\n",
      "03/22/2025 14:42:33 - INFO - \t Model Parameters: 90.5M, Transformer: 82.1M, Coref head: 8.4M\n",
      "03/22/2025 14:42:33 - INFO - \t Tokenize 1 inputs...\n"
     ]
    },
    {
     "data": {
      "application/vnd.jupyter.widget-view+json": {
       "model_id": "daa02a5c1e154ac3b294d18fb49b2f20",
       "version_major": 2,
       "version_minor": 0
      },
      "text/plain": [
       "Map:   0%|          | 0/1 [00:00<?, ? examples/s]"
      ]
     },
     "metadata": {},
     "output_type": "display_data"
    },
    {
     "name": "stderr",
     "output_type": "stream",
     "text": [
      "03/22/2025 14:42:33 - INFO - \t ***** Running Inference on 1 texts *****\n"
     ]
    },
    {
     "name": "stdout",
     "output_type": "stream",
     "text": [
      "Sentence: \"In particular, the following four trait- mediated indirect interactions were evident: (1) Presence of SPECIES_BULLFROG competitors increased the predation rate of SPECIES_SMALL_GREEN_FROGS and SPECIES_SMALL_BULLFROGS\"\n",
      "Subject: \"Presence\"\n",
      "Subject Context: \"Presence of SPECIES_BULLFROG competitors\"\n",
      "\n",
      "Verb: \"increased\"\n",
      "\n",
      "Object: \"rate\"\n",
      "Object Context: \"the predation rate of SPECIES_SMALL_GREEN_FROGS\"\n",
      "\n"
     ]
    },
    {
     "name": "stderr",
     "output_type": "stream",
     "text": [
      "03/22/2025 14:42:43 - INFO - \t missing_keys: []\n",
      "03/22/2025 14:42:43 - INFO - \t unexpected_keys: []\n",
      "03/22/2025 14:42:43 - INFO - \t mismatched_keys: []\n",
      "03/22/2025 14:42:43 - INFO - \t error_msgs: []\n",
      "03/22/2025 14:42:43 - INFO - \t Model Parameters: 90.5M, Transformer: 82.1M, Coref head: 8.4M\n",
      "03/22/2025 14:42:43 - INFO - \t Tokenize 1 inputs...\n"
     ]
    },
    {
     "data": {
      "application/vnd.jupyter.widget-view+json": {
       "model_id": "305f844ed77242bda833bd7fdbbc0df4",
       "version_major": 2,
       "version_minor": 0
      },
      "text/plain": [
       "Map:   0%|          | 0/1 [00:00<?, ? examples/s]"
      ]
     },
     "metadata": {},
     "output_type": "display_data"
    },
    {
     "name": "stderr",
     "output_type": "stream",
     "text": [
      "03/22/2025 14:42:43 - INFO - \t ***** Running Inference on 1 texts *****\n"
     ]
    },
    {
     "name": "stdout",
     "output_type": "stream",
     "text": [
      "Sentence: \"(2) Presence of nonlethal SPECIES_ANAX reduced the TRAIT of SPECIES_TRAMEA on SPECIES_SMALL_GREEN_FROGS\"\n",
      "No Relations\n",
      "\n"
     ]
    },
    {
     "name": "stderr",
     "output_type": "stream",
     "text": [
      "03/22/2025 14:42:51 - INFO - \t missing_keys: []\n",
      "03/22/2025 14:42:51 - INFO - \t unexpected_keys: []\n",
      "03/22/2025 14:42:51 - INFO - \t mismatched_keys: []\n",
      "03/22/2025 14:42:51 - INFO - \t error_msgs: []\n",
      "03/22/2025 14:42:51 - INFO - \t Model Parameters: 90.5M, Transformer: 82.1M, Coref head: 8.4M\n",
      "03/22/2025 14:42:51 - INFO - \t Tokenize 1 inputs...\n"
     ]
    },
    {
     "data": {
      "application/vnd.jupyter.widget-view+json": {
       "model_id": "f0a7a674ca2446f89b39ba172ee616ff",
       "version_major": 2,
       "version_minor": 0
      },
      "text/plain": [
       "Map:   0%|          | 0/1 [00:00<?, ? examples/s]"
      ]
     },
     "metadata": {},
     "output_type": "display_data"
    },
    {
     "name": "stderr",
     "output_type": "stream",
     "text": [
      "03/22/2025 14:42:51 - INFO - \t ***** Running Inference on 1 texts *****\n"
     ]
    },
    {
     "name": "stdout",
     "output_type": "stream",
     "text": [
      "Sentence: \"(3) Presence of nonlethal SPECIES_ANAX increased the TRAIT of SPECIES_BULLFROG over SPECIES_GREEN_FROGS\"\n",
      "No Relations\n",
      "\n"
     ]
    },
    {
     "name": "stderr",
     "output_type": "stream",
     "text": [
      "03/22/2025 14:42:58 - INFO - \t missing_keys: []\n",
      "03/22/2025 14:42:58 - INFO - \t unexpected_keys: []\n",
      "03/22/2025 14:42:58 - INFO - \t mismatched_keys: []\n",
      "03/22/2025 14:42:58 - INFO - \t error_msgs: []\n",
      "03/22/2025 14:42:58 - INFO - \t Model Parameters: 90.5M, Transformer: 82.1M, Coref head: 8.4M\n",
      "03/22/2025 14:42:58 - INFO - \t Tokenize 1 inputs...\n"
     ]
    },
    {
     "data": {
      "application/vnd.jupyter.widget-view+json": {
       "model_id": "9088b1c48af246c48899a44cd87b95cc",
       "version_major": 2,
       "version_minor": 0
      },
      "text/plain": [
       "Map:   0%|          | 0/1 [00:00<?, ? examples/s]"
      ]
     },
     "metadata": {},
     "output_type": "display_data"
    },
    {
     "name": "stderr",
     "output_type": "stream",
     "text": [
      "03/22/2025 14:42:59 - INFO - \t ***** Running Inference on 1 texts *****\n"
     ]
    },
    {
     "name": "stdout",
     "output_type": "stream",
     "text": [
      "Sentence: \"(4) Presence of nonlethal SPECIES_ANAX facilitated midge invasion of the experimental units\"\n",
      "No Relations\n",
      "\n"
     ]
    },
    {
     "name": "stderr",
     "output_type": "stream",
     "text": [
      "03/22/2025 14:43:09 - INFO - \t missing_keys: []\n",
      "03/22/2025 14:43:09 - INFO - \t unexpected_keys: []\n",
      "03/22/2025 14:43:09 - INFO - \t mismatched_keys: []\n",
      "03/22/2025 14:43:09 - INFO - \t error_msgs: []\n",
      "03/22/2025 14:43:09 - INFO - \t Model Parameters: 90.5M, Transformer: 82.1M, Coref head: 8.4M\n",
      "03/22/2025 14:43:09 - INFO - \t Tokenize 1 inputs...\n"
     ]
    },
    {
     "data": {
      "application/vnd.jupyter.widget-view+json": {
       "model_id": "f8387b1f3ae74df397e0d7d1c80c0f27",
       "version_major": 2,
       "version_minor": 0
      },
      "text/plain": [
       "Map:   0%|          | 0/1 [00:00<?, ? examples/s]"
      ]
     },
     "metadata": {},
     "output_type": "display_data"
    },
    {
     "name": "stderr",
     "output_type": "stream",
     "text": [
      "03/22/2025 14:43:10 - INFO - \t ***** Running Inference on 1 texts *****\n"
     ]
    },
    {
     "name": "stdout",
     "output_type": "stream",
     "text": [
      "Sentence: \"The pro- posed mechanisms (changes in small tadpole activity) involved in these trait-mediated indirect interactions were supported by observational data on tadpole activity and resource levels in the experimental units, and in laboratory experiments examining tadpole activity responses to predators\"\n",
      "No Relations\n",
      "\n"
     ]
    },
    {
     "name": "stderr",
     "output_type": "stream",
     "text": [
      "03/22/2025 14:43:17 - INFO - \t missing_keys: []\n",
      "03/22/2025 14:43:17 - INFO - \t unexpected_keys: []\n",
      "03/22/2025 14:43:17 - INFO - \t mismatched_keys: []\n",
      "03/22/2025 14:43:17 - INFO - \t error_msgs: []\n",
      "03/22/2025 14:43:17 - INFO - \t Model Parameters: 90.5M, Transformer: 82.1M, Coref head: 8.4M\n",
      "03/22/2025 14:43:17 - INFO - \t Tokenize 1 inputs...\n"
     ]
    },
    {
     "data": {
      "application/vnd.jupyter.widget-view+json": {
       "model_id": "403f0423611742f1a0fd2c57f585120e",
       "version_major": 2,
       "version_minor": 0
      },
      "text/plain": [
       "Map:   0%|          | 0/1 [00:00<?, ? examples/s]"
      ]
     },
     "metadata": {},
     "output_type": "display_data"
    },
    {
     "name": "stderr",
     "output_type": "stream",
     "text": [
      "03/22/2025 14:43:17 - INFO - \t ***** Running Inference on 1 texts *****\n"
     ]
    },
    {
     "name": "stdout",
     "output_type": "stream",
     "text": [
      "Sentence: \"The occurrence of strong trait-mediated indirect interactions in this simple food web underscores the potential importance of such interactions in animal communities\"\n",
      "No Relations\n",
      "\n",
      "Sentence: \"\"\n",
      "No Relations\n",
      "\n"
     ]
    },
    {
     "name": "stderr",
     "output_type": "stream",
     "text": [
      "03/22/2025 14:43:27 - INFO - \t missing_keys: []\n",
      "03/22/2025 14:43:27 - INFO - \t unexpected_keys: []\n",
      "03/22/2025 14:43:27 - INFO - \t mismatched_keys: []\n",
      "03/22/2025 14:43:27 - INFO - \t error_msgs: []\n",
      "03/22/2025 14:43:27 - INFO - \t Model Parameters: 90.5M, Transformer: 82.1M, Coref head: 8.4M\n",
      "03/22/2025 14:43:27 - INFO - \t Tokenize 1 inputs...\n"
     ]
    },
    {
     "data": {
      "application/vnd.jupyter.widget-view+json": {
       "model_id": "0a56c998c95b4ca79558d66a07a708f1",
       "version_major": 2,
       "version_minor": 0
      },
      "text/plain": [
       "Map:   0%|          | 0/1 [00:00<?, ? examples/s]"
      ]
     },
     "metadata": {},
     "output_type": "display_data"
    },
    {
     "name": "stderr",
     "output_type": "stream",
     "text": [
      "03/22/2025 14:43:27 - INFO - \t ***** Running Inference on 1 texts *****\n"
     ]
    },
    {
     "name": "stdout",
     "output_type": "stream",
     "text": [
      "Sentence: \"Trait-mediated interactions (TMIs), in which trophic and competitive inter- actions depend on individual traits as well as on overall population densities, have inspired large amounts of research, but theoretical and empirical studies have not been well con- nected\"\n",
      "No Relations\n",
      "\n"
     ]
    },
    {
     "name": "stderr",
     "output_type": "stream",
     "text": [
      "03/22/2025 14:43:38 - INFO - \t missing_keys: []\n",
      "03/22/2025 14:43:38 - INFO - \t unexpected_keys: []\n",
      "03/22/2025 14:43:38 - INFO - \t mismatched_keys: []\n",
      "03/22/2025 14:43:38 - INFO - \t error_msgs: []\n",
      "03/22/2025 14:43:38 - INFO - \t Model Parameters: 90.5M, Transformer: 82.1M, Coref head: 8.4M\n",
      "03/22/2025 14:43:38 - INFO - \t Tokenize 1 inputs...\n"
     ]
    },
    {
     "data": {
      "application/vnd.jupyter.widget-view+json": {
       "model_id": "6e4725fedfb546db99933cb5341b96b3",
       "version_major": 2,
       "version_minor": 0
      },
      "text/plain": [
       "Map:   0%|          | 0/1 [00:00<?, ? examples/s]"
      ]
     },
     "metadata": {},
     "output_type": "display_data"
    },
    {
     "name": "stderr",
     "output_type": "stream",
     "text": [
      "03/22/2025 14:43:38 - INFO - \t ***** Running Inference on 1 texts *****\n",
      "03/22/2025 14:43:42 - INFO - \t missing_keys: []\n",
      "03/22/2025 14:43:42 - INFO - \t unexpected_keys: []\n",
      "03/22/2025 14:43:42 - INFO - \t mismatched_keys: []\n",
      "03/22/2025 14:43:42 - INFO - \t error_msgs: []\n",
      "03/22/2025 14:43:42 - INFO - \t Model Parameters: 90.5M, Transformer: 82.1M, Coref head: 8.4M\n",
      "03/22/2025 14:43:42 - INFO - \t Tokenize 1 inputs...\n"
     ]
    },
    {
     "data": {
      "application/vnd.jupyter.widget-view+json": {
       "model_id": "75953a210f4943099a147212d46d9d91",
       "version_major": 2,
       "version_minor": 0
      },
      "text/plain": [
       "Map:   0%|          | 0/1 [00:00<?, ? examples/s]"
      ]
     },
     "metadata": {},
     "output_type": "display_data"
    },
    {
     "name": "stderr",
     "output_type": "stream",
     "text": [
      "03/22/2025 14:43:42 - INFO - \t ***** Running Inference on 1 texts *****\n"
     ]
    },
    {
     "name": "stdout",
     "output_type": "stream",
     "text": [
      "Sentence: \"To help mitigate this problem, we review and synthesize the theoretical literature on TMIs and, in particular, on trait-mediated indirect interactions, TMIIs, in which the presence of one species mediates the interaction between a second and third species\"\n",
      "No Relations\n",
      "\n",
      "Sentence: \"(1) In models, TMIs tend to stabilize simple communities; adding further biological detail often reduces stability in models, but populations may persist even if their dynamics become mathematically unstable\"\n",
      "No Relations\n",
      "\n"
     ]
    },
    {
     "name": "stderr",
     "output_type": "stream",
     "text": [
      "03/22/2025 14:43:55 - INFO - \t missing_keys: []\n",
      "03/22/2025 14:43:55 - INFO - \t unexpected_keys: []\n",
      "03/22/2025 14:43:55 - INFO - \t mismatched_keys: []\n",
      "03/22/2025 14:43:55 - INFO - \t error_msgs: []\n",
      "03/22/2025 14:43:55 - INFO - \t Model Parameters: 90.5M, Transformer: 82.1M, Coref head: 8.4M\n"
     ]
    },
    {
     "name": "stdout",
     "output_type": "stream",
     "text": [
      "Sentence: \"(2) Short- and long-term changes in population density caused by TMIs depend even more on details, such as the curvature of functional responses and trade-offs, which have rarely been measured\"\n",
      "No Relations\n",
      "\n",
      "Sentence: \"(3) The effects of TMIs in multipredator communities depend in a straightforward way on the specificity of prey defenses\"\n",
      "No Relations\n",
      "\n",
      "Sentence: \"(4) Tritrophic and more complex communities are theoretically difficult; few general conclu- sions have emerged\"\n",
      "No Relations\n",
      "\n"
     ]
    },
    {
     "name": "stderr",
     "output_type": "stream",
     "text": [
      "03/22/2025 14:44:03 - INFO - \t missing_keys: []\n",
      "03/22/2025 14:44:03 - INFO - \t unexpected_keys: []\n",
      "03/22/2025 14:44:03 - INFO - \t mismatched_keys: []\n",
      "03/22/2025 14:44:03 - INFO - \t error_msgs: []\n",
      "03/22/2025 14:44:03 - INFO - \t Model Parameters: 90.5M, Transformer: 82.1M, Coref head: 8.4M\n",
      "03/22/2025 14:44:03 - INFO - \t Tokenize 1 inputs...\n"
     ]
    },
    {
     "data": {
      "application/vnd.jupyter.widget-view+json": {
       "model_id": "2719f1392a774b62a17a1c727e17705d",
       "version_major": 2,
       "version_minor": 0
      },
      "text/plain": [
       "Map:   0%|          | 0/1 [00:00<?, ? examples/s]"
      ]
     },
     "metadata": {},
     "output_type": "display_data"
    },
    {
     "name": "stderr",
     "output_type": "stream",
     "text": [
      "03/22/2025 14:44:03 - INFO - \t ***** Running Inference on 1 texts *****\n"
     ]
    },
    {
     "name": "stdout",
     "output_type": "stream",
     "text": [
      "Sentence: \"Theory needs new kinds of experiments as a guide\"\n",
      "No Relations\n",
      "\n"
     ]
    },
    {
     "name": "stderr",
     "output_type": "stream",
     "text": [
      "03/22/2025 14:44:12 - INFO - \t missing_keys: []\n",
      "03/22/2025 14:44:12 - INFO - \t unexpected_keys: []\n",
      "03/22/2025 14:44:12 - INFO - \t mismatched_keys: []\n",
      "03/22/2025 14:44:12 - INFO - \t error_msgs: []\n",
      "03/22/2025 14:44:12 - INFO - \t Model Parameters: 90.5M, Transformer: 82.1M, Coref head: 8.4M\n",
      "03/22/2025 14:44:12 - INFO - \t Tokenize 1 inputs...\n"
     ]
    },
    {
     "data": {
      "application/vnd.jupyter.widget-view+json": {
       "model_id": "c9f1f0e580854eeb9334ee9ee16ac550",
       "version_major": 2,
       "version_minor": 0
      },
      "text/plain": [
       "Map:   0%|          | 0/1 [00:00<?, ? examples/s]"
      ]
     },
     "metadata": {},
     "output_type": "display_data"
    },
    {
     "name": "stderr",
     "output_type": "stream",
     "text": [
      "03/22/2025 14:44:12 - INFO - \t ***** Running Inference on 1 texts *****\n"
     ]
    },
    {
     "name": "stdout",
     "output_type": "stream",
     "text": [
      "Sentence: \"The most critical needs are experiments that measure curvatures of trade-offs and responses, and experiments that (combined with theory) allow us to scale from short- to long-term responses of com- munities\"\n",
      "No Relations\n",
      "\n"
     ]
    },
    {
     "name": "stderr",
     "output_type": "stream",
     "text": [
      "03/22/2025 14:44:20 - INFO - \t missing_keys: []\n",
      "03/22/2025 14:44:20 - INFO - \t unexpected_keys: []\n",
      "03/22/2025 14:44:20 - INFO - \t mismatched_keys: []\n",
      "03/22/2025 14:44:20 - INFO - \t error_msgs: []\n",
      "03/22/2025 14:44:20 - INFO - \t Model Parameters: 90.5M, Transformer: 82.1M, Coref head: 8.4M\n",
      "03/22/2025 14:44:20 - INFO - \t Tokenize 1 inputs...\n"
     ]
    },
    {
     "data": {
      "application/vnd.jupyter.widget-view+json": {
       "model_id": "40535a63052a42718046d1a1064140c9",
       "version_major": 2,
       "version_minor": 0
      },
      "text/plain": [
       "Map:   0%|          | 0/1 [00:00<?, ? examples/s]"
      ]
     },
     "metadata": {},
     "output_type": "display_data"
    },
    {
     "name": "stderr",
     "output_type": "stream",
     "text": [
      "03/22/2025 14:44:20 - INFO - \t ***** Running Inference on 1 texts *****\n"
     ]
    },
    {
     "name": "stdout",
     "output_type": "stream",
     "text": [
      "Sentence: \"Anecdotal evidence from long-term and large-scale studies suggests that TMIs may affect community dynamics at practical management scales; community models in- corporating TMIs are necessary and require closer collaborations between theory and ex-\"\n",
      "No Relations\n",
      "\n",
      "Sentence: \"Non-lethal, trait-mediated effects of predation impact prey behavior and life-history traits\"\n",
      "No Relations\n",
      "\n"
     ]
    },
    {
     "name": "stderr",
     "output_type": "stream",
     "text": [
      "03/22/2025 14:44:28 - INFO - \t missing_keys: []\n",
      "03/22/2025 14:44:28 - INFO - \t unexpected_keys: []\n",
      "03/22/2025 14:44:28 - INFO - \t mismatched_keys: []\n",
      "03/22/2025 14:44:28 - INFO - \t error_msgs: []\n",
      "03/22/2025 14:44:28 - INFO - \t Model Parameters: 90.5M, Transformer: 82.1M, Coref head: 8.4M\n",
      "03/22/2025 14:44:28 - INFO - \t Tokenize 1 inputs...\n"
     ]
    },
    {
     "data": {
      "application/vnd.jupyter.widget-view+json": {
       "model_id": "644819e90d804be2871f05d69152aa16",
       "version_major": 2,
       "version_minor": 0
      },
      "text/plain": [
       "Map:   0%|          | 0/1 [00:00<?, ? examples/s]"
      ]
     },
     "metadata": {},
     "output_type": "display_data"
    },
    {
     "name": "stderr",
     "output_type": "stream",
     "text": [
      "03/22/2025 14:44:28 - INFO - \t ***** Running Inference on 1 texts *****\n"
     ]
    },
    {
     "name": "stdout",
     "output_type": "stream",
     "text": [
      "Sentence: \"Studying how these effects in turn influence prey demography is crucial to understand prey life-history evolution\"\n",
      "No Relations\n",
      "\n"
     ]
    },
    {
     "name": "stderr",
     "output_type": "stream",
     "text": [
      "03/22/2025 14:44:35 - INFO - \t missing_keys: []\n",
      "03/22/2025 14:44:35 - INFO - \t unexpected_keys: []\n",
      "03/22/2025 14:44:35 - INFO - \t mismatched_keys: []\n",
      "03/22/2025 14:44:35 - INFO - \t error_msgs: []\n",
      "03/22/2025 14:44:35 - INFO - \t Model Parameters: 90.5M, Transformer: 82.1M, Coref head: 8.4M\n",
      "03/22/2025 14:44:35 - INFO - \t Tokenize 1 inputs...\n"
     ]
    },
    {
     "data": {
      "application/vnd.jupyter.widget-view+json": {
       "model_id": "aac9933444ce455abb553ef5a05f1a92",
       "version_major": 2,
       "version_minor": 0
      },
      "text/plain": [
       "Map:   0%|          | 0/1 [00:00<?, ? examples/s]"
      ]
     },
     "metadata": {},
     "output_type": "display_data"
    },
    {
     "name": "stderr",
     "output_type": "stream",
     "text": [
      "03/22/2025 14:44:35 - INFO - \t ***** Running Inference on 1 texts *****\n"
     ]
    },
    {
     "name": "stdout",
     "output_type": "stream",
     "text": [
      "Sentence: \"SPECIES_MOSQUITOES are important vectors that claim several million lives every year worldwide by transmitting a range of pathogens\"\n",
      "No Relations\n",
      "\n"
     ]
    },
    {
     "name": "stderr",
     "output_type": "stream",
     "text": [
      "03/22/2025 14:44:42 - INFO - \t missing_keys: []\n",
      "03/22/2025 14:44:42 - INFO - \t unexpected_keys: []\n",
      "03/22/2025 14:44:42 - INFO - \t mismatched_keys: []\n",
      "03/22/2025 14:44:42 - INFO - \t error_msgs: []\n",
      "03/22/2025 14:44:42 - INFO - \t Model Parameters: 90.5M, Transformer: 82.1M, Coref head: 8.4M\n",
      "03/22/2025 14:44:42 - INFO - \t Tokenize 1 inputs...\n"
     ]
    },
    {
     "data": {
      "application/vnd.jupyter.widget-view+json": {
       "model_id": "3253cd53a12448e89e9057eff2a74386",
       "version_major": 2,
       "version_minor": 0
      },
      "text/plain": [
       "Map:   0%|          | 0/1 [00:00<?, ? examples/s]"
      ]
     },
     "metadata": {},
     "output_type": "display_data"
    },
    {
     "name": "stderr",
     "output_type": "stream",
     "text": [
      "03/22/2025 14:44:42 - INFO - \t ***** Running Inference on 1 texts *****\n"
     ]
    },
    {
     "name": "stdout",
     "output_type": "stream",
     "text": [
      "Sentence: \"Several ecological factors affect life-history traits of both larval and adult SPECIES_MOSQUITOES, creating effects that cascade to population-level consequences\"\n",
      "No Relations\n",
      "\n"
     ]
    },
    {
     "name": "stderr",
     "output_type": "stream",
     "text": [
      "03/22/2025 14:44:48 - INFO - \t missing_keys: []\n",
      "03/22/2025 14:44:48 - INFO - \t unexpected_keys: []\n",
      "03/22/2025 14:44:48 - INFO - \t mismatched_keys: []\n",
      "03/22/2025 14:44:48 - INFO - \t error_msgs: []\n",
      "03/22/2025 14:44:48 - INFO - \t Model Parameters: 90.5M, Transformer: 82.1M, Coref head: 8.4M\n",
      "03/22/2025 14:44:48 - INFO - \t Tokenize 1 inputs...\n"
     ]
    },
    {
     "data": {
      "application/vnd.jupyter.widget-view+json": {
       "model_id": "0a99c50d149c4d378db1e12edae92dfa",
       "version_major": 2,
       "version_minor": 0
      },
      "text/plain": [
       "Map:   0%|          | 0/1 [00:00<?, ? examples/s]"
      ]
     },
     "metadata": {},
     "output_type": "display_data"
    },
    {
     "name": "stderr",
     "output_type": "stream",
     "text": [
      "03/22/2025 14:44:49 - INFO - \t ***** Running Inference on 1 texts *****\n"
     ]
    },
    {
     "name": "stdout",
     "output_type": "stream",
     "text": [
      "Sentence: \"Few studies have comprehensively explored the non-lethal effects of predation and its interactions with resources and competition on larval, adult, and population traits of SPECIES_MOSQUITOES\"\n",
      "No Relations\n",
      "\n",
      "Sentence: \"Understanding these interactions is important because the effects of predation are hypothesized to rescue prey populations from the effects of density-dependence resulting from larval competition\"\n",
      "No Relations\n",
      "\n",
      "Sentence: \"SPECIES_LARVAE reared at two different TRAIT_LEVELS and subjected to three non-lethal predator treatments were monitored for survival, development time, and adult size through the larval stages to adult eclosion, and adult females were monitored for survival and reproduction through their first gonotrophic cycle\"\n",
      "No Relations\n",
      "\n"
     ]
    },
    {
     "name": "stderr",
     "output_type": "stream",
     "text": [
      "03/22/2025 14:45:07 - INFO - \t missing_keys: []\n",
      "03/22/2025 14:45:07 - INFO - \t unexpected_keys: []\n",
      "03/22/2025 14:45:07 - INFO - \t mismatched_keys: []\n",
      "03/22/2025 14:45:07 - INFO - \t error_msgs: []\n",
      "03/22/2025 14:45:07 - INFO - \t Model Parameters: 90.5M, Transformer: 82.1M, Coref head: 8.4M\n"
     ]
    },
    {
     "name": "stdout",
     "output_type": "stream",
     "text": [
      "Sentence: \"Intraspecific competition increased TRAIT1, yielded TRAIT2, and reduced TRAIT3 in individuals exposed to predatory chemical cues as SPECIES_LARVAE\"\n",
      "No Relations\n",
      "\n"
     ]
    },
    {
     "name": "stderr",
     "output_type": "stream",
     "text": [
      "03/22/2025 14:45:12 - INFO - \t missing_keys: []\n",
      "03/22/2025 14:45:12 - INFO - \t unexpected_keys: []\n",
      "03/22/2025 14:45:12 - INFO - \t mismatched_keys: []\n",
      "03/22/2025 14:45:12 - INFO - \t error_msgs: []\n",
      "03/22/2025 14:45:12 - INFO - \t Model Parameters: 90.5M, Transformer: 82.1M, Coref head: 8.4M\n",
      "03/22/2025 14:45:12 - INFO - \t Tokenize 1 inputs...\n"
     ]
    },
    {
     "data": {
      "application/vnd.jupyter.widget-view+json": {
       "model_id": "d21854e375ba481f846af8d8914ba0b9",
       "version_major": 2,
       "version_minor": 0
      },
      "text/plain": [
       "Map:   0%|          | 0/1 [00:00<?, ? examples/s]"
      ]
     },
     "metadata": {},
     "output_type": "display_data"
    },
    {
     "name": "stderr",
     "output_type": "stream",
     "text": [
      "03/22/2025 14:45:13 - INFO - \t ***** Running Inference on 1 texts *****\n"
     ]
    },
    {
     "name": "stdout",
     "output_type": "stream",
     "text": [
      "Sentence: \"Exposure to cues from a living predator affected both TRAIT4 and TRAIT5 in females\"\n",
      "No Relations\n",
      "\n"
     ]
    },
    {
     "name": "stderr",
     "output_type": "stream",
     "text": [
      "03/22/2025 14:45:19 - INFO - \t missing_keys: []\n",
      "03/22/2025 14:45:19 - INFO - \t unexpected_keys: []\n",
      "03/22/2025 14:45:19 - INFO - \t mismatched_keys: []\n",
      "03/22/2025 14:45:19 - INFO - \t error_msgs: []\n",
      "03/22/2025 14:45:19 - INFO - \t Model Parameters: 90.5M, Transformer: 82.1M, Coref head: 8.4M\n",
      "03/22/2025 14:45:19 - INFO - \t Tokenize 1 inputs...\n"
     ]
    },
    {
     "data": {
      "application/vnd.jupyter.widget-view+json": {
       "model_id": "e6c3e5d69fcb4b9cb13f0b3ec56d7ce1",
       "version_major": 2,
       "version_minor": 0
      },
      "text/plain": [
       "Map:   0%|          | 0/1 [00:00<?, ? examples/s]"
      ]
     },
     "metadata": {},
     "output_type": "display_data"
    },
    {
     "name": "stderr",
     "output_type": "stream",
     "text": [
      "03/22/2025 14:45:19 - INFO - \t ***** Running Inference on 1 texts *****\n"
     ]
    },
    {
     "name": "stdout",
     "output_type": "stream",
     "text": [
      "Sentence: \"Analysis of life-table traits revealed significant effects of competition on TRAIT7 (R 0) of SPECIES_MOSQUITOES\"\n",
      "No Relations\n",
      "\n"
     ]
    },
    {
     "name": "stderr",
     "output_type": "stream",
     "text": [
      "03/22/2025 14:45:26 - INFO - \t missing_keys: []\n",
      "03/22/2025 14:45:26 - INFO - \t unexpected_keys: []\n",
      "03/22/2025 14:45:26 - INFO - \t mismatched_keys: []\n",
      "03/22/2025 14:45:26 - INFO - \t error_msgs: []\n",
      "03/22/2025 14:45:26 - INFO - \t Model Parameters: 90.5M, Transformer: 82.1M, Coref head: 8.4M\n",
      "03/22/2025 14:45:26 - INFO - \t Tokenize 1 inputs...\n"
     ]
    },
    {
     "data": {
      "application/vnd.jupyter.widget-view+json": {
       "model_id": "82b9dacd5c434467951a02823370bc80",
       "version_major": 2,
       "version_minor": 0
      },
      "text/plain": [
       "Map:   0%|          | 0/1 [00:00<?, ? examples/s]"
      ]
     },
     "metadata": {},
     "output_type": "display_data"
    },
    {
     "name": "stderr",
     "output_type": "stream",
     "text": [
      "03/22/2025 14:45:26 - INFO - \t ***** Running Inference on 1 texts *****\n"
     ]
    },
    {
     "name": "stdout",
     "output_type": "stream",
     "text": [
      "Sentence: \"The interaction between competition and predator treatments significantly affected the cohort rate of increase (r) and the index of performance (r')\"\n",
      "No Relations\n",
      "\n"
     ]
    },
    {
     "name": "stderr",
     "output_type": "stream",
     "text": [
      "03/22/2025 14:45:34 - INFO - \t missing_keys: []\n",
      "03/22/2025 14:45:34 - INFO - \t unexpected_keys: []\n",
      "03/22/2025 14:45:34 - INFO - \t mismatched_keys: []\n",
      "03/22/2025 14:45:34 - INFO - \t error_msgs: []\n",
      "03/22/2025 14:45:34 - INFO - \t Model Parameters: 90.5M, Transformer: 82.1M, Coref head: 8.4M\n",
      "03/22/2025 14:45:34 - INFO - \t Tokenize 1 inputs...\n"
     ]
    },
    {
     "data": {
      "application/vnd.jupyter.widget-view+json": {
       "model_id": "edd8d6b216254e6db7053b526dfee96c",
       "version_major": 2,
       "version_minor": 0
      },
      "text/plain": [
       "Map:   0%|          | 0/1 [00:00<?, ? examples/s]"
      ]
     },
     "metadata": {},
     "output_type": "display_data"
    },
    {
     "name": "stderr",
     "output_type": "stream",
     "text": [
      "03/22/2025 14:45:35 - INFO - \t ***** Running Inference on 1 texts *****\n"
     ]
    },
    {
     "name": "stdout",
     "output_type": "stream",
     "text": [
      "Sentence: \"The index of performance, which estimates rate of population change based on the size-fecundity relationship, was significantly and positively correlated with r, but overestimated r slightly\"\n",
      "No Relations\n",
      "\n",
      "Sentence: \"Lack of significant effect of predator treatments and larval density on cohort generation time (T c) further suggests that the observed effects of treatments on r and r' were largely a consequence of the effects on R 0\"\n",
      "No Relations\n",
      "\n",
      "Sentence: \"Also, the significant effects of treatment combinations on larval development time, adult body size and fecundity were ultimately manifested as effects on life-table traits estimated from adult survival and reproduction\"\n",
      "No Relations\n",
      "\n",
      "Sentence: \"\"\n",
      "No Relations\n",
      "\n"
     ]
    },
    {
     "name": "stderr",
     "output_type": "stream",
     "text": [
      "03/22/2025 14:45:50 - INFO - \t missing_keys: []\n",
      "03/22/2025 14:45:50 - INFO - \t unexpected_keys: []\n",
      "03/22/2025 14:45:50 - INFO - \t mismatched_keys: []\n",
      "03/22/2025 14:45:50 - INFO - \t error_msgs: []\n",
      "03/22/2025 14:45:50 - INFO - \t Model Parameters: 90.5M, Transformer: 82.1M, Coref head: 8.4M\n",
      "03/22/2025 14:45:50 - INFO - \t Tokenize 1 inputs...\n"
     ]
    },
    {
     "data": {
      "application/vnd.jupyter.widget-view+json": {
       "model_id": "7ebfe2f829ca45a8b09aa30f42ff1913",
       "version_major": 2,
       "version_minor": 0
      },
      "text/plain": [
       "Map:   0%|          | 0/1 [00:00<?, ? examples/s]"
      ]
     },
     "metadata": {},
     "output_type": "display_data"
    },
    {
     "name": "stderr",
     "output_type": "stream",
     "text": [
      "03/22/2025 14:45:51 - INFO - \t ***** Running Inference on 1 texts *****\n"
     ]
    },
    {
     "name": "stdout",
     "output_type": "stream",
     "text": [
      "Sentence: \"The outcome of species interactions is often strongly influenced by variation in the functional traits of the individuals participating\"\n",
      "No Relations\n",
      "\n",
      "Sentence: \"A rather large body of work demonstrates that inducible morphological plasticity in predators and prey can both influence and be influenced by species interaction strength, with important consequences for individual fitness\"\n",
      "No Relations\n",
      "\n",
      "Sentence: \"Much of the past research in this area has focused on the ecological and evolutionary significance of trait plasticity by studying single predatorâ€“prey pairs and testing the performance of individuals having induced and noninduced phenotypes\"\n",
      "No Relations\n",
      "\n",
      "Sentence: \"This research has thus been critical in improving our understanding of the adaptive value of trait plasticity and its widespread occurrence across species and community types\"\n",
      "No Relations\n",
      "\n"
     ]
    },
    {
     "name": "stderr",
     "output_type": "stream",
     "text": [
      "03/22/2025 14:46:11 - INFO - \t missing_keys: []\n",
      "03/22/2025 14:46:11 - INFO - \t unexpected_keys: []\n",
      "03/22/2025 14:46:11 - INFO - \t mismatched_keys: []\n",
      "03/22/2025 14:46:11 - INFO - \t error_msgs: []\n",
      "03/22/2025 14:46:11 - INFO - \t Model Parameters: 90.5M, Transformer: 82.1M, Coref head: 8.4M\n",
      "03/22/2025 14:46:11 - INFO - \t Tokenize 1 inputs...\n"
     ]
    },
    {
     "data": {
      "application/vnd.jupyter.widget-view+json": {
       "model_id": "7bd4f283a99c42f0a2b9975bee60e1bf",
       "version_major": 2,
       "version_minor": 0
      },
      "text/plain": [
       "Map:   0%|          | 0/1 [00:00<?, ? examples/s]"
      ]
     },
     "metadata": {},
     "output_type": "display_data"
    },
    {
     "name": "stderr",
     "output_type": "stream",
     "text": [
      "03/22/2025 14:46:12 - INFO - \t ***** Running Inference on 1 texts *****\n",
      "03/22/2025 14:46:15 - INFO - \t missing_keys: []\n",
      "03/22/2025 14:46:15 - INFO - \t unexpected_keys: []\n",
      "03/22/2025 14:46:15 - INFO - \t mismatched_keys: []\n",
      "03/22/2025 14:46:15 - INFO - \t error_msgs: []\n",
      "03/22/2025 14:46:15 - INFO - \t Model Parameters: 90.5M, Transformer: 82.1M, Coref head: 8.4M\n",
      "03/22/2025 14:46:15 - INFO - \t Tokenize 1 inputs...\n"
     ]
    },
    {
     "data": {
      "application/vnd.jupyter.widget-view+json": {
       "model_id": "a60a6977d8a4456e8ec6b63bbb7fbb2f",
       "version_major": 2,
       "version_minor": 0
      },
      "text/plain": [
       "Map:   0%|          | 0/1 [00:00<?, ? examples/s]"
      ]
     },
     "metadata": {},
     "output_type": "display_data"
    },
    {
     "name": "stderr",
     "output_type": "stream",
     "text": [
      "03/22/2025 14:46:15 - INFO - \t ***** Running Inference on 1 texts *****\n"
     ]
    },
    {
     "name": "stdout",
     "output_type": "stream",
     "text": [
      "Sentence: \"More recently, researchers have expanded this foundation by examining how the complexity of organismal design and community-level properties can shape plasticity in functional traits\"\n",
      "No Relations\n",
      "\n",
      "Sentence: \"In addition, researchers have begun to merge evolutionary and ecological perspectives by linking trait plasticity to community dynamics, with particular attention on trait-mediated indirect interactions\"\n",
      "No Relations\n",
      "\n"
     ]
    },
    {
     "name": "stderr",
     "output_type": "stream",
     "text": [
      "03/22/2025 14:46:28 - INFO - \t missing_keys: []\n",
      "03/22/2025 14:46:28 - INFO - \t unexpected_keys: []\n",
      "03/22/2025 14:46:28 - INFO - \t mismatched_keys: []\n",
      "03/22/2025 14:46:28 - INFO - \t error_msgs: []\n",
      "03/22/2025 14:46:28 - INFO - \t Model Parameters: 90.5M, Transformer: 82.1M, Coref head: 8.4M\n",
      "03/22/2025 14:46:28 - INFO - \t Tokenize 1 inputs...\n"
     ]
    },
    {
     "data": {
      "application/vnd.jupyter.widget-view+json": {
       "model_id": "287791eb3d7a4dd49aa5db9a19af7531",
       "version_major": 2,
       "version_minor": 0
      },
      "text/plain": [
       "Map:   0%|          | 0/1 [00:00<?, ? examples/s]"
      ]
     },
     "metadata": {},
     "output_type": "display_data"
    },
    {
     "name": "stderr",
     "output_type": "stream",
     "text": [
      "03/22/2025 14:46:28 - INFO - \t ***** Running Inference on 1 texts *****\n",
      "03/22/2025 14:46:32 - INFO - \t missing_keys: []\n",
      "03/22/2025 14:46:32 - INFO - \t unexpected_keys: []\n",
      "03/22/2025 14:46:32 - INFO - \t mismatched_keys: []\n",
      "03/22/2025 14:46:32 - INFO - \t error_msgs: []\n",
      "03/22/2025 14:46:32 - INFO - \t Model Parameters: 90.5M, Transformer: 82.1M, Coref head: 8.4M\n",
      "03/22/2025 14:46:32 - INFO - \t Tokenize 1 inputs...\n"
     ]
    },
    {
     "data": {
      "application/vnd.jupyter.widget-view+json": {
       "model_id": "8c6b8028cfda4d0d89e77af2d27b1eb4",
       "version_major": 2,
       "version_minor": 0
      },
      "text/plain": [
       "Map:   0%|          | 0/1 [00:00<?, ? examples/s]"
      ]
     },
     "metadata": {},
     "output_type": "display_data"
    },
    {
     "name": "stderr",
     "output_type": "stream",
     "text": [
      "03/22/2025 14:46:32 - INFO - \t ***** Running Inference on 1 texts *****\n"
     ]
    },
    {
     "name": "stdout",
     "output_type": "stream",
     "text": [
      "Sentence: \"Here, we review recent studies on inducible morphological plasticity in predators and their prey with an emphasis on internal and external constraints and how the nature of predatorâ€“prey interactions influences the expression of inducible phenotypes\"\n",
      "No Relations\n",
      "\n",
      "Sentence: \"In particular, we focus on multiple-trait plasticity, flexibility and modification of inducible plasticity, and reciprocal plasticity between predator and prey\"\n",
      "No Relations\n",
      "\n"
     ]
    },
    {
     "name": "stderr",
     "output_type": "stream",
     "text": [
      "03/22/2025 14:46:44 - INFO - \t missing_keys: []\n",
      "03/22/2025 14:46:44 - INFO - \t unexpected_keys: []\n",
      "03/22/2025 14:46:44 - INFO - \t mismatched_keys: []\n",
      "03/22/2025 14:46:44 - INFO - \t error_msgs: []\n",
      "03/22/2025 14:46:44 - INFO - \t Model Parameters: 90.5M, Transformer: 82.1M, Coref head: 8.4M\n",
      "03/22/2025 14:46:44 - INFO - \t Tokenize 1 inputs...\n"
     ]
    },
    {
     "data": {
      "application/vnd.jupyter.widget-view+json": {
       "model_id": "6df0c09e9e494cb4aea2a914a98fc2f2",
       "version_major": 2,
       "version_minor": 0
      },
      "text/plain": [
       "Map:   0%|          | 0/1 [00:00<?, ? examples/s]"
      ]
     },
     "metadata": {},
     "output_type": "display_data"
    },
    {
     "name": "stderr",
     "output_type": "stream",
     "text": [
      "03/22/2025 14:46:44 - INFO - \t ***** Running Inference on 1 texts *****\n",
      "03/22/2025 14:46:48 - INFO - \t missing_keys: []\n",
      "03/22/2025 14:46:48 - INFO - \t unexpected_keys: []\n",
      "03/22/2025 14:46:48 - INFO - \t mismatched_keys: []\n",
      "03/22/2025 14:46:48 - INFO - \t error_msgs: []\n",
      "03/22/2025 14:46:48 - INFO - \t Model Parameters: 90.5M, Transformer: 82.1M, Coref head: 8.4M\n",
      "03/22/2025 14:46:48 - INFO - \t Tokenize 1 inputs...\n"
     ]
    },
    {
     "data": {
      "application/vnd.jupyter.widget-view+json": {
       "model_id": "295fdbdf1cc74e11a9af0c33d458f435",
       "version_major": 2,
       "version_minor": 0
      },
      "text/plain": [
       "Map:   0%|          | 0/1 [00:00<?, ? examples/s]"
      ]
     },
     "metadata": {},
     "output_type": "display_data"
    },
    {
     "name": "stderr",
     "output_type": "stream",
     "text": [
      "03/22/2025 14:46:48 - INFO - \t ***** Running Inference on 1 texts *****\n"
     ]
    },
    {
     "name": "stdout",
     "output_type": "stream",
     "text": [
      "Sentence: \"Based on our arguments on these issues, we propose future research directions that should better integrate evolutionary and population studies and thus improve our understanding of the role of phenotypic plasticity in predatorâ€“prey population and community dynamics\"\n",
      "No Relations\n",
      "\n",
      "Sentence: \"\"\n",
      "No Relations\n",
      "\n"
     ]
    },
    {
     "name": "stderr",
     "output_type": "stream",
     "text": [
      "03/22/2025 14:46:56 - INFO - \t missing_keys: []\n",
      "03/22/2025 14:46:56 - INFO - \t unexpected_keys: []\n",
      "03/22/2025 14:46:56 - INFO - \t mismatched_keys: []\n",
      "03/22/2025 14:46:56 - INFO - \t error_msgs: []\n",
      "03/22/2025 14:46:56 - INFO - \t Model Parameters: 90.5M, Transformer: 82.1M, Coref head: 8.4M\n",
      "03/22/2025 14:46:56 - INFO - \t Tokenize 1 inputs...\n"
     ]
    },
    {
     "data": {
      "application/vnd.jupyter.widget-view+json": {
       "model_id": "edb7919f27224caa8a047c22bd4a1fea",
       "version_major": 2,
       "version_minor": 0
      },
      "text/plain": [
       "Map:   0%|          | 0/1 [00:00<?, ? examples/s]"
      ]
     },
     "metadata": {},
     "output_type": "display_data"
    },
    {
     "name": "stderr",
     "output_type": "stream",
     "text": [
      "03/22/2025 14:46:56 - INFO - \t ***** Running Inference on 1 texts *****\n"
     ]
    },
    {
     "name": "stdout",
     "output_type": "stream",
     "text": [
      "Sentence: \"This article compares indirect trait-mediated interactions in simple resource-consumer-predator food webs with those that are density-mediated\"\n",
      "No Relations\n",
      "\n",
      "Sentence: \"It focuses on two well documented responses of consumers to predation risk: decrease in consumer activity and habitat switch\"\n",
      "No Relations\n",
      "\n"
     ]
    },
    {
     "name": "stderr",
     "output_type": "stream",
     "text": [
      "03/22/2025 14:47:07 - INFO - \t missing_keys: []\n",
      "03/22/2025 14:47:07 - INFO - \t unexpected_keys: []\n",
      "03/22/2025 14:47:07 - INFO - \t mismatched_keys: []\n",
      "03/22/2025 14:47:07 - INFO - \t error_msgs: []\n",
      "03/22/2025 14:47:07 - INFO - \t Model Parameters: 90.5M, Transformer: 82.1M, Coref head: 8.4M\n",
      "03/22/2025 14:47:07 - INFO - \t Tokenize 1 inputs...\n"
     ]
    },
    {
     "data": {
      "application/vnd.jupyter.widget-view+json": {
       "model_id": "5311de419e444c50ba9396e98986fe56",
       "version_major": 2,
       "version_minor": 0
      },
      "text/plain": [
       "Map:   0%|          | 0/1 [00:00<?, ? examples/s]"
      ]
     },
     "metadata": {},
     "output_type": "display_data"
    },
    {
     "name": "stderr",
     "output_type": "stream",
     "text": [
      "03/22/2025 14:47:07 - INFO - \t ***** Running Inference on 1 texts *****\n",
      "03/22/2025 14:51:28 - INFO - \t missing_keys: []\n",
      "03/22/2025 14:51:28 - INFO - \t unexpected_keys: []\n",
      "03/22/2025 14:51:28 - INFO - \t mismatched_keys: []\n",
      "03/22/2025 14:51:28 - INFO - \t error_msgs: []\n",
      "03/22/2025 14:51:28 - INFO - \t Model Parameters: 90.5M, Transformer: 82.1M, Coref head: 8.4M\n",
      "03/22/2025 14:51:28 - INFO - \t Tokenize 1 inputs...\n"
     ]
    },
    {
     "data": {
      "application/vnd.jupyter.widget-view+json": {
       "model_id": "a442cd84a5804f838c6d8d360f555f9b",
       "version_major": 2,
       "version_minor": 0
      },
      "text/plain": [
       "Map:   0%|          | 0/1 [00:00<?, ? examples/s]"
      ]
     },
     "metadata": {},
     "output_type": "display_data"
    },
    {
     "name": "stderr",
     "output_type": "stream",
     "text": [
      "03/22/2025 14:51:28 - INFO - \t ***** Running Inference on 1 texts *****\n"
     ]
    },
    {
     "name": "stdout",
     "output_type": "stream",
     "text": [
      "Sentence: \"These behavioral effects are transmitted to resources and they cause similar indirect effects as those which are mediated by density changes in consumers\"\n",
      "No Relations\n",
      "\n",
      "Sentence: \"Two indirect interactions are studied in this article: trophic cascades, and apparent competition\"\n",
      "No Relations\n",
      "\n",
      "Sentence: \"Results for density only, trait only and combined density and trait mediated interactions are compared and discussed with respect to manipulation with predator density (top-down manipulation) and resource environmental capacity (bottom-up manipulation)\"\n",
      "No Relations\n",
      "\n",
      "Sentence: \"The article shows that trait-mediated, effects on species equilibrial densities are similar to those of density-mediated, but they are often highly non-linear\"\n",
      "No Relations\n",
      "\n"
     ]
    },
    {
     "name": "stderr",
     "output_type": "stream",
     "text": [
      "03/22/2025 14:51:39 - INFO - \t missing_keys: []\n",
      "03/22/2025 14:51:39 - INFO - \t unexpected_keys: []\n",
      "03/22/2025 14:51:39 - INFO - \t mismatched_keys: []\n",
      "03/22/2025 14:51:39 - INFO - \t error_msgs: []\n",
      "03/22/2025 14:51:39 - INFO - \t Model Parameters: 90.5M, Transformer: 82.1M, Coref head: 8.4M\n",
      "03/22/2025 14:51:39 - INFO - \t Tokenize 1 inputs...\n"
     ]
    },
    {
     "data": {
      "application/vnd.jupyter.widget-view+json": {
       "model_id": "7008e793790a4b069f09728b1ad3c02b",
       "version_major": 2,
       "version_minor": 0
      },
      "text/plain": [
       "Map:   0%|          | 0/1 [00:00<?, ? examples/s]"
      ]
     },
     "metadata": {},
     "output_type": "display_data"
    },
    {
     "name": "stderr",
     "output_type": "stream",
     "text": [
      "03/22/2025 14:51:39 - INFO - \t ***** Running Inference on 1 texts *****\n"
     ]
    },
    {
     "name": "stdout",
     "output_type": "stream",
     "text": [
      "Sentence: \"Thus, they may have potential for even stronger impact on food webs than those which are density mediated\"\n",
      "No Relations\n",
      "\n",
      "Sentence: \"\"\n",
      "No Relations\n",
      "\n"
     ]
    },
    {
     "name": "stderr",
     "output_type": "stream",
     "text": [
      "03/22/2025 14:51:45 - INFO - \t missing_keys: []\n",
      "03/22/2025 14:51:45 - INFO - \t unexpected_keys: []\n",
      "03/22/2025 14:51:45 - INFO - \t mismatched_keys: []\n",
      "03/22/2025 14:51:45 - INFO - \t error_msgs: []\n",
      "03/22/2025 14:51:45 - INFO - \t Model Parameters: 90.5M, Transformer: 82.1M, Coref head: 8.4M\n",
      "03/22/2025 14:51:45 - INFO - \t Tokenize 1 inputs...\n"
     ]
    },
    {
     "data": {
      "application/vnd.jupyter.widget-view+json": {
       "model_id": "802861657f014feea28af051cf34acc3",
       "version_major": 2,
       "version_minor": 0
      },
      "text/plain": [
       "Map:   0%|          | 0/1 [00:00<?, ? examples/s]"
      ]
     },
     "metadata": {},
     "output_type": "display_data"
    },
    {
     "name": "stderr",
     "output_type": "stream",
     "text": [
      "03/22/2025 14:51:46 - INFO - \t ***** Running Inference on 1 texts *****\n"
     ]
    },
    {
     "name": "stdout",
     "output_type": "stream",
     "text": [
      "Sentence: \"In this paper we review the empirical studies documenting trait-mediated indirect interactions (TMIIs) in food webs\"\n",
      "No Relations\n",
      "\n"
     ]
    },
    {
     "name": "stderr",
     "output_type": "stream",
     "text": [
      "03/22/2025 14:51:55 - INFO - \t missing_keys: []\n",
      "03/22/2025 14:51:55 - INFO - \t unexpected_keys: []\n",
      "03/22/2025 14:51:55 - INFO - \t mismatched_keys: []\n",
      "03/22/2025 14:51:55 - INFO - \t error_msgs: []\n",
      "03/22/2025 14:51:55 - INFO - \t Model Parameters: 90.5M, Transformer: 82.1M, Coref head: 8.4M\n",
      "03/22/2025 14:51:55 - INFO - \t Tokenize 1 inputs...\n"
     ]
    },
    {
     "data": {
      "application/vnd.jupyter.widget-view+json": {
       "model_id": "fd453f1c97a74a8ba2e4197c5c8a4815",
       "version_major": 2,
       "version_minor": 0
      },
      "text/plain": [
       "Map:   0%|          | 0/1 [00:00<?, ? examples/s]"
      ]
     },
     "metadata": {},
     "output_type": "display_data"
    },
    {
     "name": "stderr",
     "output_type": "stream",
     "text": [
      "03/22/2025 14:51:55 - INFO - \t ***** Running Inference on 1 texts *****\n"
     ]
    },
    {
     "name": "stdout",
     "output_type": "stream",
     "text": [
      "Sentence: \"Basic models and empirical approaches that form the foundation of our conceptualization of species interactions generally assume that interactions are an intrinsic property of the two interacting species and therefore are governed by their respective densities\"\n",
      "No Relations\n",
      "\n"
     ]
    },
    {
     "name": "stderr",
     "output_type": "stream",
     "text": [
      "03/22/2025 14:52:10 - INFO - \t missing_keys: []\n",
      "03/22/2025 14:52:10 - INFO - \t unexpected_keys: []\n",
      "03/22/2025 14:52:10 - INFO - \t mismatched_keys: []\n",
      "03/22/2025 14:52:10 - INFO - \t error_msgs: []\n",
      "03/22/2025 14:52:10 - INFO - \t Model Parameters: 90.5M, Transformer: 82.1M, Coref head: 8.4M\n",
      "03/22/2025 14:52:10 - INFO - \t Tokenize 1 inputs...\n"
     ]
    },
    {
     "data": {
      "application/vnd.jupyter.widget-view+json": {
       "model_id": "7afbd15a956f40358ce4e715f06591bc",
       "version_major": 2,
       "version_minor": 0
      },
      "text/plain": [
       "Map:   0%|          | 0/1 [00:00<?, ? examples/s]"
      ]
     },
     "metadata": {},
     "output_type": "display_data"
    },
    {
     "name": "stderr",
     "output_type": "stream",
     "text": [
      "03/22/2025 14:52:10 - INFO - \t ***** Running Inference on 1 texts *****\n"
     ]
    },
    {
     "name": "stdout",
     "output_type": "stream",
     "text": [
      "Sentence: \"However, if a species reacts to the presence of a second species by altering its phenotype, then the trait changes in the reacting species can alter the per capita effect of the reacting species on other species and, consequently, population density or fitness of the other species\"\n",
      "No Relations\n",
      "\n"
     ]
    },
    {
     "name": "stderr",
     "output_type": "stream",
     "text": [
      "03/22/2025 14:52:18 - INFO - \t missing_keys: []\n",
      "03/22/2025 14:52:18 - INFO - \t unexpected_keys: []\n",
      "03/22/2025 14:52:18 - INFO - \t mismatched_keys: []\n",
      "03/22/2025 14:52:18 - INFO - \t error_msgs: []\n",
      "03/22/2025 14:52:18 - INFO - \t Model Parameters: 90.5M, Transformer: 82.1M, Coref head: 8.4M\n",
      "03/22/2025 14:52:18 - INFO - \t Tokenize 1 inputs...\n"
     ]
    },
    {
     "data": {
      "application/vnd.jupyter.widget-view+json": {
       "model_id": "70452cf85b2d45cb8c77d8c6e1dc9f8f",
       "version_major": 2,
       "version_minor": 0
      },
      "text/plain": [
       "Map:   0%|          | 0/1 [00:00<?, ? examples/s]"
      ]
     },
     "metadata": {},
     "output_type": "display_data"
    },
    {
     "name": "stderr",
     "output_type": "stream",
     "text": [
      "03/22/2025 14:52:18 - INFO - \t ***** Running Inference on 1 texts *****\n"
     ]
    },
    {
     "name": "stdout",
     "output_type": "stream",
     "text": [
      "Sentence: \"Such trait-mediated indirect interactions can reinforce or oppose density-mediated effects and have been largely overlooked by community ecologists\"\n",
      "No Relations\n",
      "\n"
     ]
    },
    {
     "name": "stderr",
     "output_type": "stream",
     "text": [
      "03/22/2025 14:52:26 - INFO - \t missing_keys: []\n",
      "03/22/2025 14:52:26 - INFO - \t unexpected_keys: []\n",
      "03/22/2025 14:52:26 - INFO - \t mismatched_keys: []\n",
      "03/22/2025 14:52:26 - INFO - \t error_msgs: []\n",
      "03/22/2025 14:52:26 - INFO - \t Model Parameters: 90.5M, Transformer: 82.1M, Coref head: 8.4M\n",
      "03/22/2025 14:52:26 - INFO - \t Tokenize 1 inputs...\n"
     ]
    },
    {
     "data": {
      "application/vnd.jupyter.widget-view+json": {
       "model_id": "eb80f1bd651c4159b420a15253b6a832",
       "version_major": 2,
       "version_minor": 0
      },
      "text/plain": [
       "Map:   0%|          | 0/1 [00:00<?, ? examples/s]"
      ]
     },
     "metadata": {},
     "output_type": "display_data"
    },
    {
     "name": "stderr",
     "output_type": "stream",
     "text": [
      "03/22/2025 14:52:27 - INFO - \t ***** Running Inference on 1 texts *****\n"
     ]
    },
    {
     "name": "stdout",
     "output_type": "stream",
     "text": [
      "Sentence: \"We first briefly develop the case for the broad mechanistic basis for TMIIs and then review the direct evidence for TMIIs in various permutations of simple three- to four species food webs\"\n",
      "No Relations\n",
      "\n"
     ]
    },
    {
     "name": "stderr",
     "output_type": "stream",
     "text": [
      "03/22/2025 14:52:33 - INFO - \t missing_keys: []\n",
      "03/22/2025 14:52:33 - INFO - \t unexpected_keys: []\n",
      "03/22/2025 14:52:33 - INFO - \t mismatched_keys: []\n",
      "03/22/2025 14:52:33 - INFO - \t error_msgs: []\n",
      "03/22/2025 14:52:33 - INFO - \t Model Parameters: 90.5M, Transformer: 82.1M, Coref head: 8.4M\n",
      "03/22/2025 14:52:33 - INFO - \t Tokenize 1 inputs...\n"
     ]
    },
    {
     "data": {
      "application/vnd.jupyter.widget-view+json": {
       "model_id": "06328ace53534f26b7a59e5a66b693e6",
       "version_major": 2,
       "version_minor": 0
      },
      "text/plain": [
       "Map:   0%|          | 0/1 [00:00<?, ? examples/s]"
      ]
     },
     "metadata": {},
     "output_type": "display_data"
    },
    {
     "name": "stderr",
     "output_type": "stream",
     "text": [
      "03/22/2025 14:52:33 - INFO - \t ***** Running Inference on 1 texts *****\n"
     ]
    },
    {
     "name": "stdout",
     "output_type": "stream",
     "text": [
      "Sentence: \"We find strong evidence for quantitatively significant effects of TMIIs in a variety of aquatic and terrestrial systems\"\n",
      "No Relations\n",
      "\n"
     ]
    },
    {
     "name": "stderr",
     "output_type": "stream",
     "text": [
      "03/22/2025 14:52:40 - INFO - \t missing_keys: []\n",
      "03/22/2025 14:52:40 - INFO - \t unexpected_keys: []\n",
      "03/22/2025 14:52:40 - INFO - \t mismatched_keys: []\n",
      "03/22/2025 14:52:40 - INFO - \t error_msgs: []\n",
      "03/22/2025 14:52:40 - INFO - \t Model Parameters: 90.5M, Transformer: 82.1M, Coref head: 8.4M\n",
      "03/22/2025 14:52:40 - INFO - \t Tokenize 1 inputs...\n"
     ]
    },
    {
     "data": {
      "application/vnd.jupyter.widget-view+json": {
       "model_id": "bf75cb89d9f14160ada93545df248b28",
       "version_major": 2,
       "version_minor": 0
      },
      "text/plain": [
       "Map:   0%|          | 0/1 [00:00<?, ? examples/s]"
      ]
     },
     "metadata": {},
     "output_type": "display_data"
    },
    {
     "name": "stderr",
     "output_type": "stream",
     "text": [
      "03/22/2025 14:52:41 - INFO - \t ***** Running Inference on 1 texts *****\n",
      "03/22/2025 14:52:44 - INFO - \t missing_keys: []\n",
      "03/22/2025 14:52:44 - INFO - \t unexpected_keys: []\n",
      "03/22/2025 14:52:44 - INFO - \t mismatched_keys: []\n",
      "03/22/2025 14:52:44 - INFO - \t error_msgs: []\n",
      "03/22/2025 14:52:44 - INFO - \t Model Parameters: 90.5M, Transformer: 82.1M, Coref head: 8.4M\n",
      "03/22/2025 14:52:44 - INFO - \t Tokenize 1 inputs...\n"
     ]
    },
    {
     "data": {
      "application/vnd.jupyter.widget-view+json": {
       "model_id": "125771766ba74e62a53d0e020dfde65f",
       "version_major": 2,
       "version_minor": 0
      },
      "text/plain": [
       "Map:   0%|          | 0/1 [00:00<?, ? examples/s]"
      ]
     },
     "metadata": {},
     "output_type": "display_data"
    },
    {
     "name": "stderr",
     "output_type": "stream",
     "text": [
      "03/22/2025 14:52:44 - INFO - \t ***** Running Inference on 1 texts *****\n"
     ]
    },
    {
     "name": "stdout",
     "output_type": "stream",
     "text": [
      "Sentence: \"We further highlight those few studies that address the question of the relative magnitudes of density- and trait-mediated effects and the role of species densities in their transmission\"\n",
      "No Relations\n",
      "\n",
      "Sentence: \"These studies indicate that trait effects are often as strong or stronger than density effects\"\n",
      "No Relations\n",
      "\n",
      "Sentence: \"We conclude that ecologicalcommunities are replete with TMIIs arising from trait plasticity and that these effects are quantitatively important to community dynamics\"\n",
      "No Relations\n",
      "\n"
     ]
    },
    {
     "name": "stderr",
     "output_type": "stream",
     "text": [
      "03/22/2025 14:52:55 - INFO - \t missing_keys: []\n",
      "03/22/2025 14:52:55 - INFO - \t unexpected_keys: []\n",
      "03/22/2025 14:52:55 - INFO - \t mismatched_keys: []\n",
      "03/22/2025 14:52:55 - INFO - \t error_msgs: []\n",
      "03/22/2025 14:52:55 - INFO - \t Model Parameters: 90.5M, Transformer: 82.1M, Coref head: 8.4M\n",
      "03/22/2025 14:52:55 - INFO - \t Tokenize 1 inputs...\n"
     ]
    },
    {
     "data": {
      "application/vnd.jupyter.widget-view+json": {
       "model_id": "15a57c80930c498eb9fbba93d133ad18",
       "version_major": 2,
       "version_minor": 0
      },
      "text/plain": [
       "Map:   0%|          | 0/1 [00:00<?, ? examples/s]"
      ]
     },
     "metadata": {},
     "output_type": "display_data"
    },
    {
     "name": "stderr",
     "output_type": "stream",
     "text": [
      "03/22/2025 14:52:55 - INFO - \t ***** Running Inference on 1 texts *****\n"
     ]
    },
    {
     "name": "stdout",
     "output_type": "stream",
     "text": [
      "Sentence: \"Finally, we synthesize our results and indicate profitable directions for future research\"\n",
      "No Relations\n",
      "\n"
     ]
    },
    {
     "name": "stderr",
     "output_type": "stream",
     "text": [
      "03/22/2025 14:53:00 - INFO - \t missing_keys: []\n",
      "03/22/2025 14:53:00 - INFO - \t unexpected_keys: []\n",
      "03/22/2025 14:53:00 - INFO - \t mismatched_keys: []\n",
      "03/22/2025 14:53:00 - INFO - \t error_msgs: []\n",
      "03/22/2025 14:53:00 - INFO - \t Model Parameters: 90.5M, Transformer: 82.1M, Coref head: 8.4M\n",
      "03/22/2025 14:53:00 - INFO - \t Tokenize 1 inputs...\n"
     ]
    },
    {
     "data": {
      "application/vnd.jupyter.widget-view+json": {
       "model_id": "a4bd04a8b3a84709b39dea6acac8de92",
       "version_major": 2,
       "version_minor": 0
      },
      "text/plain": [
       "Map:   0%|          | 0/1 [00:00<?, ? examples/s]"
      ]
     },
     "metadata": {},
     "output_type": "display_data"
    },
    {
     "name": "stderr",
     "output_type": "stream",
     "text": [
      "03/22/2025 14:53:00 - INFO - \t ***** Running Inference on 1 texts *****\n"
     ]
    },
    {
     "name": "stdout",
     "output_type": "stream",
     "text": [
      "Sentence: \"Trait-mediated interactions (TMII) can alter the outcome or magnitude of\n",
      "     species interactions\"\n",
      "No Relations\n",
      "\n"
     ]
    },
    {
     "name": "stderr",
     "output_type": "stream",
     "text": [
      "03/22/2025 14:53:08 - INFO - \t missing_keys: []\n",
      "03/22/2025 14:53:08 - INFO - \t unexpected_keys: []\n",
      "03/22/2025 14:53:08 - INFO - \t mismatched_keys: []\n",
      "03/22/2025 14:53:08 - INFO - \t error_msgs: []\n",
      "03/22/2025 14:53:08 - INFO - \t Model Parameters: 90.5M, Transformer: 82.1M, Coref head: 8.4M\n",
      "03/22/2025 14:53:11 - INFO - \t missing_keys: []\n",
      "03/22/2025 14:53:11 - INFO - \t unexpected_keys: []\n",
      "03/22/2025 14:53:11 - INFO - \t mismatched_keys: []\n",
      "03/22/2025 14:53:11 - INFO - \t error_msgs: []\n",
      "03/22/2025 14:53:11 - INFO - \t Model Parameters: 90.5M, Transformer: 82.1M, Coref head: 8.4M\n",
      "03/22/2025 14:53:11 - INFO - \t Tokenize 1 inputs...\n"
     ]
    },
    {
     "data": {
      "application/vnd.jupyter.widget-view+json": {
       "model_id": "2ff9b4f4c2b04cc5a4017c13746f90ea",
       "version_major": 2,
       "version_minor": 0
      },
      "text/plain": [
       "Map:   0%|          | 0/1 [00:00<?, ? examples/s]"
      ]
     },
     "metadata": {},
     "output_type": "display_data"
    },
    {
     "name": "stderr",
     "output_type": "stream",
     "text": [
      "03/22/2025 14:53:11 - INFO - \t ***** Running Inference on 1 texts *****\n"
     ]
    },
    {
     "name": "stdout",
     "output_type": "stream",
     "text": [
      "Sentence: \"We examined how the interaction between a guild of ground and SPECIES1 and their fly SPECIES2 was altered by a larger predator, the ground beetle SPECIESPMEL, and an additional prey, aphids\"\n",
      "No Relations\n",
      "\n"
     ]
    },
    {
     "name": "stderr",
     "output_type": "stream",
     "text": [
      "03/22/2025 14:53:18 - INFO - \t missing_keys: []\n",
      "03/22/2025 14:53:18 - INFO - \t unexpected_keys: []\n",
      "03/22/2025 14:53:18 - INFO - \t mismatched_keys: []\n",
      "03/22/2025 14:53:18 - INFO - \t error_msgs: []\n",
      "03/22/2025 14:53:18 - INFO - \t Model Parameters: 90.5M, Transformer: 82.1M, Coref head: 8.4M\n",
      "03/22/2025 14:53:18 - INFO - \t Tokenize 1 inputs...\n"
     ]
    },
    {
     "data": {
      "application/vnd.jupyter.widget-view+json": {
       "model_id": "9e900ac0436b4034b40d11815f0e2c5f",
       "version_major": 2,
       "version_minor": 0
      },
      "text/plain": [
       "Map:   0%|          | 0/1 [00:00<?, ? examples/s]"
      ]
     },
     "metadata": {},
     "output_type": "display_data"
    },
    {
     "name": "stderr",
     "output_type": "stream",
     "text": [
      "03/22/2025 14:53:18 - INFO - \t ***** Running Inference on 1 texts *****\n"
     ]
    },
    {
     "name": "stdout",
     "output_type": "stream",
     "text": [
      "Sentence: \"In field and laboratory experiments, we\n",
      "     manipulated the presence or absence of SPECIESPMEL and SPECIESAPHIDS and recorded the impact\n",
      "     of these manipulations on TRAIT and TRAIT2\"\n",
      "No Relations\n",
      "\n"
     ]
    },
    {
     "name": "stderr",
     "output_type": "stream",
     "text": [
      "03/22/2025 14:53:24 - INFO - \t missing_keys: []\n",
      "03/22/2025 14:53:24 - INFO - \t unexpected_keys: []\n",
      "03/22/2025 14:53:24 - INFO - \t mismatched_keys: []\n",
      "03/22/2025 14:53:24 - INFO - \t error_msgs: []\n",
      "03/22/2025 14:53:24 - INFO - \t Model Parameters: 90.5M, Transformer: 82.1M, Coref head: 8.4M\n"
     ]
    },
    {
     "name": "stdout",
     "output_type": "stream",
     "text": [
      "Sentence: \"Individually, SPECIESAPHIDS, by\n",
      "     serving as preferred prey, and SPECIESPMEL, by reducing focal TRAIT1, weakened TRAIT2\"\n",
      "No Relations\n",
      "\n"
     ]
    },
    {
     "name": "stderr",
     "output_type": "stream",
     "text": [
      "03/22/2025 14:53:32 - INFO - \t missing_keys: []\n",
      "03/22/2025 14:53:32 - INFO - \t unexpected_keys: []\n",
      "03/22/2025 14:53:32 - INFO - \t mismatched_keys: []\n",
      "03/22/2025 14:53:32 - INFO - \t error_msgs: []\n",
      "03/22/2025 14:53:32 - INFO - \t Model Parameters: 90.5M, Transformer: 82.1M, Coref head: 8.4M\n",
      "03/22/2025 14:53:36 - INFO - \t missing_keys: []\n",
      "03/22/2025 14:53:36 - INFO - \t unexpected_keys: []\n",
      "03/22/2025 14:53:36 - INFO - \t mismatched_keys: []\n",
      "03/22/2025 14:53:36 - INFO - \t error_msgs: []\n",
      "03/22/2025 14:53:36 - INFO - \t Model Parameters: 90.5M, Transformer: 82.1M, Coref head: 8.4M\n"
     ]
    },
    {
     "name": "stdout",
     "output_type": "stream",
     "text": [
      "Sentence: \"However, TRAIT1 was restored when both SPECIESAPHIDS and SPECIESPMEL were\n",
      "     present together, because SPECIESAPHIDS triggered greater TRAIT, and thus increased\n",
      "     incidental TRAIT of SPECIESFLYEGGS, by SPECIESPMEL\"\n",
      "No Relations\n",
      "\n",
      "Sentence: \"Thus, TMII among subsets of the\n",
      "     community that were disruptive to TRAIT on SPECIESFLYEGGS could not be summed to predict the\n",
      "     dominant, positive TMII within a more diverse community\"\n",
      "No Relations\n",
      "\n"
     ]
    },
    {
     "name": "stderr",
     "output_type": "stream",
     "text": [
      "03/22/2025 14:53:46 - INFO - \t missing_keys: []\n",
      "03/22/2025 14:53:46 - INFO - \t unexpected_keys: []\n",
      "03/22/2025 14:53:46 - INFO - \t mismatched_keys: []\n",
      "03/22/2025 14:53:46 - INFO - \t error_msgs: []\n",
      "03/22/2025 14:53:46 - INFO - \t Model Parameters: 90.5M, Transformer: 82.1M, Coref head: 8.4M\n",
      "03/22/2025 14:53:46 - INFO - \t Tokenize 1 inputs...\n"
     ]
    },
    {
     "data": {
      "application/vnd.jupyter.widget-view+json": {
       "model_id": "c3b35a34417c4785bf7c77531c0d6881",
       "version_major": 2,
       "version_minor": 0
      },
      "text/plain": [
       "Map:   0%|          | 0/1 [00:00<?, ? examples/s]"
      ]
     },
     "metadata": {},
     "output_type": "display_data"
    },
    {
     "name": "stderr",
     "output_type": "stream",
     "text": [
      "03/22/2025 14:53:46 - INFO - \t ***** Running Inference on 1 texts *****\n"
     ]
    },
    {
     "name": "stdout",
     "output_type": "stream",
     "text": [
      "Sentence: \"Future TMII studies should\n",
      "     include more realistic representations of species diversity, and should not ignore the influence\n",
      "     of prey on predator behavior\"\n",
      "No Relations\n",
      "\n",
      "Sentence: \"\"\n",
      "No Relations\n",
      "\n"
     ]
    },
    {
     "name": "stderr",
     "output_type": "stream",
     "text": [
      "03/22/2025 14:53:52 - INFO - \t missing_keys: []\n",
      "03/22/2025 14:53:52 - INFO - \t unexpected_keys: []\n",
      "03/22/2025 14:53:52 - INFO - \t mismatched_keys: []\n",
      "03/22/2025 14:53:52 - INFO - \t error_msgs: []\n",
      "03/22/2025 14:53:52 - INFO - \t Model Parameters: 90.5M, Transformer: 82.1M, Coref head: 8.4M\n",
      "03/22/2025 14:53:52 - INFO - \t Tokenize 1 inputs...\n"
     ]
    },
    {
     "data": {
      "application/vnd.jupyter.widget-view+json": {
       "model_id": "28fd49c146214f47992edfe7973857ac",
       "version_major": 2,
       "version_minor": 0
      },
      "text/plain": [
       "Map:   0%|          | 0/1 [00:00<?, ? examples/s]"
      ]
     },
     "metadata": {},
     "output_type": "display_data"
    },
    {
     "name": "stderr",
     "output_type": "stream",
     "text": [
      "03/22/2025 14:53:52 - INFO - \t ***** Running Inference on 1 texts *****\n",
      "03/22/2025 14:53:56 - INFO - \t missing_keys: []\n",
      "03/22/2025 14:53:56 - INFO - \t unexpected_keys: []\n",
      "03/22/2025 14:53:56 - INFO - \t mismatched_keys: []\n",
      "03/22/2025 14:53:56 - INFO - \t error_msgs: []\n",
      "03/22/2025 14:53:56 - INFO - \t Model Parameters: 90.5M, Transformer: 82.1M, Coref head: 8.4M\n",
      "03/22/2025 14:53:56 - INFO - \t Tokenize 1 inputs...\n"
     ]
    },
    {
     "data": {
      "application/vnd.jupyter.widget-view+json": {
       "model_id": "a74203276784452fbd0ce9111c99e67b",
       "version_major": 2,
       "version_minor": 0
      },
      "text/plain": [
       "Map:   0%|          | 0/1 [00:00<?, ? examples/s]"
      ]
     },
     "metadata": {},
     "output_type": "display_data"
    },
    {
     "name": "stderr",
     "output_type": "stream",
     "text": [
      "03/22/2025 14:53:56 - INFO - \t ***** Running Inference on 1 texts *****\n"
     ]
    },
    {
     "name": "stdout",
     "output_type": "stream",
     "text": [
      "Sentence: \"Natural enemies not only influence prey density but they can also cause the modification of traits\n",
      "         in their victims\"\n",
      "No Relations\n",
      "\n"
     ]
    },
    {
     "name": "stderr",
     "output_type": "stream",
     "text": [
      "03/22/2025 14:54:06 - INFO - \t missing_keys: []\n",
      "03/22/2025 14:54:06 - INFO - \t unexpected_keys: []\n",
      "03/22/2025 14:54:06 - INFO - \t mismatched_keys: []\n",
      "03/22/2025 14:54:06 - INFO - \t error_msgs: []\n",
      "03/22/2025 14:54:06 - INFO - \t Model Parameters: 90.5M, Transformer: 82.1M, Coref head: 8.4M\n"
     ]
    },
    {
     "name": "stdout",
     "output_type": "stream",
     "text": [
      "Sentence: \"While such non-lethal effects can be very\n",
      "         important for the dynamic and structure of prey popula\n",
      "         tions, little is known about their interaction with the\n",
      "         density-mediated effects of natural enemies\"\n",
      "No Relations\n",
      "\n",
      "Sentence: \"We investi\n",
      "         gated the relationship between predation rate, prey\n",
      "         density and trait modification in two aphid-aphid predator\n",
      "         interactions\"\n",
      "No Relations\n",
      "\n",
      "Sentence: \"SPECIESAPHIDS\n",
      "         have been shown to produce TRAITS in\n",
      "         response to the presence of SPECIESLADYBIRDS or SPECIESENIMIES\"\n",
      "No Relations\n",
      "\n"
     ]
    },
    {
     "name": "stderr",
     "output_type": "stream",
     "text": [
      "03/22/2025 14:54:18 - INFO - \t missing_keys: []\n",
      "03/22/2025 14:54:18 - INFO - \t unexpected_keys: []\n",
      "03/22/2025 14:54:18 - INFO - \t mismatched_keys: []\n",
      "03/22/2025 14:54:18 - INFO - \t error_msgs: []\n",
      "03/22/2025 14:54:18 - INFO - \t Model Parameters: 90.5M, Transformer: 82.1M, Coref head: 8.4M\n",
      "03/22/2025 14:54:18 - INFO - \t Tokenize 1 inputs...\n"
     ]
    },
    {
     "data": {
      "application/vnd.jupyter.widget-view+json": {
       "model_id": "6258acfe77b9488bb24134c9df2ce302",
       "version_major": 2,
       "version_minor": 0
      },
      "text/plain": [
       "Map:   0%|          | 0/1 [00:00<?, ? examples/s]"
      ]
     },
     "metadata": {},
     "output_type": "display_data"
    },
    {
     "name": "stderr",
     "output_type": "stream",
     "text": [
      "03/22/2025 14:54:19 - INFO - \t ***** Running Inference on 1 texts *****\n"
     ]
    },
    {
     "name": "stdout",
     "output_type": "stream",
     "text": [
      "Sentence: \"This trait modification influences the ability of\n",
      "         aphids to disperse and to colonise new habitats, and hence\n",
      "         has a bearing on the population dynamics of the prey\"\n",
      "No Relations\n",
      "\n"
     ]
    },
    {
     "name": "stderr",
     "output_type": "stream",
     "text": [
      "03/22/2025 14:54:26 - INFO - \t missing_keys: []\n",
      "03/22/2025 14:54:26 - INFO - \t unexpected_keys: []\n",
      "03/22/2025 14:54:26 - INFO - \t mismatched_keys: []\n",
      "03/22/2025 14:54:26 - INFO - \t error_msgs: []\n",
      "03/22/2025 14:54:26 - INFO - \t Model Parameters: 90.5M, Transformer: 82.1M, Coref head: 8.4M\n",
      "03/22/2025 14:54:26 - INFO - \t Tokenize 1 inputs...\n"
     ]
    },
    {
     "data": {
      "application/vnd.jupyter.widget-view+json": {
       "model_id": "3050b1f336b54b358162254db82efafd",
       "version_major": 2,
       "version_minor": 0
      },
      "text/plain": [
       "Map:   0%|          | 0/1 [00:00<?, ? examples/s]"
      ]
     },
     "metadata": {},
     "output_type": "display_data"
    },
    {
     "name": "stderr",
     "output_type": "stream",
     "text": [
      "03/22/2025 14:54:26 - INFO - \t ***** Running Inference on 1 texts *****\n"
     ]
    },
    {
     "name": "stdout",
     "output_type": "stream",
     "text": [
      "Sentence: \"In\n",
      "         two experiments we examined TRAIT in SPECIESAPHIDS as a function of the TRAIT when\n",
      "         SPECIESHOVERFLY and SPECIESLACEWING were allowed to forage in\n",
      "         SPECIESAPHIDS colonies\"\n",
      "No Relations\n",
      "\n"
     ]
    },
    {
     "name": "stderr",
     "output_type": "stream",
     "text": [
      "03/22/2025 14:54:36 - INFO - \t missing_keys: []\n",
      "03/22/2025 14:54:36 - INFO - \t unexpected_keys: []\n",
      "03/22/2025 14:54:36 - INFO - \t mismatched_keys: []\n",
      "03/22/2025 14:54:36 - INFO - \t error_msgs: []\n",
      "03/22/2025 14:54:36 - INFO - \t Model Parameters: 90.5M, Transformer: 82.1M, Coref head: 8.4M\n"
     ]
    },
    {
     "name": "stdout",
     "output_type": "stream",
     "text": [
      "Sentence: \"Both SPECIESHOVERFLY and SPECIESLACEWING\n",
      "         caused a significant increase in the percentage of TRAIT among offspring compared to control treatments,\n",
      "         emphasising that wing induction in the presence of natural\n",
      "         enemies is a general response in SPECIESAPHIDS\"\n",
      "No Relations\n",
      "\n",
      "Sentence: \"The\n",
      "         percentage of winged offspring was, however, dependent\n",
      "         on the TRAIT, with a small effect of predation\n",
      "         on SPECIESAPHID TRAIT at very high and very low\n",
      "         predation rates, and a strong response of SPECIESAPHIDS at\n",
      "         medium predation rates\"\n",
      "No Relations\n",
      "\n"
     ]
    },
    {
     "name": "stderr",
     "output_type": "stream",
     "text": [
      "03/22/2025 14:54:47 - INFO - \t missing_keys: []\n",
      "03/22/2025 14:54:47 - INFO - \t unexpected_keys: []\n",
      "03/22/2025 14:54:47 - INFO - \t mismatched_keys: []\n",
      "03/22/2025 14:54:47 - INFO - \t error_msgs: []\n",
      "03/22/2025 14:54:47 - INFO - \t Model Parameters: 90.5M, Transformer: 82.1M, Coref head: 8.4M\n",
      "03/22/2025 14:54:47 - INFO - \t Tokenize 1 inputs...\n"
     ]
    },
    {
     "data": {
      "application/vnd.jupyter.widget-view+json": {
       "model_id": "999d217ee80a4b918737534a800b4f9c",
       "version_major": 2,
       "version_minor": 0
      },
      "text/plain": [
       "Map:   0%|          | 0/1 [00:00<?, ? examples/s]"
      ]
     },
     "metadata": {},
     "output_type": "display_data"
    },
    {
     "name": "stderr",
     "output_type": "stream",
     "text": [
      "03/22/2025 14:54:48 - INFO - \t ***** Running Inference on 1 texts *****\n"
     ]
    },
    {
     "name": "stdout",
     "output_type": "stream",
     "text": [
      "Sentence: \"Aphid wing induction was\n",
      "         influenced by the interplay between predation rate and\n",
      "         the resultant prey density\"\n",
      "No Relations\n",
      "\n",
      "Sentence: \"Our results suggests that\n",
      "         density-mediated and trait-mediated effects of natural\n",
      "         enemies are closely connected to each other and jointly\n",
      "         determine the effect of natural enemies on prey popula\n",
      "        tion dynamics\"\n",
      "No Relations\n",
      "\n",
      "Sentence: \"\"\n",
      "No Relations\n",
      "\n"
     ]
    }
   ],
   "source": [
    "for abstract in abstracts_basic:\n",
    "    sentences = abstract.split(\".\")\n",
    "    for sentence in sentences:\n",
    "        sentence_stripped = sentence.strip()\n",
    "        relations = find_relations(sentence_stripped)\n",
    "\n",
    "        print(f\"Sentence: \\\"{sentence_stripped}\\\"\")\n",
    "        if not relations:\n",
    "            print(\"No Relations\")\n",
    "        for r in relations:\n",
    "            print(f\"Subject: \\\"{r['subject'].text}\\\"\")\n",
    "            print(f\"Subject Context: \\\"{find_context(sentence_stripped, r['subject'])}\\\"\\n\")\n",
    "            print(f\"Verb: \\\"{r['verb'].text}\\\"\\n\")\n",
    "            print(f\"Object: \\\"{r['object'].text}\\\"\")\n",
    "            print(f\"Object Context: \\\"{find_context(sentence_stripped, r['object'])}\\\"\")\n",
    "        print()"
   ]
  },
  {
   "cell_type": "code",
   "execution_count": null,
   "id": "319508c0-990f-421d-843b-33f85159b4d1",
   "metadata": {},
   "outputs": [],
   "source": []
  }
 ],
 "metadata": {
  "kernelspec": {
   "display_name": "Python 3 (ipykernel)",
   "language": "python",
   "name": "python3"
  },
  "language_info": {
   "codemirror_mode": {
    "name": "ipython",
    "version": 3
   },
   "file_extension": ".py",
   "mimetype": "text/x-python",
   "name": "python",
   "nbconvert_exporter": "python",
   "pygments_lexer": "ipython3",
   "version": "3.12.4"
  }
 },
 "nbformat": 4,
 "nbformat_minor": 5
}
