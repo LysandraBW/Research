{
 "cells": [
  {
   "cell_type": "code",
   "execution_count": 81,
   "id": "28c44341-6122-42a7-a698-778ba77b318a",
   "metadata": {},
   "outputs": [],
   "source": [
    "import os\n",
    "import re\n",
    "import glob\n",
    "import numpy as np\n",
    "import pymupdf\n",
    "# from transformers import pipeline"
   ]
  },
  {
   "cell_type": "code",
   "execution_count": 69,
   "id": "15adcc3e-b4ad-44d4-8f60-b165b767d994",
   "metadata": {},
   "outputs": [],
   "source": [
    "def clean_text(text):\n",
    "    cleaned_text = text\n",
    "    cleaned_text = re.sub(r'http\\S+', '', cleaned_text) # Remove URLs\n",
    "    cleaned_text = re.sub(r'-\\n', '', cleaned_text) # Remove Hyphenations\n",
    "    cleaned_text = re.sub(\"\\s+\", \" \", cleaned_text) # Remove Duplicate Spaces\n",
    "    cleaned_text = re.sub(r\"\\s+([?.!,])\", r\"\\1\", cleaned_text) # Remove Spaces Before Punctuation\n",
    "    return cleaned_text\n",
    "\n",
    "def load_documents(group=\"Cleared\"):\n",
    "    documents = []\n",
    "    filenames = glob.glob(f\"../Week 7/Examples/{group}/*.pdf\")\n",
    "    for filename in filenames:\n",
    "        full_text = \"\"\n",
    "        doc = pymupdf.open(filename)\n",
    "        for page in doc:\n",
    "            text = page.get_text()\n",
    "            full_text += \" \" + text\n",
    "        if full_text:\n",
    "            documents.append(clean_text(full_text))\n",
    "    return documents\n",
    "\n",
    "def pdf_to_text(url):\n",
    "    try:\n",
    "        text = \"\"\n",
    "        f = pdf_bytes(url)\n",
    "        doc = pymupdf.open(stream=f)\n",
    "        for d in doc:\n",
    "            text += d.get_text()\n",
    "        return text\n",
    "    except Exception as e:\n",
    "        return \"\"\n",
    "\n",
    "def load_documents_from_api():\n",
    "    keywords = [\"higher-order interactions\", \"trait-mediated interaction modification\", \"trait-mediated interaction\", \"polymorphism\", \"apparent competition\", \"resource competition\", \"keystone predation\", \"intraguild predation\", \"intransitive competition\", \"trophic chains\", \"competition chains\", \"mutual competition\"]\n",
    "    number_keywords = len(keywords)\n",
    "    all_keywords = [*keywords]\n",
    "    for i in range(4):\n",
    "        for j in range(4, number_keywords, 1):\n",
    "            all_keywords.append(f\"{keywords[i]} {keywords[j]}\")\n",
    "\n",
    "    # Loading Texts\n",
    "    texts = []\n",
    "    number_works = 0\n",
    "    number_unfiltered_works = 0\n",
    "    number_keywords = len(all_keywords)\n",
    "    k = 0\n",
    "    for keyword in all_keywords:\n",
    "        print(f\"({k + 1}/{number_keywords}) Searching Keyword '{keyword}'\")\n",
    "        pager = Works().search_filter(title=keyword).paginate(per_page=200)\n",
    "        for page in pager:\n",
    "            for work in page:\n",
    "                number_unfiltered_works += 1\n",
    "                \n",
    "                title = work['title']\n",
    "                abstract = work['abstract']\n",
    "                doi = work['doi']\n",
    "                \n",
    "                # Find Full Text\n",
    "                url = None\n",
    "                if work[\"primary_location\"]:\n",
    "                    url = work[\"primary_location\"][\"pdf_url\"]\n",
    "                full_text = \"\" if not url else pdf_to_text(url)\n",
    "                \n",
    "                if not abstract and not full_text:\n",
    "                    continue\n",
    "                texts.append((k, title, doi, abstract if abstract and not full_text else full_text))\n",
    "                number_works += 1\n",
    "        k += 1\n",
    "        clear_output(wait=True)        \n",
    "\n",
    "    assert len(texts) == number_works\n",
    "    print(f\"Number Documents: {len(texts)}, Number Unfiltered Documents: {number_unfiltered_works}\")\n",
    "    return (texts, [text[-1] for text in texts])"
   ]
  },
  {
   "cell_type": "code",
   "execution_count": 70,
   "id": "4734fe88-431e-4da3-8c34-47e609b58ce0",
   "metadata": {},
   "outputs": [],
   "source": [
    "documents = load_documents()"
   ]
  },
  {
   "cell_type": "code",
   "execution_count": null,
   "id": "6f581c37-93b8-4432-9102-e89ab9a1ef50",
   "metadata": {},
   "outputs": [],
   "source": [
    "classifier = pipeline(\"zero-shot-classification\", model=\"facebook/bart-large-mnli\")"
   ]
  },
  {
   "cell_type": "code",
   "execution_count": 90,
   "id": "48518ab1-712d-4ad3-bec9-13a3f56ae842",
   "metadata": {},
   "outputs": [
    {
     "name": "stdout",
     "output_type": "stream",
     "text": [
      "Number Chunks: 66\n"
     ]
    }
   ],
   "source": [
    "text = documents[0]\n",
    "\n",
    "chunks = []\n",
    "chunk_length = 2000\n",
    "\n",
    "i = 0\n",
    "while i < len(text):\n",
    "    chunk = text[i:i+chunk_length]\n",
    "\n",
    "    j = i + chunk_length\n",
    "    while j < len(text) and text[j] != \" \":\n",
    "        chunk += text[j]\n",
    "        j += 1\n",
    "    \n",
    "    chunks.append(chunk)\n",
    "    i = j\n",
    "\n",
    "print(f\"Number Chunks: {len(chunks)}\")"
   ]
  },
  {
   "cell_type": "code",
   "execution_count": 92,
   "id": "48f5da6f-0914-46a0-b5c3-57001cdd43cd",
   "metadata": {},
   "outputs": [
    {
     "name": "stdout",
     "output_type": "stream",
     "text": [
      "0.08333333409414863\n"
     ]
    }
   ],
   "source": [
    "labels = [\"ecology\", \"ecosystem\", \"trait-mediated interactions\", \"predator-prey interactions\", \"ecological interactions\", \"behavioral ecology\", \"species coexistence\", \"trophic dynamics\", \"phenotypic plasticity\", \"functional ecology\", \"indirect ecological effects\", \"community ecology\"]\n",
    "\n",
    "scores = np.zeros(len(labels))\n",
    "for chunk in chunks:\n",
    "    result = classifier(chunk, labels)\n",
    "    scores += np.array(result[\"scores\"])\n",
    "\n",
    "scores /= len(chunks)\n",
    "\n",
    "print(np.mean(scores))"
   ]
  },
  {
   "cell_type": "code",
   "execution_count": 176,
   "id": "ebe6775c-d4ff-4b45-b40c-56d796e668fd",
   "metadata": {},
   "outputs": [],
   "source": [
    "def zero_shot(texts=documents):\n",
    "    for text in texts:\n",
    "        # Break Into Parts\n",
    "        chunks = []\n",
    "        chunk_length = len(text)\n",
    "        \n",
    "        i = 0\n",
    "        while i < len(text):\n",
    "            chunk = text[i:i+chunk_length]\n",
    "        \n",
    "            j = i + chunk_length\n",
    "            while j < len(text) and text[j] != \" \":\n",
    "                chunk += text[j]\n",
    "                j += 1\n",
    "            \n",
    "            chunks.append(chunk)\n",
    "            i = j\n",
    "\n",
    "        # Classify\n",
    "        labels = [\"trait-mediated interaction modification\"]\n",
    "        scores = {}\n",
    "        for label in labels:\n",
    "            scores[label] = 0\n",
    "            \n",
    "        for i, chunk in enumerate(chunks):\n",
    "            print(f\"Chunk {i+1}/{len(chunks)}\")\n",
    "            result = classifier(chunk, labels)\n",
    "            print(result[\"labels\"], result[\"scores\"])\n",
    "            for label, score in zip(result[\"labels\"], result[\"scores\"]):\n",
    "                scores[label] += score\n",
    "\n",
    "        print(scores)\n",
    "        scores = np.array(list(scores.values()))\n",
    "        scores /= len(chunks)\n",
    "\n",
    "        print(f\"Document Scores: {np.mean(scores)}\")"
   ]
  },
  {
   "cell_type": "code",
   "execution_count": 177,
   "id": "2e30f4a4-9c4a-4cab-9056-91140a1a1f28",
   "metadata": {},
   "outputs": [
    {
     "name": "stdout",
     "output_type": "stream",
     "text": [
      "Chunk 1/1\n",
      "['trait-mediated interaction modification'] [0.7951579093933105]\n",
      "{'trait-mediated interaction modification': 0.7951579093933105}\n",
      "Document Scores: 0.7951579093933105\n",
      "Chunk 1/1\n",
      "['trait-mediated interaction modification'] [0.8306777477264404]\n",
      "{'trait-mediated interaction modification': 0.8306777477264404}\n",
      "Document Scores: 0.8306777477264404\n",
      "Chunk 1/1\n",
      "['trait-mediated interaction modification'] [0.9232949614524841]\n",
      "{'trait-mediated interaction modification': 0.9232949614524841}\n",
      "Document Scores: 0.9232949614524841\n",
      "Chunk 1/1\n",
      "['trait-mediated interaction modification'] [0.9911022782325745]\n",
      "{'trait-mediated interaction modification': 0.9911022782325745}\n",
      "Document Scores: 0.9911022782325745\n",
      "Chunk 1/1\n",
      "['trait-mediated interaction modification'] [0.26065483689308167]\n",
      "{'trait-mediated interaction modification': 0.26065483689308167}\n",
      "Document Scores: 0.26065483689308167\n"
     ]
    }
   ],
   "source": [
    "zero_shot()\n",
    "zero_shot([\"A study has been made of the effect of “crowding” on both prenatal and postnatal control of wing development in aphids. In experiments on prenatal form control it was shown that brief controlled encounters of only a minute's duration between two adult aphids could cause them to switch from producing apterous to alate progeny. Aphids which had been exposed to contact with other aphids continued to produce alate progeny for several days. Evidence from a number of experiments suggests that the principle stimulus involved is tactile. In experiments on postnatal form control, it was shown that more alates developed among larvae which were reared together than among larvae reared in isolation.\"])"
   ]
  },
  {
   "cell_type": "code",
   "execution_count": null,
   "id": "eee9dabd-8b0b-4e04-a393-73446b698652",
   "metadata": {},
   "outputs": [],
   "source": []
  }
 ],
 "metadata": {
  "kernelspec": {
   "display_name": "Python 3 (ipykernel)",
   "language": "python",
   "name": "python3"
  },
  "language_info": {
   "codemirror_mode": {
    "name": "ipython",
    "version": 3
   },
   "file_extension": ".py",
   "mimetype": "text/x-python",
   "name": "python",
   "nbconvert_exporter": "python",
   "pygments_lexer": "ipython3",
   "version": "3.10.16"
  }
 },
 "nbformat": 4,
 "nbformat_minor": 5
}
