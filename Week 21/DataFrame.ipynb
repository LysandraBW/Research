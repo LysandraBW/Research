{
 "cells": [
  {
   "cell_type": "code",
   "execution_count": 1,
   "id": "e6bd15f3-e909-47a0-b2e4-dc0f13897e3e",
   "metadata": {},
   "outputs": [],
   "source": [
    "import pandas as pd\n",
    "%run \"./FileHelper.ipynb\""
   ]
  },
  {
   "cell_type": "code",
   "execution_count": 3,
   "id": "79115455-e8b7-4ca9-983d-60bcda5bac53",
   "metadata": {},
   "outputs": [],
   "source": [
    "class DataFrame():\n",
    "    def __init__(self, df=None, columns={}):    \n",
    "        self.df = df if df else pd.DataFrame([], columns=columns.keys())\n",
    "        print(self.df)\n",
    "        if columns:\n",
    "            self.df.astype(columns)\n",
    "\n",
    "    def add_row(self, row):\n",
    "        d = dict((k, [v]) for k, v in row.items())\n",
    "        df = pd.DataFrame(d, columns=list(self.df.columns))\n",
    "\n",
    "        self.df = pd.concat([self.df, df])\n",
    "        self.df.reset_index(drop=True, inplace=True)\n",
    "\n",
    "    def add_col(self, name, value, dtype=None):\n",
    "        self.df[name] = value\n",
    "        \n",
    "        if dtype:\n",
    "            self.df[name].astype(dtype)\n",
    "\n",
    "    def del_row(self, idx):\n",
    "        self.df.drop([idx])\n",
    "\n",
    "    def del_col(self, name):\n",
    "        self.df.drop(columns=[name])\n",
    "\n",
    "    def write(self, name, reset_index=False):\n",
    "        if reset_index:\n",
    "            self.df.reset_index(drop=True, inplace=True)\n",
    "\n",
    "        fn = safe_filename(f'{name}.xlsx')\n",
    "        df.to_excel(fn, header=True, index=False)\n",
    "\n",
    "        fn = safe_filename(f'{name}.csv')\n",
    "        df.to_csv(fn, encoding='utf-8', index=False)\n",
    "\n",
    "    def read(self, csv_fp):\n",
    "        self.df = pd.read_csv(csv_fp)\n",
    "\n",
    "    def size(self):\n",
    "        return self.df.shape[0]"
   ]
  },
  {
   "cell_type": "code",
   "execution_count": null,
   "id": "18dd4f73-0645-4e05-9912-00c2f6ba622e",
   "metadata": {},
   "outputs": [],
   "source": []
  }
 ],
 "metadata": {
  "kernelspec": {
   "display_name": "Python 3 (ipykernel)",
   "language": "python",
   "name": "python3"
  },
  "language_info": {
   "codemirror_mode": {
    "name": "ipython",
    "version": 3
   },
   "file_extension": ".py",
   "mimetype": "text/x-python",
   "name": "python",
   "nbconvert_exporter": "python",
   "pygments_lexer": "ipython3",
   "version": "3.10.16"
  }
 },
 "nbformat": 4,
 "nbformat_minor": 5
}
