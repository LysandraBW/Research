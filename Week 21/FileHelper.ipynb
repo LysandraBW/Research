{
 "cells": [
  {
   "cell_type": "code",
   "execution_count": 1,
   "id": "ac376464-bdb2-44e4-a95f-fc01d08506d2",
   "metadata": {},
   "outputs": [],
   "source": [
    "import os\n",
    "import glob"
   ]
  },
  {
   "cell_type": "code",
   "execution_count": 2,
   "id": "429d50f8-eabf-4032-9f02-ceb104a2bc5b",
   "metadata": {},
   "outputs": [],
   "source": [
    "def rec_safe_filename(filename, base_filename, duplicate_count=1):\n",
    "    for name in glob.glob(\"*\"):\n",
    "        if filename == name:\n",
    "            units = list(os.path.splitext(filename))\n",
    "            units[-2] = f\"{base_filename}-{duplicate_count}\"\n",
    "            return rec_safe_filename(\"\".join(units), base_filename, duplicate_count+1)\n",
    "\n",
    "    return filename\n",
    "\n",
    "def safe_filename(filename):\n",
    "    units = list(os.path.splitext(filename))\n",
    "    base_filename = units[-2]\n",
    "    return rec_safe_filename(filename, base_filename)"
   ]
  }
 ],
 "metadata": {
  "kernelspec": {
   "display_name": "Python 3 (ipykernel)",
   "language": "python",
   "name": "python3"
  },
  "language_info": {
   "codemirror_mode": {
    "name": "ipython",
    "version": 3
   },
   "file_extension": ".py",
   "mimetype": "text/x-python",
   "name": "python",
   "nbconvert_exporter": "python",
   "pygments_lexer": "ipython3",
   "version": "3.10.16"
  }
 },
 "nbformat": 4,
 "nbformat_minor": 5
}
