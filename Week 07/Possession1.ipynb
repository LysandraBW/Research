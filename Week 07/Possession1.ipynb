{
 "cells": [
  {
   "cell_type": "code",
   "execution_count": 7,
   "id": "99c1ca4f-428b-4863-a67f-3d0102ff1ab3",
   "metadata": {},
   "outputs": [],
   "source": [
    "import spacy\n",
    "from spacy import displacy\n",
    "from spacy.matcher import DependencyMatcher"
   ]
  },
  {
   "cell_type": "code",
   "execution_count": null,
   "id": "0c5fa82d-bb30-4fc2-8752-de7b2845ffaa",
   "metadata": {},
   "outputs": [],
   "source": [
    "nlp = spacy.load(\"en_core_web_sm\")"
   ]
  },
  {
   "cell_type": "code",
   "execution_count": 6,
   "id": "7ff9f4d5-ac52-4ad7-95f4-66e3bbc68f21",
   "metadata": {},
   "outputs": [],
   "source": [
    "doc = nlp(\"The book's pages.\")"
   ]
  },
  {
   "cell_type": "code",
   "execution_count": 8,
   "id": "b109f7e3-fb0b-4fa3-b8a9-b9c5420e3e12",
   "metadata": {},
   "outputs": [],
   "source": [
    "matcher = DependencyMatcher(nlp.vocab)"
   ]
  },
  {
   "cell_type": "code",
   "execution_count": 14,
   "id": "c1743625-c635-43e0-aaa8-646ba4740ed1",
   "metadata": {},
   "outputs": [],
   "source": [
    "pattern1 = [\n",
    "    {\n",
    "        \"RIGHT_ID\": \"anchor_noun1\",\n",
    "        \"RIGHT_ATTRS\": {\n",
    "            \"POS\": {\n",
    "                \"IN\": [\"NOUN\"]\n",
    "            }\n",
    "        }\n",
    "    },\n",
    "    {\n",
    "        \"LEFT_ID\": \"anchor_noun1\",\n",
    "        \"REL_OP\": \">\",\n",
    "        \"RIGHT_ID\": \"anchor_noun2\",\n",
    "        \"RIGHT_ATTRS\": {\n",
    "            \"DEP\": \"poss\"\n",
    "        }\n",
    "    }\n",
    "]"
   ]
  },
  {
   "cell_type": "code",
   "execution_count": 15,
   "id": "27ff16a2-c536-40d1-af7f-c4b2b3a1e876",
   "metadata": {},
   "outputs": [],
   "source": [
    "matcher.add(\"PATTERN_1\", [pattern1])\n",
    "matches = matcher(doc)"
   ]
  },
  {
   "cell_type": "code",
   "execution_count": 17,
   "id": "e0c58379-d2cd-48cf-aad7-e80fa2afb56c",
   "metadata": {},
   "outputs": [
    {
     "name": "stdout",
     "output_type": "stream",
     "text": [
      "[(13686068254564165316, [3, 1])]\n",
      "anchor_noun1: pages\n",
      "anchor_noun2: book\n"
     ]
    }
   ],
   "source": [
    "print(matches)\n",
    "if len(matches) > 0:\n",
    "    match_id, token_ids = matches[0]\n",
    "    for i in range(len(token_ids)):\n",
    "        print(pattern1[i][\"RIGHT_ID\"] + \": \" + doc[token_ids[i]].text)"
   ]
  },
  {
   "cell_type": "code",
   "execution_count": 27,
   "id": "0e92038f-7a9b-449f-97fd-b74b39c3c09a",
   "metadata": {},
   "outputs": [],
   "source": [
    "pattern = [\n",
    "    {\n",
    "        \"RIGHT_ID\": \"object\",\n",
    "        \"RIGHT_ATTRS\": {\n",
    "            \"POS\": {\n",
    "                \"IN\": [\"NOUN\"]\n",
    "            }\n",
    "        }\n",
    "    },\n",
    "    {\n",
    "        \"LEFT_ID\": \"object\",\n",
    "        \"REL_OP\": \">\",\n",
    "        \"RIGHT_ID\": \"adp\",\n",
    "        \"RIGHT_ATTRS\": {\n",
    "            \"DEP\": \"prep\",\n",
    "            \"POS\": {\n",
    "                \"IN\": [\"ADP\"]\n",
    "            }\n",
    "        }\n",
    "    },\n",
    "    {\n",
    "        \"LEFT_ID\": \"adp\",\n",
    "        \"REL_OP\": \">\",\n",
    "        \"RIGHT_ID\": \"owner\",\n",
    "        \"RIGHT_ATTRS\": {\n",
    "            \"DEP\": \"pobj\",\n",
    "            \"POS\": {\n",
    "                \"IN\": [\"NOUN\"]\n",
    "            }\n",
    "        }\n",
    "    }\n",
    "]"
   ]
  },
  {
   "cell_type": "code",
   "execution_count": 36,
   "id": "f1246820-b235-410e-af61-94be7154342e",
   "metadata": {},
   "outputs": [],
   "source": [
    "# doc = nlp(\"The pages of the book\")\n",
    "# doc = nlp(\"The pages, which had been torn over the years, of the book were brown.\")\n",
    "matcher = DependencyMatcher(nlp.vocab)\n",
    "matcher.add(\"PATTERN\", [pattern])\n",
    "matches = matcher(doc)"
   ]
  },
  {
   "cell_type": "code",
   "execution_count": 37,
   "id": "e0a5d514-ffe3-44e4-bcfc-76aa4b2a7932",
   "metadata": {},
   "outputs": [
    {
     "name": "stdout",
     "output_type": "stream",
     "text": [
      "[(11920309760829426267, [1, 11, 13])]\n",
      "object: pages\n",
      "adp: of\n",
      "owner: book\n"
     ]
    }
   ],
   "source": [
    "print(matches)\n",
    "if len(matches) > 0:\n",
    "    match_id, token_ids = matches[0]\n",
    "    for i in range(len(token_ids)):\n",
    "        print(pattern[i][\"RIGHT_ID\"] + \": \" + doc[token_ids[i]].text)"
   ]
  },
  {
   "cell_type": "code",
   "execution_count": 24,
   "id": "c2e4a0e6-0dfe-4ffd-913e-d26ff51cfc18",
   "metadata": {},
   "outputs": [],
   "source": [
    "pattern = [\n",
    "    {\n",
    "        \"RIGHT_ID\": \"verb\",\n",
    "        \"RIGHT_ATTRS\": {\"POS\": {\"IN\": [\"VERB\"]}}\n",
    "    },\n",
    "    {\n",
    "        \"LEFT_ID\": \"verb\",\n",
    "        \"REL_OP\": \">\",\n",
    "        \"RIGHT_ID\": \"owner\",\n",
    "        \"RIGHT_ATTRS\": {\n",
    "            \"DEP\": \"nsubj\",\n",
    "            \"POS\": {\"IN\": [\"PRON\"]}\n",
    "        }\n",
    "    },\n",
    "    {\n",
    "        \"LEFT_ID\": \"verb\",\n",
    "        \"REL_OP\": \">\",\n",
    "        \"RIGHT_ID\": \"object\",\n",
    "        \"RIGHT_ATTRS\": {\n",
    "            \"DEP\": \"dobj\",\n",
    "            \"POS\": {\"IN\": [\"NOUN\"]}\n",
    "        }\n",
    "    }\n",
    "]"
   ]
  },
  {
   "cell_type": "code",
   "execution_count": 25,
   "id": "2716f51b-57b0-4933-b944-b477bcea0ba5",
   "metadata": {},
   "outputs": [
    {
     "name": "stdout",
     "output_type": "stream",
     "text": [
      "[(11920309760829426267, [4, 3, 6])]\n",
      "verb: had\n",
      "owner: which\n",
      "object: pages\n"
     ]
    }
   ],
   "source": [
    "doc = nlp(\"The book, which had withered pages, was sent to a restoration library.\")\n",
    "matcher = DependencyMatcher(nlp.vocab)\n",
    "matcher.add(\"PATTERN\", [pattern])\n",
    "matches = matcher(doc)\n",
    "\n",
    "print(matches)\n",
    "if len(matches) > 0:\n",
    "    match_id, token_ids = matches[0]\n",
    "    for i in range(len(token_ids)):\n",
    "        print(pattern[i][\"RIGHT_ID\"] + \": \" + doc[token_ids[i]].text)"
   ]
  },
  {
   "cell_type": "code",
   "execution_count": 26,
   "id": "a2f610e7-25c0-4c0a-887b-87d1370793bc",
   "metadata": {},
   "outputs": [
    {
     "name": "stdout",
     "output_type": "stream",
     "text": [
      "[(11920309760829426267, [8, 1, 9, 11])]\n",
      "verb: belonged\n",
      "noun_1: pages\n",
      "adp: to\n",
      "noun_2: book\n"
     ]
    }
   ],
   "source": [
    "pattern = [\n",
    "    {\n",
    "        \"RIGHT_ID\": \"verb\",\n",
    "        \"RIGHT_ATTRS\": {\"POS\": {\"IN\": [\"VERB\"]}}\n",
    "    },\n",
    "    {\n",
    "        \"LEFT_ID\": \"verb\",\n",
    "        \"REL_OP\": \">\",\n",
    "        \"RIGHT_ID\": \"noun_1\",\n",
    "        \"RIGHT_ATTRS\": {\n",
    "            \"DEP\": \"nsubj\",\n",
    "            \"POS\": {\"IN\": [\"NOUN\"]}\n",
    "        }\n",
    "    },\n",
    "    {\n",
    "        \"LEFT_ID\": \"verb\",\n",
    "        \"REL_OP\": \">\",\n",
    "        \"RIGHT_ID\": \"adp\",\n",
    "        \"RIGHT_ATTRS\": {\n",
    "            \"DEP\": \"prep\",\n",
    "            \"POS\": {\"IN\": [\"ADP\"]}\n",
    "        }\n",
    "    },\n",
    "    {\n",
    "        \"LEFT_ID\": \"adp\",\n",
    "        \"REL_OP\": \">\",\n",
    "        \"RIGHT_ID\": \"noun_2\",\n",
    "        \"RIGHT_ATTRS\": {\n",
    "            \"DEP\": \"pobj\",\n",
    "            \"POS\": {\"IN\": [\"NOUN\"]}\n",
    "        }\n",
    "    }\n",
    "]\n",
    "\n",
    "doc = nlp(\"The pages, which had become withered, belonged to a book of ancient grandeur.\")\n",
    "matcher = DependencyMatcher(nlp.vocab)\n",
    "matcher.add(\"PATTERN\", [pattern])\n",
    "matches = matcher(doc)\n",
    "\n",
    "print(matches)\n",
    "if len(matches) > 0:\n",
    "    match_id, token_ids = matches[0]\n",
    "    for i in range(len(token_ids)):\n",
    "        print(pattern[i][\"RIGHT_ID\"] + \": \" + doc[token_ids[i]].text)"
   ]
  },
  {
   "cell_type": "code",
   "execution_count": null,
   "id": "92eec5ac-f9f8-4ac7-bcb7-b10eca717134",
   "metadata": {},
   "outputs": [],
   "source": []
  }
 ],
 "metadata": {
  "kernelspec": {
   "display_name": "Python 3 (ipykernel)",
   "language": "python",
   "name": "python3"
  },
  "language_info": {
   "codemirror_mode": {
    "name": "ipython",
    "version": 3
   },
   "file_extension": ".py",
   "mimetype": "text/x-python",
   "name": "python",
   "nbconvert_exporter": "python",
   "pygments_lexer": "ipython3",
   "version": "3.10.16"
  }
 },
 "nbformat": 4,
 "nbformat_minor": 5
}
