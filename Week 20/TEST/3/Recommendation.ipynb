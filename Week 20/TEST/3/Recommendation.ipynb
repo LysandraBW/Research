{
 "cells": [
  {
   "cell_type": "code",
   "execution_count": null,
   "id": "35ff011f-979a-4bdf-b759-357f8fc7bc67",
   "metadata": {},
   "outputs": [],
   "source": [
    "# import requests\n",
    "# import pandas as pd\n",
    "import numpy as np"
   ]
  },
  {
   "cell_type": "code",
   "execution_count": null,
   "id": "0fc2b522-51d2-4657-ba07-9cc01ca8b103",
   "metadata": {},
   "outputs": [],
   "source": [
    "df = pd.read_csv(\"../2/TEST_2/on_topic_sample_DeBERTa-v3-base-mnli-fever-anli.csv\")"
   ]
  },
  {
   "cell_type": "code",
   "execution_count": null,
   "id": "6fa91a4a-69ee-40ea-a148-c4435cf444ec",
   "metadata": {
    "scrolled": true
   },
   "outputs": [],
   "source": [
    "new_papers = []\n",
    "\n",
    "for idx, row in df.iterrows():\n",
    "    if not row['UID']:\n",
    "        continue\n",
    "    \n",
    "    out = requests.get(f\"https://api.semanticscholar.org/recommendations/v1/papers/forpaper/{row['UID']}?fields=title,abstract,externalIds&limit=5\").json()\n",
    "    if not out or not out.get('recommendedPapers', []):\n",
    "        continue\n",
    "    \n",
    "    for paper in out['recommendedPapers']:\n",
    "        new_papers.append([\n",
    "            paper['externalIds'].get('DOI', ''),\n",
    "            paper['title'],\n",
    "            paper['abstract'],\n",
    "            paper['paperId'],\n",
    "            paper['paperId'],\n",
    "            0,\n",
    "            False,\n",
    "            0,\n",
    "            False\n",
    "        ])"
   ]
  },
  {
   "cell_type": "code",
   "execution_count": null,
   "id": "0b137bd9-f416-4201-ae99-25abd30ae6e1",
   "metadata": {},
   "outputs": [],
   "source": [
    "for paper in new_papers:\n",
    "    print(len(paper))"
   ]
  },
  {
   "cell_type": "code",
   "execution_count": null,
   "id": "f28283fe-b6ca-45bf-bed0-8cb7ace9b444",
   "metadata": {},
   "outputs": [],
   "source": [
    "expanded_df = pd.DataFrame(np.array(new_papers), columns=[\"DOI\", \"Title\", \"Abstract\", \"LID\", \"UID\", \"Score\", \"On Topic\", \"Ecology Score\", \"Expected Score\"])"
   ]
  },
  {
   "cell_type": "code",
   "execution_count": null,
   "id": "cdb11230-8668-4e59-960c-42b5cbae9c60",
   "metadata": {},
   "outputs": [],
   "source": [
    "expanded_df.head()"
   ]
  },
  {
   "cell_type": "code",
   "execution_count": null,
   "id": "b24c2ad1-a64f-4d4c-9a8c-0f2338c21019",
   "metadata": {},
   "outputs": [],
   "source": [
    "full_expanded_df = pd.concat([df, expanded_df])"
   ]
  },
  {
   "cell_type": "code",
   "execution_count": null,
   "id": "8d629a6b-b9dd-4eef-9556-808cae4db88e",
   "metadata": {},
   "outputs": [],
   "source": [
    "full_expanded_df.shape"
   ]
  },
  {
   "cell_type": "code",
   "execution_count": null,
   "id": "086df12c-da13-4bf2-8c4f-6240cee66620",
   "metadata": {},
   "outputs": [],
   "source": [
    "new_papers = []\n",
    "\n",
    "id_prefix = \"https://openalex.org/\"\n",
    "id_prefix_len = len(id_prefix)\n",
    "\n",
    "def extract_work_oa_id(work_url):\n",
    "    return work_url[id_prefix_len:]\n",
    "\n",
    "for idx, row in df.iterrows():\n",
    "    # Semantic Scholar Paper\n",
    "    if row['UID'] == row['LID']:\n",
    "        continue\n",
    "\n",
    "    out = requests.get(f\"https://api.openalex.org/works/{extract_work_oa_id(row['LID'])}?select=referenced_works\").json()\n",
    "    \n",
    "    if not out or not out.get('related_works', []):\n",
    "        continue\n",
    "    \n",
    "    for paper in out['related_works']:\n",
    "        # GET ID AND AFTERWARDS, USE OA CLASS TO ADD THE PAPERS ND WHATNOT\n",
    "        new_papers.append([\n",
    "            paper['externalIds'].get('DOI', ''),\n",
    "            paper['title'],\n",
    "            paper['abstract'],\n",
    "            paper['paperId'],\n",
    "            paper['paperId'],\n",
    "            0,\n",
    "            False,\n",
    "            0,\n",
    "            False\n",
    "        ])"
   ]
  }
 ],
 "metadata": {
  "kernelspec": {
   "display_name": "Python 3 (ipykernel)",
   "language": "python",
   "name": "python3"
  },
  "language_info": {
   "codemirror_mode": {
    "name": "ipython",
    "version": 3
   },
   "file_extension": ".py",
   "mimetype": "text/x-python",
   "name": "python",
   "nbconvert_exporter": "python",
   "pygments_lexer": "ipython3",
   "version": "3.10.16"
  }
 },
 "nbformat": 4,
 "nbformat_minor": 5
}
