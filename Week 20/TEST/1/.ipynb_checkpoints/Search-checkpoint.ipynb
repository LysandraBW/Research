{
 "cells": [
  {
   "cell_type": "code",
   "execution_count": 1,
   "id": "1b425cce-823b-43d7-9b74-77780b4f7efd",
   "metadata": {},
   "outputs": [],
   "source": [
    "import re\n",
    "import math\n",
    "import json\n",
    "import requests\n",
    "import pandas as pd"
   ]
  },
  {
   "cell_type": "code",
   "execution_count": 2,
   "id": "e1cea37d-9f79-45dd-bfd0-6a34d5b39c4d",
   "metadata": {},
   "outputs": [],
   "source": [
    "search_terms = [\n",
    "    [\n",
    "        \"trait\",\n",
    "        \"phenotype\"\n",
    "    ],\n",
    "    [\n",
    "        \"trait-mediated\",\n",
    "        \"higher-order interaction\",\n",
    "        \"polymorphism\",\n",
    "        \"interaction modification\",\n",
    "        \"indirect effect\"\n",
    "    ],\n",
    "    [\n",
    "        \"apparent competition\",\n",
    "        \"resource competition\",\n",
    "        \"intransitive competition\",\n",
    "        \"mutual competition\",\n",
    "        \"keystone predation\",\n",
    "        \"intraguild predation\",\n",
    "        \"trophic chain\",\n",
    "        \"competition chain\"\n",
    "    ]\n",
    "]"
   ]
  },
  {
   "cell_type": "code",
   "execution_count": 75,
   "id": "f5fa450d-512a-4806-8226-3d10c420f9ce",
   "metadata": {},
   "outputs": [],
   "source": [
    "def clean(text):\n",
    "    text = re.sub(r'http\\S+', '', text)\n",
    "    text = re.sub(r'-\\n', '', text)\n",
    "    text = re.sub(\"\\s+\", \" \", text)\n",
    "    text = re.sub(r\"\\s+([?.!,])\", r\"\\1\", text)\n",
    "    text = text.strip()\n",
    "    return text\n",
    "\n",
    "def store_df(df, name):\n",
    "    df.reset_index(drop=True, inplace=True)\n",
    "    df.to_excel(f'{name}.xlsx', header=True, index=False)\n",
    "    df.to_csv(f'{name}.csv', encoding='utf-8', index=False)"
   ]
  },
  {
   "cell_type": "code",
   "execution_count": null,
   "id": "8c0acf7e-e599-4b51-932f-9afca5d50030",
   "metadata": {},
   "outputs": [],
   "source": [
    "class Papers():\n",
    "    COLUMNS = [\"DOI\", \"Title\", \"Abstract\", \"LID\", \"UID\", \"Score\"]\n",
    "    \n",
    "    def __init__(self, source):\n",
    "        self.source = source\n",
    "        self.data = []\n",
    "        self.df = None\n",
    "\n",
    "    def size(self):\n",
    "        return len(self.data)\n",
    "\n",
    "    def add(self, *, doi, title, abstract, lid):\n",
    "        self.data.append({\n",
    "            \"DOI\": doi,\n",
    "            \"Title\": title,\n",
    "            \"Abstract\": abstract,\n",
    "            \"LID\": lid\n",
    "        })\n",
    "        return len(self.data)\n",
    "\n",
    "    def update_df(self):\n",
    "        df = pd.DataFrame([], columns=Papers.COLUMNS)\n",
    "        for paper in self.data:\n",
    "            rw = pd.DataFrame([[paper[\"DOI\"], paper[\"Title\"], paper[\"Abstract\"], paper[\"LID\"], None, 0]],  columns=Papers.COLUMNS)\n",
    "            df = pd.concat([df, rw])\n",
    "        self.df = df\n",
    "    \n",
    "    def store_df(self, name):\n",
    "        store_df(self.df, name)"
   ]
  },
  {
   "cell_type": "code",
   "execution_count": null,
   "id": "b25f1a8a-c89a-46c7-89bc-a0a066373bc8",
   "metadata": {},
   "outputs": [],
   "source": [
    "class OpenAlex(Papers):\n",
    "    def __init__(self):\n",
    "        super().__init__(\"OA\")\n",
    "\n",
    "\n",
    "    def revert_abstract(self, inverted_abstract):\n",
    "        if not inverted_abstract:\n",
    "            return \"\"\n",
    "\n",
    "        i = 0\n",
    "        abstract = \"\"\n",
    "        \n",
    "        while True:\n",
    "            index_found = False\n",
    "            for k, v in inverted_abstract.items():\n",
    "                if i in v:\n",
    "                    abstract += \" \"\n",
    "                    abstract += k\n",
    "                    i += 1\n",
    "                    index_found = True\n",
    "            if not index_found:\n",
    "                break\n",
    "        \n",
    "        return abstract\n",
    "\n",
    "    \n",
    "    def create_search_filter(self, search_terms_2D, from_date=\"1800-01-01\", to_date=\"2030-01-01\"):\n",
    "        search_terms_1D = []\n",
    "\n",
    "        # Field\n",
    "        for search_terms in search_terms_2D:\n",
    "            search_terms_1D.append(\"|\".join(search_terms).replace(\" \", \"%20\"))\n",
    "        search_filter = \",\".join([f\"title_and_abstract.search:{search}\" for search in search_terms_1D])\n",
    "\n",
    "        search_filter += f',has_abstract:true'\n",
    "        search_filter += f',to_publication_date:{to_date}'\n",
    "        search_filter += f',from_publication_date:{from_date}'\n",
    "        search_filter += f',type:article'\n",
    "\n",
    "        return search_filter\n",
    "\n",
    "\n",
    "    def search_papers(self, search_filter, max_num_papers=math.inf):\n",
    "        BASE_URL = f\"https://api.openalex.org/works?filter={search_filter}\"\n",
    "        print(BASE_URL)\n",
    "\n",
    "        page = 1\n",
    "\n",
    "        while self.size() < max_num_papers:\n",
    "            url = f\"{BASE_URL}&page={page}\"\n",
    "            out = requests.get(url).json()\n",
    "\n",
    "            if not out or not \"results\" in out or not out[\"results\"]:\n",
    "                print(\"No Results\")\n",
    "                break\n",
    "\n",
    "            if page == 1:\n",
    "                print(f\"Count: {out['meta']['count']}\")\n",
    "\n",
    "            i = 0\n",
    "            results = out[\"results\"]\n",
    "            page_size = len(results)\n",
    "            \n",
    "            while i < page_size and self.size() < max_num_papers:\n",
    "                paper = results[i]\n",
    "                paper_doi = paper.get(\"doi\", \"\")\n",
    "                \n",
    "                if paper_doi:\n",
    "                    paper_abstract = clean(self.revert_abstract(paper[\"abstract_inverted_index\"]))\n",
    "                    self.add(\n",
    "                        doi=paper_doi, \n",
    "                        title=paper[\"title\"], \n",
    "                        abstract=paper_abstract, \n",
    "                        lid=paper[\"id\"]\n",
    "                    )\n",
    "                \n",
    "                i += 1\n",
    "\n",
    "            print(self.size())\n",
    "            \n",
    "            page += 1\n",
    "\n",
    "        print(f\"Retrieved {self.size()} Paper(s)\")\n",
    "\n",
    "    \n",
    "    def run(self):\n",
    "        search_filter = self.create_search_filter(search_terms)\n",
    "        self.search_papers(search_filter)\n",
    "        self.update_df()\n",
    "        self.store_df(\"OA\")"
   ]
  },
  {
   "cell_type": "code",
   "execution_count": 98,
   "id": "a1f8dabd-739b-4d64-9893-1cde5128bc61",
   "metadata": {},
   "outputs": [],
   "source": [
    "class SemanticScholar(Papers):\n",
    "    def __init__(self):\n",
    "        super().__init__(\"OA\")\n",
    "\n",
    "\n",
    "    def create_search_filter(self, search_terms_2D, from_year=\"1800\", to_year=\"2030\"):\n",
    "        # Something is fishy. I'm not sure what it is. So, I will be hardcoding in\n",
    "        # the filter that worked moderately well.\n",
    "        return \"query=(trait %7C phenotype) (higher order interaction %7C interaction modification %7C indirect effect %7C trait mediated %7C polymorphism) (competition chain %7C trophic chain %7C intraguild predation %7C keystone predation %7C apparent competition %7C resource competition %7C intransitive competition %7C mutual competition)&fields=title,abstract,externalIds&publicationTypes=CaseReport,Book,BookSection,JournalArticle,Study\"\n",
    "        \n",
    "        # search_terms_1D = []\n",
    "        # for search_terms in search_terms_2D:\n",
    "        #     search_terms_1D.append(\"(\" + \"%7C\".join([f\"\\\"{term}*\\\"\" for term in search_terms]).replace(\" \", \"%20\") + \")\")\n",
    "        \n",
    "        # search_filter = \"&query=\" + \"+\".join(search_terms_1D)\n",
    "        # search_filter += f'&publicationTypes=CaseReport,Book,BookSection,JournalArticle,Study'\n",
    "        # search_filter += f'&year={from_year}-{to_year}'\n",
    "        # search_filter += f'&fields=abstract,title,externalIds'\n",
    "\n",
    "        # return search_filter\n",
    "\n",
    "    \n",
    "    def search_papers(self, search_filter, max_num_papers=math.inf):\n",
    "        BASE_URL = f\"https://api.semanticscholar.org/graph/v1/paper/search/bulk?{search_filter}\"\n",
    "        print(BASE_URL)\n",
    "\n",
    "        token = \"\"\n",
    "        while self.size() < max_num_papers:\n",
    "            url = BASE_URL\n",
    "            if token:\n",
    "                url += f\"&token={token}\"\n",
    "\n",
    "            out = requests.get(url).json()\n",
    "\n",
    "            if not out or not \"data\" in out:\n",
    "                print(\"No Results\")\n",
    "                break\n",
    "\n",
    "            if not token:\n",
    "                print(f\"Count: {out['total']}\")\n",
    "\n",
    "            i = 0\n",
    "            data = out[\"data\"]\n",
    "            page_size = len(data)\n",
    "\n",
    "            while i < page_size and self.size() < max_num_papers:    \n",
    "                paper = data[i]\n",
    "                paper_doi = paper[\"externalIds\"].get(\"DOI\", \"\")\n",
    "                \n",
    "                if paper_doi:\n",
    "                    self.add(\n",
    "                        doi=f'https://doi.org/{paper_doi}', \n",
    "                        title=paper[\"title\"], \n",
    "                        abstract=paper.get(\"abstract\"), \n",
    "                        lid=paper[\"paperId\"]\n",
    "                    )\n",
    "                    \n",
    "                i += 1\n",
    "\n",
    "            print(self.size())\n",
    "            \n",
    "            token = out[\"token\"]\n",
    "            if not token:\n",
    "                break\n",
    "\n",
    "        print(f\"Retrieved {self.size()} Paper(s)\")\n",
    "    \n",
    "    \n",
    "    def run(self):\n",
    "        search_filter = self.create_search_filter(search_terms)\n",
    "        self.search_papers(search_filter)\n",
    "        self.update_df()\n",
    "        self.store_df(\"SC\")"
   ]
  },
  {
   "cell_type": "code",
   "execution_count": 56,
   "id": "7d4f9e87-876d-4364-ac76-d6eadc1c603d",
   "metadata": {
    "scrolled": true
   },
   "outputs": [
    {
     "name": "stdout",
     "output_type": "stream",
     "text": [
      "https://api.openalex.org/works?filter=title_and_abstract.search:trait|phenotype,title_and_abstract.search:trait-mediated|higher-order%20interaction|polymorphism|interaction%20modification|indirect%20effect,title_and_abstract.search:apparent%20competition|resource%20competition|intransitive%20competition|mutual%20competition|keystone%20predation|intraguild%20predation|trophic%20chain|competition%20chain,has_abstract:true,to_publication_date:2030-01-01,from_publication_date:1800-01-01,type:article\n",
      "Count: 661\n",
      "0\n",
      "25\n",
      "50\n",
      "75\n",
      "100\n",
      "125\n",
      "150\n",
      "175\n",
      "200\n",
      "225\n",
      "250\n",
      "275\n",
      "300\n",
      "325\n",
      "350\n",
      "375\n",
      "400\n",
      "425\n",
      "450\n",
      "475\n",
      "500\n",
      "525\n",
      "550\n",
      "575\n",
      "600\n",
      "625\n",
      "650\n",
      "No Results\n",
      "Retrieved 661 Paper(s)\n"
     ]
    }
   ],
   "source": [
    "oa = OpenAlex()\n",
    "oa.run()"
   ]
  },
  {
   "cell_type": "code",
   "execution_count": 99,
   "id": "4cedafeb-f73b-4fdc-bcd5-ef7a56e11a3e",
   "metadata": {},
   "outputs": [
    {
     "name": "stdout",
     "output_type": "stream",
     "text": [
      "https://api.semanticscholar.org/graph/v1/paper/search/bulk?query=(trait %7C phenotype) (higher order interaction %7C interaction modification %7C indirect effect %7C trait mediated %7C polymorphism) (competition chain %7C trophic chain %7C intraguild predation %7C keystone predation %7C apparent competition %7C resource competition %7C intransitive competition %7C mutual competition)&fields=title,abstract,externalIds\n",
      "Count: 372\n",
      "372\n",
      "Retrieved 372 Paper(s)\n"
     ]
    }
   ],
   "source": [
    "sc = SemanticScholar()\n",
    "sc.run()"
   ]
  },
  {
   "cell_type": "code",
   "execution_count": 58,
   "id": "71c834dd-90d0-4fa1-96cd-4711278c1720",
   "metadata": {},
   "outputs": [],
   "source": [
    "# Add Universal IDs\n",
    "oa_df = pd.read_csv(\"OA.csv\")\n",
    "oa_df[\"UID\"] = oa_df[\"UID\"].astype(str)\n",
    "\n",
    "for index, row in oa_df.iterrows():\n",
    "    if not row['DOI'] or row['DOI'] != row['DOI']:\n",
    "        continue\n",
    "\n",
    "    title = row['Title']\n",
    "    url = f\"https://api.semanticscholar.org/graph/v1/paper/search/match?query={row['Title'].replace(' ', '%20')}&fields=title,externalIds\"\n",
    "    output = requests.get(url).json()\n",
    "\n",
    "    if not output or 'data' not in output:\n",
    "        continue\n",
    "\n",
    "    print(row['DOI'], index)\n",
    "    doi = row['DOI']\n",
    "    doi = doi[doi.find(\"doi.org/\")+8:].lower()\n",
    "    \n",
    "    for _ in output['data']:\n",
    "        if _['externalIds'].get('DOI', '').lower() == doi:\n",
    "            oa_df.loc[index, \"UID\"] = _['paperId']\n",
    "            break\n",
    "store_df(oa_df, \"OA\")"
   ]
  },
  {
   "cell_type": "code",
   "execution_count": 100,
   "id": "a9652f49-9496-4a8e-97a2-d6eaf606bf65",
   "metadata": {},
   "outputs": [],
   "source": [
    "# Set Univeral IDs\n",
    "sc_df = pd.read_csv(\"SC.csv\")\n",
    "sc_df[\"UID\"] = sc_df[\"UID\"].astype(str)\n",
    "\n",
    "for index, row in sc_df.iterrows():\n",
    "    sc_df.loc[index, \"UID\"] = row[\"LID\"]"
   ]
  },
  {
   "cell_type": "code",
   "execution_count": 101,
   "id": "64ed234f-9194-44d5-add9-8ff3e8160f45",
   "metadata": {},
   "outputs": [
    {
     "name": "stdout",
     "output_type": "stream",
     "text": [
      "Number Papers: 1033\n",
      "Dropped Duplicates, Number Papers: 786\n",
      "Dropped Rows w NAs, Number Papers: 657\n"
     ]
    },
    {
     "name": "stderr",
     "output_type": "stream",
     "text": [
      "C:\\Users\\lbeln\\AppData\\Local\\Temp\\ipykernel_20804\\146914620.py:9: SettingWithCopyWarning: \n",
      "A value is trying to be set on a copy of a slice from a DataFrame\n",
      "\n",
      "See the caveats in the documentation: https://pandas.pydata.org/pandas-docs/stable/user_guide/indexing.html#returning-a-view-versus-a-copy\n",
      "  df2.dropna(inplace=True)\n"
     ]
    },
    {
     "name": "stdout",
     "output_type": "stream",
     "text": [
      "Number Papers: 657\n"
     ]
    }
   ],
   "source": [
    "df1 = pd.concat([oa_df, sc_df])\n",
    "\n",
    "store_df(df1, \"Papers-1\")\n",
    "print(f\"Number Papers: {df1.shape[0]}\")\n",
    "\n",
    "df2 = df1.drop_duplicates(subset=['DOI'])\n",
    "print(f\"Dropped Duplicates, Number Papers: {df2.shape[0]}\")\n",
    "\n",
    "df2.dropna(inplace=True)\n",
    "print(f\"Dropped Rows w NAs, Number Papers: {df2.shape[0]}\")\n",
    "\n",
    "store_df(df2, \"Papers-2\")\n",
    "print(f\"Number Papers: {df2.shape[0]}\")"
   ]
  },
  {
   "cell_type": "code",
   "execution_count": 2,
   "id": "6acd8916-a7ca-4ea8-8497-1c532bda2142",
   "metadata": {},
   "outputs": [
    {
     "name": "stderr",
     "output_type": "stream",
     "text": [
      "C:\\Users\\lbeln\\AppData\\Local\\Temp\\ipykernel_28708\\1142818463.py:6: SettingWithCopyWarning: \n",
      "A value is trying to be set on a copy of a slice from a DataFrame\n",
      "\n",
      "See the caveats in the documentation: https://pandas.pydata.org/pandas-docs/stable/user_guide/indexing.html#returning-a-view-versus-a-copy\n",
      "  df2.dropna(subset=[\"Abstract\", \"DOI\"], inplace=True)\n"
     ]
    }
   ],
   "source": [
    "oa_df = pd.read_csv(\"OA.csv\")\n",
    "sc_df = pd.read_csv(\"SC.csv\")\n",
    "\n",
    "df1 = pd.concat([oa_df, sc_df])\n",
    "df2 = df1.drop_duplicates(subset=['DOI'])\n",
    "df2.dropna(subset=[\"Abstract\", \"DOI\"], inplace=True)"
   ]
  },
  {
   "cell_type": "code",
   "execution_count": 3,
   "id": "baf3c34e-e999-494a-9a9d-c2c11ef75c69",
   "metadata": {},
   "outputs": [
    {
     "data": {
      "text/plain": [
       "(724, 6)"
      ]
     },
     "execution_count": 3,
     "metadata": {},
     "output_type": "execute_result"
    }
   ],
   "source": [
    "df2.shape\n",
    "store_df(df2, \"Papers-3\")"
   ]
  },
  {
   "cell_type": "code",
   "execution_count": null,
   "id": "44199f62-02b4-4da4-a090-c6aec1302706",
   "metadata": {},
   "outputs": [],
   "source": []
  }
 ],
 "metadata": {
  "kernelspec": {
   "display_name": "Python 3 (ipykernel)",
   "language": "python",
   "name": "python3"
  },
  "language_info": {
   "codemirror_mode": {
    "name": "ipython",
    "version": 3
   },
   "file_extension": ".py",
   "mimetype": "text/x-python",
   "name": "python",
   "nbconvert_exporter": "python",
   "pygments_lexer": "ipython3",
   "version": "3.10.16"
  }
 },
 "nbformat": 4,
 "nbformat_minor": 5
}
