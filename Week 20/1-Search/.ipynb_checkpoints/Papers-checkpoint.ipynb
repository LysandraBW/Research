{
 "cells": [
  {
   "cell_type": "code",
   "execution_count": null,
   "id": "26e9d347-73fd-49cf-88d9-6545d2554129",
   "metadata": {},
   "outputs": [],
   "source": [
    "import re"
   ]
  },
  {
   "cell_type": "code",
   "execution_count": 4,
   "id": "e05779a2-2e33-477f-aa61-89dfd3724bd8",
   "metadata": {},
   "outputs": [],
   "source": [
    "class Papers():\n",
    "    # Sources\n",
    "    OA = \"OpenAlex\"\n",
    "    WS = \"Web of Science\"\n",
    "    SC = \"Semantic Scholar\"\n",
    "\n",
    "    # Dataset Columns\n",
    "    COLUMNS = [\"DOI\", \"Title\", \"Abstract\", \"LID\", \"UID\", \"Score\"]\n",
    "    \n",
    "    def __init__(self, source):\n",
    "        self.papers = []\n",
    "        self.source = source\n",
    "\n",
    "    def clean_text(self, text):\n",
    "        text = re.sub(r'http\\S+', '', text)\n",
    "        text = re.sub(r'-\\n', '', text)\n",
    "        text = re.sub(\"\\s+\", \" \", text)\n",
    "        text = re.sub(r\"\\s+([?.!,])\", r\"\\1\", text)\n",
    "        text = text.strip()\n",
    "        return text\n",
    "\n",
    "    def add_paper(self, doi, title, abstract, l_id):\n",
    "        self.papers.append({\n",
    "            \"doi\": doi,\n",
    "            \"title\": title,\n",
    "            \"abstract\": abstract,\n",
    "            \"l_id\": l_id\n",
    "        })\n",
    "\n",
    "    def save_papers(self, name):\n",
    "        # Load\n",
    "        df = pd.DataFrame([], columns=Papers.COLUMNS)\n",
    "        for paper in self.papers:\n",
    "            row = pd.DataFrame([[paper[\"doi\"], paper[\"title\"], paper[\"abstract\"], paper[\"l_id\"], None, 0]],  columns=Papers.COLUMNS)\n",
    "            df = pd.concat([df, row])\n",
    "\n",
    "        # Store\n",
    "        df.reset_index(drop=True, inplace=True)\n",
    "        df.to_csv(f'{name}.csv', encoding='utf-8', index=False)\n",
    "        df.to_excel(f'{name}.xlsx', index=False, header=True)"
   ]
  },
  {
   "cell_type": "code",
   "execution_count": null,
   "id": "2f10d1d7-5ad0-412c-ae56-58f4b256b0e7",
   "metadata": {},
   "outputs": [],
   "source": []
  }
 ],
 "metadata": {
  "kernelspec": {
   "display_name": "Python 3 (ipykernel)",
   "language": "python",
   "name": "python3"
  },
  "language_info": {
   "codemirror_mode": {
    "name": "ipython",
    "version": 3
   },
   "file_extension": ".py",
   "mimetype": "text/x-python",
   "name": "python",
   "nbconvert_exporter": "python",
   "pygments_lexer": "ipython3",
   "version": "3.10.16"
  }
 },
 "nbformat": 4,
 "nbformat_minor": 5
}
