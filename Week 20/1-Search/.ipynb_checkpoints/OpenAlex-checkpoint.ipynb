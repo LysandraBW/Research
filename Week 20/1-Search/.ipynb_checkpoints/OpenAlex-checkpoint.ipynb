{
 "cells": [
  {
   "cell_type": "code",
   "execution_count": 2,
   "id": "9db9dfb7-fe59-4301-af1e-ded40c2c2f43",
   "metadata": {},
   "outputs": [],
   "source": [
    "%run \"Papers.ipynb\""
   ]
  },
  {
   "cell_type": "code",
   "execution_count": null,
   "id": "dae53782-1c67-4d46-8286-ae7537cd39bf",
   "metadata": {},
   "outputs": [],
   "source": [
    "def search_papers(searches, verbose=False):\n",
    "    page = 1\n",
    "    search_filter = ','.join([f'title.search:{search}' for search in searches])\n",
    "    url = f\"https://api.openalex.org/works?page={page}&filter={search_filter}\"\n",
    "    if verbose:\n",
    "        print(f\"URL: {url}\")\n",
    "\n",
    "    works = []\n",
    "    data = requests.get(url).json()\n",
    "    data = [] if 'results' not in data.keys() else data['results']\n",
    "    \n",
    "    while len(data) > 0:\n",
    "        works += data\n",
    "        page += 1\n",
    "        url = f\"https://api.openalex.org/works?page={page}&filter={search_filter}\"\n",
    "        if verbose:\n",
    "            print(f\"URL: {url}\")\n",
    "        data = requests.get(url).json()\n",
    "        if 'results' in data.keys():\n",
    "            data = data['results']\n",
    "        else:\n",
    "            break\n",
    "\n",
    "    # Print Size and 1st 10 Titles\n",
    "    if verbose:\n",
    "        num_works = len(works)\n",
    "        print(f\"Number Works: {num_works}\")\n",
    "        for i in range(0, min(10, num_works)):\n",
    "            print(works[i][\"title\"])\n",
    "\n",
    "    # Create Dataset\n",
    "    df = pd.DataFrame([], columns=columns)\n",
    "    for work in works:\n",
    "        work = pd.DataFrame([[work[\"title\"], revert_abstract(work[\"abstract_inverted_index\"]), work[\"doi\"], 0]],  columns=columns)\n",
    "        df = pd.concat([df, work])\n",
    "    df.reset_index(drop=True, inplace=True)\n",
    "\n",
    "    return df"
   ]
  }
 ],
 "metadata": {
  "kernelspec": {
   "display_name": "Python 3 (ipykernel)",
   "language": "python",
   "name": "python3"
  },
  "language_info": {
   "codemirror_mode": {
    "name": "ipython",
    "version": 3
   },
   "file_extension": ".py",
   "mimetype": "text/x-python",
   "name": "python",
   "nbconvert_exporter": "python",
   "pygments_lexer": "ipython3",
   "version": "3.10.16"
  }
 },
 "nbformat": 4,
 "nbformat_minor": 5
}
